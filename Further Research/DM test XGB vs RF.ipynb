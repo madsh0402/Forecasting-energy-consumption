{
 "cells": [
  {
   "cell_type": "code",
   "execution_count": 1,
   "id": "ea373e94-1e62-4fb8-84b4-949760d12b16",
   "metadata": {},
   "outputs": [
    {
     "name": "stderr",
     "output_type": "stream",
     "text": [
      "Registered S3 methods overwritten by 'ggplot2':\n",
      "  method         from \n",
      "  [.quosures     rlang\n",
      "  c.quosures     rlang\n",
      "  print.quosures rlang\n",
      "Registered S3 method overwritten by 'rvest':\n",
      "  method            from\n",
      "  read_xml.response xml2\n",
      "-- Attaching packages --------------------------------------- tidyverse 1.2.1 --\n",
      "v ggplot2 3.1.1       v purrr   0.3.2  \n",
      "v tibble  2.1.1       v dplyr   0.8.0.1\n",
      "v tidyr   0.8.3       v stringr 1.4.0  \n",
      "v readr   1.3.1       v forcats 0.4.0  \n",
      "-- Conflicts ------------------------------------------ tidyverse_conflicts() --\n",
      "x dplyr::filter() masks stats::filter()\n",
      "x dplyr::lag()    masks stats::lag()\n",
      "Registered S3 method overwritten by 'xts':\n",
      "  method     from\n",
      "  as.zoo.xts zoo \n",
      "Registered S3 method overwritten by 'quantmod':\n",
      "  method            from\n",
      "  as.zoo.data.frame zoo \n",
      "Registered S3 methods overwritten by 'forecast':\n",
      "  method             from    \n",
      "  fitted.fracdiff    fracdiff\n",
      "  residuals.fracdiff fracdiff\n",
      "\n",
      "Attaching package: 'data.table'\n",
      "\n",
      "The following objects are masked from 'package:dplyr':\n",
      "\n",
      "    between, first, last\n",
      "\n",
      "The following object is masked from 'package:purrr':\n",
      "\n",
      "    transpose\n",
      "\n",
      "\n",
      "Attaching package: 'foreach'\n",
      "\n",
      "The following objects are masked from 'package:purrr':\n",
      "\n",
      "    accumulate, when\n",
      "\n",
      "Loading required package: iterators\n",
      "Loading required package: parallel\n",
      "Loading required package: lattice\n",
      "\n",
      "Attaching package: 'caret'\n",
      "\n",
      "The following object is masked from 'package:purrr':\n",
      "\n",
      "    lift\n",
      "\n",
      "randomForest 4.6-14\n",
      "Type rfNews() to see new features/changes/bug fixes.\n",
      "\n",
      "Attaching package: 'randomForest'\n",
      "\n",
      "The following object is masked from 'package:dplyr':\n",
      "\n",
      "    combine\n",
      "\n",
      "The following object is masked from 'package:ggplot2':\n",
      "\n",
      "    margin\n",
      "\n"
     ]
    }
   ],
   "source": [
    "# Forecsting remainders with OLS\n",
    "\n",
    "## Libraries\n",
    "library(tidyverse)\n",
    "library(forecast)\n",
    "library(ggplot2)\n",
    "library(dplyr)\n",
    "library(data.table)\n",
    "library(IRdisplay)\n",
    "library(progress)\n",
    "\n",
    "library(foreach)\n",
    "library(doParallel)\n",
    "\n",
    "library(caret)\n",
    "library(randomForest)"
   ]
  },
  {
   "cell_type": "code",
   "execution_count": 13,
   "id": "711d79e5-d834-453a-bf54-dc90307bcd32",
   "metadata": {},
   "outputs": [],
   "source": [
    "##################Setting workign directory and loadign data ###################\n",
    "##### Setting workign directory and loadign data #####\n",
    "#C:\\Users\\madsh\\OneDrive\\Dokumenter\\kandidat\\Fællesmappe\\Forecasting-energy-consumption\n",
    "base_path <- \"C:/Users/madsh/OneDrive/Dokumenter/kandidat/Fællesmappe/Forecasting-energy-consumption\"\n",
    "base_path <- \"C:/Users/madsh/OneDrive/Dokumenter/kandidat/Fællesmappe/Forecasting-energy-consumption\"\n",
    "setwd(base_path)\n",
    "#data <- read.csv(paste0(base_path,\"Data/Combined/Full_data_ecwap.csv\"))\n",
    "MSTL      <- fread(paste0(base_path,\"/Data Cleaning/MSTL_decomp_results.csv\"))\n",
    "R_t_XGB   <- fread(paste0(base_path,\"/Data/Results/Boosting/R_hat/h=1_steps_ahead=12_nrounds=100_train_size=17544_XGB_R_hat_t.csv\"))\n",
    "R_t_RF    <- fread(paste0(base_path,\"/Data/Results/RF/R_hat_t/h=1_steps_ahead=1_ntree=250_RF_R_hat_t.csv\"))\n"
   ]
  },
  {
   "cell_type": "code",
   "execution_count": 14,
   "id": "04c59b73-af10-473e-a47d-d4e03ceda5ae",
   "metadata": {},
   "outputs": [],
   "source": [
    " R_t_vec_2year <- tail(MSTL$Remainder, n=17519)\n",
    " R_t_vec_1year <- tail(MSTL$Remainder, n=8759)     \n",
    " R_t_XGB_vec  <- R_t_XGB$x\n",
    " R_t_RF_vec   <- R_t_RF$x\n",
    " \n",
    " e1 <- R_t_vec_1year-R_t_XGB_vec\n",
    " e2 <- R_t_vec_2year-R_t_RF_vec\n",
    "  \n",
    " MSE_XGB    <- mean(e1^2)\n",
    " MSE_RF     <- mean(e2^2)"
   ]
  },
  {
   "cell_type": "code",
   "execution_count": 16,
   "id": "0eaad531-79ce-4956-aa53-c3aa61d36976",
   "metadata": {},
   "outputs": [
    {
     "name": "stdout",
     "output_type": "stream",
     "text": [
      "    Model MSE_Value\n",
      "1 MSE_XGB 17226.902\n",
      "2  MSE_RF  7374.672\n"
     ]
    }
   ],
   "source": [
    "# Create a data frame (table)\n",
    "mse_table <- data.frame(\n",
    "  Model = c(\"MSE_XGB\", \"MSE_RF\"),\n",
    "  MSE_Value = c(MSE_XGB, MSE_RF)\n",
    ")\n",
    "\n",
    "# Display the table\n",
    "print(mse_table)"
   ]
  },
  {
   "cell_type": "code",
   "execution_count": 24,
   "id": "a0a5bba3-e024-440e-bd62-36adecf53358",
   "metadata": {},
   "outputs": [
    {
     "name": "stderr",
     "output_type": "stream",
     "text": [
      "Warning message in c(abs(e1))^power - c(abs(e2))^power:\n",
      "\"longer object length is not a multiple of shorter object length\""
     ]
    },
    {
     "data": {
      "text/plain": [
       "\n",
       "\tDiebold-Mariano Test\n",
       "\n",
       "data:  e1e2\n",
       "DM = 22.644, Forecast horizon = 1, Loss function power = 2, p-value <\n",
       "2.2e-16\n",
       "alternative hypothesis: two.sided\n"
      ]
     },
     "metadata": {},
     "output_type": "display_data"
    }
   ],
   "source": [
    " dm_test <- dm.test(e1, e2, alternative = \"two.sided\", h = 1, power = 2)\n",
    "\n",
    "dm_test"
   ]
  }
 ],
 "metadata": {
  "kernelspec": {
   "display_name": "R",
   "language": "R",
   "name": "ir"
  },
  "language_info": {
   "codemirror_mode": "r",
   "file_extension": ".r",
   "mimetype": "text/x-r-source",
   "name": "R",
   "pygments_lexer": "r",
   "version": "3.6.1"
  },
  "widgets": {
   "application/vnd.jupyter.widget-state+json": {
    "state": {},
    "version_major": 2,
    "version_minor": 0
   }
  }
 },
 "nbformat": 4,
 "nbformat_minor": 5
}

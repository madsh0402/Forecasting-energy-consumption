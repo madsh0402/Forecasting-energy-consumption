{
 "cells": [
  {
   "cell_type": "markdown",
   "id": "6ca7fd56-540e-49a2-829b-4804b5adf8de",
   "metadata": {},
   "source": [
    "# Intro"
   ]
  },
  {
   "cell_type": "markdown",
   "id": "019b5e76-3279-4743-a72b-a0633b597665",
   "metadata": {},
   "source": [
    "This thesis explores the application of machine learning techniques and time series decomposition to forecast energy consumption in Denmark. It particularly focuses on the Multi-Seasonal-Trend Decomposition using Loess (MSTL) to isolate underlying seasonal and trend components within the energy data, allowing forecasting of the detrended and deseasonalized energy consumption. Most of the time series data has been provided by Andel Energi whom requested this study to improve their forecasting models. The study employs machine learning models, specifically Ordinary Least Squares (OLS) and Random Forest (RF), to model the remainders derived from MSTL decomposition. This approach improves the predictive accuracy of the forecasts by seperating consumption patterns influenced by varying seasonal impacts and external variables such as weather conditions and economic factors.\n",
    "The findings demonstrate that using MSTL for decomposition paired with machine learning algorithms can effectively forecast detrended and deseasonalized energy consumption. The thesis contributes by detailing the performance comparisons of these models and discussing the practical implications for improving energy forecasting. This research aids in optimizing Andel Energi energy purchase.\n",
    "The study shows that the RF model outperforms OLS and a baseline model for 88.40% of the customer groups, the study does however discuss that RF comes with a significant computational requirement that could limit the retraining frequency aswell as the number of trees used. These reuslts additionally shows that MSTL is efficient in capturing the linearity in the energy consumption as trend and seasonal components. Therefor the study proves that it is possible and beneficial to forecast the remainder component of the energy consumption, but also recognise that to estimate the full energy consumtion the trend and seasonal components would have to be forecasted aswell."
   ]
  }
 ],
 "metadata": {
  "kernelspec": {
   "display_name": "Python 3 (ipykernel)",
   "language": "python",
   "name": "python3"
  },
  "language_info": {
   "codemirror_mode": {
    "name": "ipython",
    "version": 3
   },
   "file_extension": ".py",
   "mimetype": "text/x-python",
   "name": "python",
   "nbconvert_exporter": "python",
   "pygments_lexer": "ipython3",
   "version": "3.9.18"
  },
  "widgets": {
   "application/vnd.jupyter.widget-state+json": {
    "state": {},
    "version_major": 2,
    "version_minor": 0
   }
  }
 },
 "nbformat": 4,
 "nbformat_minor": 5
}

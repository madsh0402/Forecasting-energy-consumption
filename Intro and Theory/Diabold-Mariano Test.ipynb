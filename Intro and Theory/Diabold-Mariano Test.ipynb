{
 "cells": [
  {
   "cell_type": "markdown",
   "id": "afec29cd-965b-48ca-a0c6-c4b8c7ffdba0",
   "metadata": {},
   "source": [
    "### 3.9 Diebold-Mariano Test \n",
    "\n",
    "The DM test, introduced by Diebold and Mariano in 1995, is a basis for statistically comparing the predictive accuracy of two forecasting models. The essence of the DM test lies in its null hypothesis, which posits that both models under comparison have equivalent forecasting accuracy. The DM-test statistic is derived from:\n",
    "\n",
    "\\[ DM = \\frac{\\bar{d}}{\\sqrt{\\text{Var}(\\bar{d})}} \\]\n",
    "\n",
    "Here, \\( \\bar{d} \\) represents the mean of differences in squared forecast error between the two models, which can be written as:\n",
    "\n",
    "\\[ \\bar{d} = \\frac{1}{n} \\sum_{t=1}^n \\left( \\hat{e}_{i,t}^2 - \\hat{e}_{j,t}^2 \\right) \\]\n",
    "\n",
    "And \\(\\text{Var}(\\bar{d})\\) is the variance of these differences. A statistically significant \\( DM \\) would indicate a visible difference in the predictive accuracies of the two models being compared. This can be used to determine which model is superior as a forecasting tool (Diebold et al., 1995).\n",
    "\n",
    "There is a modified DM Test called the Harvey, Leybourne, & Newbold (HLN) Test. This test expands the DM test by adjusting for size distortions and enhancing reliability, particularly under scenarios where forecasting errors may not have normally distributed patterns. The HLN test statistic is formulated to capture the differences in the mean squared errors (MSEs), adjusted for potential heteroskedasticity (changes in variance across the sample) and autocorrelation (correlation of a variable with its past values) in the forecast errors (Harvey et al., 1997).\n"
   ]
  },
  {
   "cell_type": "code",
   "execution_count": null,
   "id": "4ef8625f-c015-4d4e-8d34-1f926e57490c",
   "metadata": {},
   "outputs": [],
   "source": []
  }
 ],
 "metadata": {
  "kernelspec": {
   "display_name": "Python 3 (ipykernel)",
   "language": "python",
   "name": "python3"
  },
  "language_info": {
   "codemirror_mode": {
    "name": "ipython",
    "version": 3
   },
   "file_extension": ".py",
   "mimetype": "text/x-python",
   "name": "python",
   "nbconvert_exporter": "python",
   "pygments_lexer": "ipython3",
   "version": "3.9.12"
  }
 },
 "nbformat": 4,
 "nbformat_minor": 5
}

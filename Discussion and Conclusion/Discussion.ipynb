{
 "cells": [
  {
   "cell_type": "markdown",
   "id": "f06ca494-cd4f-4c26-b8a8-ba8c5e1417a2",
   "metadata": {},
   "source": [
    "# 6 Discussion of forecasting energy consumption"
   ]
  },
  {
   "cell_type": "markdown",
   "id": "8b17d5b2-59b4-4b04-9eb9-0e20d5461537",
   "metadata": {},
   "source": [
    "This thesis has provided insight into energy consumption forecasting and has illustrated the use of machine learning related to energy supplier companies. In the present context, the following sections will briefly restate the main results and then analyze what the results implicate. Following the summary of the results and implications, the next section will explain the restrictions associated with this study. Finally, before the conclusion, some ideas will be presented and discussed for future studies."
   ]
  },
  {
   "cell_type": "markdown",
   "id": "9db94b03-12f3-4433-b7a5-ac9a73feada3",
   "metadata": {},
   "source": [
    "## 6.1 Contextualizing the findings"
   ]
  },
  {
   "cell_type": "markdown",
   "id": "d7fc0437-338f-4e48-b4b2-7927a2b0b8ea",
   "metadata": {},
   "source": [
    "This thesis explored how machine learning models could be used to forecast MSTL decomposed energy consumption, inspired by a real-world need to improve forecasting accuracy considering shifting consumer behaviors during recent energy crises. The primary research question posed was whether machine learning models could effectively forecast the remainder components of decomposed energy consumption time series, focusing on the capability of both linear and non-linear models.\n",
    "\n",
    "Our findings directly address the sub-questions initially laid out in the study. The first sub-question investigated the effectiveness of linear versus non-linear models in forecasting the remainder of the time series data. The evidence gathered pointed to a significant distinction between the two types of models. The OLS model, representative of linear approaches, demonstrated limited ability in forecasting the decomposed remainders. This was primarily due to its inherent limitation in modeling only linear relationships, which proved inadequate for capturing the complex, non-linear patterns present in the MSTL-decomposed energy consumption data. The framework above combines the theory with the empirics offering a better understanding of the capabilities and limitations of linear and non-linear models in forecasting energy consumption. Namely, the prediction of the remainders after MSTL decomposition via OLS and RF made it possible to directly check how linear and non-linear models treat remainders, which Energi companies might treat as “just noise”.\n",
    "\n",
    "In contrast, the RF model, a non-linear approach, exhibited superior performance. Its ability to handle non-linearities and learn from a vast and varied dataset without assuming any specific linear form of the relationships made it notably more effective. The RF model not only outperformed the OLS model but also showed greater forecasting accuracy than a naive model, which presumed no remainder after detrending and deseasonalization."
   ]
  },
  {
   "cell_type": "markdown",
   "id": "3b2f6a29-534b-4c92-bb19-64b790f166df",
   "metadata": {},
   "source": [
    "## 6.2 Significance of empirical work"
   ]
  },
  {
   "cell_type": "markdown",
   "id": "2134c9f1-09ff-46f7-80e2-63a6f4344069",
   "metadata": {},
   "source": [
    "One of the primary advantages that come to mind when improving accuracy in energy purchasing by suppliers, is that it allows energy providers to purchase a more correct amount of energy to meet the consumer's demand without a significant surplus or shortage in energy. This purchasing optimization is important since buying too much electricity means higher costs due to unused energy, whereas buying too little can lead to purchasing additional energy at potentially higher rates. Therefore, improving forecasting accuracy can directly be translated to cost savings for energy providers. These savings can be quite large, and these savings can be redirected towards other areas within the company helping it to grow.\n",
    "\n",
    "From the consumer's perspective, more accurate forecasting means that energy bills become more reliable. Typically, consumers either receive a bill that is too high, leading to refunds, or too low, resulting in additional charges later. Such variations can disturb personal budgeting and spending habits. Studies, such as the one referenced on TV2 Nyheder, illustrate that those unexpected financial returns, like tax refunds, tend to be spent differently from regular income. This behavior can also extend to unexpected energy bill adjustments. By reducing the need for such changes, consumers can manage their finances more steadily, improving their overall satisfaction and trust in their energy provider. (Neupert, 2024).\n",
    "\n",
    "Furthermore, the findings encourage energi providers to improve their operational processes through automation. Such an automation could be an ETL (Extract Transform load) pipeline. ETL pipeline could improve data handling and processing and make sure that the data quality is improved. This could improve the accuracy of predictions and reduce the time spent on gathering updated data to construct the dataset. An ETL pipeline would be needed to feed into a proper ML Ops pipeline that would make use of the framework tested and proven useful in this thesis. In this thesis it is shown how a data process framework could look like when using machine learning models and how this approach can increase the forecasting capabilities. The data is more important than the modelling and therefor it should be a top priority for companies if they want to have better forecasting models. The monitoring of an ETL pipeline would be essential and could improve the data quality."
   ]
  },
  {
   "cell_type": "markdown",
   "id": "98642e90-bfbc-43d1-a114-973b386bd2e9",
   "metadata": {},
   "source": [
    "## 6.3 Practical implications\n",
    "\n",
    "The practical implications of the findings from the thesis go into several areas that are affecting Energi providers and its customers when it comes to energy consumption. By using machine learning models and decomposing methods, specifically MSTL decomposition followed by predictive modeling with OLS and RF on the remainders, the thesis gives some insights into energy demand forecasting which can be used by energy providers.\n",
    "\n",
    "Firstly, a byproduct of the thesis is that it could help in having more accurate predictions of energy consumption which could reduce energy waste. Energy production can be optimized such that it is more aligned with actual consumption patterns, rather than estimated or historical averages. If energy companies that distribute electricity or sell energy have a better idea of what the electricity consumption is going to be, they could optimize their purchase of energy and by doing so decrease energy waste. By having precise forecasting, the energy producers would be able to scale back production during anticipated periods of low demand, thereby maintaining resources and as such reducing the environmental impact that comes from excess energy production.\n",
    "\n",
    "Furthermore, energy companies, which has a subscription-based pricing model where customers can pay a flat rate, can benefit financially from the findings. The ability to forecast demand more accurately would allow companies to adjust their pricing models or even hedge against price volatility in the energy markets more effectively and as a result of the hedging reduce risk. These adjustments could lead to cost savings for the company, part of which could be passed on to consumers in the form of lower or more stable prices.\n",
    "\n",
    "The integration of machine learning models into energy forecasting can be used in managing and planning for the energy needs of tomorrow. As the models have shown efficiency in reducing forecasting error through the uses of RF over OLS in remainder prediction, the findings suggest that looking more into non-linear models might offer better predictive accuracy and reliability.\n",
    "\n",
    "Finally, considering the global push towards smarter energy grids and systems that integrate renewable energy sources more seamlessly, this paper could help in the production of a robust forecasting model. Such models could help in the operation of smart grids, ensuring that energy production from variable sources like wind and solar can be optimized to match consumption patterns more closely. This could help in a smoother transition to green energy solutions. (Hu et al., 2014)"
   ]
  },
  {
   "cell_type": "markdown",
   "id": "6f6f490b-17f7-4f07-aa62-554e30d456a8",
   "metadata": {},
   "source": [
    "## 6.4 Challenges and limitations"
   ]
  },
  {
   "cell_type": "markdown",
   "id": "cdeb3752-95a3-44bd-ad47-f861e28e0971",
   "metadata": {},
   "source": [
    "Although this thesis shows some of the benefits of machine learning have for predicting energy consumption, it is still important to acknowledge some of the limitations and challenges within the approach that has been shown in the paper. These limitations span over data quality, some framework constraints, assumptions that have been made, and computational resources all these aspects have an impact on the study and as such should be addressed.\n",
    "\n",
    "The used approach involves the use of MSTL decomposition and following up with forecasting using OLS and RF models. While the OLS model did not beat the benchmark RF showed great promise. They both come with certain constraints. For instance, the effectiveness of the RF model heavily depends on the choice and tuning of its hyperparameters such as the number of trees used in the model. Although it wasn’t tuned, the best settings are highly data-dependent and may not generalize to other datasets, therefore, it would be beneficial to tune the parameters for each customer group individually which was unrealistic with the computational resources available for this study. RF and OLS showed that the models could forecast different time horizons without having a substantial increase in the prediction errors. Therefore, if the goal is to predict the future, MSTL and RF could be used.\n",
    "\n",
    "The computational demand of machine learning models, particularly in this thesis, has shown to be a restriction. Tree-based methods like RF, are another limitation due to the time it takes to train the models.They require significant computational power and memory, especially when handling large datasets like these. The hyperparameter tuning method was used for random search due to grid search being too computationally demanding. Computational requirements can be excessive, particularly for real-time applications. If the goal is trading hourly it might not even be possible, however, if the use is for monthly forecasting that could be used for a subscription it could be a suitable framework as long as a powerful computer is available.\n",
    "\n",
    "A key assumption in this study is that the impact of the forecasting horizon in OLS is similar to that in RF. This assumption may oversimplify the dynamics, as the two models process information and handle data non-linearities differently. OLS is a linear approach and might not capture complex interactions or non-linear relationships as effectively as RF. Thus, the assumption that the length of the forecasting horizon would have similar consequences for both models may mislead when interpreting model performance in varied settings. In fact, this reflects the issue of possible model misspecification, which may increase the likelihood of overfitting or underfitting. The OLS as mentioned in chapter (5.6.2) was not able to beat the benchmark. This could happen because of MSTL uses localized weighted averaging through the Loss technique which minimizes the mean squared error. By minimizing the squared errors MSTL captures the linear relationship as the errors choose the closest fit for linear patterns in the data. By capturing the linearity in the other component, the remainders that the OLS model is trying to predict become negligible and therefore the OLS cannot capture the remaining linearity (if there are any left). The RF on the other hand was better than the benchmark in (88.40%) of cases. This could be because MSTL is less effective at modeling non-linear relationships because of the abovementioned reasons. Because of this, MSTL can overlook some of the more complex non-linear dynamics that are in the dataset which could explain why the RF is that much more precise when it comes to forecasting the remainders."
   ]
  }
 ],
 "metadata": {
  "kernelspec": {
   "display_name": "Python 3 (ipykernel)",
   "language": "python",
   "name": "python3"
  },
  "language_info": {
   "codemirror_mode": {
    "name": "ipython",
    "version": 3
   },
   "file_extension": ".py",
   "mimetype": "text/x-python",
   "name": "python",
   "nbconvert_exporter": "python",
   "pygments_lexer": "ipython3",
   "version": "3.9.18"
  },
  "widgets": {
   "application/vnd.jupyter.widget-state+json": {
    "state": {},
    "version_major": 2,
    "version_minor": 0
   }
  }
 },
 "nbformat": 4,
 "nbformat_minor": 5
}

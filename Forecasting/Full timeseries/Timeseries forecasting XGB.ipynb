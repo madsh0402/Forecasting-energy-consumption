{
 "cells": [
  {
   "cell_type": "markdown",
   "id": "640822a8",
   "metadata": {},
   "source": [
    "# <a id='toc1_'></a>[Forecsting remainders with OLS](#toc0_)"
   ]
  },
  {
   "cell_type": "markdown",
   "id": "7b7f7352",
   "metadata": {},
   "source": [
    "## <a id='toc1_1_'></a>[Libraries](#toc0_)"
   ]
  },
  {
   "cell_type": "code",
   "execution_count": 2,
   "id": "519f780a-2bce-4585-839c-f32a0499a2ea",
   "metadata": {
    "vscode": {
     "languageId": "r"
    }
   },
   "outputs": [],
   "source": [
    "#install.packages(\"C:/Users/madsh/Downloads/path/to/withr_2.1.2.tar.gz\", repos = NULL, type = \"source\")\n",
    "\n",
    "#install.packages('forecast')\n",
    "#install.packages('doParallel')\n",
    "#install.packages('xgboost')\n",
    "\n",
    "library(tidyverse)\n",
    "library(forecast)\n",
    "library(dplyr)\n",
    "library(data.table)\n",
    "library(IRdisplay)\n",
    "\n",
    "library(ggplot2)\n",
    "library(patchwork)\n",
    "\n",
    "library(foreach)\n",
    "library(doParallel)\n",
    "\n",
    "library(caret)\n",
    "library(randomForest)\n",
    "library(xgboost)\n"
   ]
  },
  {
   "cell_type": "markdown",
   "id": "392ab165",
   "metadata": {},
   "source": [
    "## <a id='toc1_2_'></a>[Custom functions](#toc0_)"
   ]
  },
  {
   "cell_type": "markdown",
   "id": "f3ff590f",
   "metadata": {},
   "source": [
    "### <a id='toc1_2_1_'></a>[Display tables](#toc0_)"
   ]
  },
  {
   "cell_type": "code",
   "execution_count": 3,
   "id": "325f4e66-3b04-472c-87bb-b858730d5bc9",
   "metadata": {
    "vscode": {
     "languageId": "r"
    }
   },
   "outputs": [],
   "source": [
    "# Custom display function for the first and last 5 rows or full table if <= 20 rows\n",
    "display_limited <- function(dt) {\n",
    "  n <- nrow(dt)\n",
    "  \n",
    "  # If there are 20 or fewer rows, display the full table\n",
    "  if (n <= 20) {\n",
    "    limited_dt <- dt\n",
    "  } else {\n",
    "    # Otherwise, concatenate the first 5 rows, '...' and the last 5 rows\n",
    "    limited_dt <- rbind(head(dt, 5), as.list(rep(\"...\", ncol(dt))), tail(dt, 5))\n",
    "  }\n",
    "  \n",
    "  # Generate raw HTML manually\n",
    "  html_output <- paste0(\n",
    "    \"<table border='1' style='border-collapse:collapse;'>\",\n",
    "    \"<thead><tr>\",\n",
    "    paste0(\"<th>\", colnames(limited_dt), \"</th>\", collapse = \"\"),\n",
    "    \"</tr></thead>\",\n",
    "    \"<tbody>\",\n",
    "    paste0(\n",
    "      apply(limited_dt, 1, function(row) {\n",
    "        paste0(\"<tr>\", paste0(\"<td>\", row, \"</td>\", collapse = \"\"), \"</tr>\")\n",
    "      }),\n",
    "      collapse = \"\"\n",
    "    ),\n",
    "    \"</tbody></table>\"\n",
    "  )\n",
    "  \n",
    "  # Display the HTML in the Jupyter notebook\n",
    "  display_html(html_output)\n",
    "}\n"
   ]
  },
  {
   "cell_type": "markdown",
   "id": "ae2bacdb",
   "metadata": {},
   "source": [
    "### <a id='toc1_2_2_'></a>[Calculate metrics](#toc0_)"
   ]
  },
  {
   "cell_type": "code",
   "execution_count": 4,
   "id": "7a627c37-9fc2-42b2-bbce-0e2946ff3356",
   "metadata": {
    "vscode": {
     "languageId": "r"
    }
   },
   "outputs": [],
   "source": [
    "calculate_metrics <- function(T_t, R_hat_t, individual) {\n",
    "  # Ensure the inputs are numeric vectors and individual is a dataframe\n",
    "  if (!is.numeric(T_t) || !is.numeric(R_hat_t)) {\n",
    "    stop(\"Both T_t and R_hat_t need to be numeric vectors.\")\n",
    "  }\n",
    "  \n",
    "  # Calculate metrics\n",
    "  mae <- mean(abs(T_t - R_hat_t), na.rm = TRUE)\n",
    "  rmse <- sqrt(mean((T_t - R_hat_t)^2, na.rm = TRUE))\n",
    "  mape <- mean(abs((T_t - R_hat_t) / T_t), na.rm = TRUE) * 100\n",
    "  r_squared <- ifelse(all(T_t == R_hat_t), 1, summary(lm(T_t ~ R_hat_t))$r.squared)\n",
    "  \n",
    "  # Create a data frame to hold the metrics and values\n",
    "  metrics_table <- data.frame(\n",
    "    MAE = mae,\n",
    "    RMSE = rmse,\n",
    "    MAPE = mape,\n",
    "    R_squared = r_squared\n",
    "  )\n",
    "  \n",
    "  # Return the metrics table\n",
    "  return(metrics_table)\n",
    "}"
   ]
  },
  {
   "cell_type": "markdown",
   "id": "57e3fabc",
   "metadata": {},
   "source": [
    "### <a id='toc1_2_3_'></a>[Data Preparation](#toc0_)"
   ]
  },
  {
   "cell_type": "code",
   "execution_count": 5,
   "id": "6815ed7f-b245-4147-b1c6-bce1af461fcf",
   "metadata": {
    "vscode": {
     "languageId": "r"
    }
   },
   "outputs": [],
   "source": [
    "prepare_X_t <- function(individual) {\n",
    "  # Ensure the input is a dataframe\n",
    "  if (!is.data.frame(individual)) {\n",
    "    stop(\"The input must be a dataframe.\")\n",
    "  }\n",
    "  \n",
    "  # Extract hour from start_time and create a 'time_of_day' column\n",
    "  individual$time_of_day <- format(as.POSIXct(individual$HourDK), \"%H:%M:%S\")\n",
    "  \n",
    "  # Exclude specified columns but keep 'time_of_day'\n",
    "  X_t <- subset(individual, select = -c(HourDK, GrossConsumptionMWh))\n",
    "  \n",
    "  # Convert month, weekday, and time_of_day to factors with a reference category\n",
    "  X_t$month <- relevel(as.factor(X_t$MonthOfYear), ref = \"December\")  # Set December as reference\n",
    "  X_t$weekday <- relevel(as.factor(X_t$DayOfWeek), ref = \"Sunday\")   # Set Sunday as reference \n",
    "  X_t$time_of_day <- relevel(as.factor(X_t$Hour), ref = \"0\")         # Set 23 (11 PM) as reference\n",
    "\n",
    "  # Remove original 'MonthOfYear', 'DayOfWeek', and 'Hour' columns to avoid duplication\n",
    "  X_t <- subset(X_t, select = -c(MonthOfYear, DayOfWeek, Hour))\n",
    "  \n",
    "  # Create dummy variables for all factor columns (excluding reference levels)\n",
    "  X_t <- model.matrix(~ . - 1, data = X_t)\n",
    "  \n",
    "  # Find the column indices for numerical columns AFTER creating dummy variables\n",
    "  num_cols <- grep(\"^(Electric cars|Plug-in hybrid cars|humidity_past1h|temp_mean_past1h|wind_speed_past1h|EL_price)\", colnames(X_t))\n",
    "  \n",
    "  # Standardize selected numerical columns\n",
    "  X_t[, num_cols] <- apply(X_t[, num_cols], 2, \n",
    "                           function(x) (x - min(x)) / (max(x) - min(x)))\n",
    "  \n",
    "  # Return the processed dataframe\n",
    "  return(as.data.frame(X_t))\n",
    "}\n"
   ]
  },
  {
   "cell_type": "markdown",
   "id": "9c01586a",
   "metadata": {},
   "source": [
    "### <a id='toc1_2_4_'></a>[Lag and Align data by \\\\(h\\\\) (horizon)](#toc0_)"
   ]
  },
  {
   "cell_type": "code",
   "execution_count": 6,
   "id": "93aacb7b-5ca4-407f-a2ac-14796524471b",
   "metadata": {
    "vscode": {
     "languageId": "r"
    }
   },
   "outputs": [],
   "source": [
    "lag_and_align_data <- function(X_t, R_t, h = 1) {\n",
    "  # Validate inputs\n",
    "  if (!is.numeric(R_t)) {\n",
    "    stop(\"R_t should be a numeric vector.\")\n",
    "  }\n",
    "  if (!is.data.frame(X_t) && !is.matrix(X_t)) {\n",
    "    stop(\"X_t should be a dataframe or a matrix.\")\n",
    "  }\n",
    "  if (!is.numeric(h) || h < 1) {\n",
    "    stop(\"h should be a positive integer.\")\n",
    "  }\n",
    "  \n",
    "  # Convert X_t to a dataframe if it's a matrix\n",
    "  if (is.matrix(X_t)) {\n",
    "    X_t <- as.data.frame(X_t)\n",
    "  }\n",
    "  \n",
    "  # Align R_t with the lagged X_t\n",
    "  # Shift R_t by h positions to align with X_t from the previous timestep\n",
    "  R_t_aligned <- R_t[(h + 1):length(R_t)]\n",
    "  \n",
    "  # Keep X_t up to the second to last row, so it aligns with the shifted R_t\n",
    "  X_t_aligned <- X_t[1:(nrow(X_t) - h), ]\n",
    "  \n",
    "  # Return the aligned datasets\n",
    "  list(X_t = X_t_aligned, R_t = R_t_aligned)\n",
    "}"
   ]
  },
  {
   "cell_type": "markdown",
   "id": "c7f5f3d8",
   "metadata": {},
   "source": [
    "### <a id='toc1_2_5_'></a>[Plot actual vs estimated](#toc0_)"
   ]
  },
  {
   "cell_type": "code",
   "execution_count": 7,
   "id": "90ab5703-740a-4d37-82ec-39d4f1473e95",
   "metadata": {
    "vscode": {
     "languageId": "r"
    }
   },
   "outputs": [],
   "source": [
    "plot_actual_vs_estimated <- function(R_t, R_hat_t, individual) {\n",
    "  # Validate input\n",
    "  if (!is.numeric(R_t) || !is.numeric(R_hat_t)) {\n",
    "    stop(\"R_t and R_hat_t should be numeric vectors.\")\n",
    "  }\n",
    "  if (!is.data.frame(individual)) {\n",
    "    stop(\"individual should be a dataframe.\")\n",
    "  }\n",
    "    \n",
    "  # Create the plot\n",
    "  plot(R_t, type = 'l', col = 'blue', xlab = \"Time\", ylab = \"Value\", \n",
    "       main = \"Actual vs. Estimated Time Series\\nelvarme: %s, zip_code: %s\")\n",
    "  lines(R_hat_t, type = 'l', col = 'red')\n",
    "  legend(\"topleft\", legend = c(\"Actual\", \"Estimated\"), col = c(\"blue\", \"red\"), lty = 1)\n",
    "}"
   ]
  },
  {
   "cell_type": "markdown",
   "id": "67a3aaba",
   "metadata": {},
   "source": [
    "## <a id='toc1_3_'></a>[Loading data](#toc0_)"
   ]
  },
  {
   "cell_type": "code",
   "execution_count": 8,
   "id": "a887b348-9bd6-412a-b4dd-1677d2dcabbd",
   "metadata": {
    "vscode": {
     "languageId": "r"
    }
   },
   "outputs": [],
   "source": [
    "##### Setting workign directory and loadign data #####\n",
    "base_path <- \"C:/Users/madsh/OneDrive/Dokumenter/kandidat/Fællesmappe/Forecasting-energy-consumption/Data Cleaning\"\n",
    "setwd(base_path)\n",
    "data <- fread(paste0(base_path,\"/Output_file.csv\"))\n",
    "MSTL <- fread(paste0(base_path,\"/MSTL_decomp_results.csv\"))"
   ]
  },
  {
   "cell_type": "markdown",
   "id": "cf046cf4",
   "metadata": {},
   "source": [
    "## <a id='toc1_4_'></a>[Parameters](#toc0_)"
   ]
  },
  {
   "cell_type": "code",
   "execution_count": null,
   "id": "7ad7a4ce-dc86-43d0-adaf-110b174a6981",
   "metadata": {
    "vscode": {
     "languageId": "r"
    }
   },
   "outputs": [],
   "source": [
    "#train_size    <- 17544 #2 year training set\n",
    "train_size    <- 8784  #1 year training set\n",
    "num_timesteps <- 720\n",
    "h             <- 8784\n",
    "total_size    <- nrow(data)-h\n",
    "nrounds       <- 100\n",
    "set.seed(42)"
   ]
  },
  {
   "cell_type": "code",
   "execution_count": 15,
   "id": "4e51d591",
   "metadata": {
    "vscode": {
     "languageId": "r"
    }
   },
   "outputs": [
    {
     "data": {
      "text/html": [
       "<table class=\"dataframe\">\n",
       "<caption>A data.table: 6 × 8</caption>\n",
       "<thead>\n",
       "\t<tr><th scope=col>HourDK</th><th scope=col>GrossConsumptionMWh</th><th scope=col>Trend</th><th scope=col>Seasonal24</th><th scope=col>Seasonal168</th><th scope=col>Seasonal8760</th><th scope=col>Remainder</th><th scope=col>Null_Remainder</th></tr>\n",
       "\t<tr><th scope=col>&lt;dttm&gt;</th><th scope=col>&lt;dbl&gt;</th><th scope=col>&lt;dbl&gt;</th><th scope=col>&lt;dbl&gt;</th><th scope=col>&lt;dbl&gt;</th><th scope=col>&lt;dbl&gt;</th><th scope=col>&lt;dbl&gt;</th><th scope=col>&lt;int&gt;</th></tr>\n",
       "</thead>\n",
       "<tbody>\n",
       "\t<tr><td>2020-01-01 00:00:00</td><td>3331.347</td><td>3854.599</td><td>1932.7274</td><td>-380.0942</td><td>-1961.372</td><td>-114.51291</td><td>0</td></tr>\n",
       "\t<tr><td>2020-01-01 01:00:00</td><td>3257.505</td><td>3854.634</td><td> 806.8020</td><td> 101.2350</td><td>-1424.081</td><td> -81.08529</td><td>0</td></tr>\n",
       "\t<tr><td>2020-01-01 02:00:00</td><td>3161.866</td><td>3854.668</td><td> 507.6646</td><td> 182.5204</td><td>-1283.629</td><td> -99.35872</td><td>0</td></tr>\n",
       "\t<tr><td>2020-01-01 03:00:00</td><td>3074.752</td><td>3854.703</td><td> 194.7702</td><td> 301.6799</td><td>-1139.444</td><td>-136.95658</td><td>0</td></tr>\n",
       "\t<tr><td>2020-01-01 04:00:00</td><td>3009.696</td><td>3854.737</td><td> 362.7678</td><td> 233.6506</td><td>-1210.429</td><td>-231.03032</td><td>0</td></tr>\n",
       "\t<tr><td>2020-01-01 05:00:00</td><td>3018.247</td><td>3854.772</td><td> 339.4601</td><td> 314.5632</td><td>-1160.261</td><td>-330.28745</td><td>0</td></tr>\n",
       "</tbody>\n",
       "</table>\n"
      ],
      "text/latex": [
       "A data.table: 6 × 8\n",
       "\\begin{tabular}{llllllll}\n",
       " HourDK & GrossConsumptionMWh & Trend & Seasonal24 & Seasonal168 & Seasonal8760 & Remainder & Null\\_Remainder\\\\\n",
       " <dttm> & <dbl> & <dbl> & <dbl> & <dbl> & <dbl> & <dbl> & <int>\\\\\n",
       "\\hline\n",
       "\t 2020-01-01 00:00:00 & 3331.347 & 3854.599 & 1932.7274 & -380.0942 & -1961.372 & -114.51291 & 0\\\\\n",
       "\t 2020-01-01 01:00:00 & 3257.505 & 3854.634 &  806.8020 &  101.2350 & -1424.081 &  -81.08529 & 0\\\\\n",
       "\t 2020-01-01 02:00:00 & 3161.866 & 3854.668 &  507.6646 &  182.5204 & -1283.629 &  -99.35872 & 0\\\\\n",
       "\t 2020-01-01 03:00:00 & 3074.752 & 3854.703 &  194.7702 &  301.6799 & -1139.444 & -136.95658 & 0\\\\\n",
       "\t 2020-01-01 04:00:00 & 3009.696 & 3854.737 &  362.7678 &  233.6506 & -1210.429 & -231.03032 & 0\\\\\n",
       "\t 2020-01-01 05:00:00 & 3018.247 & 3854.772 &  339.4601 &  314.5632 & -1160.261 & -330.28745 & 0\\\\\n",
       "\\end{tabular}\n"
      ],
      "text/markdown": [
       "\n",
       "A data.table: 6 × 8\n",
       "\n",
       "| HourDK &lt;dttm&gt; | GrossConsumptionMWh &lt;dbl&gt; | Trend &lt;dbl&gt; | Seasonal24 &lt;dbl&gt; | Seasonal168 &lt;dbl&gt; | Seasonal8760 &lt;dbl&gt; | Remainder &lt;dbl&gt; | Null_Remainder &lt;int&gt; |\n",
       "|---|---|---|---|---|---|---|---|\n",
       "| 2020-01-01 00:00:00 | 3331.347 | 3854.599 | 1932.7274 | -380.0942 | -1961.372 | -114.51291 | 0 |\n",
       "| 2020-01-01 01:00:00 | 3257.505 | 3854.634 |  806.8020 |  101.2350 | -1424.081 |  -81.08529 | 0 |\n",
       "| 2020-01-01 02:00:00 | 3161.866 | 3854.668 |  507.6646 |  182.5204 | -1283.629 |  -99.35872 | 0 |\n",
       "| 2020-01-01 03:00:00 | 3074.752 | 3854.703 |  194.7702 |  301.6799 | -1139.444 | -136.95658 | 0 |\n",
       "| 2020-01-01 04:00:00 | 3009.696 | 3854.737 |  362.7678 |  233.6506 | -1210.429 | -231.03032 | 0 |\n",
       "| 2020-01-01 05:00:00 | 3018.247 | 3854.772 |  339.4601 |  314.5632 | -1160.261 | -330.28745 | 0 |\n",
       "\n"
      ],
      "text/plain": [
       "  HourDK              GrossConsumptionMWh Trend    Seasonal24 Seasonal168\n",
       "1 2020-01-01 00:00:00 3331.347            3854.599 1932.7274  -380.0942  \n",
       "2 2020-01-01 01:00:00 3257.505            3854.634  806.8020   101.2350  \n",
       "3 2020-01-01 02:00:00 3161.866            3854.668  507.6646   182.5204  \n",
       "4 2020-01-01 03:00:00 3074.752            3854.703  194.7702   301.6799  \n",
       "5 2020-01-01 04:00:00 3009.696            3854.737  362.7678   233.6506  \n",
       "6 2020-01-01 05:00:00 3018.247            3854.772  339.4601   314.5632  \n",
       "  Seasonal8760 Remainder  Null_Remainder\n",
       "1 -1961.372    -114.51291 0             \n",
       "2 -1424.081     -81.08529 0             \n",
       "3 -1283.629     -99.35872 0             \n",
       "4 -1139.444    -136.95658 0             \n",
       "5 -1210.429    -231.03032 0             \n",
       "6 -1160.261    -330.28745 0             "
      ]
     },
     "metadata": {},
     "output_type": "display_data"
    }
   ],
   "source": [
    "head(MSTL)\n"
   ]
  },
  {
   "cell_type": "markdown",
   "id": "9b384cb1",
   "metadata": {},
   "source": [
    "### <a id='toc1_4_1_'></a>[Data preparation](#toc0_)"
   ]
  },
  {
   "cell_type": "code",
   "execution_count": 16,
   "id": "666a54d5",
   "metadata": {
    "vscode": {
     "languageId": "r"
    }
   },
   "outputs": [],
   "source": [
    "individual <- data\n",
    "X_t      <- prepare_X_t(as.data.frame(individual))\n",
    "Y_t      <- as.matrix(MSTL$GrossConsumptionMWh, nrow = nrow(MSTL), ncol = 1)\n",
    "T_t      <- as.matrix(MSTL$Trend,               nrow = nrow(MSTL), ncol = 1)\n",
    "S_24_t   <- as.matrix(MSTL$Seasonal24,          nrow = nrow(MSTL), ncol = 1)\n",
    "S_168_t  <- as.matrix(MSTL$Seasonal168,         nrow = nrow(MSTL), ncol = 1)\n",
    "S_8760_t <- as.matrix(MSTL$Seasonal8760,        nrow = nrow(MSTL), ncol = 1)\n",
    "R_t      <- as.matrix(MSTL$Trend,               nrow = nrow(MSTL), ncol = 1) \n",
    "\n",
    "\n",
    "lag_and_align_Y_t  <- lag_and_align_data(X_t, Y_t,      h = h)\n",
    "lag_and_align_T_t  <- lag_and_align_data(X_t, T_t,      h = h)\n",
    "lag_and_align_24   <- lag_and_align_data(X_t, S_24_t,   h = h)\n",
    "lag_and_align_168  <- lag_and_align_data(X_t, S_168_t,  h = h)\n",
    "lag_and_align_8760 <- lag_and_align_data(X_t, S_8760_t, h = h)\n",
    "lag_and_align_R_t  <- lag_and_align_data(X_t, S_8760_t, h = h)\n",
    "\n",
    "\n",
    "X_t      <- as.matrix(lag_and_align_24$X_t)\n",
    "Y_t      <- as.numeric(lag_and_align_Y_t$R_t)\n",
    "T_t      <- as.numeric(lag_and_align_T_t$R_t)\n",
    "S_24_t   <- as.numeric(lag_and_align_24$R_t)\n",
    "S_168_t  <- as.numeric(lag_and_align_168$R_t)\n",
    "S_8760_t <- as.numeric(lag_and_align_8760$R_t)\n",
    "R_t      <- as.numeric(lag_and_align_R_t$R_t)\n"
   ]
  },
  {
   "cell_type": "markdown",
   "id": "84f49785",
   "metadata": {},
   "source": [
    "## <a id='toc1_5_'></a>[Hyper parameter tuning](#toc0_)"
   ]
  },
  {
   "cell_type": "code",
   "execution_count": 17,
   "id": "48ab4019",
   "metadata": {
    "vscode": {
     "languageId": "r"
    }
   },
   "outputs": [],
   "source": [
    "# Simple train-validation split for hyperparameter tuning\n",
    "train_index <- 1:train_size\n",
    "val_index <- (train_size + 1):(train_size + num_timesteps)\n",
    "\n",
    "\n",
    "dtrain_Y_t   <- xgb.DMatrix(data = X_t[train_index, ], label = Y_t[train_index])\n",
    "dval_Y_t     <- xgb.DMatrix(data = X_t[val_index,   ], label = Y_t[val_index])\n",
    "\n",
    "dtrain_T_t   <- xgb.DMatrix(data = X_t[train_index, ], label = T_t[train_index])\n",
    "dval_T_t     <- xgb.DMatrix(data = X_t[val_index,   ], label = T_t[val_index])\n",
    "\n",
    "dtrain_S24   <- xgb.DMatrix(data = X_t[train_index, ], label = S_24_t[train_index])\n",
    "dval_S24     <- xgb.DMatrix(data = X_t[val_index,   ], label = S_24_t[val_index])\n",
    "\n",
    "dtrain_S168  <- xgb.DMatrix(data = X_t[train_index, ], label = S_168_t[train_index])\n",
    "dval_S168    <- xgb.DMatrix(data = X_t[val_index,   ], label = S_168_t[val_index])\n",
    "\n",
    "dtrain_S8760 <- xgb.DMatrix(data = X_t[train_index, ], label = S_8760_t[train_index])\n",
    "dval_S8760   <- xgb.DMatrix(data = X_t[val_index,   ], label = S_8760_t[val_index])\n",
    "\n",
    "dtrain_R_t   <- xgb.DMatrix(data = X_t[train_index, ], label = R_t[train_index])\n",
    "dval_R_t     <- xgb.DMatrix(data = X_t[val_index,   ], label = R_t[val_index])"
   ]
  },
  {
   "cell_type": "code",
   "execution_count": 19,
   "id": "5a7633f3-c171-4c9e-b441-827262b6aa1a",
   "metadata": {
    "vscode": {
     "languageId": "r"
    }
   },
   "outputs": [],
   "source": [
    "watchlist_Y_t   <- list(train = dtrain_Y_t,   eval = dval_Y_t)\n",
    "watchlist_T_t   <- list(train = dtrain_T_t,   eval = dval_T_t)\n",
    "watchlist_S24   <- list(train = dtrain_S24,   eval = dval_S24)\n",
    "watchlist_S168  <- list(train = dtrain_S168,  eval = dval_S168) \n",
    "watchlist_S8760 <- list(train = dtrain_S8760, eval = dval_S8760)\n",
    "watchlist_R_t   <- list(train = dtrain_R_t,   eval = dval_R_t)\n",
    "\n",
    "\n",
    "tune_grid <- expand.grid(\n",
    "  eta = c(0.1, 0.2, 0.5),\n",
    "  max_depth = c(9, 12, 15),\n",
    "  subsample = c(0.6, 0.8, 1.0),\n",
    "  colsample_bytree = c(0.6, 0.8, 1.0)\n",
    ")"
   ]
  },
  {
   "cell_type": "code",
   "execution_count": 20,
   "id": "6b460e13",
   "metadata": {
    "vscode": {
     "languageId": "r"
    }
   },
   "outputs": [
    {
     "name": "stdout",
     "output_type": "stream",
     "text": [
      "Tuning for dataset: Y_t \n",
      "Dataset: Y_t | Params: eta=0.10, max_depth=9, subsample=0.60, colsample_bytree=0.60 | Best RMSE: 490.8889\n",
      "New best RMSE for Y_t: 490.8889\n",
      "Dataset: Y_t | Params: eta=0.20, max_depth=9, subsample=0.60, colsample_bytree=0.60 | Best RMSE: 419.0175\n",
      "New best RMSE for Y_t: 419.0175\n",
      "Dataset: Y_t | Params: eta=0.50, max_depth=9, subsample=0.60, colsample_bytree=0.60 | Best RMSE: 508.5429\n",
      "Dataset: Y_t | Params: eta=0.10, max_depth=12, subsample=0.60, colsample_bytree=0.60 | Best RMSE: 544.5980\n",
      "Dataset: Y_t | Params: eta=0.20, max_depth=12, subsample=0.60, colsample_bytree=0.60 | Best RMSE: 461.4318\n",
      "Dataset: Y_t | Params: eta=0.50, max_depth=12, subsample=0.60, colsample_bytree=0.60 | Best RMSE: 435.7413\n",
      "Dataset: Y_t | Params: eta=0.10, max_depth=15, subsample=0.60, colsample_bytree=0.60 | Best RMSE: 553.7358\n",
      "Dataset: Y_t | Params: eta=0.20, max_depth=15, subsample=0.60, colsample_bytree=0.60 | Best RMSE: 548.3689\n",
      "Dataset: Y_t | Params: eta=0.50, max_depth=15, subsample=0.60, colsample_bytree=0.60 | Best RMSE: 679.0133\n",
      "Dataset: Y_t | Params: eta=0.10, max_depth=9, subsample=0.80, colsample_bytree=0.60 | Best RMSE: 441.4895\n",
      "Dataset: Y_t | Params: eta=0.20, max_depth=9, subsample=0.80, colsample_bytree=0.60 | Best RMSE: 462.1026\n",
      "Dataset: Y_t | Params: eta=0.50, max_depth=9, subsample=0.80, colsample_bytree=0.60 | Best RMSE: 590.9261\n",
      "Dataset: Y_t | Params: eta=0.10, max_depth=12, subsample=0.80, colsample_bytree=0.60 | Best RMSE: 542.4186\n",
      "Dataset: Y_t | Params: eta=0.20, max_depth=12, subsample=0.80, colsample_bytree=0.60 | Best RMSE: 610.0324\n",
      "Dataset: Y_t | Params: eta=0.50, max_depth=12, subsample=0.80, colsample_bytree=0.60 | Best RMSE: 678.2764\n",
      "Dataset: Y_t | Params: eta=0.10, max_depth=15, subsample=0.80, colsample_bytree=0.60 | Best RMSE: 558.6673\n",
      "Dataset: Y_t | Params: eta=0.20, max_depth=15, subsample=0.80, colsample_bytree=0.60 | Best RMSE: 517.3529\n",
      "Dataset: Y_t | Params: eta=0.50, max_depth=15, subsample=0.80, colsample_bytree=0.60 | Best RMSE: 565.0567\n",
      "Dataset: Y_t | Params: eta=0.10, max_depth=9, subsample=1.00, colsample_bytree=0.60 | Best RMSE: 459.7910\n",
      "Dataset: Y_t | Params: eta=0.20, max_depth=9, subsample=1.00, colsample_bytree=0.60 | Best RMSE: 498.0053\n",
      "Dataset: Y_t | Params: eta=0.50, max_depth=9, subsample=1.00, colsample_bytree=0.60 | Best RMSE: 481.5824\n",
      "Dataset: Y_t | Params: eta=0.10, max_depth=12, subsample=1.00, colsample_bytree=0.60 | Best RMSE: 516.2140\n",
      "Dataset: Y_t | Params: eta=0.20, max_depth=12, subsample=1.00, colsample_bytree=0.60 | Best RMSE: 512.9043\n",
      "Dataset: Y_t | Params: eta=0.50, max_depth=12, subsample=1.00, colsample_bytree=0.60 | Best RMSE: 622.7359\n",
      "Dataset: Y_t | Params: eta=0.10, max_depth=15, subsample=1.00, colsample_bytree=0.60 | Best RMSE: 548.5084\n",
      "Dataset: Y_t | Params: eta=0.20, max_depth=15, subsample=1.00, colsample_bytree=0.60 | Best RMSE: 566.5931\n",
      "Dataset: Y_t | Params: eta=0.50, max_depth=15, subsample=1.00, colsample_bytree=0.60 | Best RMSE: 693.2437\n",
      "Dataset: Y_t | Params: eta=0.10, max_depth=9, subsample=0.60, colsample_bytree=0.80 | Best RMSE: 440.1497\n",
      "Dataset: Y_t | Params: eta=0.20, max_depth=9, subsample=0.60, colsample_bytree=0.80 | Best RMSE: 529.5324\n",
      "Dataset: Y_t | Params: eta=0.50, max_depth=9, subsample=0.60, colsample_bytree=0.80 | Best RMSE: 504.1142\n",
      "Dataset: Y_t | Params: eta=0.10, max_depth=12, subsample=0.60, colsample_bytree=0.80 | Best RMSE: 506.8897\n",
      "Dataset: Y_t | Params: eta=0.20, max_depth=12, subsample=0.60, colsample_bytree=0.80 | Best RMSE: 535.0478\n",
      "Dataset: Y_t | Params: eta=0.50, max_depth=12, subsample=0.60, colsample_bytree=0.80 | Best RMSE: 620.4937\n",
      "Dataset: Y_t | Params: eta=0.10, max_depth=15, subsample=0.60, colsample_bytree=0.80 | Best RMSE: 550.4526\n",
      "Dataset: Y_t | Params: eta=0.20, max_depth=15, subsample=0.60, colsample_bytree=0.80 | Best RMSE: 544.7720\n",
      "Dataset: Y_t | Params: eta=0.50, max_depth=15, subsample=0.60, colsample_bytree=0.80 | Best RMSE: 497.6328\n",
      "Dataset: Y_t | Params: eta=0.10, max_depth=9, subsample=0.80, colsample_bytree=0.80 | Best RMSE: 437.1082\n",
      "Dataset: Y_t | Params: eta=0.20, max_depth=9, subsample=0.80, colsample_bytree=0.80 | Best RMSE: 539.6740\n",
      "Dataset: Y_t | Params: eta=0.50, max_depth=9, subsample=0.80, colsample_bytree=0.80 | Best RMSE: 488.1506\n",
      "Dataset: Y_t | Params: eta=0.10, max_depth=12, subsample=0.80, colsample_bytree=0.80 | Best RMSE: 502.9498\n",
      "Dataset: Y_t | Params: eta=0.20, max_depth=12, subsample=0.80, colsample_bytree=0.80 | Best RMSE: 470.2741\n",
      "Dataset: Y_t | Params: eta=0.50, max_depth=12, subsample=0.80, colsample_bytree=0.80 | Best RMSE: 554.5575\n",
      "Dataset: Y_t | Params: eta=0.10, max_depth=15, subsample=0.80, colsample_bytree=0.80 | Best RMSE: 546.8868\n",
      "Dataset: Y_t | Params: eta=0.20, max_depth=15, subsample=0.80, colsample_bytree=0.80 | Best RMSE: 544.7355\n",
      "Dataset: Y_t | Params: eta=0.50, max_depth=15, subsample=0.80, colsample_bytree=0.80 | Best RMSE: 626.5063\n",
      "Dataset: Y_t | Params: eta=0.10, max_depth=9, subsample=1.00, colsample_bytree=0.80 | Best RMSE: 447.5281\n",
      "Dataset: Y_t | Params: eta=0.20, max_depth=9, subsample=1.00, colsample_bytree=0.80 | Best RMSE: 505.8082\n",
      "Dataset: Y_t | Params: eta=0.50, max_depth=9, subsample=1.00, colsample_bytree=0.80 | Best RMSE: 493.2736\n",
      "Dataset: Y_t | Params: eta=0.10, max_depth=12, subsample=1.00, colsample_bytree=0.80 | Best RMSE: 483.1539\n",
      "Dataset: Y_t | Params: eta=0.20, max_depth=12, subsample=1.00, colsample_bytree=0.80 | Best RMSE: 467.5217\n",
      "Dataset: Y_t | Params: eta=0.50, max_depth=12, subsample=1.00, colsample_bytree=0.80 | Best RMSE: 485.7230\n",
      "Dataset: Y_t | Params: eta=0.10, max_depth=15, subsample=1.00, colsample_bytree=0.80 | Best RMSE: 516.8389\n",
      "Dataset: Y_t | Params: eta=0.20, max_depth=15, subsample=1.00, colsample_bytree=0.80 | Best RMSE: 585.0308\n",
      "Dataset: Y_t | Params: eta=0.50, max_depth=15, subsample=1.00, colsample_bytree=0.80 | Best RMSE: 641.4487\n",
      "Dataset: Y_t | Params: eta=0.10, max_depth=9, subsample=0.60, colsample_bytree=1.00 | Best RMSE: 459.5306\n",
      "Dataset: Y_t | Params: eta=0.20, max_depth=9, subsample=0.60, colsample_bytree=1.00 | Best RMSE: 467.5468\n",
      "Dataset: Y_t | Params: eta=0.50, max_depth=9, subsample=0.60, colsample_bytree=1.00 | Best RMSE: 452.1529\n",
      "Dataset: Y_t | Params: eta=0.10, max_depth=12, subsample=0.60, colsample_bytree=1.00 | Best RMSE: 502.0719\n",
      "Dataset: Y_t | Params: eta=0.20, max_depth=12, subsample=0.60, colsample_bytree=1.00 | Best RMSE: 529.5076\n",
      "Dataset: Y_t | Params: eta=0.50, max_depth=12, subsample=0.60, colsample_bytree=1.00 | Best RMSE: 507.1149\n",
      "Dataset: Y_t | Params: eta=0.10, max_depth=15, subsample=0.60, colsample_bytree=1.00 | Best RMSE: 521.7013\n",
      "Dataset: Y_t | Params: eta=0.20, max_depth=15, subsample=0.60, colsample_bytree=1.00 | Best RMSE: 541.8214\n",
      "Dataset: Y_t | Params: eta=0.50, max_depth=15, subsample=0.60, colsample_bytree=1.00 | Best RMSE: 641.6484\n",
      "Dataset: Y_t | Params: eta=0.10, max_depth=9, subsample=0.80, colsample_bytree=1.00 | Best RMSE: 471.9026\n",
      "Dataset: Y_t | Params: eta=0.20, max_depth=9, subsample=0.80, colsample_bytree=1.00 | Best RMSE: 493.7189\n",
      "Dataset: Y_t | Params: eta=0.50, max_depth=9, subsample=0.80, colsample_bytree=1.00 | Best RMSE: 497.1791\n",
      "Dataset: Y_t | Params: eta=0.10, max_depth=12, subsample=0.80, colsample_bytree=1.00 | Best RMSE: 509.4914\n",
      "Dataset: Y_t | Params: eta=0.20, max_depth=12, subsample=0.80, colsample_bytree=1.00 | Best RMSE: 485.5327\n",
      "Dataset: Y_t | Params: eta=0.50, max_depth=12, subsample=0.80, colsample_bytree=1.00 | Best RMSE: 511.6769\n",
      "Dataset: Y_t | Params: eta=0.10, max_depth=15, subsample=0.80, colsample_bytree=1.00 | Best RMSE: 497.2622\n",
      "Dataset: Y_t | Params: eta=0.20, max_depth=15, subsample=0.80, colsample_bytree=1.00 | Best RMSE: 533.4941\n",
      "Dataset: Y_t | Params: eta=0.50, max_depth=15, subsample=0.80, colsample_bytree=1.00 | Best RMSE: 667.4311\n",
      "Dataset: Y_t | Params: eta=0.10, max_depth=9, subsample=1.00, colsample_bytree=1.00 | Best RMSE: 454.3960\n",
      "Dataset: Y_t | Params: eta=0.20, max_depth=9, subsample=1.00, colsample_bytree=1.00 | Best RMSE: 495.7969\n",
      "Dataset: Y_t | Params: eta=0.50, max_depth=9, subsample=1.00, colsample_bytree=1.00 | Best RMSE: 435.5146\n",
      "Dataset: Y_t | Params: eta=0.10, max_depth=12, subsample=1.00, colsample_bytree=1.00 | Best RMSE: 499.5403\n",
      "Dataset: Y_t | Params: eta=0.20, max_depth=12, subsample=1.00, colsample_bytree=1.00 | Best RMSE: 469.3634\n",
      "Dataset: Y_t | Params: eta=0.50, max_depth=12, subsample=1.00, colsample_bytree=1.00 | Best RMSE: 600.4828\n",
      "Dataset: Y_t | Params: eta=0.10, max_depth=15, subsample=1.00, colsample_bytree=1.00 | Best RMSE: 500.6818\n",
      "Dataset: Y_t | Params: eta=0.20, max_depth=15, subsample=1.00, colsample_bytree=1.00 | Best RMSE: 510.9456\n",
      "Dataset: Y_t | Params: eta=0.50, max_depth=15, subsample=1.00, colsample_bytree=1.00 | Best RMSE: 523.7975\n",
      "Tuning for dataset: T_t \n",
      "Dataset: T_t | Params: eta=0.10, max_depth=9, subsample=0.60, colsample_bytree=0.60 | Best RMSE: 48.0560\n",
      "New best RMSE for T_t: 48.0560\n",
      "Dataset: T_t | Params: eta=0.20, max_depth=9, subsample=0.60, colsample_bytree=0.60 | Best RMSE: 35.9852\n",
      "New best RMSE for T_t: 35.9852\n",
      "Dataset: T_t | Params: eta=0.50, max_depth=9, subsample=0.60, colsample_bytree=0.60 | Best RMSE: 54.2472\n",
      "Dataset: T_t | Params: eta=0.10, max_depth=12, subsample=0.60, colsample_bytree=0.60 | Best RMSE: 42.4445\n",
      "Dataset: T_t | Params: eta=0.20, max_depth=12, subsample=0.60, colsample_bytree=0.60 | Best RMSE: 44.6424\n",
      "Dataset: T_t | Params: eta=0.50, max_depth=12, subsample=0.60, colsample_bytree=0.60 | Best RMSE: 31.9371\n",
      "New best RMSE for T_t: 31.9371\n",
      "Dataset: T_t | Params: eta=0.10, max_depth=15, subsample=0.60, colsample_bytree=0.60 | Best RMSE: 44.0756\n",
      "Dataset: T_t | Params: eta=0.20, max_depth=15, subsample=0.60, colsample_bytree=0.60 | Best RMSE: 36.9225\n",
      "Dataset: T_t | Params: eta=0.50, max_depth=15, subsample=0.60, colsample_bytree=0.60 | Best RMSE: 20.9324\n",
      "New best RMSE for T_t: 20.9324\n",
      "Dataset: T_t | Params: eta=0.10, max_depth=9, subsample=0.80, colsample_bytree=0.60 | Best RMSE: 40.0721\n",
      "Dataset: T_t | Params: eta=0.20, max_depth=9, subsample=0.80, colsample_bytree=0.60 | Best RMSE: 46.4432\n",
      "Dataset: T_t | Params: eta=0.50, max_depth=9, subsample=0.80, colsample_bytree=0.60 | Best RMSE: 38.0395\n",
      "Dataset: T_t | Params: eta=0.10, max_depth=12, subsample=0.80, colsample_bytree=0.60 | Best RMSE: 43.8139\n",
      "Dataset: T_t | Params: eta=0.20, max_depth=12, subsample=0.80, colsample_bytree=0.60 | Best RMSE: 39.8894\n",
      "Dataset: T_t | Params: eta=0.50, max_depth=12, subsample=0.80, colsample_bytree=0.60 | Best RMSE: 49.4697\n",
      "Dataset: T_t | Params: eta=0.10, max_depth=15, subsample=0.80, colsample_bytree=0.60 | Best RMSE: 35.4924\n",
      "Dataset: T_t | Params: eta=0.20, max_depth=15, subsample=0.80, colsample_bytree=0.60 | Best RMSE: 45.8727\n",
      "Dataset: T_t | Params: eta=0.50, max_depth=15, subsample=0.80, colsample_bytree=0.60 | Best RMSE: 36.9729\n",
      "Dataset: T_t | Params: eta=0.10, max_depth=9, subsample=1.00, colsample_bytree=0.60 | Best RMSE: 37.0549\n",
      "Dataset: T_t | Params: eta=0.20, max_depth=9, subsample=1.00, colsample_bytree=0.60 | Best RMSE: 40.6278\n",
      "Dataset: T_t | Params: eta=0.50, max_depth=9, subsample=1.00, colsample_bytree=0.60 | Best RMSE: 47.2483\n",
      "Dataset: T_t | Params: eta=0.10, max_depth=12, subsample=1.00, colsample_bytree=0.60 | Best RMSE: 38.0444\n",
      "Dataset: T_t | Params: eta=0.20, max_depth=12, subsample=1.00, colsample_bytree=0.60 | Best RMSE: 43.6465\n",
      "Dataset: T_t | Params: eta=0.50, max_depth=12, subsample=1.00, colsample_bytree=0.60 | Best RMSE: 31.0682\n",
      "Dataset: T_t | Params: eta=0.10, max_depth=15, subsample=1.00, colsample_bytree=0.60 | Best RMSE: 33.8458\n",
      "Dataset: T_t | Params: eta=0.20, max_depth=15, subsample=1.00, colsample_bytree=0.60 | Best RMSE: 37.8396\n",
      "Dataset: T_t | Params: eta=0.50, max_depth=15, subsample=1.00, colsample_bytree=0.60 | Best RMSE: 16.2841\n",
      "New best RMSE for T_t: 16.2841\n",
      "Dataset: T_t | Params: eta=0.10, max_depth=9, subsample=0.60, colsample_bytree=0.80 | Best RMSE: 45.6299\n",
      "Dataset: T_t | Params: eta=0.20, max_depth=9, subsample=0.60, colsample_bytree=0.80 | Best RMSE: 49.8150\n",
      "Dataset: T_t | Params: eta=0.50, max_depth=9, subsample=0.60, colsample_bytree=0.80 | Best RMSE: 36.3436\n",
      "Dataset: T_t | Params: eta=0.10, max_depth=12, subsample=0.60, colsample_bytree=0.80 | Best RMSE: 43.6319\n",
      "Dataset: T_t | Params: eta=0.20, max_depth=12, subsample=0.60, colsample_bytree=0.80 | Best RMSE: 42.8901\n",
      "Dataset: T_t | Params: eta=0.50, max_depth=12, subsample=0.60, colsample_bytree=0.80 | Best RMSE: 56.8912\n",
      "Dataset: T_t | Params: eta=0.10, max_depth=15, subsample=0.60, colsample_bytree=0.80 | Best RMSE: 46.7206\n",
      "Dataset: T_t | Params: eta=0.20, max_depth=15, subsample=0.60, colsample_bytree=0.80 | Best RMSE: 52.1352\n",
      "Dataset: T_t | Params: eta=0.50, max_depth=15, subsample=0.60, colsample_bytree=0.80 | Best RMSE: 34.4189\n",
      "Dataset: T_t | Params: eta=0.10, max_depth=9, subsample=0.80, colsample_bytree=0.80 | Best RMSE: 40.5830\n",
      "Dataset: T_t | Params: eta=0.20, max_depth=9, subsample=0.80, colsample_bytree=0.80 | Best RMSE: 39.3600\n",
      "Dataset: T_t | Params: eta=0.50, max_depth=9, subsample=0.80, colsample_bytree=0.80 | Best RMSE: 20.8711\n",
      "Dataset: T_t | Params: eta=0.10, max_depth=12, subsample=0.80, colsample_bytree=0.80 | Best RMSE: 46.1113\n",
      "Dataset: T_t | Params: eta=0.20, max_depth=12, subsample=0.80, colsample_bytree=0.80 | Best RMSE: 48.2378\n",
      "Dataset: T_t | Params: eta=0.50, max_depth=12, subsample=0.80, colsample_bytree=0.80 | Best RMSE: 32.6618\n",
      "Dataset: T_t | Params: eta=0.10, max_depth=15, subsample=0.80, colsample_bytree=0.80 | Best RMSE: 38.8964\n",
      "Dataset: T_t | Params: eta=0.20, max_depth=15, subsample=0.80, colsample_bytree=0.80 | Best RMSE: 39.2016\n",
      "Dataset: T_t | Params: eta=0.50, max_depth=15, subsample=0.80, colsample_bytree=0.80 | Best RMSE: 38.1040\n",
      "Dataset: T_t | Params: eta=0.10, max_depth=9, subsample=1.00, colsample_bytree=0.80 | Best RMSE: 46.2990\n",
      "Dataset: T_t | Params: eta=0.20, max_depth=9, subsample=1.00, colsample_bytree=0.80 | Best RMSE: 40.7106\n",
      "Dataset: T_t | Params: eta=0.50, max_depth=9, subsample=1.00, colsample_bytree=0.80 | Best RMSE: 51.9657\n",
      "Dataset: T_t | Params: eta=0.10, max_depth=12, subsample=1.00, colsample_bytree=0.80 | Best RMSE: 43.4249\n",
      "Dataset: T_t | Params: eta=0.20, max_depth=12, subsample=1.00, colsample_bytree=0.80 | Best RMSE: 38.4339\n",
      "Dataset: T_t | Params: eta=0.50, max_depth=12, subsample=1.00, colsample_bytree=0.80 | Best RMSE: 42.4782\n",
      "Dataset: T_t | Params: eta=0.10, max_depth=15, subsample=1.00, colsample_bytree=0.80 | Best RMSE: 47.8018\n",
      "Dataset: T_t | Params: eta=0.20, max_depth=15, subsample=1.00, colsample_bytree=0.80 | Best RMSE: 47.5073\n",
      "Dataset: T_t | Params: eta=0.50, max_depth=15, subsample=1.00, colsample_bytree=0.80 | Best RMSE: 37.0625\n",
      "Dataset: T_t | Params: eta=0.10, max_depth=9, subsample=0.60, colsample_bytree=1.00 | Best RMSE: 46.6614\n",
      "Dataset: T_t | Params: eta=0.20, max_depth=9, subsample=0.60, colsample_bytree=1.00 | Best RMSE: 48.4874\n",
      "Dataset: T_t | Params: eta=0.50, max_depth=9, subsample=0.60, colsample_bytree=1.00 | Best RMSE: 42.8029\n",
      "Dataset: T_t | Params: eta=0.10, max_depth=12, subsample=0.60, colsample_bytree=1.00 | Best RMSE: 49.4599\n",
      "Dataset: T_t | Params: eta=0.20, max_depth=12, subsample=0.60, colsample_bytree=1.00 | Best RMSE: 41.3345\n",
      "Dataset: T_t | Params: eta=0.50, max_depth=12, subsample=0.60, colsample_bytree=1.00 | Best RMSE: 53.7675\n",
      "Dataset: T_t | Params: eta=0.10, max_depth=15, subsample=0.60, colsample_bytree=1.00 | Best RMSE: 45.6415\n",
      "Dataset: T_t | Params: eta=0.20, max_depth=15, subsample=0.60, colsample_bytree=1.00 | Best RMSE: 54.4068\n",
      "Dataset: T_t | Params: eta=0.50, max_depth=15, subsample=0.60, colsample_bytree=1.00 | Best RMSE: 54.6587\n",
      "Dataset: T_t | Params: eta=0.10, max_depth=9, subsample=0.80, colsample_bytree=1.00 | Best RMSE: 46.4785\n",
      "Dataset: T_t | Params: eta=0.20, max_depth=9, subsample=0.80, colsample_bytree=1.00 | Best RMSE: 38.9943\n",
      "Dataset: T_t | Params: eta=0.50, max_depth=9, subsample=0.80, colsample_bytree=1.00 | Best RMSE: 57.3783\n",
      "Dataset: T_t | Params: eta=0.10, max_depth=12, subsample=0.80, colsample_bytree=1.00 | Best RMSE: 44.1063\n",
      "Dataset: T_t | Params: eta=0.20, max_depth=12, subsample=0.80, colsample_bytree=1.00 | Best RMSE: 39.1065\n",
      "Dataset: T_t | Params: eta=0.50, max_depth=12, subsample=0.80, colsample_bytree=1.00 | Best RMSE: 57.7659\n",
      "Dataset: T_t | Params: eta=0.10, max_depth=15, subsample=0.80, colsample_bytree=1.00 | Best RMSE: 44.1429\n",
      "Dataset: T_t | Params: eta=0.20, max_depth=15, subsample=0.80, colsample_bytree=1.00 | Best RMSE: 38.3040\n",
      "Dataset: T_t | Params: eta=0.50, max_depth=15, subsample=0.80, colsample_bytree=1.00 | Best RMSE: 56.3824\n",
      "Dataset: T_t | Params: eta=0.10, max_depth=9, subsample=1.00, colsample_bytree=1.00 | Best RMSE: 44.9472\n",
      "Dataset: T_t | Params: eta=0.20, max_depth=9, subsample=1.00, colsample_bytree=1.00 | Best RMSE: 47.5016\n",
      "Dataset: T_t | Params: eta=0.50, max_depth=9, subsample=1.00, colsample_bytree=1.00 | Best RMSE: 47.8935\n",
      "Dataset: T_t | Params: eta=0.10, max_depth=12, subsample=1.00, colsample_bytree=1.00 | Best RMSE: 43.9203\n",
      "Dataset: T_t | Params: eta=0.20, max_depth=12, subsample=1.00, colsample_bytree=1.00 | Best RMSE: 47.4892\n",
      "Dataset: T_t | Params: eta=0.50, max_depth=12, subsample=1.00, colsample_bytree=1.00 | Best RMSE: 48.2771\n",
      "Dataset: T_t | Params: eta=0.10, max_depth=15, subsample=1.00, colsample_bytree=1.00 | Best RMSE: 44.1591\n",
      "Dataset: T_t | Params: eta=0.20, max_depth=15, subsample=1.00, colsample_bytree=1.00 | Best RMSE: 47.1825\n",
      "Dataset: T_t | Params: eta=0.50, max_depth=15, subsample=1.00, colsample_bytree=1.00 | Best RMSE: 48.1724\n",
      "Tuning for dataset: S24 \n",
      "Dataset: S24 | Params: eta=0.10, max_depth=9, subsample=0.60, colsample_bytree=0.60 | Best RMSE: 51.0569\n",
      "New best RMSE for S24: 51.0569\n",
      "Dataset: S24 | Params: eta=0.20, max_depth=9, subsample=0.60, colsample_bytree=0.60 | Best RMSE: 49.1795\n",
      "New best RMSE for S24: 49.1795\n",
      "Dataset: S24 | Params: eta=0.50, max_depth=9, subsample=0.60, colsample_bytree=0.60 | Best RMSE: 72.7826\n",
      "Dataset: S24 | Params: eta=0.10, max_depth=12, subsample=0.60, colsample_bytree=0.60 | Best RMSE: 66.9855\n",
      "Dataset: S24 | Params: eta=0.20, max_depth=12, subsample=0.60, colsample_bytree=0.60 | Best RMSE: 193.1389\n",
      "Dataset: S24 | Params: eta=0.50, max_depth=12, subsample=0.60, colsample_bytree=0.60 | Best RMSE: 51.8469\n",
      "Dataset: S24 | Params: eta=0.10, max_depth=15, subsample=0.60, colsample_bytree=0.60 | Best RMSE: 110.5205\n",
      "Dataset: S24 | Params: eta=0.20, max_depth=15, subsample=0.60, colsample_bytree=0.60 | Best RMSE: 164.1125\n",
      "Dataset: S24 | Params: eta=0.50, max_depth=15, subsample=0.60, colsample_bytree=0.60 | Best RMSE: 257.7505\n",
      "Dataset: S24 | Params: eta=0.10, max_depth=9, subsample=0.80, colsample_bytree=0.60 | Best RMSE: 47.0117\n",
      "New best RMSE for S24: 47.0117\n",
      "Dataset: S24 | Params: eta=0.20, max_depth=9, subsample=0.80, colsample_bytree=0.60 | Best RMSE: 45.1830\n",
      "New best RMSE for S24: 45.1830\n",
      "Dataset: S24 | Params: eta=0.50, max_depth=9, subsample=0.80, colsample_bytree=0.60 | Best RMSE: 48.7273\n",
      "Dataset: S24 | Params: eta=0.10, max_depth=12, subsample=0.80, colsample_bytree=0.60 | Best RMSE: 79.1435\n",
      "Dataset: S24 | Params: eta=0.20, max_depth=12, subsample=0.80, colsample_bytree=0.60 | Best RMSE: 126.6385\n",
      "Dataset: S24 | Params: eta=0.50, max_depth=12, subsample=0.80, colsample_bytree=0.60 | Best RMSE: 82.0790\n",
      "Dataset: S24 | Params: eta=0.10, max_depth=15, subsample=0.80, colsample_bytree=0.60 | Best RMSE: 82.1193\n",
      "Dataset: S24 | Params: eta=0.20, max_depth=15, subsample=0.80, colsample_bytree=0.60 | Best RMSE: 132.8460\n",
      "Dataset: S24 | Params: eta=0.50, max_depth=15, subsample=0.80, colsample_bytree=0.60 | Best RMSE: 212.1039\n",
      "Dataset: S24 | Params: eta=0.10, max_depth=9, subsample=1.00, colsample_bytree=0.60 | Best RMSE: 50.6626\n",
      "Dataset: S24 | Params: eta=0.20, max_depth=9, subsample=1.00, colsample_bytree=0.60 | Best RMSE: 45.8824\n",
      "Dataset: S24 | Params: eta=0.50, max_depth=9, subsample=1.00, colsample_bytree=0.60 | Best RMSE: 59.2688\n",
      "Dataset: S24 | Params: eta=0.10, max_depth=12, subsample=1.00, colsample_bytree=0.60 | Best RMSE: 58.6516\n",
      "Dataset: S24 | Params: eta=0.20, max_depth=12, subsample=1.00, colsample_bytree=0.60 | Best RMSE: 94.2540\n",
      "Dataset: S24 | Params: eta=0.50, max_depth=12, subsample=1.00, colsample_bytree=0.60 | Best RMSE: 67.9272\n",
      "Dataset: S24 | Params: eta=0.10, max_depth=15, subsample=1.00, colsample_bytree=0.60 | Best RMSE: 108.9071\n",
      "Dataset: S24 | Params: eta=0.20, max_depth=15, subsample=1.00, colsample_bytree=0.60 | Best RMSE: 168.3861\n",
      "Dataset: S24 | Params: eta=0.50, max_depth=15, subsample=1.00, colsample_bytree=0.60 | Best RMSE: 48.2354\n",
      "Dataset: S24 | Params: eta=0.10, max_depth=9, subsample=0.60, colsample_bytree=0.80 | Best RMSE: 44.4335\n",
      "New best RMSE for S24: 44.4335\n",
      "Dataset: S24 | Params: eta=0.20, max_depth=9, subsample=0.60, colsample_bytree=0.80 | Best RMSE: 44.3108\n",
      "New best RMSE for S24: 44.3108\n",
      "Dataset: S24 | Params: eta=0.50, max_depth=9, subsample=0.60, colsample_bytree=0.80 | Best RMSE: 50.0841\n",
      "Dataset: S24 | Params: eta=0.10, max_depth=12, subsample=0.60, colsample_bytree=0.80 | Best RMSE: 43.0564\n",
      "New best RMSE for S24: 43.0564\n",
      "Dataset: S24 | Params: eta=0.20, max_depth=12, subsample=0.60, colsample_bytree=0.80 | Best RMSE: 49.4160\n",
      "Dataset: S24 | Params: eta=0.50, max_depth=12, subsample=0.60, colsample_bytree=0.80 | Best RMSE: 48.6496\n",
      "Dataset: S24 | Params: eta=0.10, max_depth=15, subsample=0.60, colsample_bytree=0.80 | Best RMSE: 43.5221\n",
      "Dataset: S24 | Params: eta=0.20, max_depth=15, subsample=0.60, colsample_bytree=0.80 | Best RMSE: 60.3662\n",
      "Dataset: S24 | Params: eta=0.50, max_depth=15, subsample=0.60, colsample_bytree=0.80 | Best RMSE: 178.5876\n",
      "Dataset: S24 | Params: eta=0.10, max_depth=9, subsample=0.80, colsample_bytree=0.80 | Best RMSE: 45.3378\n",
      "Dataset: S24 | Params: eta=0.20, max_depth=9, subsample=0.80, colsample_bytree=0.80 | Best RMSE: 42.6159\n",
      "New best RMSE for S24: 42.6159\n",
      "Dataset: S24 | Params: eta=0.50, max_depth=9, subsample=0.80, colsample_bytree=0.80 | Best RMSE: 40.7254\n",
      "New best RMSE for S24: 40.7254\n",
      "Dataset: S24 | Params: eta=0.10, max_depth=12, subsample=0.80, colsample_bytree=0.80 | Best RMSE: 45.4583\n",
      "Dataset: S24 | Params: eta=0.20, max_depth=12, subsample=0.80, colsample_bytree=0.80 | Best RMSE: 41.7392\n",
      "Dataset: S24 | Params: eta=0.50, max_depth=12, subsample=0.80, colsample_bytree=0.80 | Best RMSE: 48.4572\n",
      "Dataset: S24 | Params: eta=0.10, max_depth=15, subsample=0.80, colsample_bytree=0.80 | Best RMSE: 49.5510\n",
      "Dataset: S24 | Params: eta=0.20, max_depth=15, subsample=0.80, colsample_bytree=0.80 | Best RMSE: 46.3475\n",
      "Dataset: S24 | Params: eta=0.50, max_depth=15, subsample=0.80, colsample_bytree=0.80 | Best RMSE: 64.4658\n",
      "Dataset: S24 | Params: eta=0.10, max_depth=9, subsample=1.00, colsample_bytree=0.80 | Best RMSE: 43.5279\n",
      "Dataset: S24 | Params: eta=0.20, max_depth=9, subsample=1.00, colsample_bytree=0.80 | Best RMSE: 44.1662\n",
      "Dataset: S24 | Params: eta=0.50, max_depth=9, subsample=1.00, colsample_bytree=0.80 | Best RMSE: 45.6352\n",
      "Dataset: S24 | Params: eta=0.10, max_depth=12, subsample=1.00, colsample_bytree=0.80 | Best RMSE: 47.9246\n",
      "Dataset: S24 | Params: eta=0.20, max_depth=12, subsample=1.00, colsample_bytree=0.80 | Best RMSE: 43.2433\n",
      "Dataset: S24 | Params: eta=0.50, max_depth=12, subsample=1.00, colsample_bytree=0.80 | Best RMSE: 43.3138\n",
      "Dataset: S24 | Params: eta=0.10, max_depth=15, subsample=1.00, colsample_bytree=0.80 | Best RMSE: 53.2172\n",
      "Dataset: S24 | Params: eta=0.20, max_depth=15, subsample=1.00, colsample_bytree=0.80 | Best RMSE: 52.9414\n",
      "Dataset: S24 | Params: eta=0.50, max_depth=15, subsample=1.00, colsample_bytree=0.80 | Best RMSE: 48.2681\n",
      "Dataset: S24 | Params: eta=0.10, max_depth=9, subsample=0.60, colsample_bytree=1.00 | Best RMSE: 43.6974\n",
      "Dataset: S24 | Params: eta=0.20, max_depth=9, subsample=0.60, colsample_bytree=1.00 | Best RMSE: 44.0803\n",
      "Dataset: S24 | Params: eta=0.50, max_depth=9, subsample=0.60, colsample_bytree=1.00 | Best RMSE: 48.1587\n",
      "Dataset: S24 | Params: eta=0.10, max_depth=12, subsample=0.60, colsample_bytree=1.00 | Best RMSE: 43.0735\n",
      "Dataset: S24 | Params: eta=0.20, max_depth=12, subsample=0.60, colsample_bytree=1.00 | Best RMSE: 45.7544\n",
      "Dataset: S24 | Params: eta=0.50, max_depth=12, subsample=0.60, colsample_bytree=1.00 | Best RMSE: 45.4436\n",
      "Dataset: S24 | Params: eta=0.10, max_depth=15, subsample=0.60, colsample_bytree=1.00 | Best RMSE: 41.7008\n",
      "Dataset: S24 | Params: eta=0.20, max_depth=15, subsample=0.60, colsample_bytree=1.00 | Best RMSE: 42.9813\n",
      "Dataset: S24 | Params: eta=0.50, max_depth=15, subsample=0.60, colsample_bytree=1.00 | Best RMSE: 45.0434\n",
      "Dataset: S24 | Params: eta=0.10, max_depth=9, subsample=0.80, colsample_bytree=1.00 | Best RMSE: 43.3559\n",
      "Dataset: S24 | Params: eta=0.20, max_depth=9, subsample=0.80, colsample_bytree=1.00 | Best RMSE: 43.2488\n",
      "Dataset: S24 | Params: eta=0.50, max_depth=9, subsample=0.80, colsample_bytree=1.00 | Best RMSE: 50.8927\n",
      "Dataset: S24 | Params: eta=0.10, max_depth=12, subsample=0.80, colsample_bytree=1.00 | Best RMSE: 42.1184\n",
      "Dataset: S24 | Params: eta=0.20, max_depth=12, subsample=0.80, colsample_bytree=1.00 | Best RMSE: 43.8731\n",
      "Dataset: S24 | Params: eta=0.50, max_depth=12, subsample=0.80, colsample_bytree=1.00 | Best RMSE: 48.1507\n",
      "Dataset: S24 | Params: eta=0.10, max_depth=15, subsample=0.80, colsample_bytree=1.00 | Best RMSE: 40.4763\n",
      "New best RMSE for S24: 40.4763\n",
      "Dataset: S24 | Params: eta=0.20, max_depth=15, subsample=0.80, colsample_bytree=1.00 | Best RMSE: 41.6213\n",
      "Dataset: S24 | Params: eta=0.50, max_depth=15, subsample=0.80, colsample_bytree=1.00 | Best RMSE: 41.3348\n",
      "Dataset: S24 | Params: eta=0.10, max_depth=9, subsample=1.00, colsample_bytree=1.00 | Best RMSE: 43.8533\n",
      "Dataset: S24 | Params: eta=0.20, max_depth=9, subsample=1.00, colsample_bytree=1.00 | Best RMSE: 42.4704\n",
      "Dataset: S24 | Params: eta=0.50, max_depth=9, subsample=1.00, colsample_bytree=1.00 | Best RMSE: 45.6753\n",
      "Dataset: S24 | Params: eta=0.10, max_depth=12, subsample=1.00, colsample_bytree=1.00 | Best RMSE: 42.4386\n",
      "Dataset: S24 | Params: eta=0.20, max_depth=12, subsample=1.00, colsample_bytree=1.00 | Best RMSE: 44.3472\n",
      "Dataset: S24 | Params: eta=0.50, max_depth=12, subsample=1.00, colsample_bytree=1.00 | Best RMSE: 46.3769\n",
      "Dataset: S24 | Params: eta=0.10, max_depth=15, subsample=1.00, colsample_bytree=1.00 | Best RMSE: 41.4160\n",
      "Dataset: S24 | Params: eta=0.20, max_depth=15, subsample=1.00, colsample_bytree=1.00 | Best RMSE: 40.9891\n",
      "Dataset: S24 | Params: eta=0.50, max_depth=15, subsample=1.00, colsample_bytree=1.00 | Best RMSE: 41.4117\n",
      "Tuning for dataset: S168 \n",
      "Dataset: S168 | Params: eta=0.10, max_depth=9, subsample=0.60, colsample_bytree=0.60 | Best RMSE: 46.3525\n",
      "New best RMSE for S168: 46.3525\n",
      "Dataset: S168 | Params: eta=0.20, max_depth=9, subsample=0.60, colsample_bytree=0.60 | Best RMSE: 47.4362\n",
      "Dataset: S168 | Params: eta=0.50, max_depth=9, subsample=0.60, colsample_bytree=0.60 | Best RMSE: 48.5808\n",
      "Dataset: S168 | Params: eta=0.10, max_depth=12, subsample=0.60, colsample_bytree=0.60 | Best RMSE: 68.4932\n",
      "Dataset: S168 | Params: eta=0.20, max_depth=12, subsample=0.60, colsample_bytree=0.60 | Best RMSE: 91.2197\n",
      "Dataset: S168 | Params: eta=0.50, max_depth=12, subsample=0.60, colsample_bytree=0.60 | Best RMSE: 89.2047\n",
      "Dataset: S168 | Params: eta=0.10, max_depth=15, subsample=0.60, colsample_bytree=0.60 | Best RMSE: 89.0867\n",
      "Dataset: S168 | Params: eta=0.20, max_depth=15, subsample=0.60, colsample_bytree=0.60 | Best RMSE: 69.4636\n",
      "Dataset: S168 | Params: eta=0.50, max_depth=15, subsample=0.60, colsample_bytree=0.60 | Best RMSE: 154.0934\n",
      "Dataset: S168 | Params: eta=0.10, max_depth=9, subsample=0.80, colsample_bytree=0.60 | Best RMSE: 45.9236\n",
      "New best RMSE for S168: 45.9236\n",
      "Dataset: S168 | Params: eta=0.20, max_depth=9, subsample=0.80, colsample_bytree=0.60 | Best RMSE: 36.6470\n",
      "New best RMSE for S168: 36.6470\n",
      "Dataset: S168 | Params: eta=0.50, max_depth=9, subsample=0.80, colsample_bytree=0.60 | Best RMSE: 75.0245\n",
      "Dataset: S168 | Params: eta=0.10, max_depth=12, subsample=0.80, colsample_bytree=0.60 | Best RMSE: 36.5944\n",
      "New best RMSE for S168: 36.5944\n",
      "Dataset: S168 | Params: eta=0.20, max_depth=12, subsample=0.80, colsample_bytree=0.60 | Best RMSE: 41.3863\n",
      "Dataset: S168 | Params: eta=0.50, max_depth=12, subsample=0.80, colsample_bytree=0.60 | Best RMSE: 113.2223\n",
      "Dataset: S168 | Params: eta=0.10, max_depth=15, subsample=0.80, colsample_bytree=0.60 | Best RMSE: 105.0098\n",
      "Dataset: S168 | Params: eta=0.20, max_depth=15, subsample=0.80, colsample_bytree=0.60 | Best RMSE: 80.0739\n",
      "Dataset: S168 | Params: eta=0.50, max_depth=15, subsample=0.80, colsample_bytree=0.60 | Best RMSE: 129.3293\n",
      "Dataset: S168 | Params: eta=0.10, max_depth=9, subsample=1.00, colsample_bytree=0.60 | Best RMSE: 67.4325\n",
      "Dataset: S168 | Params: eta=0.20, max_depth=9, subsample=1.00, colsample_bytree=0.60 | Best RMSE: 58.0568\n",
      "Dataset: S168 | Params: eta=0.50, max_depth=9, subsample=1.00, colsample_bytree=0.60 | Best RMSE: 73.9030\n",
      "Dataset: S168 | Params: eta=0.10, max_depth=12, subsample=1.00, colsample_bytree=0.60 | Best RMSE: 66.2158\n",
      "Dataset: S168 | Params: eta=0.20, max_depth=12, subsample=1.00, colsample_bytree=0.60 | Best RMSE: 82.6653\n",
      "Dataset: S168 | Params: eta=0.50, max_depth=12, subsample=1.00, colsample_bytree=0.60 | Best RMSE: 96.8182\n",
      "Dataset: S168 | Params: eta=0.10, max_depth=15, subsample=1.00, colsample_bytree=0.60 | Best RMSE: 82.2586\n",
      "Dataset: S168 | Params: eta=0.20, max_depth=15, subsample=1.00, colsample_bytree=0.60 | Best RMSE: 111.9952\n",
      "Dataset: S168 | Params: eta=0.50, max_depth=15, subsample=1.00, colsample_bytree=0.60 | Best RMSE: 143.0885\n",
      "Dataset: S168 | Params: eta=0.10, max_depth=9, subsample=0.60, colsample_bytree=0.80 | Best RMSE: 18.6655\n",
      "New best RMSE for S168: 18.6655\n",
      "Dataset: S168 | Params: eta=0.20, max_depth=9, subsample=0.60, colsample_bytree=0.80 | Best RMSE: 23.2728\n",
      "Dataset: S168 | Params: eta=0.50, max_depth=9, subsample=0.60, colsample_bytree=0.80 | Best RMSE: 19.5829\n",
      "Dataset: S168 | Params: eta=0.10, max_depth=12, subsample=0.60, colsample_bytree=0.80 | Best RMSE: 35.0629\n",
      "Dataset: S168 | Params: eta=0.20, max_depth=12, subsample=0.60, colsample_bytree=0.80 | Best RMSE: 36.2828\n",
      "Dataset: S168 | Params: eta=0.50, max_depth=12, subsample=0.60, colsample_bytree=0.80 | Best RMSE: 15.5231\n",
      "New best RMSE for S168: 15.5231\n",
      "Dataset: S168 | Params: eta=0.10, max_depth=15, subsample=0.60, colsample_bytree=0.80 | Best RMSE: 35.2866\n",
      "Dataset: S168 | Params: eta=0.20, max_depth=15, subsample=0.60, colsample_bytree=0.80 | Best RMSE: 11.3177\n",
      "New best RMSE for S168: 11.3177\n",
      "Dataset: S168 | Params: eta=0.50, max_depth=15, subsample=0.60, colsample_bytree=0.80 | Best RMSE: 50.9711\n",
      "Dataset: S168 | Params: eta=0.10, max_depth=9, subsample=0.80, colsample_bytree=0.80 | Best RMSE: 34.1149\n",
      "Dataset: S168 | Params: eta=0.20, max_depth=9, subsample=0.80, colsample_bytree=0.80 | Best RMSE: 19.3219\n",
      "Dataset: S168 | Params: eta=0.50, max_depth=9, subsample=0.80, colsample_bytree=0.80 | Best RMSE: 29.4970\n",
      "Dataset: S168 | Params: eta=0.10, max_depth=12, subsample=0.80, colsample_bytree=0.80 | Best RMSE: 25.9200\n",
      "Dataset: S168 | Params: eta=0.20, max_depth=12, subsample=0.80, colsample_bytree=0.80 | Best RMSE: 17.4338\n",
      "Dataset: S168 | Params: eta=0.50, max_depth=12, subsample=0.80, colsample_bytree=0.80 | Best RMSE: 67.7070\n",
      "Dataset: S168 | Params: eta=0.10, max_depth=15, subsample=0.80, colsample_bytree=0.80 | Best RMSE: 42.2290\n",
      "Dataset: S168 | Params: eta=0.20, max_depth=15, subsample=0.80, colsample_bytree=0.80 | Best RMSE: 47.4686\n",
      "Dataset: S168 | Params: eta=0.50, max_depth=15, subsample=0.80, colsample_bytree=0.80 | Best RMSE: 25.7320\n",
      "Dataset: S168 | Params: eta=0.10, max_depth=9, subsample=1.00, colsample_bytree=0.80 | Best RMSE: 27.8198\n",
      "Dataset: S168 | Params: eta=0.20, max_depth=9, subsample=1.00, colsample_bytree=0.80 | Best RMSE: 17.7646\n",
      "Dataset: S168 | Params: eta=0.50, max_depth=9, subsample=1.00, colsample_bytree=0.80 | Best RMSE: 31.3340\n",
      "Dataset: S168 | Params: eta=0.10, max_depth=12, subsample=1.00, colsample_bytree=0.80 | Best RMSE: 25.7953\n",
      "Dataset: S168 | Params: eta=0.20, max_depth=12, subsample=1.00, colsample_bytree=0.80 | Best RMSE: 9.3939\n",
      "New best RMSE for S168: 9.3939\n",
      "Dataset: S168 | Params: eta=0.50, max_depth=12, subsample=1.00, colsample_bytree=0.80 | Best RMSE: 69.2690\n",
      "Dataset: S168 | Params: eta=0.10, max_depth=15, subsample=1.00, colsample_bytree=0.80 | Best RMSE: 17.8536\n",
      "Dataset: S168 | Params: eta=0.20, max_depth=15, subsample=1.00, colsample_bytree=0.80 | Best RMSE: 24.3653\n",
      "Dataset: S168 | Params: eta=0.50, max_depth=15, subsample=1.00, colsample_bytree=0.80 | Best RMSE: 11.9957\n",
      "Dataset: S168 | Params: eta=0.10, max_depth=9, subsample=0.60, colsample_bytree=1.00 | Best RMSE: 10.0068\n",
      "Dataset: S168 | Params: eta=0.20, max_depth=9, subsample=0.60, colsample_bytree=1.00 | Best RMSE: 6.0607\n",
      "New best RMSE for S168: 6.0607\n",
      "Dataset: S168 | Params: eta=0.50, max_depth=9, subsample=0.60, colsample_bytree=1.00 | Best RMSE: 7.2661\n",
      "Dataset: S168 | Params: eta=0.10, max_depth=12, subsample=0.60, colsample_bytree=1.00 | Best RMSE: 6.9333\n",
      "Dataset: S168 | Params: eta=0.20, max_depth=12, subsample=0.60, colsample_bytree=1.00 | Best RMSE: 7.7291\n",
      "Dataset: S168 | Params: eta=0.50, max_depth=12, subsample=0.60, colsample_bytree=1.00 | Best RMSE: 8.3000\n",
      "Dataset: S168 | Params: eta=0.10, max_depth=15, subsample=0.60, colsample_bytree=1.00 | Best RMSE: 5.3192\n",
      "New best RMSE for S168: 5.3192\n",
      "Dataset: S168 | Params: eta=0.20, max_depth=15, subsample=0.60, colsample_bytree=1.00 | Best RMSE: 4.8106\n",
      "New best RMSE for S168: 4.8106\n",
      "Dataset: S168 | Params: eta=0.50, max_depth=15, subsample=0.60, colsample_bytree=1.00 | Best RMSE: 5.0572\n",
      "Dataset: S168 | Params: eta=0.10, max_depth=9, subsample=0.80, colsample_bytree=1.00 | Best RMSE: 7.3136\n",
      "Dataset: S168 | Params: eta=0.20, max_depth=9, subsample=0.80, colsample_bytree=1.00 | Best RMSE: 4.8375\n",
      "Dataset: S168 | Params: eta=0.50, max_depth=9, subsample=0.80, colsample_bytree=1.00 | Best RMSE: 7.6795\n",
      "Dataset: S168 | Params: eta=0.10, max_depth=12, subsample=0.80, colsample_bytree=1.00 | Best RMSE: 8.5205\n",
      "Dataset: S168 | Params: eta=0.20, max_depth=12, subsample=0.80, colsample_bytree=1.00 | Best RMSE: 4.7327\n",
      "New best RMSE for S168: 4.7327\n",
      "Dataset: S168 | Params: eta=0.50, max_depth=12, subsample=0.80, colsample_bytree=1.00 | Best RMSE: 10.2761\n",
      "Dataset: S168 | Params: eta=0.10, max_depth=15, subsample=0.80, colsample_bytree=1.00 | Best RMSE: 4.9048\n",
      "Dataset: S168 | Params: eta=0.20, max_depth=15, subsample=0.80, colsample_bytree=1.00 | Best RMSE: 6.0580\n",
      "Dataset: S168 | Params: eta=0.50, max_depth=15, subsample=0.80, colsample_bytree=1.00 | Best RMSE: 5.1737\n",
      "Dataset: S168 | Params: eta=0.10, max_depth=9, subsample=1.00, colsample_bytree=1.00 | Best RMSE: 7.5285\n",
      "Dataset: S168 | Params: eta=0.20, max_depth=9, subsample=1.00, colsample_bytree=1.00 | Best RMSE: 5.5299\n",
      "Dataset: S168 | Params: eta=0.50, max_depth=9, subsample=1.00, colsample_bytree=1.00 | Best RMSE: 4.8169\n",
      "Dataset: S168 | Params: eta=0.10, max_depth=12, subsample=1.00, colsample_bytree=1.00 | Best RMSE: 5.7466\n",
      "Dataset: S168 | Params: eta=0.20, max_depth=12, subsample=1.00, colsample_bytree=1.00 | Best RMSE: 5.3222\n",
      "Dataset: S168 | Params: eta=0.50, max_depth=12, subsample=1.00, colsample_bytree=1.00 | Best RMSE: 5.7155\n",
      "Dataset: S168 | Params: eta=0.10, max_depth=15, subsample=1.00, colsample_bytree=1.00 | Best RMSE: 4.4606\n",
      "New best RMSE for S168: 4.4606\n",
      "Dataset: S168 | Params: eta=0.20, max_depth=15, subsample=1.00, colsample_bytree=1.00 | Best RMSE: 3.9465\n",
      "New best RMSE for S168: 3.9465\n",
      "Dataset: S168 | Params: eta=0.50, max_depth=15, subsample=1.00, colsample_bytree=1.00 | Best RMSE: 3.7783\n",
      "New best RMSE for S168: 3.7783\n",
      "Tuning for dataset: S8760 \n",
      "Dataset: S8760 | Params: eta=0.10, max_depth=9, subsample=0.60, colsample_bytree=0.60 | Best RMSE: 242.2005\n",
      "New best RMSE for S8760: 242.2005\n",
      "Dataset: S8760 | Params: eta=0.20, max_depth=9, subsample=0.60, colsample_bytree=0.60 | Best RMSE: 268.0589\n",
      "Dataset: S8760 | Params: eta=0.50, max_depth=9, subsample=0.60, colsample_bytree=0.60 | Best RMSE: 302.6703\n",
      "Dataset: S8760 | Params: eta=0.10, max_depth=12, subsample=0.60, colsample_bytree=0.60 | Best RMSE: 283.3463\n",
      "Dataset: S8760 | Params: eta=0.20, max_depth=12, subsample=0.60, colsample_bytree=0.60 | Best RMSE: 310.3711\n",
      "Dataset: S8760 | Params: eta=0.50, max_depth=12, subsample=0.60, colsample_bytree=0.60 | Best RMSE: 412.2699\n",
      "Dataset: S8760 | Params: eta=0.10, max_depth=15, subsample=0.60, colsample_bytree=0.60 | Best RMSE: 414.5615\n",
      "Dataset: S8760 | Params: eta=0.20, max_depth=15, subsample=0.60, colsample_bytree=0.60 | Best RMSE: 340.7302\n",
      "Dataset: S8760 | Params: eta=0.50, max_depth=15, subsample=0.60, colsample_bytree=0.60 | Best RMSE: 604.6847\n",
      "Dataset: S8760 | Params: eta=0.10, max_depth=9, subsample=0.80, colsample_bytree=0.60 | Best RMSE: 266.4760\n",
      "Dataset: S8760 | Params: eta=0.20, max_depth=9, subsample=0.80, colsample_bytree=0.60 | Best RMSE: 252.1531\n",
      "Dataset: S8760 | Params: eta=0.50, max_depth=9, subsample=0.80, colsample_bytree=0.60 | Best RMSE: 333.1794\n",
      "Dataset: S8760 | Params: eta=0.10, max_depth=12, subsample=0.80, colsample_bytree=0.60 | Best RMSE: 275.2287\n",
      "Dataset: S8760 | Params: eta=0.20, max_depth=12, subsample=0.80, colsample_bytree=0.60 | Best RMSE: 298.3285\n",
      "Dataset: S8760 | Params: eta=0.50, max_depth=12, subsample=0.80, colsample_bytree=0.60 | Best RMSE: 263.2696\n",
      "Dataset: S8760 | Params: eta=0.10, max_depth=15, subsample=0.80, colsample_bytree=0.60 | Best RMSE: 327.1531\n",
      "Dataset: S8760 | Params: eta=0.20, max_depth=15, subsample=0.80, colsample_bytree=0.60 | Best RMSE: 415.6345\n",
      "Dataset: S8760 | Params: eta=0.50, max_depth=15, subsample=0.80, colsample_bytree=0.60 | Best RMSE: 361.9635\n",
      "Dataset: S8760 | Params: eta=0.10, max_depth=9, subsample=1.00, colsample_bytree=0.60 | Best RMSE: 282.3850\n",
      "Dataset: S8760 | Params: eta=0.20, max_depth=9, subsample=1.00, colsample_bytree=0.60 | Best RMSE: 305.6589\n",
      "Dataset: S8760 | Params: eta=0.50, max_depth=9, subsample=1.00, colsample_bytree=0.60 | Best RMSE: 347.6916\n",
      "Dataset: S8760 | Params: eta=0.10, max_depth=12, subsample=1.00, colsample_bytree=0.60 | Best RMSE: 315.2310\n",
      "Dataset: S8760 | Params: eta=0.20, max_depth=12, subsample=1.00, colsample_bytree=0.60 | Best RMSE: 286.3830\n",
      "Dataset: S8760 | Params: eta=0.50, max_depth=12, subsample=1.00, colsample_bytree=0.60 | Best RMSE: 343.6030\n",
      "Dataset: S8760 | Params: eta=0.10, max_depth=15, subsample=1.00, colsample_bytree=0.60 | Best RMSE: 339.1804\n",
      "Dataset: S8760 | Params: eta=0.20, max_depth=15, subsample=1.00, colsample_bytree=0.60 | Best RMSE: 321.1247\n",
      "Dataset: S8760 | Params: eta=0.50, max_depth=15, subsample=1.00, colsample_bytree=0.60 | Best RMSE: 296.3929\n",
      "Dataset: S8760 | Params: eta=0.10, max_depth=9, subsample=0.60, colsample_bytree=0.80 | Best RMSE: 292.9219\n",
      "Dataset: S8760 | Params: eta=0.20, max_depth=9, subsample=0.60, colsample_bytree=0.80 | Best RMSE: 254.4418\n",
      "Dataset: S8760 | Params: eta=0.50, max_depth=9, subsample=0.60, colsample_bytree=0.80 | Best RMSE: 298.6432\n",
      "Dataset: S8760 | Params: eta=0.10, max_depth=12, subsample=0.60, colsample_bytree=0.80 | Best RMSE: 272.4265\n",
      "Dataset: S8760 | Params: eta=0.20, max_depth=12, subsample=0.60, colsample_bytree=0.80 | Best RMSE: 302.8672\n",
      "Dataset: S8760 | Params: eta=0.50, max_depth=12, subsample=0.60, colsample_bytree=0.80 | Best RMSE: 396.1666\n",
      "Dataset: S8760 | Params: eta=0.10, max_depth=15, subsample=0.60, colsample_bytree=0.80 | Best RMSE: 283.7585\n",
      "Dataset: S8760 | Params: eta=0.20, max_depth=15, subsample=0.60, colsample_bytree=0.80 | Best RMSE: 290.6534\n",
      "Dataset: S8760 | Params: eta=0.50, max_depth=15, subsample=0.60, colsample_bytree=0.80 | Best RMSE: 394.5448\n",
      "Dataset: S8760 | Params: eta=0.10, max_depth=9, subsample=0.80, colsample_bytree=0.80 | Best RMSE: 357.7439\n",
      "Dataset: S8760 | Params: eta=0.20, max_depth=9, subsample=0.80, colsample_bytree=0.80 | Best RMSE: 267.5766\n",
      "Dataset: S8760 | Params: eta=0.50, max_depth=9, subsample=0.80, colsample_bytree=0.80 | Best RMSE: 310.8946\n",
      "Dataset: S8760 | Params: eta=0.10, max_depth=12, subsample=0.80, colsample_bytree=0.80 | Best RMSE: 320.8945\n",
      "Dataset: S8760 | Params: eta=0.20, max_depth=12, subsample=0.80, colsample_bytree=0.80 | Best RMSE: 290.5990\n",
      "Dataset: S8760 | Params: eta=0.50, max_depth=12, subsample=0.80, colsample_bytree=0.80 | Best RMSE: 303.7211\n",
      "Dataset: S8760 | Params: eta=0.10, max_depth=15, subsample=0.80, colsample_bytree=0.80 | Best RMSE: 315.4417\n",
      "Dataset: S8760 | Params: eta=0.20, max_depth=15, subsample=0.80, colsample_bytree=0.80 | Best RMSE: 273.1851\n",
      "Dataset: S8760 | Params: eta=0.50, max_depth=15, subsample=0.80, colsample_bytree=0.80 | Best RMSE: 365.2428\n",
      "Dataset: S8760 | Params: eta=0.10, max_depth=9, subsample=1.00, colsample_bytree=0.80 | Best RMSE: 307.9018\n",
      "Dataset: S8760 | Params: eta=0.20, max_depth=9, subsample=1.00, colsample_bytree=0.80 | Best RMSE: 373.2257\n",
      "Dataset: S8760 | Params: eta=0.50, max_depth=9, subsample=1.00, colsample_bytree=0.80 | Best RMSE: 268.3693\n",
      "Dataset: S8760 | Params: eta=0.10, max_depth=12, subsample=1.00, colsample_bytree=0.80 | Best RMSE: 332.0278\n",
      "Dataset: S8760 | Params: eta=0.20, max_depth=12, subsample=1.00, colsample_bytree=0.80 | Best RMSE: 270.9985\n",
      "Dataset: S8760 | Params: eta=0.50, max_depth=12, subsample=1.00, colsample_bytree=0.80 | Best RMSE: 303.3832\n",
      "Dataset: S8760 | Params: eta=0.10, max_depth=15, subsample=1.00, colsample_bytree=0.80 | Best RMSE: 306.1046\n",
      "Dataset: S8760 | Params: eta=0.20, max_depth=15, subsample=1.00, colsample_bytree=0.80 | Best RMSE: 328.8177\n",
      "Dataset: S8760 | Params: eta=0.50, max_depth=15, subsample=1.00, colsample_bytree=0.80 | Best RMSE: 342.4317\n",
      "Dataset: S8760 | Params: eta=0.10, max_depth=9, subsample=0.60, colsample_bytree=1.00 | Best RMSE: 301.6391\n",
      "Dataset: S8760 | Params: eta=0.20, max_depth=9, subsample=0.60, colsample_bytree=1.00 | Best RMSE: 335.6159\n",
      "Dataset: S8760 | Params: eta=0.50, max_depth=9, subsample=0.60, colsample_bytree=1.00 | Best RMSE: 265.7422\n",
      "Dataset: S8760 | Params: eta=0.10, max_depth=12, subsample=0.60, colsample_bytree=1.00 | Best RMSE: 324.8573\n",
      "Dataset: S8760 | Params: eta=0.20, max_depth=12, subsample=0.60, colsample_bytree=1.00 | Best RMSE: 335.6065\n",
      "Dataset: S8760 | Params: eta=0.50, max_depth=12, subsample=0.60, colsample_bytree=1.00 | Best RMSE: 372.3073\n",
      "Dataset: S8760 | Params: eta=0.10, max_depth=15, subsample=0.60, colsample_bytree=1.00 | Best RMSE: 318.7921\n",
      "Dataset: S8760 | Params: eta=0.20, max_depth=15, subsample=0.60, colsample_bytree=1.00 | Best RMSE: 332.5416\n",
      "Dataset: S8760 | Params: eta=0.50, max_depth=15, subsample=0.60, colsample_bytree=1.00 | Best RMSE: 310.9711\n",
      "Dataset: S8760 | Params: eta=0.10, max_depth=9, subsample=0.80, colsample_bytree=1.00 | Best RMSE: 325.0752\n",
      "Dataset: S8760 | Params: eta=0.20, max_depth=9, subsample=0.80, colsample_bytree=1.00 | Best RMSE: 320.0670\n",
      "Dataset: S8760 | Params: eta=0.50, max_depth=9, subsample=0.80, colsample_bytree=1.00 | Best RMSE: 316.1142\n",
      "Dataset: S8760 | Params: eta=0.10, max_depth=12, subsample=0.80, colsample_bytree=1.00 | Best RMSE: 355.7334\n",
      "Dataset: S8760 | Params: eta=0.20, max_depth=12, subsample=0.80, colsample_bytree=1.00 | Best RMSE: 309.7642\n",
      "Dataset: S8760 | Params: eta=0.50, max_depth=12, subsample=0.80, colsample_bytree=1.00 | Best RMSE: 312.7562\n",
      "Dataset: S8760 | Params: eta=0.10, max_depth=15, subsample=0.80, colsample_bytree=1.00 | Best RMSE: 321.2870\n",
      "Dataset: S8760 | Params: eta=0.20, max_depth=15, subsample=0.80, colsample_bytree=1.00 | Best RMSE: 344.7805\n",
      "Dataset: S8760 | Params: eta=0.50, max_depth=15, subsample=0.80, colsample_bytree=1.00 | Best RMSE: 350.0878\n",
      "Dataset: S8760 | Params: eta=0.10, max_depth=9, subsample=1.00, colsample_bytree=1.00 | Best RMSE: 295.9399\n",
      "Dataset: S8760 | Params: eta=0.20, max_depth=9, subsample=1.00, colsample_bytree=1.00 | Best RMSE: 317.5582\n",
      "Dataset: S8760 | Params: eta=0.50, max_depth=9, subsample=1.00, colsample_bytree=1.00 | Best RMSE: 337.6984\n",
      "Dataset: S8760 | Params: eta=0.10, max_depth=12, subsample=1.00, colsample_bytree=1.00 | Best RMSE: 336.5198\n",
      "Dataset: S8760 | Params: eta=0.20, max_depth=12, subsample=1.00, colsample_bytree=1.00 | Best RMSE: 293.3213\n",
      "Dataset: S8760 | Params: eta=0.50, max_depth=12, subsample=1.00, colsample_bytree=1.00 | Best RMSE: 310.8759\n",
      "Dataset: S8760 | Params: eta=0.10, max_depth=15, subsample=1.00, colsample_bytree=1.00 | Best RMSE: 346.2314\n",
      "Dataset: S8760 | Params: eta=0.20, max_depth=15, subsample=1.00, colsample_bytree=1.00 | Best RMSE: 328.3824\n",
      "Dataset: S8760 | Params: eta=0.50, max_depth=15, subsample=1.00, colsample_bytree=1.00 | Best RMSE: 320.6819\n",
      "Tuning for dataset: R_t \n",
      "Dataset: R_t | Params: eta=0.10, max_depth=9, subsample=0.60, colsample_bytree=0.60 | Best RMSE: 269.8505\n",
      "New best RMSE for R_t: 269.8505\n",
      "Dataset: R_t | Params: eta=0.20, max_depth=9, subsample=0.60, colsample_bytree=0.60 | Best RMSE: 345.6406\n",
      "Dataset: R_t | Params: eta=0.50, max_depth=9, subsample=0.60, colsample_bytree=0.60 | Best RMSE: 296.9320\n",
      "Dataset: R_t | Params: eta=0.10, max_depth=12, subsample=0.60, colsample_bytree=0.60 | Best RMSE: 278.0691\n",
      "Dataset: R_t | Params: eta=0.20, max_depth=12, subsample=0.60, colsample_bytree=0.60 | Best RMSE: 306.9799\n",
      "Dataset: R_t | Params: eta=0.50, max_depth=12, subsample=0.60, colsample_bytree=0.60 | Best RMSE: 330.1943\n",
      "Dataset: R_t | Params: eta=0.10, max_depth=15, subsample=0.60, colsample_bytree=0.60 | Best RMSE: 314.3565\n",
      "Dataset: R_t | Params: eta=0.20, max_depth=15, subsample=0.60, colsample_bytree=0.60 | Best RMSE: 368.0220\n",
      "Dataset: R_t | Params: eta=0.50, max_depth=15, subsample=0.60, colsample_bytree=0.60 | Best RMSE: 450.8854\n",
      "Dataset: R_t | Params: eta=0.10, max_depth=9, subsample=0.80, colsample_bytree=0.60 | Best RMSE: 377.2562\n",
      "Dataset: R_t | Params: eta=0.20, max_depth=9, subsample=0.80, colsample_bytree=0.60 | Best RMSE: 288.0318\n",
      "Dataset: R_t | Params: eta=0.50, max_depth=9, subsample=0.80, colsample_bytree=0.60 | Best RMSE: 363.5943\n",
      "Dataset: R_t | Params: eta=0.10, max_depth=12, subsample=0.80, colsample_bytree=0.60 | Best RMSE: 266.4583\n",
      "New best RMSE for R_t: 266.4583\n",
      "Dataset: R_t | Params: eta=0.20, max_depth=12, subsample=0.80, colsample_bytree=0.60 | Best RMSE: 294.2624\n",
      "Dataset: R_t | Params: eta=0.50, max_depth=12, subsample=0.80, colsample_bytree=0.60 | Best RMSE: 337.8304\n",
      "Dataset: R_t | Params: eta=0.10, max_depth=15, subsample=0.80, colsample_bytree=0.60 | Best RMSE: 363.8707\n",
      "Dataset: R_t | Params: eta=0.20, max_depth=15, subsample=0.80, colsample_bytree=0.60 | Best RMSE: 380.8203\n",
      "Dataset: R_t | Params: eta=0.50, max_depth=15, subsample=0.80, colsample_bytree=0.60 | Best RMSE: 448.2808\n",
      "Dataset: R_t | Params: eta=0.10, max_depth=9, subsample=1.00, colsample_bytree=0.60 | Best RMSE: 288.3937\n",
      "Dataset: R_t | Params: eta=0.20, max_depth=9, subsample=1.00, colsample_bytree=0.60 | Best RMSE: 297.5534\n",
      "Dataset: R_t | Params: eta=0.50, max_depth=9, subsample=1.00, colsample_bytree=0.60 | Best RMSE: 315.5427\n",
      "Dataset: R_t | Params: eta=0.10, max_depth=12, subsample=1.00, colsample_bytree=0.60 | Best RMSE: 290.6889\n",
      "Dataset: R_t | Params: eta=0.20, max_depth=12, subsample=1.00, colsample_bytree=0.60 | Best RMSE: 311.7148\n",
      "Dataset: R_t | Params: eta=0.50, max_depth=12, subsample=1.00, colsample_bytree=0.60 | Best RMSE: 344.4552\n",
      "Dataset: R_t | Params: eta=0.10, max_depth=15, subsample=1.00, colsample_bytree=0.60 | Best RMSE: 352.0579\n",
      "Dataset: R_t | Params: eta=0.20, max_depth=15, subsample=1.00, colsample_bytree=0.60 | Best RMSE: 316.4975\n",
      "Dataset: R_t | Params: eta=0.50, max_depth=15, subsample=1.00, colsample_bytree=0.60 | Best RMSE: 350.8533\n",
      "Dataset: R_t | Params: eta=0.10, max_depth=9, subsample=0.60, colsample_bytree=0.80 | Best RMSE: 275.1358\n",
      "Dataset: R_t | Params: eta=0.20, max_depth=9, subsample=0.60, colsample_bytree=0.80 | Best RMSE: 296.0743\n",
      "Dataset: R_t | Params: eta=0.50, max_depth=9, subsample=0.60, colsample_bytree=0.80 | Best RMSE: 368.0187\n",
      "Dataset: R_t | Params: eta=0.10, max_depth=12, subsample=0.60, colsample_bytree=0.80 | Best RMSE: 291.3770\n",
      "Dataset: R_t | Params: eta=0.20, max_depth=12, subsample=0.60, colsample_bytree=0.80 | Best RMSE: 299.4069\n",
      "Dataset: R_t | Params: eta=0.50, max_depth=12, subsample=0.60, colsample_bytree=0.80 | Best RMSE: 469.5460\n",
      "Dataset: R_t | Params: eta=0.10, max_depth=15, subsample=0.60, colsample_bytree=0.80 | Best RMSE: 310.8319\n",
      "Dataset: R_t | Params: eta=0.20, max_depth=15, subsample=0.60, colsample_bytree=0.80 | Best RMSE: 315.8495\n",
      "Dataset: R_t | Params: eta=0.50, max_depth=15, subsample=0.60, colsample_bytree=0.80 | Best RMSE: 380.0010\n",
      "Dataset: R_t | Params: eta=0.10, max_depth=9, subsample=0.80, colsample_bytree=0.80 | Best RMSE: 340.0435\n",
      "Dataset: R_t | Params: eta=0.20, max_depth=9, subsample=0.80, colsample_bytree=0.80 | Best RMSE: 298.8887\n",
      "Dataset: R_t | Params: eta=0.50, max_depth=9, subsample=0.80, colsample_bytree=0.80 | Best RMSE: 302.3896\n",
      "Dataset: R_t | Params: eta=0.10, max_depth=12, subsample=0.80, colsample_bytree=0.80 | Best RMSE: 338.8491\n",
      "Dataset: R_t | Params: eta=0.20, max_depth=12, subsample=0.80, colsample_bytree=0.80 | Best RMSE: 315.3701\n",
      "Dataset: R_t | Params: eta=0.50, max_depth=12, subsample=0.80, colsample_bytree=0.80 | Best RMSE: 310.3417\n",
      "Dataset: R_t | Params: eta=0.10, max_depth=15, subsample=0.80, colsample_bytree=0.80 | Best RMSE: 320.4263\n",
      "Dataset: R_t | Params: eta=0.20, max_depth=15, subsample=0.80, colsample_bytree=0.80 | Best RMSE: 308.1139\n",
      "Dataset: R_t | Params: eta=0.50, max_depth=15, subsample=0.80, colsample_bytree=0.80 | Best RMSE: 290.4072\n",
      "Dataset: R_t | Params: eta=0.10, max_depth=9, subsample=1.00, colsample_bytree=0.80 | Best RMSE: 296.1419\n",
      "Dataset: R_t | Params: eta=0.20, max_depth=9, subsample=1.00, colsample_bytree=0.80 | Best RMSE: 287.3586\n",
      "Dataset: R_t | Params: eta=0.50, max_depth=9, subsample=1.00, colsample_bytree=0.80 | Best RMSE: 285.8670\n",
      "Dataset: R_t | Params: eta=0.10, max_depth=12, subsample=1.00, colsample_bytree=0.80 | Best RMSE: 324.3692\n",
      "Dataset: R_t | Params: eta=0.20, max_depth=12, subsample=1.00, colsample_bytree=0.80 | Best RMSE: 362.1737\n",
      "Dataset: R_t | Params: eta=0.50, max_depth=12, subsample=1.00, colsample_bytree=0.80 | Best RMSE: 336.4380\n",
      "Dataset: R_t | Params: eta=0.10, max_depth=15, subsample=1.00, colsample_bytree=0.80 | Best RMSE: 296.6520\n",
      "Dataset: R_t | Params: eta=0.20, max_depth=15, subsample=1.00, colsample_bytree=0.80 | Best RMSE: 312.9181\n",
      "Dataset: R_t | Params: eta=0.50, max_depth=15, subsample=1.00, colsample_bytree=0.80 | Best RMSE: 385.9274\n",
      "Dataset: R_t | Params: eta=0.10, max_depth=9, subsample=0.60, colsample_bytree=1.00 | Best RMSE: 320.7106\n",
      "Dataset: R_t | Params: eta=0.20, max_depth=9, subsample=0.60, colsample_bytree=1.00 | Best RMSE: 335.5532\n",
      "Dataset: R_t | Params: eta=0.50, max_depth=9, subsample=0.60, colsample_bytree=1.00 | Best RMSE: 335.7368\n",
      "Dataset: R_t | Params: eta=0.10, max_depth=12, subsample=0.60, colsample_bytree=1.00 | Best RMSE: 304.3930\n",
      "Dataset: R_t | Params: eta=0.20, max_depth=12, subsample=0.60, colsample_bytree=1.00 | Best RMSE: 325.9948\n",
      "Dataset: R_t | Params: eta=0.50, max_depth=12, subsample=0.60, colsample_bytree=1.00 | Best RMSE: 321.2046\n",
      "Dataset: R_t | Params: eta=0.10, max_depth=15, subsample=0.60, colsample_bytree=1.00 | Best RMSE: 315.4221\n",
      "Dataset: R_t | Params: eta=0.20, max_depth=15, subsample=0.60, colsample_bytree=1.00 | Best RMSE: 316.1151\n",
      "Dataset: R_t | Params: eta=0.50, max_depth=15, subsample=0.60, colsample_bytree=1.00 | Best RMSE: 294.8053\n",
      "Dataset: R_t | Params: eta=0.10, max_depth=9, subsample=0.80, colsample_bytree=1.00 | Best RMSE: 360.1052\n",
      "Dataset: R_t | Params: eta=0.20, max_depth=9, subsample=0.80, colsample_bytree=1.00 | Best RMSE: 301.6717\n",
      "Dataset: R_t | Params: eta=0.50, max_depth=9, subsample=0.80, colsample_bytree=1.00 | Best RMSE: 366.4407\n",
      "Dataset: R_t | Params: eta=0.10, max_depth=12, subsample=0.80, colsample_bytree=1.00 | Best RMSE: 299.7140\n",
      "Dataset: R_t | Params: eta=0.20, max_depth=12, subsample=0.80, colsample_bytree=1.00 | Best RMSE: 304.9002\n",
      "Dataset: R_t | Params: eta=0.50, max_depth=12, subsample=0.80, colsample_bytree=1.00 | Best RMSE: 367.1596\n",
      "Dataset: R_t | Params: eta=0.10, max_depth=15, subsample=0.80, colsample_bytree=1.00 | Best RMSE: 331.8822\n",
      "Dataset: R_t | Params: eta=0.20, max_depth=15, subsample=0.80, colsample_bytree=1.00 | Best RMSE: 346.7172\n",
      "Dataset: R_t | Params: eta=0.50, max_depth=15, subsample=0.80, colsample_bytree=1.00 | Best RMSE: 298.2016\n",
      "Dataset: R_t | Params: eta=0.10, max_depth=9, subsample=1.00, colsample_bytree=1.00 | Best RMSE: 295.9399\n",
      "Dataset: R_t | Params: eta=0.20, max_depth=9, subsample=1.00, colsample_bytree=1.00 | Best RMSE: 317.5582\n",
      "Dataset: R_t | Params: eta=0.50, max_depth=9, subsample=1.00, colsample_bytree=1.00 | Best RMSE: 337.6984\n",
      "Dataset: R_t | Params: eta=0.10, max_depth=12, subsample=1.00, colsample_bytree=1.00 | Best RMSE: 336.5198\n",
      "Dataset: R_t | Params: eta=0.20, max_depth=12, subsample=1.00, colsample_bytree=1.00 | Best RMSE: 293.3213\n",
      "Dataset: R_t | Params: eta=0.50, max_depth=12, subsample=1.00, colsample_bytree=1.00 | Best RMSE: 310.8759\n",
      "Dataset: R_t | Params: eta=0.10, max_depth=15, subsample=1.00, colsample_bytree=1.00 | Best RMSE: 346.2314\n",
      "Dataset: R_t | Params: eta=0.20, max_depth=15, subsample=1.00, colsample_bytree=1.00 | Best RMSE: 328.3824\n",
      "Dataset: R_t | Params: eta=0.50, max_depth=15, subsample=1.00, colsample_bytree=1.00 | Best RMSE: 320.6819\n",
      "\n",
      "Tuning complete. Best parameters and RMSE for each dataset:\n",
      "Dataset: Y_t | Best RMSE: 419.0175 | Best Params: objective=reg:squarederror, eta=0.2, max_depth=9, subsample=0.6, colsample_bytree=0.6\n",
      "Dataset: T_t | Best RMSE: 16.2841 | Best Params: objective=reg:squarederror, eta=0.5, max_depth=15, subsample=1, colsample_bytree=0.6\n",
      "Dataset: S24 | Best RMSE: 40.4763 | Best Params: objective=reg:squarederror, eta=0.1, max_depth=15, subsample=0.8, colsample_bytree=1\n",
      "Dataset: S168 | Best RMSE: 3.7783 | Best Params: objective=reg:squarederror, eta=0.5, max_depth=15, subsample=1, colsample_bytree=1\n",
      "Dataset: S8760 | Best RMSE: 242.2005 | Best Params: objective=reg:squarederror, eta=0.1, max_depth=9, subsample=0.6, colsample_bytree=0.6\n",
      "Dataset: R_t | Best RMSE: 266.4583 | Best Params: objective=reg:squarederror, eta=0.1, max_depth=12, subsample=0.8, colsample_bytree=0.6\n"
     ]
    }
   ],
   "source": [
    "# Initialize lists to store best parameters and RMSE for each dataset\n",
    "best_params <- list(Y_t = NULL, T_t = NULL, S24 = NULL, S168 = NULL, S8760 = NULL, R_t = NULL)\n",
    "best_rmse <-   list(Y_t = Inf,  T_t = Inf,  S24 = Inf,  S168 = Inf,  S8760 = Inf,  R_t = Inf)\n",
    "\n",
    "# Define datasets and watchlists\n",
    "datasets <- list(Y_t = list(dtrain = dtrain_Y_t, watchlist = watchlist_Y_t),\n",
    "                 T_t = list(dtrain = dtrain_T_t, watchlist = watchlist_T_t),\n",
    "                 S24 = list(dtrain = dtrain_S24, watchlist = watchlist_S24),\n",
    "                 S168 = list(dtrain = dtrain_S168, watchlist = watchlist_S168),\n",
    "                 S8760 = list(dtrain = dtrain_S8760, watchlist = watchlist_S8760),\n",
    "                 R_t = list(dtrain = dtrain_R_t, watchlist = watchlist_R_t))\n",
    "\n",
    "# Start tuning for each dataset\n",
    "for (dataset_name in names(datasets)) {\n",
    "  cat(\"Tuning for dataset:\", dataset_name, \"\\n\")\n",
    "  flush.console()  # Flush the output buffer\n",
    "  dataset <- datasets[[dataset_name]]\n",
    "  \n",
    "  for (i in 1:nrow(tune_grid)) {\n",
    "    params <- list(\n",
    "      objective = \"reg:squarederror\",\n",
    "      eta = tune_grid$eta[i],\n",
    "      max_depth = tune_grid$max_depth[i],\n",
    "      subsample = tune_grid$subsample[i],\n",
    "      colsample_bytree = tune_grid$colsample_bytree[i]\n",
    "    )\n",
    "    \n",
    "    xgb_model <- xgb.train(\n",
    "      params = params,\n",
    "      data = dataset$dtrain,\n",
    "      nrounds = nrounds,\n",
    "      watchlist = dataset$watchlist,\n",
    "      early_stopping_rounds = 5,\n",
    "      verbose = 0\n",
    "    )\n",
    "    \n",
    "    # Output progress for the current parameter set\n",
    "    cat(sprintf(\n",
    "      \"Dataset: %s | Params: eta=%.2f, max_depth=%d, subsample=%.2f, colsample_bytree=%.2f | Best RMSE: %.4f\\n\",\n",
    "      dataset_name,\n",
    "      params$eta,\n",
    "      params$max_depth,\n",
    "      params$subsample,\n",
    "      params$colsample_bytree,\n",
    "      xgb_model$best_score\n",
    "    ))\n",
    "    flush.console()  # Flush the output buffer\n",
    "    \n",
    "    # Update the best parameters and RMSE if a better score is found\n",
    "    if (xgb_model$best_score < best_rmse[[dataset_name]]) {\n",
    "      best_rmse[[dataset_name]] <- xgb_model$best_score\n",
    "      best_params[[dataset_name]] <- params\n",
    "      cat(sprintf(\"New best RMSE for %s: %.4f\\n\", dataset_name, xgb_model$best_score))\n",
    "      flush.console()  # Flush the output buffer\n",
    "    }\n",
    "  }\n",
    "}\n",
    "\n",
    "# Final results\n",
    "cat(\"\\nTuning complete. Best parameters and RMSE for each dataset:\\n\")\n",
    "for (dataset_name in names(datasets)) {\n",
    "  cat(sprintf(\n",
    "    \"Dataset: %s | Best RMSE: %.4f | Best Params: %s\\n\",\n",
    "    dataset_name,\n",
    "    best_rmse[[dataset_name]],\n",
    "    paste(names(best_params[[dataset_name]]), best_params[[dataset_name]], sep = \"=\", collapse = \", \")\n",
    "  ))\n",
    "}\n",
    "flush.console()  # Ensure final output is displayed\n"
   ]
  },
  {
   "cell_type": "markdown",
   "id": "5bbc692e",
   "metadata": {},
   "source": [
    "### <a id='toc1_5_1_'></a>[Fitting](#toc0_)"
   ]
  },
  {
   "cell_type": "code",
   "execution_count": 24,
   "id": "a4b4810d",
   "metadata": {
    "vscode": {
     "languageId": "r"
    }
   },
   "outputs": [
    {
     "name": "stdout",
     "output_type": "stream",
     "text": [
      "Processing dataset: Y_t\n",
      "Processing dataset: T_t\n",
      "Processing dataset: S24\n",
      "Processing dataset: S168\n",
      "Processing dataset: S8760\n",
      "Processing dataset: R_t\n"
     ]
    }
   ],
   "source": [
    "library(doParallel)\n",
    "library(xgboost)\n",
    "\n",
    "# Setup parallel backend\n",
    "no_cores <- detectCores() - 1\n",
    "cl <- makeCluster(no_cores)\n",
    "registerDoParallel(cl)\n",
    "\n",
    "# Define datasets\n",
    "datasets <- list(Y_t = list(T_t = Y_t, best_params = best_params$Y_t),\n",
    "                 T_t = list(T_t = T_t, best_params = best_params$T_t),\n",
    "                 S24 = list(T_t = S_24_t, best_params = best_params$S24),\n",
    "                 S168 = list(T_t = S_168_t, best_params = best_params$S168),\n",
    "                 S8760 = list(T_t = S_8760_t, best_params = best_params$S8760),\n",
    "                 R_t = list(T_t = R_t, best_params = best_params$R_t))\n",
    "\n",
    "results <- list()\n",
    "\n",
    "# Iterate over datasets\n",
    "for (dataset_name in names(datasets)) {\n",
    "  dataset <- datasets[[dataset_name]]\n",
    "  cat(sprintf(\"Processing dataset: %s\\n\", dataset_name))\n",
    "  flush.console()\n",
    "  \n",
    "  T_t <- dataset$T_t\n",
    "  best_params <- dataset$best_params\n",
    "  \n",
    "  # Run foreach in parallel\n",
    "  dataset_results <- foreach(j = seq(1, nrow(X_t) - train_size, by = num_timesteps), \n",
    "                              .combine = 'c', \n",
    "                              .packages = 'xgboost') %dopar% {\n",
    "    start_index <- j\n",
    "    end_index <- j + train_size - 1\n",
    "    \n",
    "    train_X_t <- X_t[start_index:end_index, ]\n",
    "    train_T_t <- T_t[start_index:end_index]\n",
    "    \n",
    "    dtrain <- xgb.DMatrix(data = train_X_t, label = train_T_t)\n",
    "    \n",
    "    xgb_model <- xgb.train(params = best_params, data = dtrain, nrounds = nrounds)\n",
    "    \n",
    "    test_start_index <- end_index + 1\n",
    "    test_end_index <- min(end_index + num_timesteps, total_size)\n",
    "    test_X_t <- X_t[test_start_index:test_end_index, , drop = FALSE]\n",
    "    dtest <- xgb.DMatrix(data = test_X_t)\n",
    "    \n",
    "    test_predictions <- predict(xgb_model, newdata = dtest)\n",
    "    \n",
    "    num_predictions_to_return <- min(num_timesteps, total_size - test_start_index + 1)\n",
    "    return(test_predictions[1:num_predictions_to_return])\n",
    "  }\n",
    "  \n",
    "  # Store results\n",
    "  results[[dataset_name]] <- unlist(dataset_results)\n",
    "}\n",
    "\n",
    "# Stop the cluster\n",
    "stopCluster(cl)\n",
    "\n",
    "# Assign results to respective variables\n",
    "Y_hat_t <- results$Y_t\n",
    "T_hat_t <- results$T_t\n",
    "S24_hat_t <- results$S24\n",
    "S168_hat_t <- results$S168\n",
    "S8760_hat_t <- results$S8760\n",
    "R_hat_t <- results$R_t"
   ]
  },
  {
   "cell_type": "markdown",
   "metadata": {},
   "source": [
    "### <a id='toc1_5_2_'></a>[Calculating metrics](#toc0_)"
   ]
  },
  {
   "cell_type": "code",
   "execution_count": 36,
   "id": "20064dbd-4bff-4809-b11c-a9b9c0bef093",
   "metadata": {
    "vscode": {
     "languageId": "r"
    }
   },
   "outputs": [
    {
     "data": {
      "text/html": [
       "<table border='1' style='border-collapse:collapse;'><thead><tr><th>MAE</th><th>RMSE</th><th>MAPE</th><th>R_squared</th></tr></thead><tbody><tr><td>319.071932488911</td><td>411.772346008925</td><td>8.05874796877457</td><td>0.713049515344929</td></tr></tbody></table>"
      ]
     },
     "metadata": {},
     "output_type": "display_data"
    },
    {
     "data": {
      "text/html": [
       "<table border='1' style='border-collapse:collapse;'><thead><tr><th>MAE</th><th>RMSE</th><th>MAPE</th><th>R_squared</th></tr></thead><tbody><tr><td>108.66710215922</td><td>133.889791734347</td><td>2.72018846957099</td><td>0.0147877797340791</td></tr></tbody></table>"
      ]
     },
     "metadata": {},
     "output_type": "display_data"
    },
    {
     "data": {
      "text/html": [
       "<table border='1' style='border-collapse:collapse;'><thead><tr><th>MAE</th><th>RMSE</th><th>MAPE</th><th>R_squared</th></tr></thead><tbody><tr><td>49.4079348682937</td><td>66.7343123773967</td><td>54.8254268835378</td><td>0.994544251118731</td></tr></tbody></table>"
      ]
     },
     "metadata": {},
     "output_type": "display_data"
    },
    {
     "data": {
      "text/html": [
       "<table border='1' style='border-collapse:collapse;'><thead><tr><th>MAE</th><th>RMSE</th><th>MAPE</th><th>R_squared</th></tr></thead><tbody><tr><td>2.19784006056682</td><td>3.26948910948391</td><td>6.23875887692538</td><td>0.999951979729331</td></tr></tbody></table>"
      ]
     },
     "metadata": {},
     "output_type": "display_data"
    },
    {
     "data": {
      "text/html": [
       "<table border='1' style='border-collapse:collapse;'><thead><tr><th>MAE</th><th>RMSE</th><th>MAPE</th><th>R_squared</th></tr></thead><tbody><tr><td>180.9804677069</td><td>235.323025752907</td><td>88.3919279050792</td><td>0.966931476560892</td></tr></tbody></table>"
      ]
     },
     "metadata": {},
     "output_type": "display_data"
    },
    {
     "data": {
      "text/html": [
       "<table border='1' style='border-collapse:collapse;'><thead><tr><th>MAE</th><th>RMSE</th><th>MAPE</th><th>R_squared</th></tr></thead><tbody><tr><td>198.920631839709</td><td>258.077126649087</td><td>103.664419680577</td><td>0.960251862343221</td></tr></tbody></table>"
      ]
     },
     "metadata": {},
     "output_type": "display_data"
    }
   ],
   "source": [
    "# Function to calculate and display metrics for multiple datasets\n",
    "results_metrics <- list()\n",
    "\n",
    "for (dataset_name in names(results)) {\n",
    "  T_t <- datasets[[dataset_name]]$T_t\n",
    "  T_hat_t <- results[[dataset_name]]\n",
    "  \n",
    "  # Calculate metrics\n",
    "  metrics <- calculate_metrics(tail(T_t, n = length(T_t) - train_size), T_hat_t, data)\n",
    "  results_metrics[[dataset_name]] <- metrics\n",
    "  \n",
    "  # Display metrics (use a custom function or print directly)\n",
    "  display_limited(metrics)\n",
    "}"
   ]
  },
  {
   "cell_type": "code",
   "execution_count": 30,
   "id": "422666ed",
   "metadata": {
    "vscode": {
     "languageId": "r"
    }
   },
   "outputs": [
    {
     "data": {
      "text/html": [
       "<table class=\"dataframe\">\n",
       "<caption>A data.table: 6 × 12</caption>\n",
       "<thead>\n",
       "\t<tr><th scope=col>HourDK</th><th scope=col>GrossConsumptionMWh</th><th scope=col>DayOfWeek</th><th scope=col>Hour</th><th scope=col>MonthOfYear</th><th scope=col>IsHoliday</th><th scope=col>humidity_past1h</th><th scope=col>temp_mean_past1h</th><th scope=col>wind_speed_past1h</th><th scope=col>Electric cars</th><th scope=col>Plug-in hybrid cars</th><th scope=col>EL_price</th></tr>\n",
       "\t<tr><th scope=col>&lt;dttm&gt;</th><th scope=col>&lt;dbl&gt;</th><th scope=col>&lt;chr&gt;</th><th scope=col>&lt;int&gt;</th><th scope=col>&lt;chr&gt;</th><th scope=col>&lt;int&gt;</th><th scope=col>&lt;dbl&gt;</th><th scope=col>&lt;dbl&gt;</th><th scope=col>&lt;dbl&gt;</th><th scope=col>&lt;dbl&gt;</th><th scope=col>&lt;dbl&gt;</th><th scope=col>&lt;dbl&gt;</th></tr>\n",
       "</thead>\n",
       "<tbody>\n",
       "\t<tr><td>2020-01-01 00:00:00</td><td>3331.347</td><td>Wednesday</td><td>0</td><td>January</td><td>1</td><td>83.91667</td><td>0.187500</td><td>4.916667</td><td> 0.016834586</td><td> 0.038498105</td><td>0.24965</td></tr>\n",
       "\t<tr><td>2020-01-01 01:00:00</td><td>3257.505</td><td>Wednesday</td><td>1</td><td>January</td><td>1</td><td>84.45902</td><td>2.295000</td><td>5.098246</td><td>-0.011555551</td><td>-0.020533610</td><td>0.23733</td></tr>\n",
       "\t<tr><td>2020-01-01 02:00:00</td><td>3161.866</td><td>Wednesday</td><td>2</td><td>January</td><td>1</td><td>84.01639</td><td>2.451667</td><td>5.159649</td><td> 0.002639032</td><td> 0.008968831</td><td>0.23583</td></tr>\n",
       "\t<tr><td>2020-01-01 03:00:00</td><td>3074.752</td><td>Wednesday</td><td>3</td><td>January</td><td>1</td><td>82.88525</td><td>2.671667</td><td>5.585965</td><td> 0.002639413</td><td> 0.008962805</td><td>0.23366</td></tr>\n",
       "\t<tr><td>2020-01-01 04:00:00</td><td>3009.696</td><td>Wednesday</td><td>4</td><td>January</td><td>1</td><td>81.75410</td><td>2.873333</td><td>5.877193</td><td> 0.002639819</td><td> 0.008956794</td><td>0.23045</td></tr>\n",
       "\t<tr><td>2020-01-01 05:00:00</td><td>3018.247</td><td>Wednesday</td><td>5</td><td>January</td><td>1</td><td>80.65574</td><td>3.073333</td><td>6.352632</td><td> 0.002640250</td><td> 0.008950795</td><td>0.22515</td></tr>\n",
       "</tbody>\n",
       "</table>\n"
      ],
      "text/latex": [
       "A data.table: 6 × 12\n",
       "\\begin{tabular}{llllllllllll}\n",
       " HourDK & GrossConsumptionMWh & DayOfWeek & Hour & MonthOfYear & IsHoliday & humidity\\_past1h & temp\\_mean\\_past1h & wind\\_speed\\_past1h & Electric cars & Plug-in hybrid cars & EL\\_price\\\\\n",
       " <dttm> & <dbl> & <chr> & <int> & <chr> & <int> & <dbl> & <dbl> & <dbl> & <dbl> & <dbl> & <dbl>\\\\\n",
       "\\hline\n",
       "\t 2020-01-01 00:00:00 & 3331.347 & Wednesday & 0 & January & 1 & 83.91667 & 0.187500 & 4.916667 &  0.016834586 &  0.038498105 & 0.24965\\\\\n",
       "\t 2020-01-01 01:00:00 & 3257.505 & Wednesday & 1 & January & 1 & 84.45902 & 2.295000 & 5.098246 & -0.011555551 & -0.020533610 & 0.23733\\\\\n",
       "\t 2020-01-01 02:00:00 & 3161.866 & Wednesday & 2 & January & 1 & 84.01639 & 2.451667 & 5.159649 &  0.002639032 &  0.008968831 & 0.23583\\\\\n",
       "\t 2020-01-01 03:00:00 & 3074.752 & Wednesday & 3 & January & 1 & 82.88525 & 2.671667 & 5.585965 &  0.002639413 &  0.008962805 & 0.23366\\\\\n",
       "\t 2020-01-01 04:00:00 & 3009.696 & Wednesday & 4 & January & 1 & 81.75410 & 2.873333 & 5.877193 &  0.002639819 &  0.008956794 & 0.23045\\\\\n",
       "\t 2020-01-01 05:00:00 & 3018.247 & Wednesday & 5 & January & 1 & 80.65574 & 3.073333 & 6.352632 &  0.002640250 &  0.008950795 & 0.22515\\\\\n",
       "\\end{tabular}\n"
      ],
      "text/markdown": [
       "\n",
       "A data.table: 6 × 12\n",
       "\n",
       "| HourDK &lt;dttm&gt; | GrossConsumptionMWh &lt;dbl&gt; | DayOfWeek &lt;chr&gt; | Hour &lt;int&gt; | MonthOfYear &lt;chr&gt; | IsHoliday &lt;int&gt; | humidity_past1h &lt;dbl&gt; | temp_mean_past1h &lt;dbl&gt; | wind_speed_past1h &lt;dbl&gt; | Electric cars &lt;dbl&gt; | Plug-in hybrid cars &lt;dbl&gt; | EL_price &lt;dbl&gt; |\n",
       "|---|---|---|---|---|---|---|---|---|---|---|---|\n",
       "| 2020-01-01 00:00:00 | 3331.347 | Wednesday | 0 | January | 1 | 83.91667 | 0.187500 | 4.916667 |  0.016834586 |  0.038498105 | 0.24965 |\n",
       "| 2020-01-01 01:00:00 | 3257.505 | Wednesday | 1 | January | 1 | 84.45902 | 2.295000 | 5.098246 | -0.011555551 | -0.020533610 | 0.23733 |\n",
       "| 2020-01-01 02:00:00 | 3161.866 | Wednesday | 2 | January | 1 | 84.01639 | 2.451667 | 5.159649 |  0.002639032 |  0.008968831 | 0.23583 |\n",
       "| 2020-01-01 03:00:00 | 3074.752 | Wednesday | 3 | January | 1 | 82.88525 | 2.671667 | 5.585965 |  0.002639413 |  0.008962805 | 0.23366 |\n",
       "| 2020-01-01 04:00:00 | 3009.696 | Wednesday | 4 | January | 1 | 81.75410 | 2.873333 | 5.877193 |  0.002639819 |  0.008956794 | 0.23045 |\n",
       "| 2020-01-01 05:00:00 | 3018.247 | Wednesday | 5 | January | 1 | 80.65574 | 3.073333 | 6.352632 |  0.002640250 |  0.008950795 | 0.22515 |\n",
       "\n"
      ],
      "text/plain": [
       "  HourDK              GrossConsumptionMWh DayOfWeek Hour MonthOfYear IsHoliday\n",
       "1 2020-01-01 00:00:00 3331.347            Wednesday 0    January     1        \n",
       "2 2020-01-01 01:00:00 3257.505            Wednesday 1    January     1        \n",
       "3 2020-01-01 02:00:00 3161.866            Wednesday 2    January     1        \n",
       "4 2020-01-01 03:00:00 3074.752            Wednesday 3    January     1        \n",
       "5 2020-01-01 04:00:00 3009.696            Wednesday 4    January     1        \n",
       "6 2020-01-01 05:00:00 3018.247            Wednesday 5    January     1        \n",
       "  humidity_past1h temp_mean_past1h wind_speed_past1h Electric cars\n",
       "1 83.91667        0.187500         4.916667           0.016834586 \n",
       "2 84.45902        2.295000         5.098246          -0.011555551 \n",
       "3 84.01639        2.451667         5.159649           0.002639032 \n",
       "4 82.88525        2.671667         5.585965           0.002639413 \n",
       "5 81.75410        2.873333         5.877193           0.002639819 \n",
       "6 80.65574        3.073333         6.352632           0.002640250 \n",
       "  Plug-in hybrid cars EL_price\n",
       "1  0.038498105        0.24965 \n",
       "2 -0.020533610        0.23733 \n",
       "3  0.008968831        0.23583 \n",
       "4  0.008962805        0.23366 \n",
       "5  0.008956794        0.23045 \n",
       "6  0.008950795        0.22515 "
      ]
     },
     "metadata": {},
     "output_type": "display_data"
    }
   ],
   "source": [
    "head(data)"
   ]
  },
  {
   "cell_type": "code",
   "execution_count": null,
   "id": "d098b440",
   "metadata": {
    "vscode": {
     "languageId": "r"
    }
   },
   "outputs": [
    {
     "name": "stderr",
     "output_type": "stream",
     "text": [
      "Warning message in T_t - R_hat_t:\n",
      "\"longer object length is not a multiple of shorter object length\"\n",
      "Warning message in T_t - R_hat_t:\n",
      "\"longer object length is not a multiple of shorter object length\"\n",
      "Warning message in T_t - R_hat_t:\n",
      "\"longer object length is not a multiple of shorter object length\"\n",
      "Warning message in T_t == R_hat_t:\n",
      "\"longer object length is not a multiple of shorter object length\"\n"
     ]
    },
    {
     "ename": "ERROR",
     "evalue": "Error in model.frame.default(formula = T_t ~ R_hat_t, drop.unused.levels = TRUE): variable lengths differ (found for 'R_hat_t')\n",
     "output_type": "error",
     "traceback": [
      "Error in model.frame.default(formula = T_t ~ R_hat_t, drop.unused.levels = TRUE): variable lengths differ (found for 'R_hat_t')\nTraceback:\n",
      "1. ifelse(all(T_t == R_hat_t), 1, summary(lm(T_t ~ R_hat_t))$r.squared)",
      "2. summary(lm(T_t ~ R_hat_t))",
      "3. lm(T_t ~ R_hat_t)",
      "4. eval(mf, parent.frame())",
      "5. eval(mf, parent.frame())",
      "6. stats::model.frame(formula = T_t ~ R_hat_t, drop.unused.levels = TRUE)",
      "7. model.frame.default(formula = T_t ~ R_hat_t, drop.unused.levels = TRUE)",
      "8. .handleSimpleError(function (cnd) \n . {\n .     watcher$capture_plot_and_output()\n .     cnd <- sanitize_call(cnd)\n .     watcher$push(cnd)\n .     switch(on_error, continue = invokeRestart(\"eval_continue\"), \n .         stop = invokeRestart(\"eval_stop\"), error = NULL)\n . }, \"variable lengths differ (found for 'R_hat_t')\", base::quote(model.frame.default(formula = T_t ~ \n .     R_hat_t, drop.unused.levels = TRUE)))"
     ]
    }
   ],
   "source": [
    "# Ensure all results have the same length\n",
    "num_timesteps <- length(results$Y_t)  # Use Y_t as reference\n",
    "\n",
    "# Create a matrix of all estimates except Y_t\n",
    "other_estimations <- do.call(cbind, results[names(results) != \"Y_t\"])\n",
    "\n",
    "# Compute the sum across all other datasets at each time step\n",
    "sum_other_estimations <- rowSums(other_estimations, na.rm = TRUE)\n",
    "\n",
    "# Ensure both Y_t and the sum have the same length\n",
    "Y_t_comparison <- tail(results$Y_t, num_timesteps - train_size)\n",
    "sum_other_comparison <- tail(sum_other_estimations, num_timesteps - train_size)\n",
    "\n",
    "# Compute metrics\n",
    "Y_hat_t_metrics <- calculate_metrics(tail(GrossConsumptionMWh, n = length(GrossConsumptionMWh) - train_size), Y_t_comparison, data)\n",
    "other_metrics   <- calculate_metrics(tail(GrossConsumptionMWh, n = length(GrossConsumptionMWh) - train_size), sum_other_comparison, data)\n",
    "\n",
    "display_limited(Y_hat_t_metrics)\n",
    "display_limited(other_metrics)\n"
   ]
  },
  {
   "cell_type": "code",
   "execution_count": 31,
   "id": "110a2279",
   "metadata": {
    "vscode": {
     "languageId": "r"
    }
   },
   "outputs": [
    {
     "ename": "ERROR",
     "evalue": "Error: objekt 'Y_hat_t_metrics' blev ikke fundet\n",
     "output_type": "error",
     "traceback": [
      "Error: objekt 'Y_hat_t_metrics' blev ikke fundet\nTraceback:\n",
      "1. nrow(dt)",
      "2. .handleSimpleError(function (cnd) \n . {\n .     watcher$capture_plot_and_output()\n .     cnd <- sanitize_call(cnd)\n .     watcher$push(cnd)\n .     switch(on_error, continue = invokeRestart(\"eval_continue\"), \n .         stop = invokeRestart(\"eval_stop\"), error = NULL)\n . }, \"objekt 'Y_hat_t_metrics' blev ikke fundet\", base::quote(eval(expr, \n .     envir)))"
     ]
    }
   ],
   "source": [
    "display_limited(Y_hat_t_metrics)"
   ]
  },
  {
   "cell_type": "code",
   "execution_count": null,
   "id": "4927801c",
   "metadata": {
    "vscode": {
     "languageId": "r"
    }
   },
   "outputs": [],
   "source": [
    "display_limited(other_metrics)"
   ]
  },
  {
   "cell_type": "code",
   "execution_count": 61,
   "id": "f24ba2d9-8134-4059-9598-3dcc35f970b2",
   "metadata": {
    "vscode": {
     "languageId": "r"
    }
   },
   "outputs": [
    {
     "data": {
      "image/png": "[encoded data removed]",
      "text/plain": [
       "plot without title"
      ]
     },
     "metadata": {
      "image/png": {
       "height": 420,
       "width": 420
      }
     },
     "output_type": "display_data"
    }
   ],
   "source": [
    "# Create a data frame for plotting\n",
    "plot_data <- data.frame(\n",
    "  Time = 1:length(T_test_XGB),  # Assuming sequential time indices\n",
    "  Actual = T_test_XGB,\n",
    "  Predicted = T_hat_t  # Your forecasted values\n",
    ")\n",
    "\n",
    "\n",
    "# Plot the actual vs. predicted values\n",
    "ggplot(plot_data, aes(x = Time)) +\n",
    "  geom_line(aes(y = Actual, color = \"Actual\"), size = 1) +\n",
    "  geom_line(aes(y = Predicted, color = \"Predicted\"), size = 1, linetype = \"dashed\") +\n",
    "  labs(title = \"Actual vs Forecasted Values\",\n",
    "       x = \"Time\",\n",
    "       y = \"Values\",\n",
    "       color = \"Legend\") +\n",
    "  theme_minimal() +\n",
    "  scale_color_manual(values = c(\"Actual\" = \"blue\", \"Predicted\" = \"red\"))"
   ]
  },
  {
   "cell_type": "code",
   "execution_count": 79,
   "id": "5e4b4582",
   "metadata": {
    "vscode": {
     "languageId": "r"
    }
   },
   "outputs": [
    {
     "name": "stdout",
     "output_type": "stream",
     "text": [
      "package 'patchwork' successfully unpacked and MD5 sums checked\n",
      "\n",
      "The downloaded binary packages are in\n",
      "\tC:\\Users\\madsh\\AppData\\Local\\Temp\\Rtmpsjay9t\\downloaded_packages\n"
     ]
    }
   ],
   "source": [
    "install.packages(\"patchwork\")"
   ]
  },
  {
   "cell_type": "code",
   "execution_count": 90,
   "id": "dfbbf954",
   "metadata": {
    "vscode": {
     "languageId": "r"
    }
   },
   "outputs": [
    {
     "data": {
      "image/png": "[encoded data removed]",
      "text/plain": [
       "plot without title"
      ]
     },
     "metadata": {
      "image/png": {
       "height": 420,
       "width": 420
      }
     },
     "output_type": "display_data"
    }
   ],
   "source": [
    "library(ggplot2)\n",
    "\n",
    "# Combine all datasets into one data frame for faceting\n",
    "combined_data <- do.call(rbind, lapply(names(results), function(dataset_name) {\n",
    "  T_t <- datasets[[dataset_name]]$T_t\n",
    "  T_hat_t <- results[[dataset_name]]\n",
    "  time_indices <- seq(length(T_t) - length(T_hat_t) + 1, length(T_t))\n",
    "  \n",
    "  # Downsample data to reduce overplotting (adjust as needed)\n",
    "  downsample_indices <- seq(1, length(time_indices), by = 10)\n",
    "  data.frame(\n",
    "    Time = time_indices[downsample_indices],\n",
    "    Actual = T_t[time_indices[downsample_indices]],\n",
    "    Predicted = T_hat_t[downsample_indices],\n",
    "    Dataset = dataset_name\n",
    "  )\n",
    "}))\n",
    "\n",
    "# Reshape for plotting\n",
    "library(tidyr)\n",
    "plot_data <- pivot_longer(combined_data, cols = c(\"Actual\", \"Predicted\"),\n",
    "                          names_to = \"Type\", values_to = \"Value\")\n",
    "\n",
    "# Plot with facets\n",
    "ggplot(plot_data, aes(x = Time, y = Value, color = Type)) +\n",
    "  geom_line(size = 0.8, alpha = 0.7) +\n",
    "  facet_wrap(~ Dataset, ncol = 1, scales = \"free_y\") +  # 3x1 layout with independent y-scales\n",
    "  labs(title = \"Actual vs Forecasted Values for All Datasets\",\n",
    "       x = \"Time\",\n",
    "       y = \"Values\",\n",
    "       color = \"Legend\") +\n",
    "  theme_minimal() +\n",
    "  scale_color_manual(values = c(\"Actual\" = \"blue\", \"Predicted\" = \"red\")) +\n",
    "  theme(strip.text = element_text(size = 14),  # Larger facet labels\n",
    "        plot.title = element_text(hjust = 0.5, size = 16),\n",
    "        legend.position = \"bottom\")\n"
   ]
  },
  {
   "cell_type": "code",
   "execution_count": 91,
   "id": "0351065c-7b90-4e3a-9721-6b49a0160de9",
   "metadata": {
    "vscode": {
     "languageId": "r"
    }
   },
   "outputs": [
    {
     "name": "stdout",
     "output_type": "stream",
     "text": [
      "Saved results for S24 to C:/Users/madsh/OneDrive/Dokumenter/kandidat/Fællesmappe/Forecasting-energy-consumption/Data/Results/Boosting/S_hat/S24_h=8784_steps_ahead=720_nrounds=100_train_size=8784_XGB_S_hat_t.csv\n",
      "Saved results for S168 to C:/Users/madsh/OneDrive/Dokumenter/kandidat/Fællesmappe/Forecasting-energy-consumption/Data/Results/Boosting/S_hat/S168_h=8784_steps_ahead=720_nrounds=100_train_size=8784_XGB_S_hat_t.csv\n",
      "Saved results for S8760 to C:/Users/madsh/OneDrive/Dokumenter/kandidat/Fællesmappe/Forecasting-energy-consumption/Data/Results/Boosting/S_hat/S8760_h=8784_steps_ahead=720_nrounds=100_train_size=8784_XGB_S_hat_t.csv\n"
     ]
    }
   ],
   "source": [
    "# Define the new folder path\n",
    "path_S <- \"C:/Users/madsh/OneDrive/Dokumenter/kandidat/Fællesmappe/Forecasting-energy-consumption/Data/Results/Boosting/S_hat\"\n",
    "\n",
    "# Loop through the results for each dataset and save them with unique names\n",
    "for (dataset_name in names(results)) {\n",
    "  # Generate the file name dynamically based on the dataset and parameters\n",
    "  file_name_S_hat <- file.path(\n",
    "    path_S,\n",
    "    paste0(\n",
    "      dataset_name,  # Add dataset name (e.g., S24, S168, S8760)\n",
    "      \"_h=\", h,\n",
    "      \"_steps_ahead=\", num_timesteps,\n",
    "      \"_nrounds=\", nrounds,\n",
    "      \"_train_size=\", train_size,\n",
    "      \"_XGB_S_hat_t.csv\"\n",
    "    )\n",
    "  )\n",
    "  \n",
    "  # Save the result as a CSV file\n",
    "  write.csv(results[[dataset_name]], file = file_name_S_hat, row.names = FALSE)\n",
    "  \n",
    "  # Print confirmation message\n",
    "  cat(sprintf(\"Saved results for %s to %s\\n\", dataset_name, file_name_S_hat))\n",
    "}"
   ]
  }
 ],
 "metadata": {
  "kernelspec": {
   "display_name": "R",
   "language": "R",
   "name": "ir"
  },
  "language_info": {
   "codemirror_mode": "r",
   "file_extension": ".r",
   "mimetype": "text/x-r-source",
   "name": "R",
   "pygments_lexer": "r",
   "version": "4.4.2"
  },
  "widgets": {
   "application/vnd.jupyter.widget-state+json": {
    "state": {},
    "version_major": 2,
    "version_minor": 0
   }
  }
 },
 "nbformat": 4,
 "nbformat_minor": 5
}

{
 "cells": [
  {
   "cell_type": "markdown",
   "id": "640822a8",
   "metadata": {},
   "source": [
    "# <a id='toc1_'></a>[Forecsting remainders with OLS](#toc0_)"
   ]
  },
  {
   "cell_type": "markdown",
   "id": "7b7f7352",
   "metadata": {},
   "source": [
    "## <a id='toc1_1_'></a>[Libraries](#toc0_)"
   ]
  },
  {
   "cell_type": "code",
   "execution_count": 2,
   "id": "519f780a-2bce-4585-839c-f32a0499a2ea",
   "metadata": {
    "vscode": {
     "languageId": "r"
    }
   },
   "outputs": [],
   "source": [
    "#install.packages(\"C:/Users/madsh/Downloads/path/to/withr_2.1.2.tar.gz\", repos = NULL, type = \"source\")\n",
    "\n",
    "#install.packages('forecast')\n",
    "#install.packages('doParallel')\n",
    "#install.packages('xgboost')\n",
    "\n",
    "library(tidyverse)\n",
    "library(forecast)\n",
    "library(ggplot2)\n",
    "library(dplyr)\n",
    "library(data.table)\n",
    "library(IRdisplay)\n",
    "\n",
    "library(foreach)\n",
    "library(doParallel)\n",
    "\n",
    "library(caret)\n",
    "library(randomForest)\n",
    "library(xgboost)\n"
   ]
  },
  {
   "cell_type": "markdown",
   "id": "392ab165",
   "metadata": {},
   "source": [
    "## <a id='toc1_2_'></a>[Custom functions](#toc0_)"
   ]
  },
  {
   "cell_type": "markdown",
   "id": "f3ff590f",
   "metadata": {},
   "source": [
    "### <a id='toc1_2_1_'></a>[Display tables](#toc0_)"
   ]
  },
  {
   "cell_type": "code",
   "execution_count": 3,
   "id": "325f4e66-3b04-472c-87bb-b858730d5bc9",
   "metadata": {
    "vscode": {
     "languageId": "r"
    }
   },
   "outputs": [],
   "source": [
    "# Custom display function for the first and last 5 rows or full table if <= 20 rows\n",
    "display_limited <- function(dt) {\n",
    "  n <- nrow(dt)\n",
    "  \n",
    "  # If there are 20 or fewer rows, display the full table\n",
    "  if (n <= 20) {\n",
    "    limited_dt <- dt\n",
    "  } else {\n",
    "    # Otherwise, concatenate the first 5 rows, '...' and the last 5 rows\n",
    "    limited_dt <- rbind(head(dt, 5), as.list(rep(\"...\", ncol(dt))), tail(dt, 5))\n",
    "  }\n",
    "  \n",
    "  # Generate raw HTML manually\n",
    "  html_output <- paste0(\n",
    "    \"<table border='1' style='border-collapse:collapse;'>\",\n",
    "    \"<thead><tr>\",\n",
    "    paste0(\"<th>\", colnames(limited_dt), \"</th>\", collapse = \"\"),\n",
    "    \"</tr></thead>\",\n",
    "    \"<tbody>\",\n",
    "    paste0(\n",
    "      apply(limited_dt, 1, function(row) {\n",
    "        paste0(\"<tr>\", paste0(\"<td>\", row, \"</td>\", collapse = \"\"), \"</tr>\")\n",
    "      }),\n",
    "      collapse = \"\"\n",
    "    ),\n",
    "    \"</tbody></table>\"\n",
    "  )\n",
    "  \n",
    "  # Display the HTML in the Jupyter notebook\n",
    "  display_html(html_output)\n",
    "}\n"
   ]
  },
  {
   "cell_type": "markdown",
   "id": "ae2bacdb",
   "metadata": {},
   "source": [
    "### <a id='toc1_2_2_'></a>[Calculate metrics](#toc0_)"
   ]
  },
  {
   "cell_type": "code",
   "execution_count": 4,
   "id": "7a627c37-9fc2-42b2-bbce-0e2946ff3356",
   "metadata": {
    "vscode": {
     "languageId": "r"
    }
   },
   "outputs": [],
   "source": [
    "calculate_metrics <- function(T_t, R_hat_t, individual) {\n",
    "  # Ensure the inputs are numeric vectors and individual is a dataframe\n",
    "  if (!is.numeric(T_t) || !is.numeric(R_hat_t)) {\n",
    "    stop(\"Both T_t and R_hat_t need to be numeric vectors.\")\n",
    "  }\n",
    "  \n",
    "  # Calculate metrics\n",
    "  mae <- mean(abs(T_t - R_hat_t), na.rm = TRUE)\n",
    "  rmse <- sqrt(mean((T_t - R_hat_t)^2, na.rm = TRUE))\n",
    "  mape <- mean(abs((T_t - R_hat_t) / T_t), na.rm = TRUE) * 100\n",
    "  r_squared <- ifelse(all(T_t == R_hat_t), 1, summary(lm(T_t ~ R_hat_t))$r.squared)\n",
    "  \n",
    "  # Create a data frame to hold the metrics and values\n",
    "  metrics_table <- data.frame(\n",
    "    MAE = mae,\n",
    "    RMSE = rmse,\n",
    "    MAPE = mape,\n",
    "    R_squared = r_squared\n",
    "  )\n",
    "  \n",
    "  # Return the metrics table\n",
    "  return(metrics_table)\n",
    "}"
   ]
  },
  {
   "cell_type": "markdown",
   "id": "57e3fabc",
   "metadata": {},
   "source": [
    "### <a id='toc1_2_3_'></a>[Data Preparation](#toc0_)"
   ]
  },
  {
   "cell_type": "code",
   "execution_count": 5,
   "id": "6815ed7f-b245-4147-b1c6-bce1af461fcf",
   "metadata": {
    "vscode": {
     "languageId": "r"
    }
   },
   "outputs": [],
   "source": [
    "prepare_X_t <- function(individual) {\n",
    "  # Ensure the input is a dataframe\n",
    "  if (!is.data.frame(individual)) {\n",
    "    stop(\"The input must be a dataframe.\")\n",
    "  }\n",
    "  \n",
    "  # Extract hour from start_time and create a 'time_of_day' column\n",
    "  individual$time_of_day <- format(as.POSIXct(individual$HourDK), \"%H:%M:%S\")\n",
    "  \n",
    "  # Exclude specified columns but keep 'time_of_day'\n",
    "  X_t <- subset(individual, select = -c(HourDK, GrossConsumptionMWh))\n",
    "  \n",
    "  # Convert month, weekday, and time_of_day to factors with a reference category\n",
    "  X_t$month <- relevel(as.factor(X_t$MonthOfYear), ref = \"December\")  # Set December as reference\n",
    "  X_t$weekday <- relevel(as.factor(X_t$DayOfWeek), ref = \"Sunday\")   # Set Sunday as reference \n",
    "  X_t$time_of_day <- relevel(as.factor(X_t$Hour), ref = \"0\")         # Set 23 (11 PM) as reference\n",
    "\n",
    "  # Remove original 'MonthOfYear', 'DayOfWeek', and 'Hour' columns to avoid duplication\n",
    "  X_t <- subset(X_t, select = -c(MonthOfYear, DayOfWeek, Hour))\n",
    "  \n",
    "  # Create dummy variables for all factor columns (excluding reference levels)\n",
    "  X_t <- model.matrix(~ . - 1, data = X_t)\n",
    "  \n",
    "  # Find the column indices for numerical columns AFTER creating dummy variables\n",
    "  num_cols <- grep(\"^(Electric cars|Plug-in hybrid cars|humidity_past1h|temp_mean_past1h|wind_speed_past1h|EL_price)\", colnames(X_t))\n",
    "  \n",
    "  # Standardize selected numerical columns\n",
    "  X_t[, num_cols] <- apply(X_t[, num_cols], 2, \n",
    "                           function(x) (x - min(x)) / (max(x) - min(x)))\n",
    "  \n",
    "  # Return the processed dataframe\n",
    "  return(as.data.frame(X_t))\n",
    "}\n"
   ]
  },
  {
   "cell_type": "markdown",
   "id": "9c01586a",
   "metadata": {},
   "source": [
    "### <a id='toc1_2_4_'></a>[Lag and Align data by \\\\(h\\\\) (horizon)](#toc0_)"
   ]
  },
  {
   "cell_type": "code",
   "execution_count": 6,
   "id": "93aacb7b-5ca4-407f-a2ac-14796524471b",
   "metadata": {
    "vscode": {
     "languageId": "r"
    }
   },
   "outputs": [],
   "source": [
    "lag_and_align_data <- function(X_t, R_t, h = 1) {\n",
    "  # Validate inputs\n",
    "  if (!is.numeric(R_t)) {\n",
    "    stop(\"R_t should be a numeric vector.\")\n",
    "  }\n",
    "  if (!is.data.frame(X_t) && !is.matrix(X_t)) {\n",
    "    stop(\"X_t should be a dataframe or a matrix.\")\n",
    "  }\n",
    "  if (!is.numeric(h) || h < 1) {\n",
    "    stop(\"h should be a positive integer.\")\n",
    "  }\n",
    "  \n",
    "  # Convert X_t to a dataframe if it's a matrix\n",
    "  if (is.matrix(X_t)) {\n",
    "    X_t <- as.data.frame(X_t)\n",
    "  }\n",
    "  \n",
    "  # Align R_t with the lagged X_t\n",
    "  # Shift R_t by h positions to align with X_t from the previous timestep\n",
    "  R_t_aligned <- R_t[(h + 1):length(R_t)]\n",
    "  \n",
    "  # Keep X_t up to the second to last row, so it aligns with the shifted R_t\n",
    "  X_t_aligned <- X_t[1:(nrow(X_t) - h), ]\n",
    "  \n",
    "  # Return the aligned datasets\n",
    "  list(X_t = X_t_aligned, R_t = R_t_aligned)\n",
    "}"
   ]
  },
  {
   "cell_type": "markdown",
   "id": "c7f5f3d8",
   "metadata": {},
   "source": [
    "### <a id='toc1_2_5_'></a>[Plot actual vs estimated](#toc0_)"
   ]
  },
  {
   "cell_type": "code",
   "execution_count": 7,
   "id": "90ab5703-740a-4d37-82ec-39d4f1473e95",
   "metadata": {
    "vscode": {
     "languageId": "r"
    }
   },
   "outputs": [],
   "source": [
    "plot_actual_vs_estimated <- function(R_t, R_hat_t, individual) {\n",
    "  # Validate input\n",
    "  if (!is.numeric(R_t) || !is.numeric(R_hat_t)) {\n",
    "    stop(\"R_t and R_hat_t should be numeric vectors.\")\n",
    "  }\n",
    "  if (!is.data.frame(individual)) {\n",
    "    stop(\"individual should be a dataframe.\")\n",
    "  }\n",
    "    \n",
    "  # Create the plot\n",
    "  plot(R_t, type = 'l', col = 'blue', xlab = \"Time\", ylab = \"Value\", \n",
    "       main = \"Actual vs. Estimated Time Series\\nelvarme: %s, zip_code: %s\")\n",
    "  lines(R_hat_t, type = 'l', col = 'red')\n",
    "  legend(\"topleft\", legend = c(\"Actual\", \"Estimated\"), col = c(\"blue\", \"red\"), lty = 1)\n",
    "}"
   ]
  },
  {
   "cell_type": "markdown",
   "id": "67a3aaba",
   "metadata": {},
   "source": [
    "## <a id='toc1_3_'></a>[Loading data](#toc0_)"
   ]
  },
  {
   "cell_type": "code",
   "execution_count": 8,
   "id": "a887b348-9bd6-412a-b4dd-1677d2dcabbd",
   "metadata": {
    "vscode": {
     "languageId": "r"
    }
   },
   "outputs": [],
   "source": [
    "##### Setting workign directory and loadign data #####\n",
    "base_path <- \"C:/Users/madsh/OneDrive/Dokumenter/kandidat/Fællesmappe/Forecasting-energy-consumption/Data Cleaning\"\n",
    "setwd(base_path)\n",
    "data <- fread(paste0(base_path,\"/Output_file.csv\"))\n",
    "MSTL <- fread(paste0(base_path,\"/MSTL_decomp_results.csv\"))"
   ]
  },
  {
   "cell_type": "markdown",
   "id": "5d60362e",
   "metadata": {
    "vscode": {
     "languageId": "r"
    }
   },
   "source": [
    "# Boosting"
   ]
  },
  {
   "cell_type": "markdown",
   "id": "cf046cf4",
   "metadata": {},
   "source": [
    "## <a id='toc1_4_'></a>[Parameters](#toc0_)"
   ]
  },
  {
   "cell_type": "code",
   "execution_count": 9,
   "id": "7ad7a4ce-dc86-43d0-adaf-110b174a6981",
   "metadata": {
    "vscode": {
     "languageId": "r"
    }
   },
   "outputs": [],
   "source": [
    "#train_size    <- 17544 #2 year training set\n",
    "train_size    <- 8784  #1 year training set\n",
    "num_timesteps <- 720\n",
    "h             <- 8784\n",
    "total_size    <- nrow(data)-h\n",
    "nrounds       <- 100\n",
    "set.seed(42) "
   ]
  },
  {
   "cell_type": "markdown",
   "id": "9b384cb1",
   "metadata": {},
   "source": [
    "### <a id='toc1_4_1_'></a>[Data preparation](#toc0_)"
   ]
  },
  {
   "cell_type": "code",
   "execution_count": 13,
   "id": "0eef4bba-349c-4a31-9fbb-1c75b0f640fd",
   "metadata": {
    "vscode": {
     "languageId": "r"
    }
   },
   "outputs": [],
   "source": [
    "individual <- data\n",
    "X_t <- prepare_X_t(as.data.frame(individual))\n",
    "Y_t <- as.matrix(MSTL$GrossConsumptionMWh, nrow = nrow(MSTL), ncol = 1)\n",
    "\n",
    "lag_and_align <- lag_and_align_data(X_t, Y_t, h = h)\n",
    "\n",
    "X_t <- as.matrix(lag_and_align$X_t)\n",
    "Y_t <- as.numeric(lag_and_align$R_t)"
   ]
  },
  {
   "cell_type": "markdown",
   "id": "84f49785",
   "metadata": {},
   "source": [
    "## <a id='toc1_5_'></a>[Hyper parameter tuning](#toc0_)"
   ]
  },
  {
   "cell_type": "code",
   "execution_count": 16,
   "id": "5a7633f3-c171-4c9e-b441-827262b6aa1a",
   "metadata": {
    "vscode": {
     "languageId": "r"
    }
   },
   "outputs": [
    {
     "name": "stdout",
     "output_type": "stream",
     "text": [
      "New best RMSE for %s: %.4f\n",
      " 1994.426New best RMSE for %s: %.4f\n",
      " 522.3292New best RMSE for %s: %.4f\n",
      " 438.3358New best RMSE for %s: %.4f\n",
      " 418.6268New best RMSE for %s: %.4f\n",
      " 403.1219"
     ]
    }
   ],
   "source": [
    "# Simple train-validation split for hyperparameter tuning\n",
    "train_index <- 1:train_size\n",
    "val_index <- (train_size + 1):(train_size + num_timesteps)\n",
    "\n",
    "dtrain <- xgb.DMatrix(data = X_t[train_index, ], label = Y_t[train_index])\n",
    "dval <- xgb.DMatrix(data = X_t[val_index, ], label = Y_t[val_index])\n",
    "\n",
    "watchlist <- list(train = dtrain, eval = dval)\n",
    "\n",
    "tune_grid <- expand.grid(\n",
    "  eta = c(0.01, 0.05, 0.1),\n",
    "  max_depth = c(3, 6, 9),\n",
    "  subsample = c(0.6, 0.8, 1.0),\n",
    "  colsample_bytree = c(0.6, 0.8, 1.0)\n",
    ")\n",
    "\n",
    "best_params <- NULL\n",
    "best_rmse <- Inf\n",
    "\n",
    "for (i in 1:nrow(tune_grid)) {\n",
    "  params <- list(\n",
    "    objective = \"reg:squarederror\",\n",
    "    eta = tune_grid$eta[i],\n",
    "    max_depth = tune_grid$max_depth[i],\n",
    "    subsample = tune_grid$subsample[i],\n",
    "    colsample_bytree = tune_grid$colsample_bytree[i]\n",
    "  )\n",
    "  \n",
    "  xgb_model <- xgb.train(\n",
    "    params = params,\n",
    "    data = dtrain,\n",
    "    nrounds = nrounds,\n",
    "    watchlist = watchlist,\n",
    "    early_stopping_rounds = 5,\n",
    "    verbose = 0\n",
    "  )\n",
    "  \n",
    "  if (xgb_model$best_score < best_rmse) {\n",
    "    best_rmse <- xgb_model$best_score\n",
    "    best_params <- params\n",
    "    cat(\" New best RMSE for %s: %.4f\", xgb_model$best_score)\n",
    "    flush.console()  # Flush the output buffer\n",
    "  }\n",
    "}"
   ]
  },
  {
   "cell_type": "markdown",
   "id": "5bbc692e",
   "metadata": {},
   "source": [
    "### <a id='toc1_5_1_'></a>[Fitting](#toc0_)"
   ]
  },
  {
   "cell_type": "code",
   "execution_count": 48,
   "id": "ebc26dd1",
   "metadata": {
    "vscode": {
     "languageId": "r"
    }
   },
   "outputs": [],
   "source": [
    "no_cores <- detectCores() - 1\n",
    "cl <- makeCluster(no_cores)\n",
    "registerDoParallel(cl)\n",
    "\n",
    "results <- foreach(j = seq(1, nrow(X_t) - train_size, by = num_timesteps), .combine = 'c', .packages = 'xgboost') %dopar% {\n",
    "  start_index <- j\n",
    "  end_index <- j + train_size - 1\n",
    "  \n",
    "  train_X_t <- X_t[start_index:end_index, ]\n",
    "  train_T_t <- Y_t[start_index:end_index]\n",
    "  \n",
    "  dtrain <- xgb.DMatrix(data = train_X_t, label = train_T_t)\n",
    "  \n",
    "  xgb_model <- xgb.train(params = best_params, data = dtrain, nrounds = nrounds)\n",
    "    \n",
    "  test_start_index <- end_index + 1\n",
    "  test_end_index <- min(end_index + num_timesteps, total_size)\n",
    "  test_X_t <- X_t[test_start_index:test_end_index, , drop = FALSE]\n",
    "  dtest <- xgb.DMatrix(data = test_X_t)\n",
    "  \n",
    "  test_predictions <- predict(xgb_model, newdata = dtest)\n",
    "  \n",
    "  num_predictions_to_return <- min(num_timesteps, total_size - test_start_index + 1)\n",
    "  return(test_predictions[1:num_predictions_to_return])\n",
    "}\n",
    "stopCluster(cl)\n",
    "\n",
    "Y_hat_t <- unlist(results)"
   ]
  },
  {
   "cell_type": "markdown",
   "metadata": {},
   "source": [
    "### <a id='toc1_5_2_'></a>[Calculating metrics](#toc0_)"
   ]
  },
  {
   "cell_type": "code",
   "execution_count": 49,
   "id": "7da04d2b",
   "metadata": {
    "vscode": {
     "languageId": "r"
    }
   },
   "outputs": [
    {
     "name": "stdout",
     "output_type": "stream",
     "text": [
      "Length of Y_t:  17520 \n",
      "Length of Y_hat_t:  8736 \n",
      "Train size:  8784 \n",
      "Test set size:  8736 \n"
     ]
    }
   ],
   "source": [
    "cat(\"Length of Y_t: \", length(Y_t), \"\\n\")\n",
    "cat(\"Length of Y_hat_t: \", length(Y_hat_t), \"\\n\")\n",
    "cat(\"Train size: \", train_size, \"\\n\")\n",
    "cat(\"Test set size: \", length(Y_t) - train_size, \"\\n\")"
   ]
  },
  {
   "cell_type": "code",
   "execution_count": 19,
   "id": "20064dbd-4bff-4809-b11c-a9b9c0bef093",
   "metadata": {
    "vscode": {
     "languageId": "r"
    }
   },
   "outputs": [
    {
     "data": {
      "text/html": [
       "<table border='1' style='border-collapse:collapse;'><thead><tr><th>MAE</th><th>RMSE</th><th>MAPE</th><th>R_squared</th></tr></thead><tbody><tr><td>327.366985612878</td><td>411.019009354554</td><td>8.40737492226303</td><td>0.723310598075264</td></tr></tbody></table>"
      ]
     },
     "metadata": {},
     "output_type": "display_data"
    }
   ],
   "source": [
    "individual_metrics_XGB <- calculate_metrics(tail(Y_t, n = length(Y_t) - train_size), Y_hat_t, data)\n",
    "display_limited(individual_metrics_XGB)"
   ]
  },
  {
   "cell_type": "code",
   "execution_count": 22,
   "id": "355d4fd2-da9c-4a07-8852-5b53a78e7c1b",
   "metadata": {
    "vscode": {
     "languageId": "r"
    }
   },
   "outputs": [
    {
     "data": {
      "text/html": [
       "8736"
      ],
      "text/latex": [
       "8736"
      ],
      "text/markdown": [
       "8736"
      ],
      "text/plain": [
       "[1] 8736"
      ]
     },
     "metadata": {},
     "output_type": "display_data"
    }
   ],
   "source": [
    "Y_test_XGB=Y_t[(train_size + 1):length(Y_t)]\n",
    "length(Y_test_XGB)"
   ]
  },
  {
   "cell_type": "code",
   "execution_count": 24,
   "id": "f24ba2d9-8134-4059-9598-3dcc35f970b2",
   "metadata": {
    "vscode": {
     "languageId": "r"
    }
   },
   "outputs": [
    {
     "name": "stderr",
     "output_type": "stream",
     "text": [
      "Warning message:\n",
      "\"\u001b[1m\u001b[22mUsing `size` aesthetic for lines was deprecated in ggplot2 3.4.0.\n",
      "\u001b[36mℹ\u001b[39m Please use `linewidth` instead.\"\n"
     ]
    },
    {
     "data": {
      "image/png": "[encoded data removed]",
      "text/plain": [
       "plot without title"
      ]
     },
     "metadata": {
      "image/png": {
       "height": 420,
       "width": 420
      }
     },
     "output_type": "display_data"
    }
   ],
   "source": [
    "# Create a data frame for plotting\n",
    "plot_data <- data.frame(\n",
    "  Time = 1:length(Y_test_XGB),  # Assuming sequential time indices\n",
    "  Actual = Y_test_XGB,\n",
    "  Predicted = Y_hat_t  # Your forecasted values\n",
    ")\n",
    "\n",
    "\n",
    "# Plot the actual vs. predicted values\n",
    "ggplot(plot_data, aes(x = Time)) +\n",
    "  geom_line(aes(y = Actual, color = \"Actual\"), size = 1) +\n",
    "  geom_line(aes(y = Predicted, color = \"Predicted\"), size = 1, linetype = \"dashed\") +\n",
    "  labs(title = \"Actual vs Forecasted Values\",\n",
    "       x = \"Time\",\n",
    "       y = \"Values\",\n",
    "       color = \"Legend\") +\n",
    "  theme_minimal() +\n",
    "  scale_color_manual(values = c(\"Actual\" = \"blue\", \"Predicted\" = \"red\"))"
   ]
  },
  {
   "cell_type": "markdown",
   "id": "5397405d",
   "metadata": {
    "vscode": {
     "languageId": "r"
    }
   },
   "source": [
    "# Random Forrest"
   ]
  },
  {
   "cell_type": "markdown",
   "id": "3828c029",
   "metadata": {},
   "source": [
    "## Parameters"
   ]
  },
  {
   "cell_type": "code",
   "execution_count": 116,
   "id": "1a57691e",
   "metadata": {
    "vscode": {
     "languageId": "r"
    }
   },
   "outputs": [],
   "source": [
    "#train_size    <- 17544 #2 year training set\n",
    "train_size    <- 8784  #1 year training set\n",
    "num_timesteps <- 24\n",
    "h             <- 8784\n",
    "ntree         <- 250\n",
    "total_size    <- nrow(data)-h"
   ]
  },
  {
   "cell_type": "markdown",
   "id": "50fce8f2",
   "metadata": {},
   "source": [
    "### Hyper parameter tuning"
   ]
  },
  {
   "cell_type": "code",
   "execution_count": 117,
   "id": "840904ed",
   "metadata": {
    "vscode": {
     "languageId": "r"
    }
   },
   "outputs": [],
   "source": [
    "individual <- data\n",
    "X_t <- prepare_X_t(as.data.frame(individual))\n",
    "Y_t <- as.matrix(MSTL$GrossConsumptionMWh, nrow = nrow(MSTL), ncol = 1)\n",
    "\n",
    "lag_and_align <- lag_and_align_data(X_t, Y_t, h = h)\n",
    "\n",
    "X_t <- as.matrix(lag_and_align$X_t)\n",
    "Y_t <- as.numeric(lag_and_align$R_t)\n",
    "\n",
    "# Hyper-parameter tuning to find the best mtry value\n",
    "#tuned_results <- tuneRF(X_t, R_t, stepFactor = 1.5,\n",
    "                        #improve = 0.01, ntreeTry = 100, trace = TRUE, plot = TRUE)\n",
    "#best_mtry <- tuned_results[1, \"mtry\"]\n",
    "best_mtry <- 36"
   ]
  },
  {
   "cell_type": "markdown",
   "id": "37010b29",
   "metadata": {},
   "source": [
    "### Data preparation"
   ]
  },
  {
   "cell_type": "markdown",
   "id": "5d6502a7",
   "metadata": {},
   "source": [
    "### Fitting"
   ]
  },
  {
   "cell_type": "code",
   "execution_count": 118,
   "id": "73429cc8",
   "metadata": {
    "vscode": {
     "languageId": "r"
    }
   },
   "outputs": [],
   "source": [
    "no_cores <- detectCores()-1\n",
    "cl <- makeCluster(no_cores)\n",
    "registerDoParallel(cl)\n",
    "\n",
    "results <- foreach(j = seq(1, nrow(X_t) - train_size, by = num_timesteps), .combine = 'c', .packages = 'randomForest') %dopar% {\n",
    "    # Define the range for the training set\n",
    "    start_index <- j\n",
    "    end_index <- j + train_size - 1\n",
    "    \n",
    "    # Prepare the training set\n",
    "    train_X_t <- X_t[start_index:end_index, ]\n",
    "    train_Y_t <- Y_t[start_index:end_index]\n",
    "    \n",
    "    # Train the Random Forest model\n",
    "    rf_model <- randomForest(x = train_X_t, y = train_Y_t, ntree=ntree, mtry=best_mtry)\n",
    "    \n",
    "    # Prepare the test set\n",
    "    test_start_index <- end_index + 1\n",
    "    test_end_index <- min(end_index + num_timesteps, total_size)\n",
    "    test_X_t <- X_t[test_start_index:test_end_index, , drop = FALSE]\n",
    "    \n",
    "    # Predict on the test set\n",
    "    test_predictions <- predict(rf_model, newdata = test_X_t)\n",
    "    \n",
    "    # Return the predictions\n",
    "    num_predictions_to_return <- min(num_timesteps, total_size - test_start_index + 1)\n",
    "    return(test_predictions[1:num_predictions_to_return])\n",
    "}\n",
    "stopCluster(cl)\n",
    "\n",
    "Y_hat_t <- unlist(results)"
   ]
  },
  {
   "cell_type": "code",
   "execution_count": 119,
   "id": "b019eb09",
   "metadata": {
    "vscode": {
     "languageId": "r"
    }
   },
   "outputs": [
    {
     "data": {
      "text/html": [
       "<table border='1' style='border-collapse:collapse;'><thead><tr><th>MAE</th><th>RMSE</th><th>MAPE</th><th>R_squared</th></tr></thead><tbody><tr><td>278.452812265867</td><td>362.729201060034</td><td>7.15537821063826</td><td>0.771855775092056</td></tr></tbody></table>"
      ]
     },
     "metadata": {},
     "output_type": "display_data"
    }
   ],
   "source": [
    "individual_metrics_RF <- calculate_metrics(tail(Y_t, n = length(Y_t) - train_size), Y_hat_t, data)\n",
    "display_limited(individual_metrics_RF)"
   ]
  },
  {
   "cell_type": "markdown",
   "id": "d223410d",
   "metadata": {
    "vscode": {
     "languageId": "r"
    }
   },
   "source": [
    "# OLS"
   ]
  },
  {
   "cell_type": "markdown",
   "id": "1cce831c",
   "metadata": {},
   "source": [
    "## Without using rolling window"
   ]
  },
  {
   "cell_type": "code",
   "execution_count": 90,
   "id": "3904c15f",
   "metadata": {
    "vscode": {
     "languageId": "r"
    }
   },
   "outputs": [
    {
     "data": {
      "text/plain": [
       "\n",
       "Call:\n",
       "lm(formula = train_Y_t ~ ., data = train_X_t)\n",
       "\n",
       "Residuals:\n",
       "     Min       1Q   Median       3Q      Max \n",
       "-1657.46  -197.84    -3.25   189.56  2981.63 \n",
       "\n",
       "Coefficients: (1 not defined because of singularities)\n",
       "                             Estimate Std. Error t value Pr(>|t|)    \n",
       "(Intercept)                  4142.693     48.875  84.761  < 2e-16 ***\n",
       "IsHoliday                      18.430     20.043   0.920 0.357847    \n",
       "humidity_past1h               177.505     24.606   7.214 5.90e-13 ***\n",
       "temp_mean_past1h             -159.847     59.050  -2.707 0.006803 ** \n",
       "wind_speed_past1h               7.911     34.448   0.230 0.818374    \n",
       "`\\\\`Electric cars\\\\``        8639.627   1535.944   5.625 1.91e-08 ***\n",
       "`\\\\`Plug-in hybrid cars\\\\``  6165.448   1858.322   3.318 0.000911 ***\n",
       "EL_price                      664.505    272.494   2.439 0.014764 *  \n",
       "time_of_day0                 -178.448     22.569  -7.907 2.96e-15 ***\n",
       "time_of_day1                 -291.149     22.606 -12.879  < 2e-16 ***\n",
       "time_of_day2                 -341.067     22.639 -15.065  < 2e-16 ***\n",
       "time_of_day3                 -363.634     22.670 -16.040  < 2e-16 ***\n",
       "time_of_day4                 -327.764     22.659 -14.465  < 2e-16 ***\n",
       "time_of_day5                 -171.607     22.605  -7.592 3.49e-14 ***\n",
       "time_of_day6                  223.263     22.578   9.889  < 2e-16 ***\n",
       "time_of_day7                  680.861     22.822  29.834  < 2e-16 ***\n",
       "time_of_day8                  928.482     23.158  40.093  < 2e-16 ***\n",
       "time_of_day9                 1037.470     23.207  44.706  < 2e-16 ***\n",
       "time_of_day10                1120.334     23.292  48.099  < 2e-16 ***\n",
       "time_of_day11                1116.476     23.449  47.613  < 2e-16 ***\n",
       "time_of_day12                1069.203     23.547  45.408  < 2e-16 ***\n",
       "time_of_day13                1046.912     23.598  44.364  < 2e-16 ***\n",
       "time_of_day14                 978.687     23.590  41.487  < 2e-16 ***\n",
       "time_of_day15                 896.503     23.550  38.068  < 2e-16 ***\n",
       "time_of_day16                 951.719     23.512  40.477  < 2e-16 ***\n",
       "time_of_day17                1214.375     23.621  51.411  < 2e-16 ***\n",
       "time_of_day18                1153.835     23.509  49.080  < 2e-16 ***\n",
       "time_of_day19                 894.823     23.320  38.372  < 2e-16 ***\n",
       "time_of_day20                 669.523     22.914  29.219  < 2e-16 ***\n",
       "time_of_day21                 463.005     22.692  20.404  < 2e-16 ***\n",
       "time_of_day22                 239.543     22.597  10.601  < 2e-16 ***\n",
       "time_of_day23                      NA         NA      NA       NA    \n",
       "monthApril                   -575.814     18.986 -30.328  < 2e-16 ***\n",
       "monthAugust                 -1036.399     32.457 -31.932  < 2e-16 ***\n",
       "monthFebruary                  -8.872     20.664  -0.429 0.667688    \n",
       "monthJanuary                 -117.438     16.255  -7.225 5.44e-13 ***\n",
       "monthJuly                   -1151.808     28.875 -39.889  < 2e-16 ***\n",
       "monthJune                   -1020.611     37.579 -27.159  < 2e-16 ***\n",
       "monthMarch                   -301.609     17.624 -17.114  < 2e-16 ***\n",
       "monthMay                     -864.794     23.243 -37.206  < 2e-16 ***\n",
       "monthNovember                -390.562     29.246 -13.354  < 2e-16 ***\n",
       "monthOctober                 -575.537     21.935 -26.238  < 2e-16 ***\n",
       "monthSeptember               -855.885     23.629 -36.221  < 2e-16 ***\n",
       "weekdayFriday                -552.013     12.605 -43.795  < 2e-16 ***\n",
       "weekdayMonday                  31.621     12.597   2.510 0.012085 *  \n",
       "weekdaySaturday               -49.840     12.267  -4.063 4.89e-05 ***\n",
       "weekdayThursday              -558.825     12.629 -44.250  < 2e-16 ***\n",
       "weekdayTuesday                 13.850     12.721   1.089 0.276261    \n",
       "weekdayWednesday             -105.376     12.619  -8.351  < 2e-16 ***\n",
       "---\n",
       "Signif. codes:  0 '***' 0.001 '**' 0.01 '*' 0.05 '.' 0.1 ' ' 1\n",
       "\n",
       "Residual standard error: 305.1 on 8736 degrees of freedom\n",
       "Multiple R-squared:  0.8493,\tAdjusted R-squared:  0.8484 \n",
       "F-statistic:  1047 on 47 and 8736 DF,  p-value: < 2.2e-16\n"
      ]
     },
     "metadata": {},
     "output_type": "display_data"
    }
   ],
   "source": [
    "# Convert Y_t to matrix if not already\n",
    "Y_t_ols <- as.matrix(Y_t)\n",
    "\n",
    "# Split the data into training and testing\n",
    "train_X_t <- as.data.frame(X_t[1:train_size, ])  # Ensure it's a data frame\n",
    "train_Y_t <- Y_t_ols[1:train_size]\n",
    "\n",
    "test_X_t <- as.data.frame(X_t[(train_size + 1):nrow(X_t), ])  # Ensure it's a data frame\n",
    "test_Y_t <- Y_t_ols[(train_size + 1):nrow(Y_t_ols)]\n",
    "\n",
    "# Fit the OLS model using the formula interface\n",
    "ols_model <- lm(train_Y_t ~ ., data = train_X_t)\n",
    "\n",
    "# Make predictions on the test set\n",
    "Y_hat_t <- as.vector(predict(ols_model, newdata = test_X_t))\n",
    "\n",
    "# Check the summary of the model\n",
    "summary(ols_model)"
   ]
  },
  {
   "cell_type": "code",
   "execution_count": 91,
   "id": "a198098d",
   "metadata": {
    "vscode": {
     "languageId": "r"
    }
   },
   "outputs": [
    {
     "data": {
      "text/html": [
       "<table border='1' style='border-collapse:collapse;'><thead><tr><th>MAE</th><th>RMSE</th><th>MAPE</th><th>R_squared</th></tr></thead><tbody><tr><td>302.606051604374</td><td>380.088013291523</td><td>7.71912615907751</td><td>0.806425667138766</td></tr></tbody></table>"
      ]
     },
     "metadata": {},
     "output_type": "display_data"
    }
   ],
   "source": [
    "individual_metrics_OLS <- calculate_metrics(tail(Y_t, n = length(Y_t) - train_size), Y_hat_t, data)\n",
    "display_limited(individual_metrics_OLS)"
   ]
  },
  {
   "cell_type": "code",
   "execution_count": 93,
   "id": "ce1a569a",
   "metadata": {
    "vscode": {
     "languageId": "r"
    }
   },
   "outputs": [
    {
     "data": {
      "text/html": [
       "8736"
      ],
      "text/latex": [
       "8736"
      ],
      "text/markdown": [
       "8736"
      ],
      "text/plain": [
       "[1] 8736"
      ]
     },
     "metadata": {},
     "output_type": "display_data"
    }
   ],
   "source": [
    "Y_test_OLS=Y_t[(train_size + 1):length(Y_t)]\n",
    "length(Y_test_OLS)"
   ]
  },
  {
   "cell_type": "code",
   "execution_count": 94,
   "id": "a174e8b7",
   "metadata": {
    "vscode": {
     "languageId": "r"
    }
   },
   "outputs": [
    {
     "data": {
      "image/png": "[encoded data removed]",
      "text/plain": [
       "plot without title"
      ]
     },
     "metadata": {
      "image/png": {
       "height": 420,
       "width": 420
      }
     },
     "output_type": "display_data"
    }
   ],
   "source": [
    "# Create a data frame for plotting\n",
    "plot_data <- data.frame(\n",
    "  Time = 1:length(Y_test_OLS),  # Assuming sequential time indices\n",
    "  Actual = Y_test_OLS,\n",
    "  Predicted = Y_hat_t  # Your forecasted values\n",
    ")\n",
    "\n",
    "\n",
    "# Plot the actual vs. predicted values\n",
    "ggplot(plot_data, aes(x = Time)) +\n",
    "  geom_line(aes(y = Actual, color = \"Actual\"), size = 1) +\n",
    "  geom_line(aes(y = Predicted, color = \"Predicted\"), size = 1, linetype = \"dashed\") +\n",
    "  labs(title = \"Actual vs Forecasted Values\",\n",
    "       x = \"Time\",\n",
    "       y = \"Values\",\n",
    "       color = \"Legend\") +\n",
    "  theme_minimal() +\n",
    "  scale_color_manual(values = c(\"Actual\" = \"blue\", \"Predicted\" = \"red\"))"
   ]
  },
  {
   "cell_type": "markdown",
   "id": "49724bea",
   "metadata": {
    "vscode": {
     "languageId": "r"
    }
   },
   "source": [
    "## With Rolling window"
   ]
  },
  {
   "cell_type": "code",
   "execution_count": 104,
   "id": "12c03895",
   "metadata": {
    "vscode": {
     "languageId": "r"
    }
   },
   "outputs": [],
   "source": [
    "Y_t_ols <- as.matrix(Y_t)\n",
    "no_cores <- detectCores() - 1\n",
    "cl <- makeCluster(no_cores)\n",
    "registerDoParallel(cl)\n",
    "\n",
    "results <- foreach(j = seq(1, nrow(X_t) - train_size, by = num_timesteps), .combine = 'c', .packages = 'xgboost') %dopar% {\n",
    "  start_index <- j\n",
    "  end_index <- j + train_size - 1\n",
    "  \n",
    "  train_X_t <- as.data.frame(X_t[start_index:end_index, ])\n",
    "  train_Y_t <- Y_t_ols[start_index:end_index]\n",
    "\n",
    "  # Fit the OLS model using the formula interface\n",
    "  ols_model <- lm(train_Y_t ~ ., data = train_X_t)\n",
    "    \n",
    "  test_start_index <- end_index + 1\n",
    "  test_end_index <- min(end_index + num_timesteps, total_size)\n",
    "  test_X_t <- as.data.frame(X_t[test_start_index:test_end_index, , drop = FALSE])\n",
    "  \n",
    "  test_predictions <- predict(ols_model, newdata = test_X_t)\n",
    "\n",
    "  num_predictions_to_return <- min(num_timesteps, total_size - test_start_index + 1)\n",
    "  return(test_predictions[1:num_predictions_to_return])\n",
    "}\n",
    "stopCluster(cl)\n",
    "Y_hat_t <- unlist(results)"
   ]
  },
  {
   "cell_type": "code",
   "execution_count": 105,
   "id": "ca6f50c7",
   "metadata": {
    "vscode": {
     "languageId": "r"
    }
   },
   "outputs": [
    {
     "data": {
      "text/html": [
       "<table border='1' style='border-collapse:collapse;'><thead><tr><th>MAE</th><th>RMSE</th><th>MAPE</th><th>R_squared</th></tr></thead><tbody><tr><td>252.747220005218</td><td>320.307544792707</td><td>6.42394994709875</td><td>0.827701852045164</td></tr></tbody></table>"
      ]
     },
     "metadata": {},
     "output_type": "display_data"
    }
   ],
   "source": [
    "individual_metrics_OLS_ROll <- calculate_metrics(tail(Y_t, n = length(Y_t) - train_size), Y_hat_t, data)\n",
    "display_limited(individual_metrics_OLS_ROll)"
   ]
  },
  {
   "cell_type": "code",
   "execution_count": null,
   "id": "0351065c-7b90-4e3a-9721-6b49a0160de9",
   "metadata": {
    "vscode": {
     "languageId": "r"
    }
   },
   "outputs": [],
   "source": [
    "# Define the file path\n",
    "path_R <- \"C:/Users/madsh/OneDrive/Dokumenter/kandidat/Fællesmappe/Forecasting-energy-consumption/Data/Results/Boosting/R_hat_t\"\n",
    "path_M <- \"C:/Users/madsh/OneDrive/Dokumenter/kandidat/Fællesmappe/Forecasting-energy-consumption/Data/Results/Boosting/Metrics\"\n",
    "# Automatically generate file names based on the parameters\n",
    "file_name_R_hat_t <- file.path(path_R, paste0(\"h=\", h, \"_steps_ahead=\", num_timesteps, \"_nrounds=\", nrounds, \"_train_size=\", train_size, \"_XGB_R_hat_t.csv\"))\n",
    "file_name_metrics <- file.path(path_M, paste0(\"h=\", h, \"_steps_ahead=\", num_timesteps, \"_nrounds=\", nrounds, \"_train_size=\", train_size, \"_XGB_Metrics.csv\"))\n",
    "\n",
    "\n",
    "\n",
    "# Save R_hat_t as a CSV file\n",
    "write.csv(R_hat_t, file = file_name_R_hat_t, row.names = FALSE)\n",
    "\n",
    "# Save individual_metrics as a CSV file\n",
    "write.csv(individual_metrics, file = file_name_metrics, row.names = FALSE)\n"
   ]
  },
  {
   "cell_type": "code",
   "execution_count": 121,
   "id": "53aaf227-c226-406c-88cb-7e773b7f1d7e",
   "metadata": {
    "vscode": {
     "languageId": "r"
    }
   },
   "outputs": [],
   "source": [
    "# Define the file path\n",
    "path_Y <- \"C:/Users/madsh/OneDrive/Dokumenter/kandidat/Fællesmappe/Forecasting-energy-consumption/Data/Results/RF/Y_hat_t\"\n",
    "\n",
    "file_name_Y_hat_t <- file.path(path_Y, paste0(\"h=\", h, \"_steps_ahead=\", num_timesteps, \"_ntree=\", ntree, \"_train_size=\", train_size, \"_RF_Y_hat_t.csv\"))\n",
    "\n",
    "# Save R_hat_t as a CSV file\n",
    "write.csv(Y_hat_t, file = file_name_Y_hat_t, row.names = FALSE)\n"
   ]
  },
  {
   "cell_type": "code",
   "execution_count": null,
   "id": "3195aea6",
   "metadata": {
    "vscode": {
     "languageId": "r"
    }
   },
   "outputs": [],
   "source": []
  }
 ],
 "metadata": {
  "kernelspec": {
   "display_name": "R",
   "language": "R",
   "name": "ir"
  },
  "language_info": {
   "codemirror_mode": "r",
   "file_extension": ".r",
   "mimetype": "text/x-r-source",
   "name": "R",
   "pygments_lexer": "r",
   "version": "4.4.2"
  },
  "widgets": {
   "application/vnd.jupyter.widget-state+json": {
    "state": {},
    "version_major": 2,
    "version_minor": 0
   }
  }
 },
 "nbformat": 4,
 "nbformat_minor": 5
}

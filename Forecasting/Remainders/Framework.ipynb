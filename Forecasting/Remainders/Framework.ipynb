{
 "cells": [
  {
   "cell_type": "markdown",
   "id": "e53e4b2b-b501-4d04-a6b1-1ad3a72208d6",
   "metadata": {},
   "source": [
    "## 5.1 Framework"
   ]
  },
  {
   "cell_type": "markdown",
   "id": "e0cacf46-cf0a-415d-92d0-69da44bb0e57",
   "metadata": {},
   "source": [
    "This section of the thesis will outline the framework adopted to forecast energy consumption across the customer groups. The primary dataset comprises time series data where \\\\( Y_t \\\\) represents the consumption variable (dependent variable) and \\\\( X_t \\\\) denotes a set of independent variables influencing consumption. A critical preprocessing step involves the application of MSTL, for decomposing the time series data to eliminate underlying trend and seasonality from \\\\( Y_t \\\\) , returning the remainders \\\\( R_t \\\\) , these remainders represent the detrended and deseasonalized consumption data. Chapter 3.1.2.6 offers a more detailed description of MSTL.\n",
    "\n",
    "Categorical variables were transformed into dummy variables and normalizing numerical variables through min-max scaling. Independent variable \\\\( X_t \\\\) are then lagged to \\\\( X_t-h \\\\) , where \\\\( h \\\\) is the horizon, to facilitate prediction into the future.\n",
    "\n",
    "The data is then split into training and test sets, where a sliding rolling window approach is employed. The model is retrained in a specified interval, \\\\( m \\\\) , where the lower \\\\( m \\\\) is the higher the retraining frequency is. It uses a static window size, \\\\( n_train \\\\) , for the training data. The established model (OLS and RF for this thesis) then fits \\\\( R_train~X_train \\\\) , and the model is then used to forecast the remainders 𝑚 steps ahead. After each forecasting step, the window rolls forward, using the static training window size, to be retrained and to predict once again.\n",
    "\n",
    "To estimate the consumption, the trend and seasonal component is added back onto the estimated remainder, \\\\( \\hat{R_t} \\\\) , which would then provide the estimated energy consumption for each timestep, \\\\( \\hat{Y_t} \\\\) .\n",
    "The framework used is meant to predict the detrended and deseasonalized energy consumption efficiently, while handling the volatile nature of the energy consumption timeseries and the individual characteristics of each customer group."
   ]
  },
  {
   "cell_type": "code",
   "execution_count": null,
   "id": "0d5016f2-543a-4048-96b7-32bff11545cb",
   "metadata": {},
   "outputs": [],
   "source": []
  }
 ],
 "metadata": {
  "kernelspec": {
   "display_name": "Python 3 (ipykernel)",
   "language": "python",
   "name": "python3"
  },
  "language_info": {
   "codemirror_mode": {
    "name": "ipython",
    "version": 3
   },
   "file_extension": ".py",
   "mimetype": "text/x-python",
   "name": "python",
   "nbconvert_exporter": "python",
   "pygments_lexer": "ipython3",
   "version": "3.9.18"
  },
  "widgets": {
   "application/vnd.jupyter.widget-state+json": {
    "state": {},
    "version_major": 2,
    "version_minor": 0
   }
  }
 },
 "nbformat": 4,
 "nbformat_minor": 5
}

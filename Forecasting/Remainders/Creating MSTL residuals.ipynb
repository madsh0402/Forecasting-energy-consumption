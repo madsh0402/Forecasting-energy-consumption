{
 "cells": [
  {
   "cell_type": "markdown",
   "id": "4aa3b639-45c4-47f4-9d28-26cf412a484e",
   "metadata": {},
   "source": [
    "# Creating MSTL residuals"
   ]
  },
  {
   "cell_type": "code",
   "execution_count": 30,
   "id": "0de032db-78b6-40e1-a9dc-3e8540584f6f",
   "metadata": {},
   "outputs": [],
   "source": [
    "library(forecast)\n",
    "library(ggplot2)\n",
    "library(dplyr)\n",
    "library(data.table)\n",
    "library(progress)\n",
    "library(IRdisplay)"
   ]
  },
  {
   "cell_type": "code",
   "execution_count": 31,
   "id": "d0ed6da3-fa64-438f-85b0-d3147325f7cc",
   "metadata": {},
   "outputs": [],
   "source": [
    "# Custom display function for the first and last 5 rows\n",
    "display_limited <- function(dt) {\n",
    "  # Concatenate the first 5 and last 5 rows\n",
    "  limited_dt <- rbind(head(dt, 5), as.list(rep(\"...\", ncol(dt))), tail(dt, 5))\n",
    "  \n",
    "  # Generate raw HTML manually\n",
    "  html_output <- paste0(\n",
    "    \"<table border='1' style='border-collapse:collapse;'>\",\n",
    "    \"<thead><tr>\",\n",
    "    paste0(\"<th>\", colnames(limited_dt), \"</th>\", collapse = \"\"),\n",
    "    \"</tr></thead>\",\n",
    "    \"<tbody>\",\n",
    "    paste0(\n",
    "      apply(limited_dt, 1, function(row) {\n",
    "        paste0(\"<tr>\", paste0(\"<td>\", row, \"</td>\", collapse = \"\"), \"</tr>\")\n",
    "      }),\n",
    "      collapse = \"\"\n",
    "    ),\n",
    "    \"</tbody></table>\"\n",
    "  )\n",
    "  \n",
    "  # Display the HTML in the Jupyter notebook\n",
    "  display_html(html_output)\n",
    "}"
   ]
  },
  {
   "cell_type": "code",
   "execution_count": 32,
   "id": "bd161f1a-bb57-4ed9-a6ad-b6bfa9bf1d6f",
   "metadata": {},
   "outputs": [
    {
     "data": {
      "text/html": [
       "<table border='1' style='border-collapse:collapse;'><thead><tr><th>HourDK</th><th>GrossConsumptionMWh</th></tr></thead><tbody><tr><td>2020-01-01 00:00:00</td><td>3331.34729</td></tr><tr><td>2020-01-01 01:00:00</td><td>3257.505005</td></tr><tr><td>2020-01-01 02:00:00</td><td>3161.865601</td></tr><tr><td>2020-01-01 03:00:00</td><td>3074.752442</td></tr><tr><td>2020-01-01 04:00:00</td><td>3009.696167</td></tr><tr><td>...</td><td>...</td></tr><tr><td>2021-12-31 19:00:00</td><td>4461.808715</td></tr><tr><td>2021-12-31 20:00:00</td><td>4226.844238</td></tr><tr><td>2021-12-31 21:00:00</td><td>4057.121583</td></tr><tr><td>2021-12-31 22:00:00</td><td>3875.883911</td></tr><tr><td>2021-12-31 23:00:00</td><td>3727.872192</td></tr></tbody></table>"
      ]
     },
     "metadata": {},
     "output_type": "display_data"
    }
   ],
   "source": [
    "base_path <- \"C:/Users/madsh/OneDrive/Dokumenter/kandidat/Fællesmappe/Forecasting-energy-consumption/Data Cleaning\"\n",
    "setwd(base_path)\n",
    "\n",
    "data <- fread(paste0(base_path,\"/Output_file.csv\"))\n",
    "data <- data[,.(HourDK,GrossConsumptionMWh)]\n",
    "data <- head(data, n=17544)\n",
    "\n",
    "# Use the display_limited function\n",
    "display_limited(data)"
   ]
  },
  {
   "cell_type": "code",
   "execution_count": 33,
   "id": "a8c474da-47d9-4919-8e2f-3f0d8ea09305",
   "metadata": {},
   "outputs": [],
   "source": [
    "# Initialize an empty data frame to store metrics for all individuals\n",
    "MSTL_results <- data.frame()\n",
    "X_t <- data\n",
    "\n",
    "# Creating multi time series (y_t)\n",
    "Y_t <- data[,\"GrossConsumptionMWh\"]\n",
    "Y_t_ts <- msts(Y_t, seasonal.periods = c(24, 24*7, 24*365))\n",
    "\n",
    "  # Using MSTL to find residuals, R_t\n",
    "mstl_decomp <- mstl(Y_t_ts, lambda = NULL, iterate = 10000, s.window = c(24, 24*7, 24*365))\n",
    "mstl_decomp_DT <- as.data.table(mstl_decomp)\n",
    "X_t$Trend        <- mstl_decomp_DT$Trend\n",
    "X_t$Seasonal24   <- mstl_decomp_DT$Seasonal24\n",
    "X_t$Seasonal168  <- mstl_decomp_DT$Seasonal168\n",
    "X_t$Seasonal8760 <- mstl_decomp_DT$Seasonal8760\n",
    "X_t$Remainder    <- mstl_decomp_DT$Remainder\n",
    "mstl_decomp_DT <- as.data.table(X_t)"
   ]
  },
  {
   "cell_type": "code",
   "execution_count": 34,
   "id": "d995a08c-8572-4f5f-a2db-58bd2624114f",
   "metadata": {},
   "outputs": [
    {
     "data": {
      "text/plain": [
       "     Trend        Seasonal24          Seasonal168          Seasonal8760       \n",
       " Min.   :3878   Min.   :-1179.3220   Min.   :-1621.2541   Min.   :-1308.2370  \n",
       " 1st Qu.:4003   1st Qu.: -460.7094   1st Qu.: -203.3037   1st Qu.: -374.2947  \n",
       " Median :4111   Median :  139.2097   Median :   14.0054   Median :  -55.9614  \n",
       " Mean   :4087   Mean   :   -0.0187   Mean   :    0.5509   Mean   :   -0.2827  \n",
       " 3rd Qu.:4173   3rd Qu.:  431.4036   3rd Qu.:  382.8124   3rd Qu.:  357.1573  \n",
       " Max.   :4236   Max.   : 1229.4021   Max.   : 1179.5105   Max.   : 1674.3971  \n",
       "   Remainder        \n",
       " Min.   :-1429.890  \n",
       " 1st Qu.:  -81.980  \n",
       " Median :    1.001  \n",
       " Mean   :    2.688  \n",
       " 3rd Qu.:   85.772  \n",
       " Max.   : 1399.439  "
      ]
     },
     "metadata": {},
     "output_type": "display_data"
    }
   ],
   "source": [
    "summary(mstl_decomp_DT[,.(Trend, Seasonal24, Seasonal168, Seasonal8760, Remainder)])"
   ]
  },
  {
   "cell_type": "code",
   "execution_count": 35,
   "id": "8a6ee502-8153-4e2c-8896-90647c35a17a",
   "metadata": {},
   "outputs": [
    {
     "data": {
      "image/png": "[encoded data removed]",
      "text/plain": [
       "plot without title"
      ]
     },
     "metadata": {},
     "output_type": "display_data"
    }
   ],
   "source": [
    "mstl_decomp %>% autoplot()"
   ]
  },
  {
   "cell_type": "code",
   "execution_count": 36,
   "id": "aee5937c-86b2-428f-8932-f73a8858743d",
   "metadata": {},
   "outputs": [],
   "source": [
    "mstl_decomp_DT$Null_Remainder = 0"
   ]
  },
  {
   "cell_type": "code",
   "execution_count": 37,
   "id": "0fb0507c-814d-46d7-b74b-f0439082f0eb",
   "metadata": {},
   "outputs": [
    {
     "data": {
      "text/html": [
       "<table border='1' style='border-collapse:collapse;'><thead><tr><th>HourDK</th><th>GrossConsumptionMWh</th><th>Trend</th><th>Seasonal24</th><th>Seasonal168</th><th>Seasonal8760</th><th>Remainder</th><th>Null_Remainder</th></tr></thead><tbody><tr><td>2020-01-01 00:00:00</td><td>3331.34729</td><td>3877.51441012093</td><td>550.860179312665</td><td>-1131.01852047392</td><td>57.0736782751744</td><td>-23.0824572348588</td><td>0</td></tr><tr><td>2020-01-01 01:00:00</td><td>3257.505005</td><td>3877.54383660321</td><td>919.388593344611</td><td>-1454.71919179548</td><td>-91.5155377932393</td><td>6.80730464090084</td><td>0</td></tr><tr><td>2020-01-01 02:00:00</td><td>3161.865601</td><td>3877.5732630855</td><td>-287.515348314915</td><td>-669.209677209973</td><td>233.134045024667</td><td>7.88331841477748</td><td>0</td></tr><tr><td>2020-01-01 03:00:00</td><td>3074.752442</td><td>3877.60268956779</td><td>-1099.83632389649</td><td>-26.4632507438256</td><td>337.597057657652</td><td>-14.1477305851286</td><td>0</td></tr><tr><td>2020-01-01 04:00:00</td><td>3009.696167</td><td>3877.63211605008</td><td>-1026.35961862536</td><td>-0.195273325147246</td><td>230.486009510095</td><td>-71.8670666096618</td><td>0</td></tr><tr><td>...</td><td>...</td><td>...</td><td>...</td><td>...</td><td>...</td><td>...</td><td>...</td></tr><tr><td>2021-12-31 19:00:00</td><td>4461.808715</td><td>4236.41612104319</td><td>353.306116437067</td><td>-137.685514162477</td><td>-21.5595332112295</td><td>31.3315248934232</td><td>0</td></tr><tr><td>2021-12-31 20:00:00</td><td>4226.844238</td><td>4236.43085864455</td><td>187.849325707751</td><td>-295.335230449598</td><td>65.1370220633128</td><td>32.7622620338598</td><td>0</td></tr><tr><td>2021-12-31 21:00:00</td><td>4057.121583</td><td>4236.44559624591</td><td>-527.938934404538</td><td>34.6796518463759</td><td>238.410638930719</td><td>75.5246303815193</td><td>0</td></tr><tr><td>2021-12-31 22:00:00</td><td>3875.883911</td><td>4236.46033384727</td><td>-1123.61530137508</td><td>297.242977532792</td><td>428.541976246703</td><td>37.2539247483082</td><td>0</td></tr><tr><td>2021-12-31 23:00:00</td><td>3727.872192</td><td>4236.47507144863</td><td>-784.610919319255</td><td>-58.0461499059831</td><td>348.857017645932</td><td>-14.802827869381</td><td>0</td></tr></tbody></table>"
      ]
     },
     "metadata": {},
     "output_type": "display_data"
    }
   ],
   "source": [
    "display_limited(mstl_decomp_DT)"
   ]
  },
  {
   "cell_type": "code",
   "execution_count": 38,
   "id": "82ff532f-a128-4a2a-947f-df6ee3e2a85f",
   "metadata": {},
   "outputs": [],
   "source": [
    "fwrite(mstl_decomp_DT, \"MSTL_decomp_results_2year.csv\")"
   ]
  },
  {
   "cell_type": "code",
   "execution_count": null,
   "id": "756cf390-cd51-4316-bff6-1675a612909c",
   "metadata": {},
   "outputs": [],
   "source": []
  }
 ],
 "metadata": {
  "kernelspec": {
   "display_name": "R",
   "language": "R",
   "name": "ir"
  },
  "language_info": {
   "codemirror_mode": "r",
   "file_extension": ".r",
   "mimetype": "text/x-r-source",
   "name": "R",
   "pygments_lexer": "r",
   "version": "3.6.1"
  },
  "widgets": {
   "application/vnd.jupyter.widget-state+json": {
    "state": {},
    "version_major": 2,
    "version_minor": 0
   }
  }
 },
 "nbformat": 4,
 "nbformat_minor": 5
}

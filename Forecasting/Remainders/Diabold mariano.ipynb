{
 "cells": [
  {
   "cell_type": "markdown",
   "id": "c9a6b260-b268-4e69-a570-f89611e21503",
   "metadata": {},
   "source": [
    "## 5.6 Evalutation of the best prediction models"
   ]
  },
  {
   "cell_type": "markdown",
   "id": "62ebc74d-062c-484d-b333-9fe8edc79b5c",
   "metadata": {},
   "source": [
    "### 5.6.1 Modelling and comparing with the benchmark"
   ]
  },
  {
   "cell_type": "markdown",
   "id": "e1618969-4229-452b-a1fa-226a7245b8fa",
   "metadata": {},
   "source": [
    "Now that we have analyzed and found the optimal setting for each of the OLS and RF models, the effectiveness of the models in forecasting detrended and deseasonalized energy consumption can be evaluated, where the goal is to account for all variability not explained by trend or the seasonal components.\n",
    "\n",
    "OLS, which by design has zero bias, directly minimizes the sum of squared errors between predicted and observed values, making it sensitive to outliers. This sensitivity means that extreme values in the data can influence the regression coefficient, which could prove to be a problem with MSTL remainders due to the possibility of seasonality not being perfectly captured at all timesteps. However, its simplicity and interpretability remain as strengths, especially when dealing with linear relationships where the number of predictors is not excessively large and its sparsity on computational resources allows for higher retraining frequency, which has been proven to have significant impact on accuracy.\n",
    "\n",
    "Conversely, RF offers robustness to outliers and the ability to model complex, non-linear relationships between larger set of variables without requiring transformation or assumption of linearity. Unlike OLS, RF introduces some bias to gain a reduction in variance, benefitting from an ensemble of decision trees to improve accuracy and generalizability. This trade-off is particularly beneficial in handling the volatile energy consumption time series. However, to get an efficient trade-off between bias and variance, it is crucial to tune the parameters to the time series, which is extremely computationally demanding in both time and computational power. For this research, the parameters have been tuned for one customer group and reused for all customer groups which is suboptimal.\n",
    "\n",
    "Both models’ performance will be evaluated on their predictive accuracy and compared to a benchmark. This baseline assumes that the MSTL decomposition perfectly accounts for trend and seasonality, leaving no remainder, meaning that a naive model predicts zero for the detrended and deseasonalized time series. This comparison helps in highlighting the additional variance each model can explain, thereby demonstrating their ability to capture the nuances of energy consumption beyond what can be attributed to predictable patterns alone."
   ]
  },
  {
   "cell_type": "markdown",
   "id": "4676dc09-8ef1-4924-a07b-63e354c9b79c",
   "metadata": {},
   "source": [
    "#### 5.6.2 Comparing OLS with the benchmark model"
   ]
  },
  {
   "cell_type": "markdown",
   "id": "ed6d1583-9392-4305-9a64-98ee90e84ecb",
   "metadata": {},
   "source": [
    "Earlier in this chapter, the different settings of the framework used have been tested to find the most efficient settings for OLS, as seen earlier the OSL model performed best with a 1-year training window size, and the highest possible retraining frequency, which is every timestep.\n",
    "\n",
    "To evaluate the accuracy of the forecasting models, Mean squared Error (MSE) will be used. It measures the average squared difference between the estimated values and the actual values as seen below:"
   ]
  },
  {
   "cell_type": "markdown",
   "id": "7238545b-75cd-408c-a05e-0ffc983210ee",
   "metadata": {},
   "source": [
    "$$ MSE = \\frac{1}{T} \\sum_{t=n_{train}+1}^{T} (R_t-\\hat{R}_t)^2 $$"
   ]
  },
  {
   "cell_type": "code",
   "execution_count": 3,
   "id": "dadb902b-ba0d-46d0-8cd8-b6081c0686d9",
   "metadata": {},
   "outputs": [],
   "source": [
    "# Forecsting remainders with OLS\n",
    "\n",
    "## Libraries\n",
    "library(tidyverse)\n",
    "library(forecast)\n",
    "library(ggplot2)\n",
    "library(dplyr)\n",
    "library(data.table)\n",
    "library(IRdisplay)\n",
    "library(progress)\n",
    "\n",
    "library(foreach)\n",
    "library(doParallel)\n",
    "\n",
    "library(caret)\n",
    "library(randomForest)"
   ]
  },
  {
   "cell_type": "code",
   "execution_count": 4,
   "id": "247291c2-f861-4428-a712-616cc4867bc7",
   "metadata": {},
   "outputs": [],
   "source": [
    "##################Setting workign directory and loadign data ###################\n",
    "##### Setting workign directory and loadign data #####\n",
    "base_path <- \"C:/Users/madsh/OneDrive/Dokumenter/kandidat/Fællesmappe/Forecasting-energy-consumption\"\n",
    "base_path <- \"C:/Users/madsh/OneDrive/Dokumenter/kandidat/Fællesmappe/Forecasting-energy-consumption\"\n",
    "setwd(base_path)\n",
    "#data <- read.csv(paste0(base_path,\"Data/Combined/Full_data_ecwap.csv\"))\n",
    "MSTL      <- fread(paste0(base_path,\"/Data Cleaning/MSTL_decomp_results.csv\"))\n",
    "R_t_OLS   <- fread(paste0(base_path,\"/Data/Results/OLS/R_hat_t/2yTrain_h=1_steps_ahead=1_OLS_R_hat_t.csv\"))\n",
    "R_t_RF    <- fread(paste0(base_path,\"/Data/Results/RF/R_hat_t/h=1_steps_ahead=1_ntree=250_RF_R_hat_t.csv\"))"
   ]
  },
  {
   "cell_type": "code",
   "execution_count": 9,
   "id": "29891ab1-71bc-4009-b5ff-e6c7661f5bce",
   "metadata": {},
   "outputs": [],
   "source": [
    "  R_t_vec_1year <- tail(MSTL$Remainder, n=8759)\n",
    "  R_t_vec_2year <- tail(MSTL$Remainder, n=17519)\n",
    "  R_t_0_vec     <- MSTL$Null_Remainder\n",
    "  R_t_OLS_vec   <- R_t_OLS$x\n",
    "  R_t_RF_vec    <- R_t_RF$x\n",
    "  \n",
    "  e1 <- R_t_vec_2year-tail(R_t_0_vec, n=17519)\n",
    "  e2 <- R_t_vec_1year-R_t_OLS_vec\n",
    "  e3 <- R_t_vec_2year-R_t_RF_vec\n",
    "  \n",
    "  MSE_0      <- mean(e1^2)\n",
    "  MSE_OLS    <- mean(e2^2)\n",
    "  MSE_RF     <- mean(e3^2)"
   ]
  },
  {
   "cell_type": "code",
   "execution_count": 37,
   "id": "ba363137-a0db-4539-9579-77d94194e5b7",
   "metadata": {},
   "outputs": [
    {
     "name": "stdout",
     "output_type": "stream",
     "text": [
      "    Model MSE_Value\n",
      "1   MSE_0  31514.66\n",
      "2 MSE_OLS  40865.14\n"
     ]
    }
   ],
   "source": [
    "# Create a data frame (table)\n",
    "mse_table <- data.frame(\n",
    "  Model = c(\"MSE_0\", \"MSE_OLS\"),\n",
    "  MSE_Value = c(MSE_0, MSE_OLS)\n",
    ")\n",
    "\n",
    "# Display the table\n",
    "print(mse_table)"
   ]
  },
  {
   "cell_type": "markdown",
   "id": "8b7819c3-4fb9-4d8d-ba4c-cba575a73814",
   "metadata": {},
   "source": [
    "From the table above, the OSL model has a MSE of 40865.14, higher than the median MSE of 31514.66 for the benchmark. This difference in MSE suggests that the naïve model performs better than the OLS model, meaning that it would be better to not even predict the remainders than using an OLS model.\n",
    "\n",
    "To ensure that the lower MSE observed for the benchmark is not a result of randomness. The DM test offers a thorough method for comparing predictive accuracy. By focusing on the difference between the forecast errors from the two models, the DM test evaluates whether there is a statistically significant difference in their performance. For a more detailed description of the DM test see chapter 3.9.\n",
    "\n",
    "Therefore, to validate the initial findings, there will be conducted a DM test. Which will provide a statistical backing for any claims regarding the relative performance of the OLS model versus the benchmark, ensuring that the conclusion is not only visually and intuitively appealing but also statistically sound. The results of this test will further inform us about the\n",
    "\n",
    "consistency and reliability of the OLS model’s performance in forecasting energy consumption remainders after MSTL decomposition."
   ]
  },
  {
   "cell_type": "code",
   "execution_count": 10,
   "id": "007c492a-2079-4565-8019-718e8928cf29",
   "metadata": {},
   "outputs": [
    {
     "data": {
      "text/plain": [
       "\n",
       "\tDiebold-Mariano Test\n",
       "\n",
       "data:  tail(e1, n = 8759)e2\n",
       "DM = -24.566, Forecast horizon = 1, Loss function power = 2, p-value <\n",
       "2.2e-16\n",
       "alternative hypothesis: two.sided\n"
      ]
     },
     "metadata": {},
     "output_type": "display_data"
    }
   ],
   "source": [
    " dm_test <- dm.test(tail(e1, n=8759), e2, alternative = \"two.sided\", h = 1, power = 2)\n",
    "\n",
    "dm_test"
   ]
  },
  {
   "cell_type": "markdown",
   "id": "b8882cb5-110c-40fb-998b-2870be8acba9",
   "metadata": {},
   "source": [
    "Based on the results of the DM test comparing the errors of the OLS model and the benchmark model, the test statistic (DM = -24.566) and the extremely small p-value (p < 2.2e-16) strongly indicate a rejection of the null hypothesis at the 0.05 significance level. This implies that there is a significant difference between the forecasting errors of the two models.\n",
    "\n",
    "In this context, the OLS model consistently underperforms compared to the benchmark model across the forecast horizon of 1, as reflected by the negative DM statistic. This result aligns with previous findings, supporting the idea that the benchmark model provides superior forecasts.\n",
    "\n",
    "The outcome also reinforces the notion that the MSTL decomposition is highly effective in capturing the linear and seasonal structures within the time series. The remainders left after MSTL decomposition could be lacking linear structure, so that any attempt to predict them does not add significant value over a simple benchmark and might even be worse for forecasting the energy consumption than to ignore the remainder component."
   ]
  },
  {
   "cell_type": "markdown",
   "id": "5840134c-cdf8-4e87-8624-c14796a4815e",
   "metadata": {},
   "source": [
    "### 5.6.3 Comparing Random forest with benchmark model"
   ]
  },
  {
   "cell_type": "markdown",
   "id": "e9a112d2-8484-4d2e-b065-70b50d79ee44",
   "metadata": {},
   "source": [
    "To understand whether the remainder component is truly unpredictable for the data, or if the relationship between the dependent and the independent variable are non-linear the results of the RF model will be compared the benchmark. For the RF model, it was earlier discovered that the optimal number of trees for the RF model is 250, the optimal training window size is 1 year, and that RF as well as OLS benefits from the highest possible training frequency, for this study the limit for the computational resources available is retraining every 1 timesteps"
   ]
  },
  {
   "cell_type": "code",
   "execution_count": 11,
   "id": "491bc0f2-afd4-4c4d-a167-f8fd5141592d",
   "metadata": {},
   "outputs": [
    {
     "name": "stdout",
     "output_type": "stream",
     "text": [
      "   Model MSE_Value\n",
      "1  MSE_0 33075.123\n",
      "2 MSE_RF  7374.672\n"
     ]
    }
   ],
   "source": [
    "# Create a data frame (table)\n",
    "mse_table <- data.frame(\n",
    "  Model = c(\"MSE_0\", \"MSE_RF\"),\n",
    "  MSE_Value = c(MSE_0, MSE_RF)\n",
    ")\n",
    "\n",
    "# Display the table\n",
    "print(mse_table)"
   ]
  },
  {
   "cell_type": "markdown",
   "id": "3b4382a5-2d5e-4a88-a013-5257fcedfbdc",
   "metadata": {},
   "source": [
    "From the table, the mean squared error (MSE) of the Random Forest (RF) model is significantly lower at 7,374.67 compared to the benchmark MSE of 33,075.12. This substantial reduction in error clearly indicates that the RF model is much more accurate in forecasting the remainder component than both the OLS model and the baseline approach of not forecasting at all.\n",
    "\n",
    "The lower MSE values of the RF model suggest a more consistent performance across customer groups, reducing the overall prediction error and demonstrating robustness in forecasting the MSTL remainders.\n",
    "\n",
    "Overall, the results highlight the Random Forest model as a more reliable method for predicting detrended and deseasonalized energy consumption. The significant reduction in median MSE reinforces its improvement over the baseline model,for good measure lets confirm the statistical significance of this improvement through a Diebold-Mariano test."
   ]
  },
  {
   "cell_type": "code",
   "execution_count": 13,
   "id": "1c43b5d1-3676-4fb0-972d-7b3e238db28b",
   "metadata": {},
   "outputs": [
    {
     "data": {
      "text/plain": [
       "\n",
       "\tDiebold-Mariano Test\n",
       "\n",
       "data:  e1e3\n",
       "DM = 60.43, Forecast horizon = 1, Loss function power = 2, p-value <\n",
       "2.2e-16\n",
       "alternative hypothesis: two.sided\n"
      ]
     },
     "metadata": {},
     "output_type": "display_data"
    }
   ],
   "source": [
    " dm_test <- dm.test(e1, e3, alternative = \"two.sided\", h = 1, power = 2)\n",
    "\n",
    "dm_test"
   ]
  },
  {
   "cell_type": "markdown",
   "id": "257f84c2-f57f-4f9b-9964-fc27d5078ccb",
   "metadata": {},
   "source": [
    "The results of the Diebold-Mariano test further emphasize the superior accuracy of the Random Forest (RF) model over the benchmark. With a DM statistic of 60.43 and a p-value of less than 2.2e-16, the null hypothesis is strongly rejected, indicating a significant difference in the forecast errors between the RF model and the baseline approach.\n",
    "\n",
    "These findings align with the earlier observations from the MSE distribution, reinforcing the conclusion that the RF model outperforms the approach of not forecasting at all. The RF model's ability to accurately predict detrended and deseasonalized energy consumption highlights the effectiveness of the MSTL decomposition in capturing the linear trend and seasonal components. By removing these elements, the RF model is able to focus on the remaining nonlinear patterns, offering valuable predictive insights that would otherwise be missed by simply predicting zero or relying on the benchmark.\n",
    "\n",
    "This significant improvement in predictive performance suggests that the RF model is much better at capturing the complexities of the remainder component, further validating its use in this forecasting context."
   ]
  }
 ],
 "metadata": {
  "kernelspec": {
   "display_name": "R",
   "language": "R",
   "name": "ir"
  },
  "language_info": {
   "codemirror_mode": "r",
   "file_extension": ".r",
   "mimetype": "text/x-r-source",
   "name": "R",
   "pygments_lexer": "r",
   "version": "4.4.2"
  },
  "widgets": {
   "application/vnd.jupyter.widget-state+json": {
    "state": {},
    "version_major": 2,
    "version_minor": 0
   }
  }
 },
 "nbformat": 4,
 "nbformat_minor": 5
}

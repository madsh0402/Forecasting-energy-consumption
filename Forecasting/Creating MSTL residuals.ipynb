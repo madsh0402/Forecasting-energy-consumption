{
 "cells": [
  {
   "cell_type": "markdown",
   "id": "4aa3b639-45c4-47f4-9d28-26cf412a484e",
   "metadata": {},
   "source": [
    "# Creating MSTL residuals"
   ]
  },
  {
   "cell_type": "code",
   "execution_count": 41,
   "id": "0de032db-78b6-40e1-a9dc-3e8540584f6f",
   "metadata": {},
   "outputs": [],
   "source": [
    "library(forecast)\n",
    "library(ggplot2)\n",
    "library(dplyr)\n",
    "library(data.table)\n",
    "library(progress)\n",
    "library(IRdisplay)"
   ]
  },
  {
   "cell_type": "code",
   "execution_count": 39,
   "id": "d0ed6da3-fa64-438f-85b0-d3147325f7cc",
   "metadata": {},
   "outputs": [],
   "source": [
    "# Custom display function for the first and last 5 rows\n",
    "display_limited <- function(dt) {\n",
    "  # Concatenate the first 5 and last 5 rows\n",
    "  limited_dt <- rbind(head(dt, 5), as.list(rep(\"...\", ncol(dt))), tail(dt, 5))\n",
    "  \n",
    "  # Generate raw HTML manually\n",
    "  html_output <- paste0(\n",
    "    \"<table border='1' style='border-collapse:collapse;'>\",\n",
    "    \"<thead><tr>\",\n",
    "    paste0(\"<th>\", colnames(limited_dt), \"</th>\", collapse = \"\"),\n",
    "    \"</tr></thead>\",\n",
    "    \"<tbody>\",\n",
    "    paste0(\n",
    "      apply(limited_dt, 1, function(row) {\n",
    "        paste0(\"<tr>\", paste0(\"<td>\", row, \"</td>\", collapse = \"\"), \"</tr>\")\n",
    "      }),\n",
    "      collapse = \"\"\n",
    "    ),\n",
    "    \"</tbody></table>\"\n",
    "  )\n",
    "  \n",
    "  # Display the HTML in the Jupyter notebook\n",
    "  display_html(html_output)\n",
    "}"
   ]
  },
  {
   "cell_type": "code",
   "execution_count": 40,
   "id": "bd161f1a-bb57-4ed9-a6ad-b6bfa9bf1d6f",
   "metadata": {},
   "outputs": [
    {
     "data": {
      "text/html": [
       "<table border='1' style='border-collapse:collapse;'><thead><tr><th>HourDK</th><th>GrossConsumptionMWh</th></tr></thead><tbody><tr><td>2020-01-01 00:00:00</td><td>3331.34729</td></tr><tr><td>2020-01-01 01:00:00</td><td>3257.505005</td></tr><tr><td>2020-01-01 02:00:00</td><td>3161.865601</td></tr><tr><td>2020-01-01 03:00:00</td><td>3074.752442</td></tr><tr><td>2020-01-01 04:00:00</td><td>3009.696167</td></tr><tr><td>...</td><td>...</td></tr><tr><td>2022-12-31 19:00:00</td><td>4453.29764833333</td></tr><tr><td>2022-12-31 20:00:00</td><td>4245.987671</td></tr><tr><td>2022-12-31 21:00:00</td><td>4092.87101266667</td></tr><tr><td>2022-12-31 22:00:00</td><td>3918.75976566667</td></tr><tr><td>2022-12-31 23:00:00</td><td>3821.72204566667</td></tr></tbody></table>"
      ]
     },
     "metadata": {},
     "output_type": "display_data"
    }
   ],
   "source": [
    "base_path <- \"C:/Users/madsh/OneDrive/Dokumenter/kandidat/Fællesmappe/Forecasting-energy-consumption/Data Cleaning\"\n",
    "setwd(base_path)\n",
    "\n",
    "data <- fread(paste0(base_path,\"/Output_file.csv\"))\n",
    "data <- data[,.(HourDK,GrossConsumptionMWh)]\n",
    "\n",
    "# Use the display_limited function\n",
    "display_limited(data)"
   ]
  },
  {
   "cell_type": "code",
   "execution_count": 64,
   "id": "a8c474da-47d9-4919-8e2f-3f0d8ea09305",
   "metadata": {},
   "outputs": [],
   "source": [
    "# Initialize an empty data frame to store metrics for all individuals\n",
    "MSTL_results <- data.frame()\n",
    "X_t <- data\n",
    "\n",
    "# Creating multi time series (y_t)\n",
    "Y_t <- data[,\"GrossConsumptionMWh\"]\n",
    "Y_t_ts <- msts(Y_t, seasonal.periods = c(24, 24*7, 24*365))\n",
    "\n",
    "  # Using MSTL to find residuals, R_t\n",
    "mstl_decomp <- mstl(Y_t_ts, lambda = NULL, iterate = 10000, s.window = c(24, 24*7, 24*365))\n",
    "mstl_decomp_DT <- as.data.table(mstl_decomp)\n",
    "X_t$Trend        <- mstl_decomp_DT$Trend\n",
    "X_t$Seasonal24   <- mstl_decomp_DT$Seasonal24\n",
    "X_t$Seasonal168  <- mstl_decomp_DT$Seasonal168\n",
    "X_t$Seasonal8760 <- mstl_decomp_DT$Seasonal8760\n",
    "X_t$Remainder    <- mstl_decomp_DT$Remainder\n",
    "mstl_decomp_DT <- as.data.table(X_t)"
   ]
  },
  {
   "cell_type": "code",
   "execution_count": 66,
   "id": "d995a08c-8572-4f5f-a2db-58bd2624114f",
   "metadata": {},
   "outputs": [
    {
     "data": {
      "text/plain": [
       "     Trend        Seasonal24          Seasonal168          Seasonal8760     \n",
       " Min.   :3855   Min.   :-2742.7232   Min.   :-1026.4205   Min.   :-2540.88  \n",
       " 1st Qu.:3987   1st Qu.: -288.8050   1st Qu.: -376.4831   1st Qu.:-1038.42  \n",
       " Median :4093   Median :  124.3271   Median :   27.5075   Median :   -6.13  \n",
       " Mean   :4069   Mean   :   -0.0361   Mean   :    0.0745   Mean   :    0.02  \n",
       " 3rd Qu.:4158   3rd Qu.:  396.5389   3rd Qu.:  358.6759   3rd Qu.:  946.49  \n",
       " Max.   :4189   Max.   : 2125.8555   Max.   : 1046.2559   Max.   : 3200.56  \n",
       "   Remainder        \n",
       " Min.   :-1181.656  \n",
       " 1st Qu.:  -88.054  \n",
       " Median :    6.924  \n",
       " Mean   :    8.765  \n",
       " 3rd Qu.:  104.141  \n",
       " Max.   : 2049.222  "
      ]
     },
     "metadata": {},
     "output_type": "display_data"
    }
   ],
   "source": [
    "summary(mstl_decomp_DT[,.(Trend, Seasonal24, Seasonal168, Seasonal8760, Remainder)])"
   ]
  },
  {
   "cell_type": "code",
   "execution_count": 68,
   "id": "8a6ee502-8153-4e2c-8896-90647c35a17a",
   "metadata": {},
   "outputs": [
    {
     "data": {
      "image/png": "[encoded data removed]",
      "text/plain": [
       "plot without title"
      ]
     },
     "metadata": {},
     "output_type": "display_data"
    }
   ],
   "source": [
    "mstl_decomp %>% autoplot()"
   ]
  },
  {
   "cell_type": "code",
   "execution_count": 70,
   "id": "aee5937c-86b2-428f-8932-f73a8858743d",
   "metadata": {},
   "outputs": [],
   "source": [
    "mstl_decomp_DT$Null_Remainder = 0"
   ]
  },
  {
   "cell_type": "code",
   "execution_count": 71,
   "id": "0fb0507c-814d-46d7-b74b-f0439082f0eb",
   "metadata": {},
   "outputs": [
    {
     "data": {
      "text/html": [
       "<table border='1' style='border-collapse:collapse;'><thead><tr><th>HourDK</th><th>GrossConsumptionMWh</th><th>Trend</th><th>Seasonal24</th><th>Seasonal168</th><th>Seasonal8760</th><th>Remainder</th><th>Null_Remainder</th></tr></thead><tbody><tr><td>2020-01-01 00:00:00</td><td>3331.34729</td><td>3854.59943598943</td><td>1932.72744572469</td><td>-380.09423037143</td><td>-1961.37245041428</td><td>-114.512910928375</td><td>0</td></tr><tr><td>2020-01-01 01:00:00</td><td>3257.505005</td><td>3854.63388465679</td><td>806.802040827772</td><td>101.235004882895</td><td>-1424.08063570018</td><td>-81.0852896672445</td><td>0</td></tr><tr><td>2020-01-01 02:00:00</td><td>3161.865601</td><td>3854.66833332415</td><td>507.664632452534</td><td>182.520404552462</td><td>-1283.62904830438</td><td>-99.3587210247915</td><td>0</td></tr><tr><td>2020-01-01 03:00:00</td><td>3074.752442</td><td>3854.70278199151</td><td>194.770180894927</td><td>301.679930697139</td><td>-1139.44387268007</td><td>-136.956578903527</td><td>0</td></tr><tr><td>2020-01-01 04:00:00</td><td>3009.696167</td><td>3854.73723065887</td><td>362.767817543067</td><td>233.650638191549</td><td>-1210.42919703625</td><td>-231.030322357232</td><td>0</td></tr><tr><td>...</td><td>...</td><td>...</td><td>...</td><td>...</td><td>...</td><td>...</td><td>...</td></tr><tr><td>2022-12-31 19:00:00</td><td>4453.29764833333</td><td>3891.3997996449</td><td>-250.524063623803</td><td>-980.659051528486</td><td>1179.49347193987</td><td>613.587491900859</td><td>0</td></tr><tr><td>2022-12-31 20:00:00</td><td>4245.987671</td><td>3891.3624570101</td><td>-541.772298052867</td><td>-1026.42049205803</td><td>1376.78958406269</td><td>546.028420038027</td><td>0</td></tr><tr><td>2022-12-31 21:00:00</td><td>4092.87101266667</td><td>3891.3250967521</td><td>-1503.9974115721</td><td>-726.880227033727</td><td>1925.57924045415</td><td>506.84431406618</td><td>0</td></tr><tr><td>2022-12-31 22:00:00</td><td>3918.75976566667</td><td>3891.2877364941</td><td>-2115.96038301778</td><td>-562.73679742292</td><td>2237.20119715365</td><td>468.968012459578</td><td>0</td></tr><tr><td>2022-12-31 23:00:00</td><td>3821.72204566667</td><td>3891.25037623611</td><td>-2594.87734211276</td><td>-421.439940427394</td><td>2577.50695318007</td><td>369.281998790787</td><td>0</td></tr></tbody></table>"
      ]
     },
     "metadata": {},
     "output_type": "display_data"
    }
   ],
   "source": [
    "display_limited(mstl_decomp_DT)"
   ]
  },
  {
   "cell_type": "code",
   "execution_count": 72,
   "id": "82ff532f-a128-4a2a-947f-df6ee3e2a85f",
   "metadata": {},
   "outputs": [],
   "source": [
    "fwrite(mstl_decomp_DT, \"MSTL_decomp_results.csv\")"
   ]
  }
 ],
 "metadata": {
  "kernelspec": {
   "display_name": "R",
   "language": "R",
   "name": "ir"
  },
  "language_info": {
   "codemirror_mode": "r",
   "file_extension": ".r",
   "mimetype": "text/x-r-source",
   "name": "R",
   "pygments_lexer": "r",
   "version": "3.6.1"
  },
  "widgets": {
   "application/vnd.jupyter.widget-state+json": {
    "state": {},
    "version_major": 2,
    "version_minor": 0
   }
  }
 },
 "nbformat": 4,
 "nbformat_minor": 5
}

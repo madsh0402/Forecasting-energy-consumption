{
 "cells": [
  {
   "cell_type": "markdown",
   "id": "97ce69b5-4761-4d6e-be89-86b0501bf655",
   "metadata": {},
   "source": [
    "# Forecsting remainders with OLS"
   ]
  },
  {
   "cell_type": "markdown",
   "id": "41cac97a-c62c-41e6-896b-1e2a4cb78e6f",
   "metadata": {},
   "source": [
    "## Libraries"
   ]
  },
  {
   "cell_type": "code",
   "execution_count": 3,
   "id": "6f631bed-12af-42d9-80a4-7be2e5a576d5",
   "metadata": {},
   "outputs": [],
   "source": [
    "library(tidyverse)\n",
    "library(forecast)\n",
    "library(ggplot2)\n",
    "library(dplyr)\n",
    "library(data.table)\n",
    "library(IRdisplay)\n",
    "\n",
    "library(foreach)\n",
    "library(doParallel)\n",
    "\n",
    "library(caret)\n",
    "library(randomForest)"
   ]
  },
  {
   "cell_type": "markdown",
   "id": "4383c749-1a37-469a-a50f-5365cb8ecb7a",
   "metadata": {},
   "source": [
    "## Custom functions"
   ]
  },
  {
   "cell_type": "markdown",
   "id": "351fc1d0-5942-4cd6-a027-0da2be6d3b88",
   "metadata": {},
   "source": [
    "### Display tables"
   ]
  },
  {
   "cell_type": "code",
   "execution_count": 4,
   "id": "d64d148d-4fad-489e-996d-c71a476e6da5",
   "metadata": {},
   "outputs": [],
   "source": [
    "# Custom display function for the first and last 5 rows or full table if <= 20 rows\n",
    "display_limited <- function(dt) {\n",
    "  n <- nrow(dt)\n",
    "  \n",
    "  # If there are 20 or fewer rows, display the full table\n",
    "  if (n <= 20) {\n",
    "    limited_dt <- dt\n",
    "  } else {\n",
    "    # Otherwise, concatenate the first 5 rows, '...' and the last 5 rows\n",
    "    limited_dt <- rbind(head(dt, 5), as.list(rep(\"...\", ncol(dt))), tail(dt, 5))\n",
    "  }\n",
    "  \n",
    "  # Generate raw HTML manually\n",
    "  html_output <- paste0(\n",
    "    \"<table border='1' style='border-collapse:collapse;'>\",\n",
    "    \"<thead><tr>\",\n",
    "    paste0(\"<th>\", colnames(limited_dt), \"</th>\", collapse = \"\"),\n",
    "    \"</tr></thead>\",\n",
    "    \"<tbody>\",\n",
    "    paste0(\n",
    "      apply(limited_dt, 1, function(row) {\n",
    "        paste0(\"<tr>\", paste0(\"<td>\", row, \"</td>\", collapse = \"\"), \"</tr>\")\n",
    "      }),\n",
    "      collapse = \"\"\n",
    "    ),\n",
    "    \"</tbody></table>\"\n",
    "  )\n",
    "  \n",
    "  # Display the HTML in the Jupyter notebook\n",
    "  display_html(html_output)\n",
    "}\n"
   ]
  },
  {
   "cell_type": "markdown",
   "id": "c0021174-ea95-45ed-8577-3786ecefaa79",
   "metadata": {},
   "source": [
    "### Calculate metrics"
   ]
  },
  {
   "cell_type": "code",
   "execution_count": 5,
   "id": "b4c7771b-533e-425c-9efe-2e62630d094c",
   "metadata": {},
   "outputs": [],
   "source": [
    "calculate_metrics <- function(R_t, R_hat_t, individual) {\n",
    "  # Ensure the inputs are numeric vectors and individual is a dataframe\n",
    "  if (!is.numeric(R_t) || !is.numeric(R_hat_t)) {\n",
    "    stop(\"Both R_t and R_hat_t need to be numeric vectors.\")\n",
    "  }\n",
    "  \n",
    "  # Calculate metrics\n",
    "  mae <- mean(abs(R_t - R_hat_t), na.rm = TRUE)\n",
    "  rmse <- sqrt(mean((R_t - R_hat_t)^2, na.rm = TRUE))\n",
    "  mape <- mean(abs((R_t - R_hat_t) / R_t), na.rm = TRUE) * 100\n",
    "  r_squared <- ifelse(all(R_t == R_hat_t), 1, summary(lm(R_t ~ R_hat_t))$r.squared)\n",
    "  \n",
    "  # Create a data frame to hold the metrics and values\n",
    "  metrics_table <- data.frame(\n",
    "    MAE = mae,\n",
    "    RMSE = rmse,\n",
    "    MAPE = mape,\n",
    "    R_squared = r_squared\n",
    "  )\n",
    "  \n",
    "  # Return the metrics table\n",
    "  return(metrics_table)\n",
    "}"
   ]
  },
  {
   "cell_type": "markdown",
   "id": "737d0066-0dd6-4084-9852-75f665cec91a",
   "metadata": {},
   "source": [
    "### Data Preparation"
   ]
  },
  {
   "cell_type": "code",
   "execution_count": 6,
   "id": "ca729895-9308-4a2e-94e4-f8843db9638b",
   "metadata": {},
   "outputs": [],
   "source": [
    "prepare_X_t <- function(individual) {\n",
    "  # Ensure the input is a dataframe\n",
    "  if (!is.data.frame(individual)) {\n",
    "    stop(\"The input must be a dataframe.\")\n",
    "  }\n",
    "  \n",
    "  # Extract hour from start_time and create a 'time_of_day' column\n",
    "  individual$time_of_day <- format(as.POSIXct(individual$HourDK), \"%H:%M:%S\")\n",
    "  \n",
    "  # Exclude specified columns but keep 'time_of_day'\n",
    "  X_t <- subset(individual, select = -c(HourDK, GrossConsumptionMWh))\n",
    "  \n",
    "  # Convert month, weekday, and time_of_day to factors with a reference category\n",
    "  X_t$month <- relevel(as.factor(X_t$MonthOfYear), ref = \"December\")  # Set December as reference\n",
    "  X_t$weekday <- relevel(as.factor(X_t$DayOfWeek), ref = \"Sunday\")   # Set Sunday as reference \n",
    "  X_t$time_of_day <- relevel(as.factor(X_t$Hour), ref = \"0\")         # Set 23 (11 PM) as reference\n",
    "\n",
    "  # Remove original 'MonthOfYear', 'DayOfWeek', and 'Hour' columns to avoid duplication\n",
    "  X_t <- subset(X_t, select = -c(MonthOfYear, DayOfWeek, Hour))\n",
    "  \n",
    "  # Create dummy variables for all factor columns (excluding reference levels)\n",
    "  X_t <- model.matrix(~ . - 1, data = X_t)\n",
    "  \n",
    "  # Find the column indices for numerical columns AFTER creating dummy variables\n",
    "  num_cols <- grep(\"^(Electric cars|Plug-in hybrid cars|humidity_past1h|temp_mean_past1h|wind_speed_past1h|EL_price)\", colnames(X_t))\n",
    "  \n",
    "  # Standardize selected numerical columns\n",
    "  X_t[, num_cols] <- apply(X_t[, num_cols], 2, \n",
    "                           function(x) (x - min(x)) / (max(x) - min(x)))\n",
    "  \n",
    "  # Return the processed dataframe\n",
    "  return(as.data.frame(X_t))\n",
    "}\n"
   ]
  },
  {
   "cell_type": "markdown",
   "id": "11fa7cd5-3f8f-47d2-b1e9-8af86fdae409",
   "metadata": {},
   "source": [
    "### Lag and Align data by \\\\(h\\\\) (horizon)"
   ]
  },
  {
   "cell_type": "code",
   "execution_count": 7,
   "id": "10cbebd1-9f45-4812-928c-733adffe7000",
   "metadata": {},
   "outputs": [],
   "source": [
    "lag_and_align_data <- function(X_t, R_t, h = 1) {\n",
    "  # Validate inputs\n",
    "  if (!is.numeric(R_t)) {\n",
    "    stop(\"R_t should be a numeric vector.\")\n",
    "  }\n",
    "  if (!is.data.frame(X_t) && !is.matrix(X_t)) {\n",
    "    stop(\"X_t should be a dataframe or a matrix.\")\n",
    "  }\n",
    "  if (!is.numeric(h) || h < 1) {\n",
    "    stop(\"h should be a positive integer.\")\n",
    "  }\n",
    "  \n",
    "  # Convert X_t to a dataframe if it's a matrix\n",
    "  if (is.matrix(X_t)) {\n",
    "    X_t <- as.data.frame(X_t)\n",
    "  }\n",
    "  \n",
    "  # Align R_t with the lagged X_t\n",
    "  # Shift R_t by h positions to align with X_t from the previous timestep\n",
    "  R_t_aligned <- R_t[(h + 1):length(R_t)]\n",
    "  \n",
    "  # Keep X_t up to the second to last row, so it aligns with the shifted R_t\n",
    "  X_t_aligned <- X_t[1:(nrow(X_t) - h), ]\n",
    "  \n",
    "  # Return the aligned datasets\n",
    "  list(X_t = X_t_aligned, R_t = R_t_aligned)\n",
    "}"
   ]
  },
  {
   "cell_type": "markdown",
   "id": "2aa65e6a-0eab-4234-8ddd-eee86a3a525c",
   "metadata": {},
   "source": [
    "### Plot actual vs estimated"
   ]
  },
  {
   "cell_type": "code",
   "execution_count": 8,
   "id": "d3cfec9c-8ef2-43e4-b8ba-26ac42a9a9e4",
   "metadata": {},
   "outputs": [],
   "source": [
    "plot_actual_vs_estimated <- function(R_t, R_hat_t, individual) {\n",
    "  # Validate input\n",
    "  if (!is.numeric(R_t) || !is.numeric(R_hat_t)) {\n",
    "    stop(\"R_t and R_hat_t should be numeric vectors.\")\n",
    "  }\n",
    "  if (!is.data.frame(individual)) {\n",
    "    stop(\"individual should be a dataframe.\")\n",
    "  }\n",
    "    \n",
    "  # Create the plot\n",
    "  plot(R_t, type = 'l', col = 'blue', xlab = \"Time\", ylab = \"Value\", \n",
    "       main = \"Actual vs. Estimated Time Series\\nelvarme: %s, zip_code: %s\")\n",
    "  lines(R_hat_t, type = 'l', col = 'red')\n",
    "  legend(\"topleft\", legend = c(\"Actual\", \"Estimated\"), col = c(\"blue\", \"red\"), lty = 1)\n",
    "}"
   ]
  },
  {
   "cell_type": "markdown",
   "id": "fffa2264-14eb-43cc-9b4e-589ecb698c8c",
   "metadata": {},
   "source": [
    "## Loading data"
   ]
  },
  {
   "cell_type": "code",
   "execution_count": 9,
   "id": "06066991-fe8d-475f-8d67-915586ed6813",
   "metadata": {},
   "outputs": [],
   "source": [
    "##### Setting workign directory and loadign data #####\n",
    "base_path <- \"C:/Users/madsh/OneDrive/Dokumenter/kandidat/Fællesmappe/Forecasting-energy-consumption/Data Cleaning\"\n",
    "setwd(base_path)\n",
    "data <- fread(paste0(base_path,\"/Output_file.csv\"))\n",
    "MSTL <- fread(paste0(base_path,\"/MSTL_decomp_results.csv\"))"
   ]
  },
  {
   "cell_type": "markdown",
   "id": "453a2ed6-540d-4326-aff2-c39026850768",
   "metadata": {},
   "source": [
    "## Parameters"
   ]
  },
  {
   "cell_type": "code",
   "execution_count": 10,
   "id": "a25ab547-d7cd-4e74-b638-4e4a9213240b",
   "metadata": {},
   "outputs": [],
   "source": [
    "#train_size    <- 17544 #2 year training set\n",
    "train_size    <- 8784  #1 year training set\n",
    "num_timesteps <- 720\n",
    "h             <- 1\n",
    "ntree         <- 100\n",
    "total_size    <- nrow(data)-h"
   ]
  },
  {
   "cell_type": "markdown",
   "id": "ae717441-1788-4594-8968-69e2492b4df3",
   "metadata": {},
   "source": [
    "## Hyper parameter tuning"
   ]
  },
  {
   "cell_type": "code",
   "execution_count": 11,
   "id": "b272a797-ed13-4a0f-8624-c1ce501954c4",
   "metadata": {},
   "outputs": [],
   "source": [
    "individual <- data\n",
    "\n",
    "X_t <- prepare_X_t(as.data.frame(individual))\n",
    "R_t <- as.matrix(MSTL$Remainder, nrow = 26292, ncol = 1)\n",
    "\n",
    "lag_and_align <- lag_and_align_data(X_t, R_t)\n",
    "X_t <- as.matrix(lag_and_align$X_t)\n",
    "R_t <- as.numeric(as.matrix(lag_and_align$R_t))\n",
    "\n",
    "# Hyper-parameter tuning to find the best mtry value\n",
    "#tuned_results <- tuneRF(X_t, R_t, stepFactor = 1.5,\n",
    "                        #improve = 0.01, ntreeTry = 100, trace = TRUE, plot = TRUE)\n",
    "#best_mtry <- tuned_results[1, \"mtry\"]\n",
    "best_mtry <- 36"
   ]
  },
  {
   "cell_type": "markdown",
   "id": "f5a4ac0a-6a10-40d1-831d-cc257a2b5926",
   "metadata": {},
   "source": [
    "### Data preparation"
   ]
  },
  {
   "cell_type": "code",
   "execution_count": 12,
   "id": "19fd52b3-8a48-4371-92c8-4c8f4ca6c945",
   "metadata": {},
   "outputs": [],
   "source": [
    "X_t           <- prepare_X_t(as.data.frame(data))\n",
    "R_t           <- as.matrix(MSTL$Remainder, nrow = 26304, ncol = 1)\n",
    "  \n",
    "lag_and_align <- lag_and_align_data(X_t, R_t, h=h)\n",
    "X_t           <- as.matrix(lag_and_align$X_t)\n",
    "R_t           <- as.matrix(lag_and_align$R_t)\n",
    "\n",
    "# Set up parallel backend configuration\n",
    "no_cores <- detectCores()-6"
   ]
  },
  {
   "cell_type": "markdown",
   "id": "f4da7c51-eaf1-4813-a4eb-ab75300bdd8b",
   "metadata": {},
   "source": [
    "### Fitting"
   ]
  },
  {
   "cell_type": "code",
   "execution_count": 13,
   "id": "282b3067-c5ab-4ebf-8bfa-8c069e60a022",
   "metadata": {},
   "outputs": [],
   "source": [
    "no_cores <- detectCores()-6\n",
    "cl <- makeCluster(no_cores)\n",
    "registerDoParallel(cl)\n",
    "\n",
    "results <- foreach(j = seq(1, nrow(X_t) - train_size, by = num_timesteps), .combine = 'c', .packages = 'randomForest') %dopar% {\n",
    "    # Define the range for the training set\n",
    "    start_index <- j\n",
    "    end_index <- j + train_size - 1\n",
    "    \n",
    "    # Prepare the training set\n",
    "    train_X_t <- X_t[start_index:end_index, ]\n",
    "    train_R_t <- R_t[start_index:end_index]\n",
    "    \n",
    "    # Train the Random Forest model\n",
    "    rf_model <- randomForest(x = train_X_t, y = train_R_t, ntree=ntree, mtry=best_mtry)\n",
    "    \n",
    "    # Prepare the test set\n",
    "    test_start_index <- end_index + 1\n",
    "    test_end_index <- min(end_index + num_timesteps, total_size)\n",
    "    test_X_t <- X_t[test_start_index:test_end_index, , drop = FALSE]\n",
    "    \n",
    "    # Predict on the test set\n",
    "    test_predictions <- predict(rf_model, newdata = test_X_t)\n",
    "    \n",
    "    # Return the predictions\n",
    "    num_predictions_to_return <- min(num_timesteps, total_size - test_start_index + 1)\n",
    "    return(test_predictions[1:num_predictions_to_return])\n",
    "}\n",
    "stopCluster(cl)\n",
    "\n",
    "R_hat_t <- unlist(results)"
   ]
  },
  {
   "cell_type": "markdown",
   "id": "9d5fecdc-152c-4503-a3b5-52fd5524f2fd",
   "metadata": {},
   "source": [
    "### Fitting without parallel"
   ]
  },
  {
   "cell_type": "markdown",
   "id": "03f18ee3-7c1a-426e-8c15-db4a519fb430",
   "metadata": {},
   "source": [
    "### Calculating metrics"
   ]
  },
  {
   "cell_type": "code",
   "execution_count": 14,
   "id": "2f388d55-69fb-4f41-809c-a0106963c544",
   "metadata": {},
   "outputs": [
    {
     "data": {
      "text/html": [
       "<table border='1' style='border-collapse:collapse;'><thead><tr><th>MAE</th><th>RMSE</th><th>MAPE</th><th>R_squared</th></tr></thead><tbody><tr><td>134.247131809739</td><td>179.635054996422</td><td>483.841964822185</td><td>0.12820991783104</td></tr></tbody></table>"
      ]
     },
     "metadata": {},
     "output_type": "display_data"
    }
   ],
   "source": [
    "individual_metrics <- calculate_metrics(tail(R_t,n=length(R_t)-train_size), R_hat_t, data)\n",
    "display_limited(individual_metrics)"
   ]
  },
  {
   "cell_type": "code",
   "execution_count": 15,
   "id": "78490a0a-aea4-462f-96f5-866da9f84fc5",
   "metadata": {},
   "outputs": [],
   "source": [
    "# Define the file path\n",
    "path_R <- \"C:/Users/madsh/OneDrive/Dokumenter/kandidat/Fællesmappe/Forecasting-energy-consumption/Data/Results/RF/R_hat_t\"\n",
    "path_M <- \"C:/Users/madsh/OneDrive/Dokumenter/kandidat/Fællesmappe/Forecasting-energy-consumption/Data/Results/RF/Metrics\"\n",
    "# Automatically generate file names based on the parameters\n",
    "file_name_R_hat_t <- file.path(path_R, paste0(\"h=\", h, \"_steps_ahead=\", num_timesteps, \"_ntree=\", ntree, \"_RF_R_hat_t.csv\"))\n",
    "file_name_metrics <- file.path(path_M, paste0(\"h=\", h, \"_steps_ahead=\", num_timesteps, \"_ntree=\", ntree, \"_RF_Metrics.csv\"))\n",
    "\n",
    "# Save R_hat_t as a CSV file\n",
    "write.csv(R_hat_t, file = file_name_R_hat_t, row.names = FALSE)\n",
    "\n",
    "# Save individual_metrics as a CSV file\n",
    "write.csv(individual_metrics, file = file_name_metrics, row.names = FALSE)\n"
   ]
  }
 ],
 "metadata": {
  "kernelspec": {
   "display_name": "R",
   "language": "R",
   "name": "ir"
  },
  "language_info": {
   "codemirror_mode": "r",
   "file_extension": ".r",
   "mimetype": "text/x-r-source",
   "name": "R",
   "pygments_lexer": "r",
   "version": "3.6.1"
  },
  "widgets": {
   "application/vnd.jupyter.widget-state+json": {
    "state": {},
    "version_major": 2,
    "version_minor": 0
   }
  }
 },
 "nbformat": 4,
 "nbformat_minor": 5
}

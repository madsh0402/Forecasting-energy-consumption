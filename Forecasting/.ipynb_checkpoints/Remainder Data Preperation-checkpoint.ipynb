{
 "cells": [
  {
   "cell_type": "markdown",
   "id": "ea6f1129-507a-417f-80f4-17a04231c7ac",
   "metadata": {},
   "source": [
    "The scaling of features and the transformation of categorical variables into a format is done to help the interpreted by algorithms. This section dives into the role of Min-Max scaling in normalizing data, alongside the creation of dummy variables for categorical data, explaining how these processes improve model performance.\n",
    "Scaling features is essential in forecasting models that are sensitive to the magnitude of variables. Disparate scales across features can lead to skewed weight which affects the model’s assignments, whereas models disproportionately favor features with larger magnitudes. This affects the model's ability to generalize from the data for the worse.  Equally crucial is the treatment of categorical data through the creation of dummy variables. Many machine learning algorithms are designed to operate on numerical input and thus cannot directly handle categorical data. Dummy variables serve as a bridge, transforming qualitative data into a binary numerical format. As such enabling the inclusion of categorical predictors in the model. This allows for a broader analysis that incorporates both numerical and categorical influences on the forecasted outcome. As the dataset of this assignment has categorical variables this is an essential part of the model process.\n",
    "Moreover, the use of dummy variables preserves the nominal nature of the data without imposing an artificial relationship, which could mislead the model. This method ensures that the categorical data is accurately represented, allowing the model to discern the distinct influence of each category on the predictive outcome.\n",
    "The conversion of categorical variables into dummy or indicator variables process involves the following steps:\n",
    "\n",
    "\t1. Identification of Categorical Variables: Recognize all categorical variables        within the dataset that cannot be directly interpreted by numerical models.\n",
    "\t2. One-Hot Encoding: Implement one-hot encoding, a technique where each      category value is converted into a new binary column. For each record, the presence of a category is marked by 1, and 0 signifies its absence.\n",
    "\t3. Avoiding Dummy Variable Trap: Ensure that for each categorical feature with  N categories, N-1 dummy variables are created to prevent multicollinearity. \n",
    "    \n",
    "Now that the process of making dummy variables has been explained another problem arises in the dataset. The problem is that there are variables that have different scales, therefore Min-Max scaling is used. Min-Max is a normalization technique that adjusts the features of the data to a common scale, ranging from 0 to 1. This method transforms each feature by subtracting the minimum value of the feature and then divide by the range of the feature values. The formula for Min-Max scaling is given by:\n"
   ]
  },
  {
   "cell_type": "markdown",
   "id": "a3c6a088-718e-4373-8420-12ba05e85f97",
   "metadata": {},
   "source": [
    "\\[ x' = \\frac{x - \\min(x)}{\\max(x) - \\min(x)} \\]\n",
    "\n",
    "In this equation, \\( x' \\) denotes the scaled value, \\( x \\) represents the original value, \\( \\min(x) \\) is the minimum value across the feature, and \\( \\max(x) \\) is the maximum value. This transformation ensures that no single feature disproportionately influences the model due to its scale. This makes the model less sensitive to the scale of features and thus more capable of identifying the true underlying patterns in the data. By aligning the scales of the features, Min-Max scaling helps in stabilizing the convergence of algorithms and facilitating a more balanced weight assignment across features.\n"
   ]
  },
  {
   "cell_type": "code",
   "execution_count": null,
   "id": "70e73d04-d967-4791-9d91-a097b21d132e",
   "metadata": {},
   "outputs": [],
   "source": []
  }
 ],
 "metadata": {
  "kernelspec": {
   "display_name": "Python 3 (ipykernel)",
   "language": "python",
   "name": "python3"
  },
  "language_info": {
   "codemirror_mode": {
    "name": "ipython",
    "version": 3
   },
   "file_extension": ".py",
   "mimetype": "text/x-python",
   "name": "python",
   "nbconvert_exporter": "python",
   "pygments_lexer": "ipython3",
   "version": "3.9.12"
  }
 },
 "nbformat": 4,
 "nbformat_minor": 5
}

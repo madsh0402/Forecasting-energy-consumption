{
 "cells": [
  {
   "cell_type": "markdown",
   "id": "35ae53ea-c642-4942-88b5-9c8b5f826126",
   "metadata": {},
   "source": [
    "# Horison analysis with OLS"
   ]
  },
  {
   "cell_type": "markdown",
   "id": "fd7c680e-0444-4848-a94c-696a46f975b6",
   "metadata": {},
   "source": [
    "## Libraries"
   ]
  },
  {
   "cell_type": "code",
   "execution_count": 14,
   "id": "6633f5e1-476b-4a2f-9af6-b1d078ecbd3a",
   "metadata": {},
   "outputs": [],
   "source": [
    "library(tidyverse)\n",
    "library(forecast)\n",
    "library(ggplot2)\n",
    "library(dplyr)\n",
    "library(data.table)\n",
    "library(IRdisplay)\n",
    "\n",
    "library(foreach)\n",
    "library(doParallel)"
   ]
  },
  {
   "cell_type": "markdown",
   "id": "360f5693-6b6d-4ec0-9a26-df911ed9e0dd",
   "metadata": {},
   "source": [
    "## Custom functions"
   ]
  },
  {
   "cell_type": "markdown",
   "id": "1e8fb96b-512c-40da-a95e-7cd7d35622db",
   "metadata": {},
   "source": [
    "### Display tables"
   ]
  },
  {
   "cell_type": "code",
   "execution_count": 27,
   "id": "be9d8e37-241c-469e-970e-7c9c321becb3",
   "metadata": {},
   "outputs": [],
   "source": [
    "# Custom display function for the first and last 5 rows or full table if <= 20 rows\n",
    "display_limited <- function(dt) {\n",
    "  n <- nrow(dt)\n",
    "  \n",
    "  # If there are 20 or fewer rows, display the full table\n",
    "  if (n <= 20) {\n",
    "    limited_dt <- dt\n",
    "  } else {\n",
    "    # Otherwise, concatenate the first 5 rows, '...' and the last 5 rows\n",
    "    limited_dt <- rbind(head(dt, 5), as.list(rep(\"...\", ncol(dt))), tail(dt, 5))\n",
    "  }\n",
    "  \n",
    "  # Generate raw HTML manually\n",
    "  html_output <- paste0(\n",
    "    \"<table border='1' style='border-collapse:collapse;'>\",\n",
    "    \"<thead><tr>\",\n",
    "    paste0(\"<th>\", colnames(limited_dt), \"</th>\", collapse = \"\"),\n",
    "    \"</tr></thead>\",\n",
    "    \"<tbody>\",\n",
    "    paste0(\n",
    "      apply(limited_dt, 1, function(row) {\n",
    "        paste0(\"<tr>\", paste0(\"<td>\", row, \"</td>\", collapse = \"\"), \"</tr>\")\n",
    "      }),\n",
    "      collapse = \"\"\n",
    "    ),\n",
    "    \"</tbody></table>\"\n",
    "  )\n",
    "  \n",
    "  # Display the HTML in the Jupyter notebook\n",
    "  display_html(html_output)\n",
    "}\n"
   ]
  },
  {
   "cell_type": "markdown",
   "id": "6a04289b-3455-4708-88ec-b13e82d6fb81",
   "metadata": {},
   "source": [
    "### Calculate metrics"
   ]
  },
  {
   "cell_type": "code",
   "execution_count": 24,
   "id": "19082e5c-352b-478e-86e6-70332007514b",
   "metadata": {},
   "outputs": [],
   "source": [
    "calculate_metrics <- function(R_t, R_hat_t, individual) {\n",
    "  # Ensure the inputs are numeric vectors and individual is a dataframe\n",
    "  if (!is.numeric(R_t) || !is.numeric(R_hat_t)) {\n",
    "    stop(\"Both R_t and R_hat_t need to be numeric vectors.\")\n",
    "  }\n",
    "  \n",
    "  # Calculate metrics\n",
    "  mae <- mean(abs(R_t - R_hat_t), na.rm = TRUE)\n",
    "  rmse <- sqrt(mean((R_t - R_hat_t)^2, na.rm = TRUE))\n",
    "  mape <- mean(abs((R_t - R_hat_t) / R_t), na.rm = TRUE) * 100\n",
    "  r_squared <- ifelse(all(R_t == R_hat_t), 1, summary(lm(R_t ~ R_hat_t))$r.squared)\n",
    "  \n",
    "  # Create a data frame to hold the metrics and values\n",
    "  metrics_table <- data.frame(\n",
    "    MAE = mae,\n",
    "    RMSE = rmse,\n",
    "    MAPE = mape,\n",
    "    R_squared = r_squared\n",
    "  )\n",
    "  \n",
    "  # Return the metrics table\n",
    "  return(metrics_table)\n",
    "}"
   ]
  },
  {
   "cell_type": "markdown",
   "id": "6e8c1e57-c3d7-4f1d-85d8-950c3efbc626",
   "metadata": {},
   "source": [
    "### Data Preparation"
   ]
  },
  {
   "cell_type": "code",
   "execution_count": 6,
   "id": "83eb94bf-0018-4e61-9f62-656db246d305",
   "metadata": {},
   "outputs": [],
   "source": [
    "prepare_X_t <- function(individual) {\n",
    "  # Ensure the input is a dataframe\n",
    "  if (!is.data.frame(individual)) {\n",
    "    stop(\"The input must be a dataframe.\")\n",
    "  }\n",
    "  \n",
    "  # Extract hour from start_time and create a 'time_of_day' column\n",
    "  individual$time_of_day <- format(as.POSIXct(individual$HourDK), \"%H:%M:%S\")\n",
    "  \n",
    "  # Exclude specified columns but keep 'time_of_day'\n",
    "  X_t <- subset(individual, select = -c(HourDK, GrossConsumptionMWh))\n",
    "  \n",
    "  # Convert month, weekday, and time_of_day to factors with a reference category\n",
    "  X_t$month <- relevel(as.factor(X_t$MonthOfYear), ref = \"December\")  # Set December as reference\n",
    "  X_t$weekday <- relevel(as.factor(X_t$DayOfWeek), ref = \"Sunday\")   # Set Sunday as reference \n",
    "  X_t$time_of_day <- relevel(as.factor(X_t$Hour), ref = \"0\")         # Set 23 (11 PM) as reference\n",
    "\n",
    "  # Remove original 'MonthOfYear', 'DayOfWeek', and 'Hour' columns to avoid duplication\n",
    "  X_t <- subset(X_t, select = -c(MonthOfYear, DayOfWeek, Hour))\n",
    "  \n",
    "  # Create dummy variables for all factor columns (excluding reference levels)\n",
    "  X_t <- model.matrix(~ . - 1, data = X_t)\n",
    "  \n",
    "  # Find the column indices for numerical columns AFTER creating dummy variables\n",
    "  num_cols <- grep(\"^(Electric cars|Plug-in hybrid cars|humidity_past1h|temp_mean_past1h|wind_speed_past1h|EL_price)\", colnames(X_t))\n",
    "  \n",
    "  # Standardize selected numerical columns\n",
    "  X_t[, num_cols] <- apply(X_t[, num_cols], 2, \n",
    "                           function(x) (x - min(x)) / (max(x) - min(x)))\n",
    "  \n",
    "  # Return the processed dataframe\n",
    "  return(as.data.frame(X_t))\n",
    "}\n"
   ]
  },
  {
   "cell_type": "markdown",
   "id": "1eadf1ef-88c4-43a9-96f8-0a98ae755099",
   "metadata": {},
   "source": [
    "### Lag and Align data by \\\\(h\\\\) (horizon)"
   ]
  },
  {
   "cell_type": "code",
   "execution_count": 7,
   "id": "a65ee315-f380-4910-ba10-5a491e0ea708",
   "metadata": {},
   "outputs": [],
   "source": [
    "lag_and_align_data <- function(X_t, R_t, h = 1) {\n",
    "  # Validate inputs\n",
    "  if (!is.numeric(R_t)) {\n",
    "    stop(\"R_t should be a numeric vector.\")\n",
    "  }\n",
    "  if (!is.data.frame(X_t) && !is.matrix(X_t)) {\n",
    "    stop(\"X_t should be a dataframe or a matrix.\")\n",
    "  }\n",
    "  if (!is.numeric(h) || h < 1) {\n",
    "    stop(\"h should be a positive integer.\")\n",
    "  }\n",
    "  \n",
    "  # Convert X_t to a dataframe if it's a matrix\n",
    "  if (is.matrix(X_t)) {\n",
    "    X_t <- as.data.frame(X_t)\n",
    "  }\n",
    "  \n",
    "  # Align R_t with the lagged X_t\n",
    "  # Shift R_t by h positions to align with X_t from the previous timestep\n",
    "  R_t_aligned <- R_t[(h + 1):length(R_t)]\n",
    "  \n",
    "  # Keep X_t up to the second to last row, so it aligns with the shifted R_t\n",
    "  X_t_aligned <- X_t[1:(nrow(X_t) - h), ]\n",
    "  \n",
    "  # Return the aligned datasets\n",
    "  list(X_t = X_t_aligned, R_t = R_t_aligned)\n",
    "}"
   ]
  },
  {
   "cell_type": "markdown",
   "id": "d6cbc823-d2d5-43c5-83b8-756b3f0821a0",
   "metadata": {},
   "source": [
    "### Plot actual vs estimated"
   ]
  },
  {
   "cell_type": "code",
   "execution_count": 39,
   "id": "dd11ab49-4fb2-4f12-9431-0bf46e6f372d",
   "metadata": {},
   "outputs": [],
   "source": [
    "plot_actual_vs_estimated <- function(R_t, R_hat_t, individual) {\n",
    "  # Validate input\n",
    "  if (!is.numeric(R_t) || !is.numeric(R_hat_t)) {\n",
    "    stop(\"R_t and R_hat_t should be numeric vectors.\")\n",
    "  }\n",
    "  if (!is.data.frame(individual)) {\n",
    "    stop(\"individual should be a dataframe.\")\n",
    "  }\n",
    "    \n",
    "  # Create the plot\n",
    "  plot(R_t, type = 'l', col = 'blue', xlab = \"Time\", ylab = \"Value\", \n",
    "       main = \"Actual vs. Estimated Time Series\\nelvarme: %s, zip_code: %s\")\n",
    "  lines(R_hat_t, type = 'l', col = 'red')\n",
    "  legend(\"topleft\", legend = c(\"Actual\", \"Estimated\"), col = c(\"blue\", \"red\"), lty = 1)\n",
    "}"
   ]
  },
  {
   "cell_type": "markdown",
   "id": "461df4c2-a988-42b7-b0ca-623b1886bcc8",
   "metadata": {},
   "source": [
    "## Loading data"
   ]
  },
  {
   "cell_type": "code",
   "execution_count": 9,
   "id": "d16b62bd-4870-4294-a846-4e6118187ac1",
   "metadata": {},
   "outputs": [],
   "source": [
    "##### Setting workign directory and loadign data #####\n",
    "base_path <- \"C:/Users/madsh/OneDrive/Dokumenter/kandidat/Fællesmappe/Forecasting-energy-consumption/Data Cleaning\"\n",
    "setwd(base_path)\n",
    "data <- fread(paste0(base_path,\"/Output_file.csv\"))\n",
    "MSTL <- fread(paste0(base_path,\"/MSTL_decomp_results.csv\"))"
   ]
  },
  {
   "cell_type": "code",
   "execution_count": 10,
   "id": "fbd44921-afb3-4470-9952-0e03a77e6013",
   "metadata": {
    "scrolled": true
   },
   "outputs": [
    {
     "data": {
      "text/html": [
       "<table border='1' style='border-collapse:collapse;'><thead><tr><th>HourDK</th><th>GrossConsumptionMWh</th><th>DayOfWeek</th><th>Hour</th><th>MonthOfYear</th><th>IsHoliday</th><th>humidity_past1h</th><th>temp_mean_past1h</th><th>wind_speed_past1h</th><th>Electric cars</th><th>Plug-in hybrid cars</th><th>EL_price</th></tr></thead><tbody><tr><td>2020-01-01 00:00:00</td><td>3331.34729</td><td>Wednesday</td><td>0</td><td>January</td><td>1</td><td>83.9166666666667</td><td>0.1875</td><td>4.91666666666667</td><td>0.0168345864158592</td><td>0.0384981051875899</td><td>0.24965</td></tr><tr><td>2020-01-01 01:00:00</td><td>3257.505005</td><td>Wednesday</td><td>1</td><td>January</td><td>1</td><td>84.4590163934426</td><td>2.295</td><td>5.09824561403509</td><td>-0.0115555507029574</td><td>-0.0205336095532971</td><td>0.23733</td></tr><tr><td>2020-01-01 02:00:00</td><td>3161.865601</td><td>Wednesday</td><td>2</td><td>January</td><td>1</td><td>84.016393442623</td><td>2.45166666666667</td><td>5.15964912280702</td><td>0.00263903178507885</td><td>0.00896883055800934</td><td>0.23583</td></tr><tr><td>2020-01-01 03:00:00</td><td>3074.752442</td><td>Wednesday</td><td>3</td><td>January</td><td>1</td><td>82.8852459016394</td><td>2.67166666666667</td><td>5.5859649122807</td><td>0.00263941268625612</td><td>0.00896280545492623</td><td>0.23366</td></tr><tr><td>2020-01-01 04:00:00</td><td>3009.696167</td><td>Wednesday</td><td>4</td><td>January</td><td>1</td><td>81.7540983606557</td><td>2.87333333333333</td><td>5.87719298245614</td><td>0.00263981873867003</td><td>0.00895679376533565</td><td>0.23045</td></tr><tr><td>...</td><td>...</td><td>...</td><td>...</td><td>...</td><td>...</td><td>...</td><td>...</td><td>...</td><td>...</td><td>...</td><td>...</td></tr><tr><td>2022-12-31 19:00:00</td><td>4453.29764833333</td><td>Saturday</td><td>19</td><td>December</td><td>0</td><td>93.1166666666667</td><td>4.655</td><td>4.3625</td><td>0.0028915315944289</td><td>0.0011966104441985</td><td>0.30524</td></tr><tr><td>2022-12-31 20:00:00</td><td>4245.987671</td><td>Saturday</td><td>20</td><td>December</td><td>0</td><td>93.65</td><td>4.48833333333333</td><td>4.13035714285714</td><td>0.00289250688148002</td><td>0.00119745878606192</td><td>0.193615</td></tr><tr><td>2022-12-31 21:00:00</td><td>4092.87101266667</td><td>Saturday</td><td>21</td><td>December</td><td>0</td><td>93.85</td><td>4.44333333333333</td><td>3.76071428571429</td><td>0.00289349272748485</td><td>0.00119831465916764</td><td>0.11073</td></tr><tr><td>2022-12-31 22:00:00</td><td>3918.75976566667</td><td>Saturday</td><td>22</td><td>December</td><td>0</td><td>94.2</td><td>4.37666666666667</td><td>3.71428571428571</td><td>0.00289448913117774</td><td>0.00119917806309378</td><td>0.07392</td></tr><tr><td>2022-12-31 23:00:00</td><td>3821.72204566667</td><td>Saturday</td><td>23</td><td>December</td><td>0</td><td>94.3166666666667</td><td>4.465</td><td>4.16428571428571</td><td>0.00289549609122641</td><td>0.00120004899741843</td><td>0.03599</td></tr></tbody></table>"
      ]
     },
     "metadata": {},
     "output_type": "display_data"
    }
   ],
   "source": [
    "display_limited(data)"
   ]
  },
  {
   "cell_type": "markdown",
   "id": "3ba74a59-0e5e-4230-a282-81be41e15272",
   "metadata": {},
   "source": [
    "## Parameters"
   ]
  },
  {
   "cell_type": "code",
   "execution_count": 29,
   "id": "6fed4e22-3eda-410d-929e-4f134261e030",
   "metadata": {},
   "outputs": [],
   "source": [
    "train_size    <- 17537\n",
    "num_timesteps <- 1\n",
    "h             <- 1\n",
    "total_size <- nrow(data)-h"
   ]
  },
  {
   "cell_type": "markdown",
   "id": "6b8250d7-dc96-4f70-8ba8-aa8351f0ee64",
   "metadata": {},
   "source": [
    "### Data preparation"
   ]
  },
  {
   "cell_type": "code",
   "execution_count": 30,
   "id": "db570bae-09a9-435d-98f2-8bad0d3408f3",
   "metadata": {},
   "outputs": [],
   "source": [
    "X_t           <- prepare_X_t(as.data.frame(data))\n",
    "R_t           <- as.matrix(MSTL$Remainder, nrow = 26304, ncol = 1)\n",
    "  \n",
    "lag_and_align <- lag_and_align_data(X_t, R_t, h=h)\n",
    "X_t           <- as.matrix(lag_and_align$X_t)\n",
    "R_t           <- as.matrix(lag_and_align$R_t)\n",
    "\n",
    "# Set up parallel backend configuration\n",
    "no_cores <- detectCores()-1"
   ]
  },
  {
   "cell_type": "markdown",
   "id": "cd419960-89e5-4fe0-8238-1855de5f13e6",
   "metadata": {},
   "source": [
    "### Fitting"
   ]
  },
  {
   "cell_type": "code",
   "execution_count": 31,
   "id": "f0a5bb06-ee6c-44a8-9770-39b5ef415297",
   "metadata": {},
   "outputs": [],
   "source": [
    "cl <- makeCluster(no_cores)\n",
    "registerDoParallel(cl)\n",
    "\n",
    "results <- foreach(j = seq(1, nrow(X_t) - train_size, by = num_timesteps), .combine = 'c') %dopar% {\n",
    "        # Define the range for the training set\n",
    "        start_index <- j\n",
    "        end_index <- j + train_size - 1\n",
    "        \n",
    "        train_X_t <- X_t[start_index:end_index, ]\n",
    "        train_R_t <- R_t[start_index:end_index]\n",
    "        \n",
    "        ols_model <- lm(train_R_t ~ train_X_t)\n",
    "        \n",
    "        # Adjust the range for the test set based on available data\n",
    "        test_start_index <- end_index + 1\n",
    "        test_end_index <- min(end_index + num_timesteps, total_size)\n",
    "        \n",
    "        test_X_t <- as.data.frame(X_t[test_start_index:test_end_index, , drop = FALSE])\n",
    "        predicted_values <- predict(ols_model, newdata = test_X_t)\n",
    "        \n",
    "        # Determine the number of predictions to return based on remaining data\n",
    "        num_predictions_to_return <- min(num_timesteps, total_size - test_start_index + 1)\n",
    "        \n",
    "        # Return the correct number of predicted values\n",
    "        return(predicted_values[1:num_predictions_to_return])\n",
    "      }\n",
    "stopCluster(cl)\n",
    "\n",
    "R_hat_t <- unlist(results)"
   ]
  },
  {
   "cell_type": "code",
   "execution_count": 40,
   "id": "e1d3b553-b456-4e53-8f8b-9bb9b3ba10f1",
   "metadata": {},
   "outputs": [
    {
     "data": {
      "text/html": [
       "<table border='1' style='border-collapse:collapse;'><thead><tr><th>MAE</th><th>RMSE</th><th>MAPE</th><th>R_squared</th></tr></thead><tbody><tr><td>157.751505991418</td><td>205.9058763238</td><td>497.408441865125</td><td>0.00499078186116168</td></tr></tbody></table>"
      ]
     },
     "metadata": {},
     "output_type": "display_data"
    },
    {
     "data": {
      "image/png": "[encoded data removed]",
      "text/plain": [
       "Plot with title \"Actual vs. Estimated Time Series\n",
       "elvarme: %s, zip_code: %s\""
      ]
     },
     "metadata": {},
     "output_type": "display_data"
    }
   ],
   "source": [
    "individual_metrics <- calculate_metrics(tail(R_t,n=length(R_t)-train_size), R_hat_t, data)\n",
    "display_limited(individual_metrics)\n",
    "plot_actual_vs_estimated(R_t[train_size+1:length(R_t)], R_hat_t, data)"
   ]
  },
  {
   "cell_type": "code",
   "execution_count": 42,
   "id": "a8b9f114-2a6f-4041-8ad5-19d0046dd0cd",
   "metadata": {},
   "outputs": [
    {
     "ename": "ERROR",
     "evalue": "Error in if (n <= 20) {: argument har længden nul\n",
     "output_type": "error",
     "traceback": [
      "Error in if (n <= 20) {: argument har længden nul\nTraceback:\n",
      "1. display_limited(R_hat_t)"
     ]
    }
   ],
   "source": [
    "display_limited(R_hat_t)"
   ]
  },
  {
   "cell_type": "code",
   "execution_count": 53,
   "id": "6c02418a-a71a-4b37-9faa-0055af455bf0",
   "metadata": {},
   "outputs": [
    {
     "data": {
      "text/plain": [
       "\n",
       "Call:\n",
       "lm(formula = train_R_t ~ train_X_t)\n",
       "\n",
       "Residuals:\n",
       "    Min      1Q  Median      3Q     Max \n",
       "-926.03  -92.86   -0.34   89.48 1962.94 \n",
       "\n",
       "Coefficients: (1 not defined because of singularities)\n",
       "                                Estimate Std. Error t value Pr(>|t|)    \n",
       "(Intercept)                      42.9784    14.1689   3.033 0.002423 ** \n",
       "train_X_tIsHoliday             -277.2278     7.0570 -39.284  < 2e-16 ***\n",
       "train_X_thumidity_past1h        -84.2289     8.7072  -9.673  < 2e-16 ***\n",
       "train_X_ttemp_mean_past1h      -630.2844    18.3233 -34.398  < 2e-16 ***\n",
       "train_X_twind_speed_past1h      589.6533    10.4494  56.429  < 2e-16 ***\n",
       "train_X_t`Electric cars`       4293.5904   499.6350   8.593  < 2e-16 ***\n",
       "train_X_t`Plug-in hybrid cars` 4408.1824   312.1950  14.120  < 2e-16 ***\n",
       "train_X_tEL_price               353.4699    24.5486  14.399  < 2e-16 ***\n",
       "train_X_ttime_of_day0            -1.0058     7.9515  -0.126 0.899349    \n",
       "train_X_ttime_of_day1            -0.2244     7.9558  -0.028 0.977496    \n",
       "train_X_ttime_of_day2            -0.4825     7.9602  -0.061 0.951665    \n",
       "train_X_ttime_of_day3            -0.8564     7.9652  -0.108 0.914376    \n",
       "train_X_ttime_of_day4            -1.4362     7.9667  -0.180 0.856941    \n",
       "train_X_ttime_of_day5            -2.1086     7.9611  -0.265 0.791118    \n",
       "train_X_ttime_of_day6            -6.3933     7.9541  -0.804 0.421539    \n",
       "train_X_ttime_of_day7           -11.5150     7.9729  -1.444 0.148686    \n",
       "train_X_ttime_of_day8           -14.7049     8.0132  -1.835 0.066511 .  \n",
       "train_X_ttime_of_day9           -14.5760     8.0540  -1.810 0.070347 .  \n",
       "train_X_ttime_of_day10          -12.9931     8.1051  -1.603 0.108935    \n",
       "train_X_ttime_of_day11          -12.6889     8.1667  -1.554 0.120266    \n",
       "train_X_ttime_of_day12          -11.3661     8.2155  -1.383 0.166533    \n",
       "train_X_ttime_of_day13           -8.8540     8.2492  -1.073 0.283143    \n",
       "train_X_ttime_of_day14           -6.6439     8.2618  -0.804 0.421310    \n",
       "train_X_ttime_of_day15           -5.5423     8.2490  -0.672 0.501671    \n",
       "train_X_ttime_of_day16           -4.6887     8.2140  -0.571 0.568131    \n",
       "train_X_ttime_of_day17           -6.2095     8.1834  -0.759 0.447993    \n",
       "train_X_ttime_of_day18           -5.5073     8.1237  -0.678 0.497826    \n",
       "train_X_ttime_of_day19           -4.0206     8.0608  -0.499 0.617936    \n",
       "train_X_ttime_of_day20           -2.2110     8.0012  -0.276 0.782298    \n",
       "train_X_ttime_of_day21           -1.6759     7.9699  -0.210 0.833453    \n",
       "train_X_ttime_of_day22           -1.7801     7.9574  -0.224 0.822995    \n",
       "train_X_ttime_of_day23                NA         NA      NA       NA    \n",
       "train_X_tmonthApril              56.4521     6.7176   8.404  < 2e-16 ***\n",
       "train_X_tmonthAugust            192.0616     9.9009  19.398  < 2e-16 ***\n",
       "train_X_tmonthFebruary         -119.0362     7.2660 -16.383  < 2e-16 ***\n",
       "train_X_tmonthJanuary           -46.7442     5.8901  -7.936 2.21e-15 ***\n",
       "train_X_tmonthJuly              176.2142     9.4567  18.634  < 2e-16 ***\n",
       "train_X_tmonthJune              202.1861     9.5505  21.170  < 2e-16 ***\n",
       "train_X_tmonthMarch              20.4510     6.1193   3.342 0.000833 ***\n",
       "train_X_tmonthMay               123.5904     7.5074  16.463  < 2e-16 ***\n",
       "train_X_tmonthNovember          -43.8584     8.1604  -5.375 7.78e-08 ***\n",
       "train_X_tmonthOctober           129.9700     7.3318  17.727  < 2e-16 ***\n",
       "train_X_tmonthSeptember         176.1181     8.2122  21.446  < 2e-16 ***\n",
       "train_X_tweekdayFriday           10.9088     4.3131   2.529 0.011440 *  \n",
       "train_X_tweekdayMonday            2.2167     4.3355   0.511 0.609155    \n",
       "train_X_tweekdaySaturday          2.9183     4.3143   0.676 0.498776    \n",
       "train_X_tweekdayThursday         -5.9433     4.3230  -1.375 0.169205    \n",
       "train_X_tweekdayTuesday           1.1985     4.3496   0.276 0.782897    \n",
       "train_X_tweekdayWednesday        -9.0297     4.3323  -2.084 0.037151 *  \n",
       "---\n",
       "Signif. codes:  0 '***' 0.001 '**' 0.01 '*' 0.05 '.' 0.1 ' ' 1\n",
       "\n",
       "Residual standard error: 151.9 on 17489 degrees of freedom\n",
       "Multiple R-squared:  0.2699,\tAdjusted R-squared:  0.268 \n",
       "F-statistic: 137.6 on 47 and 17489 DF,  p-value: < 2.2e-16\n"
      ]
     },
     "metadata": {},
     "output_type": "display_data"
    }
   ],
   "source": [
    "summary(ols_model)"
   ]
  },
  {
   "cell_type": "code",
   "execution_count": 30,
   "id": "cd665855-cded-4398-9c34-bdc8693d040c",
   "metadata": {},
   "outputs": [
    {
     "ename": "ERROR",
     "evalue": "Error in calculate_metrics(tail(R_t, n = length(R_t) - train_size), R_hat_t, : objekt 'R_hat_t' blev ikke fundet\n",
     "output_type": "error",
     "traceback": [
      "Error in calculate_metrics(tail(R_t, n = length(R_t) - train_size), R_hat_t, : objekt 'R_hat_t' blev ikke fundet\nTraceback:\n",
      "1. calculate_metrics(tail(R_t, n = length(R_t) - train_size), R_hat_t, \n .     data)"
     ]
    }
   ],
   "source": [
    "individual_metrics <- calculate_metrics(tail(R_t,n=length(R_t)-train_size), R_hat_t, data)"
   ]
  },
  {
   "cell_type": "code",
   "execution_count": 58,
   "id": "0e86f9c3-69b6-41fa-9e8d-3652ef4ddb88",
   "metadata": {},
   "outputs": [
    {
     "data": {
      "text/html": [
       "<dl class=dl-horizontal>\n",
       "\t<dt>1</dt>\n",
       "\t\t<dd>-99.9640724175024</dd>\n",
       "\t<dt>2</dt>\n",
       "\t\t<dd>-511.913941063767</dd>\n",
       "\t<dt>3</dt>\n",
       "\t\t<dd>-320.930250308992</dd>\n",
       "\t<dt>4</dt>\n",
       "\t\t<dd>-307.117356178611</dd>\n",
       "\t<dt>5</dt>\n",
       "\t\t<dd>-298.465949728687</dd>\n",
       "\t<dt>6</dt>\n",
       "\t\t<dd>-282.919736597024</dd>\n",
       "</dl>\n"
      ],
      "text/latex": [
       "\\begin{description*}\n",
       "\\item[1] -99.9640724175024\n",
       "\\item[2] -511.913941063767\n",
       "\\item[3] -320.930250308992\n",
       "\\item[4] -307.117356178611\n",
       "\\item[5] -298.465949728687\n",
       "\\item[6] -282.919736597024\n",
       "\\end{description*}\n"
      ],
      "text/markdown": [
       "1\n",
       ":   -99.96407241750242\n",
       ":   -511.9139410637673\n",
       ":   -320.9302503089924\n",
       ":   -307.1173561786115\n",
       ":   -298.4659497286876\n",
       ":   -282.919736597024\n",
       "\n"
      ],
      "text/plain": [
       "         1          2          3          4          5          6 \n",
       " -99.96407 -511.91394 -320.93025 -307.11736 -298.46595 -282.91974 "
      ]
     },
     "metadata": {},
     "output_type": "display_data"
    }
   ],
   "source": [
    "head(predicted_values)"
   ]
  },
  {
   "cell_type": "code",
   "execution_count": 59,
   "id": "eea0aec3-ce00-4944-a5d9-e8d0f4f0ec5e",
   "metadata": {},
   "outputs": [
    {
     "data": {
      "text/html": [
       "<ol class=list-inline>\n",
       "\t<li>-180.133501074958</li>\n",
       "\t<li>-135.345094687655</li>\n",
       "\t<li>-114.478751274214</li>\n",
       "\t<li>-91.2875815834486</li>\n",
       "\t<li>-42.0310350420705</li>\n",
       "\t<li>-64.9405662479976</li>\n",
       "</ol>\n"
      ],
      "text/latex": [
       "\\begin{enumerate*}\n",
       "\\item -180.133501074958\n",
       "\\item -135.345094687655\n",
       "\\item -114.478751274214\n",
       "\\item -91.2875815834486\n",
       "\\item -42.0310350420705\n",
       "\\item -64.9405662479976\n",
       "\\end{enumerate*}\n"
      ],
      "text/markdown": [
       "1. -180.133501074958\n",
       "2. -135.345094687655\n",
       "3. -114.478751274214\n",
       "4. -91.2875815834486\n",
       "5. -42.0310350420705\n",
       "6. -64.9405662479976\n",
       "\n",
       "\n"
      ],
      "text/plain": [
       "[1] -180.13350 -135.34509 -114.47875  -91.28758  -42.03104  -64.94057"
      ]
     },
     "metadata": {},
     "output_type": "display_data"
    }
   ],
   "source": [
    "head(test_R_t)"
   ]
  },
  {
   "cell_type": "code",
   "execution_count": null,
   "id": "2fbbdb0c-ac03-42f3-bbb8-e5bca876e4bf",
   "metadata": {},
   "outputs": [],
   "source": []
  }
 ],
 "metadata": {
  "kernelspec": {
   "display_name": "R",
   "language": "R",
   "name": "ir"
  },
  "language_info": {
   "codemirror_mode": "r",
   "file_extension": ".r",
   "mimetype": "text/x-r-source",
   "name": "R",
   "pygments_lexer": "r",
   "version": "3.6.1"
  },
  "widgets": {
   "application/vnd.jupyter.widget-state+json": {
    "state": {},
    "version_major": 2,
    "version_minor": 0
   }
  }
 },
 "nbformat": 4,
 "nbformat_minor": 5
}

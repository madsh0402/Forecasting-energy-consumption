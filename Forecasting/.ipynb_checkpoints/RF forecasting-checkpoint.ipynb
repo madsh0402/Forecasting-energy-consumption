{
 "cells": [
  {
   "cell_type": "markdown",
   "id": "35ae53ea-c642-4942-88b5-9c8b5f826126",
   "metadata": {},
   "source": [
    "# Forecsting remainders with OLS"
   ]
  },
  {
   "cell_type": "markdown",
   "id": "fd7c680e-0444-4848-a94c-696a46f975b6",
   "metadata": {},
   "source": [
    "## Libraries"
   ]
  },
  {
   "cell_type": "code",
   "execution_count": 1,
   "id": "6633f5e1-476b-4a2f-9af6-b1d078ecbd3a",
   "metadata": {},
   "outputs": [
    {
     "name": "stderr",
     "output_type": "stream",
     "text": [
      "Registered S3 methods overwritten by 'ggplot2':\n",
      "  method         from \n",
      "  [.quosures     rlang\n",
      "  c.quosures     rlang\n",
      "  print.quosures rlang\n",
      "Registered S3 method overwritten by 'rvest':\n",
      "  method            from\n",
      "  read_xml.response xml2\n",
      "-- Attaching packages --------------------------------------- tidyverse 1.2.1 --\n",
      "v ggplot2 3.1.1       v purrr   0.3.2  \n",
      "v tibble  2.1.1       v dplyr   0.8.0.1\n",
      "v tidyr   0.8.3       v stringr 1.4.0  \n",
      "v readr   1.3.1       v forcats 0.4.0  \n",
      "-- Conflicts ------------------------------------------ tidyverse_conflicts() --\n",
      "x dplyr::filter() masks stats::filter()\n",
      "x dplyr::lag()    masks stats::lag()\n",
      "Registered S3 method overwritten by 'xts':\n",
      "  method     from\n",
      "  as.zoo.xts zoo \n",
      "Registered S3 method overwritten by 'quantmod':\n",
      "  method            from\n",
      "  as.zoo.data.frame zoo \n",
      "Registered S3 methods overwritten by 'forecast':\n",
      "  method             from    \n",
      "  fitted.fracdiff    fracdiff\n",
      "  residuals.fracdiff fracdiff\n",
      "\n",
      "Attaching package: 'data.table'\n",
      "\n",
      "The following objects are masked from 'package:dplyr':\n",
      "\n",
      "    between, first, last\n",
      "\n",
      "The following object is masked from 'package:purrr':\n",
      "\n",
      "    transpose\n",
      "\n",
      "\n",
      "Attaching package: 'foreach'\n",
      "\n",
      "The following objects are masked from 'package:purrr':\n",
      "\n",
      "    accumulate, when\n",
      "\n",
      "Loading required package: iterators\n",
      "Loading required package: parallel\n",
      "Loading required package: lattice\n",
      "\n",
      "Attaching package: 'caret'\n",
      "\n",
      "The following object is masked from 'package:purrr':\n",
      "\n",
      "    lift\n",
      "\n",
      "randomForest 4.6-14\n",
      "Type rfNews() to see new features/changes/bug fixes.\n",
      "\n",
      "Attaching package: 'randomForest'\n",
      "\n",
      "The following object is masked from 'package:dplyr':\n",
      "\n",
      "    combine\n",
      "\n",
      "The following object is masked from 'package:ggplot2':\n",
      "\n",
      "    margin\n",
      "\n"
     ]
    }
   ],
   "source": [
    "library(tidyverse)\n",
    "library(forecast)\n",
    "library(ggplot2)\n",
    "library(dplyr)\n",
    "library(data.table)\n",
    "library(IRdisplay)\n",
    "\n",
    "library(foreach)\n",
    "library(doParallel)\n",
    "\n",
    "library(caret)\n",
    "library(randomForest)"
   ]
  },
  {
   "cell_type": "markdown",
   "id": "360f5693-6b6d-4ec0-9a26-df911ed9e0dd",
   "metadata": {},
   "source": [
    "## Custom functions"
   ]
  },
  {
   "cell_type": "markdown",
   "id": "1e8fb96b-512c-40da-a95e-7cd7d35622db",
   "metadata": {
    "jp-MarkdownHeadingCollapsed": true
   },
   "source": [
    "### Display tables"
   ]
  },
  {
   "cell_type": "code",
   "execution_count": 2,
   "id": "be9d8e37-241c-469e-970e-7c9c321becb3",
   "metadata": {},
   "outputs": [],
   "source": [
    "# Custom display function for the first and last 5 rows or full table if <= 20 rows\n",
    "display_limited <- function(dt) {\n",
    "  n <- nrow(dt)\n",
    "  \n",
    "  # If there are 20 or fewer rows, display the full table\n",
    "  if (n <= 20) {\n",
    "    limited_dt <- dt\n",
    "  } else {\n",
    "    # Otherwise, concatenate the first 5 rows, '...' and the last 5 rows\n",
    "    limited_dt <- rbind(head(dt, 5), as.list(rep(\"...\", ncol(dt))), tail(dt, 5))\n",
    "  }\n",
    "  \n",
    "  # Generate raw HTML manually\n",
    "  html_output <- paste0(\n",
    "    \"<table border='1' style='border-collapse:collapse;'>\",\n",
    "    \"<thead><tr>\",\n",
    "    paste0(\"<th>\", colnames(limited_dt), \"</th>\", collapse = \"\"),\n",
    "    \"</tr></thead>\",\n",
    "    \"<tbody>\",\n",
    "    paste0(\n",
    "      apply(limited_dt, 1, function(row) {\n",
    "        paste0(\"<tr>\", paste0(\"<td>\", row, \"</td>\", collapse = \"\"), \"</tr>\")\n",
    "      }),\n",
    "      collapse = \"\"\n",
    "    ),\n",
    "    \"</tbody></table>\"\n",
    "  )\n",
    "  \n",
    "  # Display the HTML in the Jupyter notebook\n",
    "  display_html(html_output)\n",
    "}\n"
   ]
  },
  {
   "cell_type": "markdown",
   "id": "6a04289b-3455-4708-88ec-b13e82d6fb81",
   "metadata": {
    "jp-MarkdownHeadingCollapsed": true
   },
   "source": [
    "### Calculate metrics"
   ]
  },
  {
   "cell_type": "code",
   "execution_count": 3,
   "id": "19082e5c-352b-478e-86e6-70332007514b",
   "metadata": {},
   "outputs": [],
   "source": [
    "calculate_metrics <- function(R_t, R_hat_t, individual) {\n",
    "  # Ensure the inputs are numeric vectors and individual is a dataframe\n",
    "  if (!is.numeric(R_t) || !is.numeric(R_hat_t)) {\n",
    "    stop(\"Both R_t and R_hat_t need to be numeric vectors.\")\n",
    "  }\n",
    "  \n",
    "  # Calculate metrics\n",
    "  mae <- mean(abs(R_t - R_hat_t), na.rm = TRUE)\n",
    "  rmse <- sqrt(mean((R_t - R_hat_t)^2, na.rm = TRUE))\n",
    "  mape <- mean(abs((R_t - R_hat_t) / R_t), na.rm = TRUE) * 100\n",
    "  r_squared <- ifelse(all(R_t == R_hat_t), 1, summary(lm(R_t ~ R_hat_t))$r.squared)\n",
    "  \n",
    "  # Create a data frame to hold the metrics and values\n",
    "  metrics_table <- data.frame(\n",
    "    MAE = mae,\n",
    "    RMSE = rmse,\n",
    "    MAPE = mape,\n",
    "    R_squared = r_squared\n",
    "  )\n",
    "  \n",
    "  # Return the metrics table\n",
    "  return(metrics_table)\n",
    "}"
   ]
  },
  {
   "cell_type": "markdown",
   "id": "6e8c1e57-c3d7-4f1d-85d8-950c3efbc626",
   "metadata": {
    "jp-MarkdownHeadingCollapsed": true
   },
   "source": [
    "### Data Preparation"
   ]
  },
  {
   "cell_type": "code",
   "execution_count": 4,
   "id": "83eb94bf-0018-4e61-9f62-656db246d305",
   "metadata": {},
   "outputs": [],
   "source": [
    "prepare_X_t <- function(individual) {\n",
    "  # Ensure the input is a dataframe\n",
    "  if (!is.data.frame(individual)) {\n",
    "    stop(\"The input must be a dataframe.\")\n",
    "  }\n",
    "  \n",
    "  # Extract hour from start_time and create a 'time_of_day' column\n",
    "  individual$time_of_day <- format(as.POSIXct(individual$HourDK), \"%H:%M:%S\")\n",
    "  \n",
    "  # Exclude specified columns but keep 'time_of_day'\n",
    "  X_t <- subset(individual, select = -c(HourDK, GrossConsumptionMWh))\n",
    "  \n",
    "  # Convert month, weekday, and time_of_day to factors with a reference category\n",
    "  X_t$month <- relevel(as.factor(X_t$MonthOfYear), ref = \"December\")  # Set December as reference\n",
    "  X_t$weekday <- relevel(as.factor(X_t$DayOfWeek), ref = \"Sunday\")   # Set Sunday as reference \n",
    "  X_t$time_of_day <- relevel(as.factor(X_t$Hour), ref = \"0\")         # Set 23 (11 PM) as reference\n",
    "\n",
    "  # Remove original 'MonthOfYear', 'DayOfWeek', and 'Hour' columns to avoid duplication\n",
    "  X_t <- subset(X_t, select = -c(MonthOfYear, DayOfWeek, Hour))\n",
    "  \n",
    "  # Create dummy variables for all factor columns (excluding reference levels)\n",
    "  X_t <- model.matrix(~ . - 1, data = X_t)\n",
    "  \n",
    "  # Find the column indices for numerical columns AFTER creating dummy variables\n",
    "  num_cols <- grep(\"^(Electric cars|Plug-in hybrid cars|humidity_past1h|temp_mean_past1h|wind_speed_past1h|EL_price)\", colnames(X_t))\n",
    "  \n",
    "  # Standardize selected numerical columns\n",
    "  X_t[, num_cols] <- apply(X_t[, num_cols], 2, \n",
    "                           function(x) (x - min(x)) / (max(x) - min(x)))\n",
    "  \n",
    "  # Return the processed dataframe\n",
    "  return(as.data.frame(X_t))\n",
    "}\n"
   ]
  },
  {
   "cell_type": "markdown",
   "id": "1eadf1ef-88c4-43a9-96f8-0a98ae755099",
   "metadata": {
    "jp-MarkdownHeadingCollapsed": true
   },
   "source": [
    "### Lag and Align data by \\\\(h\\\\) (horizon)"
   ]
  },
  {
   "cell_type": "code",
   "execution_count": 5,
   "id": "a65ee315-f380-4910-ba10-5a491e0ea708",
   "metadata": {},
   "outputs": [],
   "source": [
    "lag_and_align_data <- function(X_t, R_t, h = 1) {\n",
    "  # Validate inputs\n",
    "  if (!is.numeric(R_t)) {\n",
    "    stop(\"R_t should be a numeric vector.\")\n",
    "  }\n",
    "  if (!is.data.frame(X_t) && !is.matrix(X_t)) {\n",
    "    stop(\"X_t should be a dataframe or a matrix.\")\n",
    "  }\n",
    "  if (!is.numeric(h) || h < 1) {\n",
    "    stop(\"h should be a positive integer.\")\n",
    "  }\n",
    "  \n",
    "  # Convert X_t to a dataframe if it's a matrix\n",
    "  if (is.matrix(X_t)) {\n",
    "    X_t <- as.data.frame(X_t)\n",
    "  }\n",
    "  \n",
    "  # Align R_t with the lagged X_t\n",
    "  # Shift R_t by h positions to align with X_t from the previous timestep\n",
    "  R_t_aligned <- R_t[(h + 1):length(R_t)]\n",
    "  \n",
    "  # Keep X_t up to the second to last row, so it aligns with the shifted R_t\n",
    "  X_t_aligned <- X_t[1:(nrow(X_t) - h), ]\n",
    "  \n",
    "  # Return the aligned datasets\n",
    "  list(X_t = X_t_aligned, R_t = R_t_aligned)\n",
    "}"
   ]
  },
  {
   "cell_type": "markdown",
   "id": "d6cbc823-d2d5-43c5-83b8-756b3f0821a0",
   "metadata": {
    "jp-MarkdownHeadingCollapsed": true
   },
   "source": [
    "### Plot actual vs estimated"
   ]
  },
  {
   "cell_type": "code",
   "execution_count": 6,
   "id": "dd11ab49-4fb2-4f12-9431-0bf46e6f372d",
   "metadata": {},
   "outputs": [],
   "source": [
    "plot_actual_vs_estimated <- function(R_t, R_hat_t, individual) {\n",
    "  # Validate input\n",
    "  if (!is.numeric(R_t) || !is.numeric(R_hat_t)) {\n",
    "    stop(\"R_t and R_hat_t should be numeric vectors.\")\n",
    "  }\n",
    "  if (!is.data.frame(individual)) {\n",
    "    stop(\"individual should be a dataframe.\")\n",
    "  }\n",
    "    \n",
    "  # Create the plot\n",
    "  plot(R_t, type = 'l', col = 'blue', xlab = \"Time\", ylab = \"Value\", \n",
    "       main = \"Actual vs. Estimated Time Series\\nelvarme: %s, zip_code: %s\")\n",
    "  lines(R_hat_t, type = 'l', col = 'red')\n",
    "  legend(\"topleft\", legend = c(\"Actual\", \"Estimated\"), col = c(\"blue\", \"red\"), lty = 1)\n",
    "}"
   ]
  },
  {
   "cell_type": "markdown",
   "id": "461df4c2-a988-42b7-b0ca-623b1886bcc8",
   "metadata": {},
   "source": [
    "## Loading data"
   ]
  },
  {
   "cell_type": "code",
   "execution_count": 7,
   "id": "d16b62bd-4870-4294-a846-4e6118187ac1",
   "metadata": {},
   "outputs": [],
   "source": [
    "##### Setting workign directory and loadign data #####\n",
    "base_path <- \"C:/Users/madsh/OneDrive/Dokumenter/kandidat/Fællesmappe/Forecasting-energy-consumption/Data Cleaning\"\n",
    "setwd(base_path)\n",
    "data <- fread(paste0(base_path,\"/Output_file.csv\"))\n",
    "MSTL <- fread(paste0(base_path,\"/MSTL_decomp_results.csv\"))"
   ]
  },
  {
   "cell_type": "markdown",
   "id": "3ba74a59-0e5e-4230-a282-81be41e15272",
   "metadata": {},
   "source": [
    "## Parameters"
   ]
  },
  {
   "cell_type": "code",
   "execution_count": 8,
   "id": "6fed4e22-3eda-410d-929e-4f134261e030",
   "metadata": {},
   "outputs": [],
   "source": [
    "#train_size    <- 17544 #2 year training set\n",
    "train_size    <- 8784  #1 year training set\n",
    "num_timesteps <- 12\n",
    "h             <- 1\n",
    "ntree         <- 200\n",
    "total_size    <- nrow(data)-h"
   ]
  },
  {
   "cell_type": "markdown",
   "id": "fe44fa42-51b3-4eff-b2a9-89b3cf236481",
   "metadata": {},
   "source": [
    "## Hyper parameter tuning"
   ]
  },
  {
   "cell_type": "code",
   "execution_count": 9,
   "id": "e7b2af92-cd5d-49b7-91cf-06691bba5ea5",
   "metadata": {},
   "outputs": [],
   "source": [
    "individual <- data\n",
    "\n",
    "X_t <- prepare_X_t(as.data.frame(individual))\n",
    "R_t <- as.matrix(MSTL$Remainder, nrow = 26292, ncol = 1)\n",
    "\n",
    "lag_and_align <- lag_and_align_data(X_t, R_t)\n",
    "X_t <- as.matrix(lag_and_align$X_t)\n",
    "R_t <- as.numeric(as.matrix(lag_and_align$R_t))\n",
    "\n",
    "# Hyper-parameter tuning to find the best mtry value\n",
    "#tuned_results <- tuneRF(X_t, R_t, stepFactor = 1.5,\n",
    "                        #improve = 0.01, ntreeTry = 100, trace = TRUE, plot = TRUE)\n",
    "#best_mtry <- tuned_results[1, \"mtry\"]\n",
    "best_mtry <- 36"
   ]
  },
  {
   "cell_type": "markdown",
   "id": "6b8250d7-dc96-4f70-8ba8-aa8351f0ee64",
   "metadata": {},
   "source": [
    "### Data preparation"
   ]
  },
  {
   "cell_type": "code",
   "execution_count": 11,
   "id": "db570bae-09a9-435d-98f2-8bad0d3408f3",
   "metadata": {},
   "outputs": [],
   "source": [
    "X_t           <- prepare_X_t(as.data.frame(data))\n",
    "R_t           <- as.matrix(MSTL$Remainder, nrow = 26304, ncol = 1)\n",
    "  \n",
    "lag_and_align <- lag_and_align_data(X_t, R_t, h=h)\n",
    "X_t           <- as.matrix(lag_and_align$X_t)\n",
    "R_t           <- as.matrix(lag_and_align$R_t)\n",
    "\n",
    "# Set up parallel backend configuration\n",
    "no_cores <- detectCores()/2"
   ]
  },
  {
   "cell_type": "markdown",
   "id": "cd419960-89e5-4fe0-8238-1855de5f13e6",
   "metadata": {},
   "source": [
    "### Fitting"
   ]
  },
  {
   "cell_type": "code",
   "execution_count": null,
   "id": "f0a5bb06-ee6c-44a8-9770-39b5ef415297",
   "metadata": {},
   "outputs": [],
   "source": [
    "cl <- makeCluster(no_cores)\n",
    "registerDoParallel(cl)\n",
    "\n",
    "results <- foreach(j = seq(1, nrow(X_t) - train_size, by = num_timesteps), .combine = 'c', .packages = 'randomForest') %dopar% {\n",
    "    # Define the range for the training set\n",
    "    start_index <- j\n",
    "    end_index <- j + train_size - 1\n",
    "    \n",
    "    # Prepare the training set\n",
    "    train_X_t <- X_t[start_index:end_index, ]\n",
    "    train_R_t <- R_t[start_index:end_index]\n",
    "    \n",
    "    # Train the Random Forest model\n",
    "    rf_model <- randomForest(x = train_X_t, y = train_R_t, ntree=ntree, mtry=best_mtry)\n",
    "    \n",
    "    # Prepare the test set\n",
    "    test_start_index <- end_index + 1\n",
    "    test_end_index <- min(end_index + num_timesteps, total_size)\n",
    "    test_X_t <- X_t[test_start_index:test_end_index, , drop = FALSE]\n",
    "    \n",
    "    # Predict on the test set\n",
    "    test_predictions <- predict(rf_model, newdata = test_X_t)\n",
    "    \n",
    "    # Return the predictions\n",
    "    num_predictions_to_return <- min(num_timesteps, total_size - test_start_index + 1)\n",
    "    return(test_predictions[1:num_predictions_to_return])\n",
    "}\n",
    "stopCluster(cl)\n",
    "\n",
    "R_hat_t <- unlist(results)"
   ]
  },
  {
   "cell_type": "markdown",
   "id": "2d0645fe-afd9-4656-8e57-9382c4b508c4",
   "metadata": {},
   "source": [
    "### Calculating metrics"
   ]
  },
  {
   "cell_type": "code",
   "execution_count": 16,
   "id": "e1d3b553-b456-4e53-8f8b-9bb9b3ba10f1",
   "metadata": {},
   "outputs": [
    {
     "data": {
      "text/html": [
       "<table border='1' style='border-collapse:collapse;'><thead><tr><th>MAE</th><th>RMSE</th><th>MAPE</th><th>R_squared</th></tr></thead><tbody><tr><td>126.199718794926</td><td>168.594753345</td><td>360.210946577689</td><td>0.158330372734892</td></tr></tbody></table>"
      ]
     },
     "metadata": {},
     "output_type": "display_data"
    }
   ],
   "source": [
    "individual_metrics <- calculate_metrics(tail(R_t,n=length(R_t)-train_size), R_hat_t, data)\n",
    "display_limited(individual_metrics)"
   ]
  },
  {
   "cell_type": "code",
   "execution_count": 337,
   "id": "cda6d633-51fd-4b8c-b79e-a5e62b215584",
   "metadata": {},
   "outputs": [],
   "source": [
    "# Define the file path\n",
    "path_R <- \"C:/Users/madsh/OneDrive/Dokumenter/kandidat/Fællesmappe/Forecasting-energy-consumption/Data/Results/OLS/R_hat_t\"\n",
    "path_M <- \"C:/Users/madsh/OneDrive/Dokumenter/kandidat/Fællesmappe/Forecasting-energy-consumption/Data/Results/OLS/Metrics\"\n",
    "# Automatically generate file names based on the parameters\n",
    "file_name_R_hat_t <- file.path(path_R, paste0(\"2yTrain_h=\", h, \"_steps_ahead=\", num_timesteps, \"_OLS_R_hat_t.csv\"))\n",
    "file_name_metrics <- file.path(path_M, paste0(\"2yTrain_h=\", h, \"_steps_ahead=\", num_timesteps, \"_OLS_Metrics.csv\"))\n",
    "\n",
    "# Save R_hat_t as a CSV file\n",
    "write.csv(R_hat_t, file = file_name_R_hat_t, row.names = FALSE)\n",
    "\n",
    "# Save individual_metrics as a CSV file\n",
    "write.csv(individual_metrics, file = file_name_metrics, row.names = FALSE)\n"
   ]
  }
 ],
 "metadata": {
  "kernelspec": {
   "display_name": "R",
   "language": "R",
   "name": "ir"
  },
  "language_info": {
   "codemirror_mode": "r",
   "file_extension": ".r",
   "mimetype": "text/x-r-source",
   "name": "R",
   "pygments_lexer": "r",
   "version": "3.6.1"
  },
  "widgets": {
   "application/vnd.jupyter.widget-state+json": {
    "state": {},
    "version_major": 2,
    "version_minor": 0
   }
  }
 },
 "nbformat": 4,
 "nbformat_minor": 5
}

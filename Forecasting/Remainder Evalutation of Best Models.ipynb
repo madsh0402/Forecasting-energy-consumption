{
 "cells": [
  {
   "cell_type": "markdown",
   "id": "04e51d95-0495-4e7e-b295-3d3654edd216",
   "metadata": {},
   "source": [
    "Now that we have analyzed and found the optimal setting for each of the OLS and RF models, the effectiveness of the models in forecasting detrended and deseasonalized energy consumption can be evaluated, where the goal is to account for all variability not explained by trend or the seasonal components. "
   ]
  },
  {
   "cell_type": "code",
   "execution_count": null,
   "id": "fca78723-b501-491e-8e16-c8604ec3e213",
   "metadata": {},
   "outputs": [],
   "source": []
  }
 ],
 "metadata": {
  "kernelspec": {
   "display_name": "Python 3 (ipykernel)",
   "language": "python",
   "name": "python3"
  },
  "language_info": {
   "codemirror_mode": {
    "name": "ipython",
    "version": 3
   },
   "file_extension": ".py",
   "mimetype": "text/x-python",
   "name": "python",
   "nbconvert_exporter": "python",
   "pygments_lexer": "ipython3",
   "version": "3.9.12"
  }
 },
 "nbformat": 4,
 "nbformat_minor": 5
}

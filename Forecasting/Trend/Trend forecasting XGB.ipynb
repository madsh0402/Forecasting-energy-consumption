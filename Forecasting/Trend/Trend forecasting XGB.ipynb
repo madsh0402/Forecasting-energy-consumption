{
 "cells": [
  {
   "cell_type": "markdown",
   "id": "cdfd1dde-1f66-4601-86b1-72ab85b1acb8",
   "metadata": {},
   "source": [
    "# Forecsting remainders with OLS"
   ]
  },
  {
   "cell_type": "markdown",
   "id": "3fb92707-6237-4269-a83f-146f4b00c958",
   "metadata": {},
   "source": [
    "## Libraries"
   ]
  },
  {
   "cell_type": "code",
   "execution_count": 22,
   "id": "519f780a-2bce-4585-839c-f32a0499a2ea",
   "metadata": {},
   "outputs": [
    {
     "name": "stderr",
     "output_type": "stream",
     "text": [
      "Warning message in install.packages(\"C:/Users/madsh/Downloads/path/to/withr_2.1.2.tar.gz\", :\n",
      "\"installation of package 'C:/Users/madsh/Downloads/path/to/withr_2.1.2.tar.gz' had non-zero exit status\"-- Attaching packages --------------------------------------- tidyverse 1.2.1 --\n",
      "v ggplot2 3.1.1       v purrr   0.3.2  \n",
      "v tibble  2.1.1       v dplyr   0.8.0.1\n",
      "v tidyr   0.8.3       v stringr 1.4.0  \n",
      "v readr   1.3.1       v forcats 0.4.0  \n"
     ]
    },
    {
     "ename": "ERROR",
     "evalue": "Error: package or namespace load failed for 'tidyverse':\n .onAttach failed in attachNamespace() for 'tidyverse', details:\n  call: NULL\n  error: package or namespace load failed for 'ggplot2':\n .onAttach failed in attachNamespace() for 'ggplot2', details:\n  call: NULL\n  error: .onLoad failed in loadNamespace() for 'withr', details:\n  call: unlockBinding(\"defer\", <environment>)\n  error: ingen binding for \"defer\"\n",
     "output_type": "error",
     "traceback": [
      "Error: package or namespace load failed for 'tidyverse':\n .onAttach failed in attachNamespace() for 'tidyverse', details:\n  call: NULL\n  error: package or namespace load failed for 'ggplot2':\n .onAttach failed in attachNamespace() for 'ggplot2', details:\n  call: NULL\n  error: .onLoad failed in loadNamespace() for 'withr', details:\n  call: unlockBinding(\"defer\", <environment>)\n  error: ingen binding for \"defer\"\nTraceback:\n",
      "1. library(tidyverse)",
      "2. tryCatch({\n .     attr(package, \"LibPath\") <- which.lib.loc\n .     ns <- loadNamespace(package, lib.loc)\n .     env <- attachNamespace(ns, pos = pos, deps, exclude, include.only)\n . }, error = function(e) {\n .     P <- if (!is.null(cc <- conditionCall(e))) \n .         paste(\" in\", deparse(cc)[1L])\n .     else \"\"\n .     msg <- gettextf(\"package or namespace load failed for %s%s:\\n %s\", \n .         sQuote(package), P, conditionMessage(e))\n .     if (logical.return) \n .         message(paste(\"Error:\", msg), domain = NA)\n .     else stop(msg, call. = FALSE, domain = NA)\n . })",
      "3. tryCatchList(expr, classes, parentenv, handlers)",
      "4. tryCatchOne(expr, names, parentenv, handlers[[1L]])",
      "5. value[[3L]](cond)",
      "6. stop(msg, call. = FALSE, domain = NA)"
     ]
    }
   ],
   "source": [
    "install.packages(\"C:/Users/madsh/Downloads/path/to/withr_2.1.2.tar.gz\", repos = NULL, type = \"source\")\n",
    "\n",
    "library(tidyverse)\n",
    "library(forecast)\n",
    "library(ggplot2)\n",
    "library(dplyr)\n",
    "library(data.table)\n",
    "library(IRdisplay)\n",
    "\n",
    "library(foreach)\n",
    "library(doParallel)\n",
    "\n",
    "library(caret)\n",
    "library(randomForest)\n",
    "library(xgboost)\n"
   ]
  },
  {
   "cell_type": "markdown",
   "id": "bc0a7dbc-70ea-4db7-aae8-5b5eaec90b30",
   "metadata": {},
   "source": [
    "## Custom functions"
   ]
  },
  {
   "cell_type": "markdown",
   "id": "a7ca955a-a138-4282-b513-d543d2333a40",
   "metadata": {
    "jp-MarkdownHeadingCollapsed": true
   },
   "source": [
    "### Display tables"
   ]
  },
  {
   "cell_type": "code",
   "execution_count": 3,
   "id": "325f4e66-3b04-472c-87bb-b858730d5bc9",
   "metadata": {},
   "outputs": [],
   "source": [
    "# Custom display function for the first and last 5 rows or full table if <= 20 rows\n",
    "display_limited <- function(dt) {\n",
    "  n <- nrow(dt)\n",
    "  \n",
    "  # If there are 20 or fewer rows, display the full table\n",
    "  if (n <= 20) {\n",
    "    limited_dt <- dt\n",
    "  } else {\n",
    "    # Otherwise, concatenate the first 5 rows, '...' and the last 5 rows\n",
    "    limited_dt <- rbind(head(dt, 5), as.list(rep(\"...\", ncol(dt))), tail(dt, 5))\n",
    "  }\n",
    "  \n",
    "  # Generate raw HTML manually\n",
    "  html_output <- paste0(\n",
    "    \"<table border='1' style='border-collapse:collapse;'>\",\n",
    "    \"<thead><tr>\",\n",
    "    paste0(\"<th>\", colnames(limited_dt), \"</th>\", collapse = \"\"),\n",
    "    \"</tr></thead>\",\n",
    "    \"<tbody>\",\n",
    "    paste0(\n",
    "      apply(limited_dt, 1, function(row) {\n",
    "        paste0(\"<tr>\", paste0(\"<td>\", row, \"</td>\", collapse = \"\"), \"</tr>\")\n",
    "      }),\n",
    "      collapse = \"\"\n",
    "    ),\n",
    "    \"</tbody></table>\"\n",
    "  )\n",
    "  \n",
    "  # Display the HTML in the Jupyter notebook\n",
    "  display_html(html_output)\n",
    "}\n"
   ]
  },
  {
   "cell_type": "markdown",
   "id": "5893d88d-f296-44cc-926f-52b771dfb079",
   "metadata": {
    "jp-MarkdownHeadingCollapsed": true
   },
   "source": [
    "### Calculate metrics"
   ]
  },
  {
   "cell_type": "code",
   "execution_count": 4,
   "id": "7a627c37-9fc2-42b2-bbce-0e2946ff3356",
   "metadata": {},
   "outputs": [],
   "source": [
    "calculate_metrics <- function(T_t, R_hat_t, individual) {\n",
    "  # Ensure the inputs are numeric vectors and individual is a dataframe\n",
    "  if (!is.numeric(T_t) || !is.numeric(R_hat_t)) {\n",
    "    stop(\"Both T_t and R_hat_t need to be numeric vectors.\")\n",
    "  }\n",
    "  \n",
    "  # Calculate metrics\n",
    "  mae <- mean(abs(T_t - R_hat_t), na.rm = TRUE)\n",
    "  rmse <- sqrt(mean((T_t - R_hat_t)^2, na.rm = TRUE))\n",
    "  mape <- mean(abs((T_t - R_hat_t) / T_t), na.rm = TRUE) * 100\n",
    "  r_squared <- ifelse(all(T_t == R_hat_t), 1, summary(lm(T_t ~ R_hat_t))$r.squared)\n",
    "  \n",
    "  # Create a data frame to hold the metrics and values\n",
    "  metrics_table <- data.frame(\n",
    "    MAE = mae,\n",
    "    RMSE = rmse,\n",
    "    MAPE = mape,\n",
    "    R_squared = r_squared\n",
    "  )\n",
    "  \n",
    "  # Return the metrics table\n",
    "  return(metrics_table)\n",
    "}"
   ]
  },
  {
   "cell_type": "markdown",
   "id": "8bd8c640-c525-4957-9c41-a3a0de68ee68",
   "metadata": {
    "jp-MarkdownHeadingCollapsed": true
   },
   "source": [
    "### Data Preparation"
   ]
  },
  {
   "cell_type": "code",
   "execution_count": 5,
   "id": "6815ed7f-b245-4147-b1c6-bce1af461fcf",
   "metadata": {},
   "outputs": [],
   "source": [
    "prepare_X_t <- function(individual) {\n",
    "  # Ensure the input is a dataframe\n",
    "  if (!is.data.frame(individual)) {\n",
    "    stop(\"The input must be a dataframe.\")\n",
    "  }\n",
    "  \n",
    "  # Extract hour from start_time and create a 'time_of_day' column\n",
    "  individual$time_of_day <- format(as.POSIXct(individual$HourDK), \"%H:%M:%S\")\n",
    "  \n",
    "  # Exclude specified columns but keep 'time_of_day'\n",
    "  X_t <- subset(individual, select = -c(HourDK, GrossConsumptionMWh))\n",
    "  \n",
    "  # Convert month, weekday, and time_of_day to factors with a reference category\n",
    "  X_t$month <- relevel(as.factor(X_t$MonthOfYear), ref = \"December\")  # Set December as reference\n",
    "  X_t$weekday <- relevel(as.factor(X_t$DayOfWeek), ref = \"Sunday\")   # Set Sunday as reference \n",
    "  X_t$time_of_day <- relevel(as.factor(X_t$Hour), ref = \"0\")         # Set 23 (11 PM) as reference\n",
    "\n",
    "  # Remove original 'MonthOfYear', 'DayOfWeek', and 'Hour' columns to avoid duplication\n",
    "  X_t <- subset(X_t, select = -c(MonthOfYear, DayOfWeek, Hour))\n",
    "  \n",
    "  # Create dummy variables for all factor columns (excluding reference levels)\n",
    "  X_t <- model.matrix(~ . - 1, data = X_t)\n",
    "  \n",
    "  # Find the column indices for numerical columns AFTER creating dummy variables\n",
    "  num_cols <- grep(\"^(Electric cars|Plug-in hybrid cars|humidity_past1h|temp_mean_past1h|wind_speed_past1h|EL_price)\", colnames(X_t))\n",
    "  \n",
    "  # Standardize selected numerical columns\n",
    "  X_t[, num_cols] <- apply(X_t[, num_cols], 2, \n",
    "                           function(x) (x - min(x)) / (max(x) - min(x)))\n",
    "  \n",
    "  # Return the processed dataframe\n",
    "  return(as.data.frame(X_t))\n",
    "}\n"
   ]
  },
  {
   "cell_type": "markdown",
   "id": "cc6c23f3-8cee-4810-8d6f-1143058c8af1",
   "metadata": {
    "jp-MarkdownHeadingCollapsed": true
   },
   "source": [
    "### Lag and Align data by \\\\(h\\\\) (horizon)"
   ]
  },
  {
   "cell_type": "code",
   "execution_count": 6,
   "id": "93aacb7b-5ca4-407f-a2ac-14796524471b",
   "metadata": {},
   "outputs": [],
   "source": [
    "lag_and_align_data <- function(X_t, R_t, h = 1) {\n",
    "  # Validate inputs\n",
    "  if (!is.numeric(R_t)) {\n",
    "    stop(\"R_t should be a numeric vector.\")\n",
    "  }\n",
    "  if (!is.data.frame(X_t) && !is.matrix(X_t)) {\n",
    "    stop(\"X_t should be a dataframe or a matrix.\")\n",
    "  }\n",
    "  if (!is.numeric(h) || h < 1) {\n",
    "    stop(\"h should be a positive integer.\")\n",
    "  }\n",
    "  \n",
    "  # Convert X_t to a dataframe if it's a matrix\n",
    "  if (is.matrix(X_t)) {\n",
    "    X_t <- as.data.frame(X_t)\n",
    "  }\n",
    "  \n",
    "  # Align R_t with the lagged X_t\n",
    "  # Shift R_t by h positions to align with X_t from the previous timestep\n",
    "  R_t_aligned <- R_t[(h + 1):length(R_t)]\n",
    "  \n",
    "  # Keep X_t up to the second to last row, so it aligns with the shifted R_t\n",
    "  X_t_aligned <- X_t[1:(nrow(X_t) - h), ]\n",
    "  \n",
    "  # Return the aligned datasets\n",
    "  list(X_t = X_t_aligned, R_t = R_t_aligned)\n",
    "}"
   ]
  },
  {
   "cell_type": "markdown",
   "id": "6a13c951-637b-41dc-9da3-512df3d0b4cb",
   "metadata": {
    "jp-MarkdownHeadingCollapsed": true
   },
   "source": [
    "### Plot actual vs estimated"
   ]
  },
  {
   "cell_type": "code",
   "execution_count": 7,
   "id": "90ab5703-740a-4d37-82ec-39d4f1473e95",
   "metadata": {},
   "outputs": [],
   "source": [
    "plot_actual_vs_estimated <- function(R_t, R_hat_t, individual) {\n",
    "  # Validate input\n",
    "  if (!is.numeric(R_t) || !is.numeric(R_hat_t)) {\n",
    "    stop(\"R_t and R_hat_t should be numeric vectors.\")\n",
    "  }\n",
    "  if (!is.data.frame(individual)) {\n",
    "    stop(\"individual should be a dataframe.\")\n",
    "  }\n",
    "    \n",
    "  # Create the plot\n",
    "  plot(R_t, type = 'l', col = 'blue', xlab = \"Time\", ylab = \"Value\", \n",
    "       main = \"Actual vs. Estimated Time Series\\nelvarme: %s, zip_code: %s\")\n",
    "  lines(R_hat_t, type = 'l', col = 'red')\n",
    "  legend(\"topleft\", legend = c(\"Actual\", \"Estimated\"), col = c(\"blue\", \"red\"), lty = 1)\n",
    "}"
   ]
  },
  {
   "cell_type": "markdown",
   "id": "c8ca5776-0076-4f16-8ac5-60ec0a0a007a",
   "metadata": {},
   "source": [
    "## Loading data"
   ]
  },
  {
   "cell_type": "code",
   "execution_count": 8,
   "id": "a887b348-9bd6-412a-b4dd-1677d2dcabbd",
   "metadata": {},
   "outputs": [
    {
     "ename": "ERROR",
     "evalue": "Error in fread(paste0(base_path, \"/Output_file.csv\")): could not find function \"fread\"\n",
     "output_type": "error",
     "traceback": [
      "Error in fread(paste0(base_path, \"/Output_file.csv\")): could not find function \"fread\"\nTraceback:\n"
     ]
    }
   ],
   "source": [
    "##### Setting workign directory and loadign data #####\n",
    "base_path <- \"C:/Users/madsh/OneDrive/Dokumenter/kandidat/Fællesmappe/Forecasting-energy-consumption/Data Cleaning\"\n",
    "setwd(base_path)\n",
    "data <- fread(paste0(base_path,\"/Output_file.csv\"))\n",
    "MSTL <- fread(paste0(base_path,\"/MSTL_decomp_results.csv\"))"
   ]
  },
  {
   "cell_type": "markdown",
   "id": "b1599bfb-3281-4ac6-92c3-b9f4dffea6d8",
   "metadata": {},
   "source": [
    "## Parameters"
   ]
  },
  {
   "cell_type": "code",
   "execution_count": 26,
   "id": "7ad7a4ce-dc86-43d0-adaf-110b174a6981",
   "metadata": {},
   "outputs": [],
   "source": [
    "#train_size    <- 17544 #2 year training set\n",
    "train_size    <- 8784  #1 year training set\n",
    "num_timesteps <- 24\n",
    "h             <- 1\n",
    "total_size    <- nrow(data)-h\n",
    "nrounds       <- 100\n",
    "set.seed(42) "
   ]
  },
  {
   "cell_type": "code",
   "execution_count": 13,
   "id": "27cdcf9b-38f7-4d20-a73c-9ddd8f7c268a",
   "metadata": {},
   "outputs": [
    {
     "data": {
      "text/html": [
       "FALSE"
      ],
      "text/latex": [
       "FALSE"
      ],
      "text/markdown": [
       "FALSE"
      ],
      "text/plain": [
       "[1] FALSE"
      ]
     },
     "metadata": {},
     "output_type": "display_data"
    },
    {
     "data": {
      "text/html": [
       "TRUE"
      ],
      "text/latex": [
       "TRUE"
      ],
      "text/markdown": [
       "TRUE"
      ],
      "text/plain": [
       "[1] TRUE"
      ]
     },
     "metadata": {},
     "output_type": "display_data"
    },
    {
     "data": {
      "text/html": [
       "FALSE"
      ],
      "text/latex": [
       "FALSE"
      ],
      "text/markdown": [
       "FALSE"
      ],
      "text/plain": [
       "[1] FALSE"
      ]
     },
     "metadata": {},
     "output_type": "display_data"
    },
    {
     "data": {
      "text/html": [
       "TRUE"
      ],
      "text/latex": [
       "TRUE"
      ],
      "text/markdown": [
       "TRUE"
      ],
      "text/plain": [
       "[1] TRUE"
      ]
     },
     "metadata": {},
     "output_type": "display_data"
    }
   ],
   "source": [
    "anyNA(X_t[train_index, ])  # Tjek for manglende værdier\n",
    "anyNA(T_t[train_index])    # Tjek for manglende værdier\n",
    "anyNA(X_t[val_index, ])    # Tjek for manglende værdier\n",
    "anyNA(T_t[val_index])      # Tjek for manglende værdier"
   ]
  },
  {
   "cell_type": "markdown",
   "id": "96b542d9-2754-4033-861c-9573bc4cc36c",
   "metadata": {},
   "source": [
    "### Data preparation"
   ]
  },
  {
   "cell_type": "code",
   "execution_count": 27,
   "id": "0eef4bba-349c-4a31-9fbb-1c75b0f640fd",
   "metadata": {},
   "outputs": [],
   "source": [
    "individual <- data\n",
    "X_t <- prepare_X_t(as.data.frame(individual))\n",
    "T_t <- as.matrix(MSTL$Trend, nrow = nrow(MSTL), ncol = 1)\n",
    "\n",
    "lag_and_align <- lag_and_align_data(X_t, T_t, h = h)\n",
    "X_t <- as.matrix(lag_and_align$X_t)\n",
    "T_t <- as.numeric(lag_and_align$R_t)"
   ]
  },
  {
   "cell_type": "markdown",
   "id": "f36d3624-eece-46ba-bd6c-1c4badce1473",
   "metadata": {},
   "source": [
    "## Hyper parameter tuning"
   ]
  },
  {
   "cell_type": "code",
   "execution_count": 28,
   "id": "5a7633f3-c171-4c9e-b441-827262b6aa1a",
   "metadata": {},
   "outputs": [],
   "source": [
    "# Simple train-validation split for hyperparameter tuning\n",
    "train_index <- 1:train_size\n",
    "val_index <- (train_size + 1):(train_size + num_timesteps)\n",
    "\n",
    "dtrain <- xgb.DMatrix(data = X_t[train_index, ], label = T_t[train_index])\n",
    "dval <- xgb.DMatrix(data = X_t[val_index, ], label = T_t[val_index])\n",
    "\n",
    "watchlist <- list(train = dtrain, eval = dval)\n",
    "\n",
    "tune_grid <- expand.grid(\n",
    "  eta = c(0.01, 0.05, 0.1),\n",
    "  max_depth = c(3, 6, 9),\n",
    "  subsample = c(0.6, 0.8, 1.0),\n",
    "  colsample_bytree = c(0.6, 0.8, 1.0)\n",
    ")\n",
    "\n",
    "best_params <- NULL\n",
    "best_rmse <- Inf\n",
    "\n",
    "for (i in 1:nrow(tune_grid)) {\n",
    "  params <- list(\n",
    "    objective = \"reg:squarederror\",\n",
    "    eta = tune_grid$eta[i],\n",
    "    max_depth = tune_grid$max_depth[i],\n",
    "    subsample = tune_grid$subsample[i],\n",
    "    colsample_bytree = tune_grid$colsample_bytree[i]\n",
    "  )\n",
    "  \n",
    "  xgb_model <- xgb.train(\n",
    "    params = params,\n",
    "    data = dtrain,\n",
    "    nrounds = nrounds,\n",
    "    watchlist = watchlist,\n",
    "    early_stopping_rounds = 5,\n",
    "    verbose = 0\n",
    "  )\n",
    "  \n",
    "  if (xgb_model$best_score < best_rmse) {\n",
    "    best_rmse <- xgb_model$best_score\n",
    "    best_params <- params\n",
    "  }\n",
    "}"
   ]
  },
  {
   "cell_type": "markdown",
   "id": "73a0775e-f0f8-4123-92d0-f2edbe4f4fff",
   "metadata": {},
   "source": [
    "### Fitting"
   ]
  },
  {
   "cell_type": "code",
   "execution_count": 30,
   "id": "749f3f24-cbb8-45a8-8a1b-adc0174d5ab4",
   "metadata": {},
   "outputs": [],
   "source": [
    "no_cores <- detectCores() - 1\n",
    "cl <- makeCluster(no_cores)\n",
    "registerDoParallel(cl)\n",
    "\n",
    "results <- foreach(j = seq(1, nrow(X_t) - train_size, by = num_timesteps), .combine = 'c', .packages = 'xgboost') %dopar% {\n",
    "  start_index <- j\n",
    "  end_index <- j + train_size - 1\n",
    "  \n",
    "  train_X_t <- X_t[start_index:end_index, ]\n",
    "  train_T_t <- T_t[start_index:end_index]\n",
    "  \n",
    "  dtrain <- xgb.DMatrix(data = train_X_t, label = train_T_t)\n",
    "  \n",
    "  xgb_model <- xgb.train(params = best_params, data = dtrain, nrounds = 100)\n",
    "  \n",
    "  test_start_index <- end_index + 1\n",
    "  test_end_index <- min(end_index + num_timesteps, total_size)\n",
    "  test_X_t <- X_t[test_start_index:test_end_index, , drop = FALSE]\n",
    "  dtest <- xgb.DMatrix(data = test_X_t)\n",
    "  \n",
    "  test_predictions <- predict(xgb_model, newdata = dtest)\n",
    "  \n",
    "  num_predictions_to_return <- min(num_timesteps, total_size - test_start_index + 1)\n",
    "  return(test_predictions[1:num_predictions_to_return])\n",
    "}\n",
    "stopCluster(cl)\n",
    "\n",
    "R_hat_t <- unlist(results)"
   ]
  },
  {
   "cell_type": "markdown",
   "id": "ab052f3f-40a7-4cb6-b3d0-f49c117c0bd1",
   "metadata": {},
   "source": [
    "### Calculating metrics"
   ]
  },
  {
   "cell_type": "code",
   "execution_count": 31,
   "id": "20064dbd-4bff-4809-b11c-a9b9c0bef093",
   "metadata": {},
   "outputs": [
    {
     "data": {
      "text/html": [
       "<table border='1' style='border-collapse:collapse;'><thead><tr><th>MAE</th><th>RMSE</th><th>MAPE</th><th>R_squared</th></tr></thead><tbody><tr><td>24.7536726364454</td><td>42.2786869106353</td><td>0.607440663659902</td><td>0.761563362954106</td></tr></tbody></table>"
      ]
     },
     "metadata": {},
     "output_type": "display_data"
    }
   ],
   "source": [
    "individual_metrics <- calculate_metrics(tail(T_t, n = length(T_t) - train_size), R_hat_t, data)\n",
    "display_limited(individual_metrics)"
   ]
  },
  {
   "cell_type": "code",
   "execution_count": null,
   "id": "0351065c-7b90-4e3a-9721-6b49a0160de9",
   "metadata": {},
   "outputs": [],
   "source": [
    "# Define the file path\n",
    "path_R <- \"C:/Users/madsh/OneDrive/Dokumenter/kandidat/Fællesmappe/Forecasting-energy-consumption/Data/Results/Boosting/R_hat_t\"\n",
    "path_M <- \"C:/Users/madsh/OneDrive/Dokumenter/kandidat/Fællesmappe/Forecasting-energy-consumption/Data/Results/Boosting/Metrics\"\n",
    "# Automatically generate file names based on the parameters\n",
    "file_name_R_hat_t <- file.path(path_R, paste0(\"h=\", h, \"_steps_ahead=\", num_timesteps, \"_nrounds=\", nrounds, \"_train_size=\", train_size, \"_XGB_R_hat_t.csv\"))\n",
    "file_name_metrics <- file.path(path_M, paste0(\"h=\", h, \"_steps_ahead=\", num_timesteps, \"_nrounds=\", nrounds, \"_train_size=\", train_size, \"_XGB_Metrics.csv\"))\n",
    "\n",
    "\n",
    "\n",
    "# Save R_hat_t as a CSV file\n",
    "write.csv(R_hat_t, file = file_name_R_hat_t, row.names = FALSE)\n",
    "\n",
    "# Save individual_metrics as a CSV file\n",
    "write.csv(individual_metrics, file = file_name_metrics, row.names = FALSE)\n"
   ]
  },
  {
   "cell_type": "code",
   "execution_count": null,
   "id": "53aaf227-c226-406c-88cb-7e773b7f1d7e",
   "metadata": {},
   "outputs": [],
   "source": [
    "# Define the file path\n",
    "path_R <- \"C:/Users/madsh/OneDrive/Dokumenter/kandidat/Fællesmappe/Forecasting-energy-consumption/Data/Results/Boosting/R_hat_t\"\n",
    "path_M <- \"C:/Users/madsh/OneDrive/Dokumenter/kandidat/Fællesmappe/Forecasting-energy-consumption/Data/Results/Boosting/Metrics\"\n",
    "file_name_R_hat_t <- file.path(path_R, paste0(\"h=\", h, \"_steps_ahead=\", num_timesteps, \"_nrounds=\", nrounds, \"_train_size=\", train_size, \"_Boosting_R_hat_t.csv\"))\n",
    "file_name_metrics <- file.path(path_M, paste0(\"h=\", h, \"_steps_ahead=\", num_timesteps, \"_nrounds=\", nrounds, \"_train_size=\", train_size, \"_Boosting_Metrics.csv\"))\n",
    "\n"
   ]
  }
 ],
 "metadata": {
  "kernelspec": {
   "display_name": "R",
   "language": "R",
   "name": "ir"
  },
  "language_info": {
   "codemirror_mode": "r",
   "file_extension": ".r",
   "mimetype": "text/x-r-source",
   "name": "R",
   "pygments_lexer": "r",
   "version": "3.6.1"
  },
  "widgets": {
   "application/vnd.jupyter.widget-state+json": {
    "state": {},
    "version_major": 2,
    "version_minor": 0
   }
  }
 },
 "nbformat": 4,
 "nbformat_minor": 5
}

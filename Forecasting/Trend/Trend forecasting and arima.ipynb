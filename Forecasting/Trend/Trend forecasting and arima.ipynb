{
 "cells": [
  {
   "cell_type": "markdown",
   "id": "36a9c5b8-e58b-46b1-a284-d3d5e798ba23",
   "metadata": {},
   "source": [
    "# Forcasting trend with AR, MA & ARIMA"
   ]
  },
  {
   "cell_type": "code",
   "execution_count": 1,
   "id": "19f32536-b2dd-4f30-b20c-c079e22c93f1",
   "metadata": {},
   "outputs": [
    {
     "name": "stderr",
     "output_type": "stream",
     "text": [
      "Registered S3 methods overwritten by 'ggplot2':\n",
      "  method         from \n",
      "  [.quosures     rlang\n",
      "  c.quosures     rlang\n",
      "  print.quosures rlang\n",
      "Registered S3 method overwritten by 'rvest':\n",
      "  method            from\n",
      "  read_xml.response xml2\n",
      "-- Attaching packages --------------------------------------- tidyverse 1.2.1 --\n",
      "v ggplot2 3.1.1       v purrr   0.3.2  \n",
      "v tibble  2.1.1       v dplyr   0.8.0.1\n",
      "v tidyr   0.8.3       v stringr 1.4.0  \n",
      "v readr   1.3.1       v forcats 0.4.0  \n",
      "-- Conflicts ------------------------------------------ tidyverse_conflicts() --\n",
      "x dplyr::filter() masks stats::filter()\n",
      "x dplyr::lag()    masks stats::lag()\n",
      "Registered S3 method overwritten by 'xts':\n",
      "  method     from\n",
      "  as.zoo.xts zoo \n",
      "Registered S3 method overwritten by 'quantmod':\n",
      "  method            from\n",
      "  as.zoo.data.frame zoo \n",
      "Registered S3 methods overwritten by 'forecast':\n",
      "  method             from    \n",
      "  fitted.fracdiff    fracdiff\n",
      "  residuals.fracdiff fracdiff\n",
      "\n",
      "Attaching package: 'data.table'\n",
      "\n",
      "The following objects are masked from 'package:dplyr':\n",
      "\n",
      "    between, first, last\n",
      "\n",
      "The following object is masked from 'package:purrr':\n",
      "\n",
      "    transpose\n",
      "\n",
      "\n",
      "Attaching package: 'foreach'\n",
      "\n",
      "The following objects are masked from 'package:purrr':\n",
      "\n",
      "    accumulate, when\n",
      "\n",
      "Loading required package: iterators\n",
      "Loading required package: parallel\n",
      "Loading required package: lattice\n",
      "\n",
      "Attaching package: 'caret'\n",
      "\n",
      "The following object is masked from 'package:purrr':\n",
      "\n",
      "    lift\n",
      "\n",
      "randomForest 4.6-14\n",
      "Type rfNews() to see new features/changes/bug fixes.\n",
      "\n",
      "Attaching package: 'randomForest'\n",
      "\n",
      "The following object is masked from 'package:dplyr':\n",
      "\n",
      "    combine\n",
      "\n",
      "The following object is masked from 'package:ggplot2':\n",
      "\n",
      "    margin\n",
      "\n",
      "\n",
      "Attaching package: 'reshape2'\n",
      "\n",
      "The following objects are masked from 'package:data.table':\n",
      "\n",
      "    dcast, melt\n",
      "\n",
      "The following object is masked from 'package:tidyr':\n",
      "\n",
      "    smiths\n",
      "\n"
     ]
    }
   ],
   "source": [
    "library(tidyverse)\n",
    "library(forecast)\n",
    "library(ggplot2)\n",
    "library(dplyr)\n",
    "library(data.table)\n",
    "library(IRdisplay)\n",
    "\n",
    "library(foreach)\n",
    "library(doParallel)\n",
    "\n",
    "library(caret)\n",
    "library(randomForest)\n",
    "library(reshape2)"
   ]
  },
  {
   "cell_type": "markdown",
   "id": "49441eb6-ef98-4453-8c8a-90f959f8b251",
   "metadata": {
    "jp-MarkdownHeadingCollapsed": true
   },
   "source": [
    "### Display tables"
   ]
  },
  {
   "cell_type": "code",
   "execution_count": 2,
   "id": "dbfe11d2-0bbc-4bec-a937-8e87aa9b9b2d",
   "metadata": {},
   "outputs": [],
   "source": [
    "# Custom display function for the first and last 5 rows or full table if <= 20 rows\n",
    "display_limited <- function(dt) {\n",
    "  n <- nrow(dt)\n",
    "  \n",
    "  # If there are 20 or fewer rows, display the full table\n",
    "  if (n <= 20) {\n",
    "    limited_dt <- dt\n",
    "  } else {\n",
    "    # Otherwise, concatenate the first 5 rows, '...' and the last 5 rows\n",
    "    limited_dt <- rbind(head(dt, 5), as.list(rep(\"...\", ncol(dt))), tail(dt, 5))\n",
    "  }\n",
    "  \n",
    "  # Generate raw HTML manually\n",
    "  html_output <- paste0(\n",
    "    \"<table border='1' style='border-collapse:collapse;'>\",\n",
    "    \"<thead><tr>\",\n",
    "    paste0(\"<th>\", colnames(limited_dt), \"</th>\", collapse = \"\"),\n",
    "    \"</tr></thead>\",\n",
    "    \"<tbody>\",\n",
    "    paste0(\n",
    "      apply(limited_dt, 1, function(row) {\n",
    "        paste0(\"<tr>\", paste0(\"<td>\", row, \"</td>\", collapse = \"\"), \"</tr>\")\n",
    "      }),\n",
    "      collapse = \"\"\n",
    "    ),\n",
    "    \"</tbody></table>\"\n",
    "  )\n",
    "  \n",
    "  # Display the HTML in the Jupyter notebook\n",
    "  display_html(html_output)\n",
    "}\n"
   ]
  },
  {
   "cell_type": "markdown",
   "id": "36264fd0-d5ab-4110-ae9c-7fd9ea69957a",
   "metadata": {},
   "source": [
    "### Calculate metrics"
   ]
  },
  {
   "cell_type": "code",
   "execution_count": 3,
   "id": "a9731735-20f4-4119-8c6c-605046415c8b",
   "metadata": {},
   "outputs": [],
   "source": [
    "calculate_metrics <- function(R_t, R_hat_t, individual) {\n",
    "  # Ensure the inputs are numeric vectors and individual is a dataframe\n",
    "  if (!is.numeric(R_t) || !is.numeric(R_hat_t)) {\n",
    "    stop(\"Both R_t and R_hat_t need to be numeric vectors.\")\n",
    "  }\n",
    "  \n",
    "  # Calculate metrics\n",
    "  mae <- mean(abs(R_t - R_hat_t), na.rm = TRUE)\n",
    "  rmse <- sqrt(mean((R_t - R_hat_t)^2, na.rm = TRUE))\n",
    "  mape <- mean(abs((R_t - R_hat_t) / R_t), na.rm = TRUE) * 100\n",
    "  r_squared <- ifelse(all(R_t == R_hat_t), 1, summary(lm(R_t ~ R_hat_t))$r.squared)\n",
    "  \n",
    "  # Create a data frame to hold the metrics and values\n",
    "  metrics_table <- data.frame(\n",
    "    MAE = mae,\n",
    "    RMSE = rmse,\n",
    "    MAPE = mape,\n",
    "    R_squared = r_squared\n",
    "  )\n",
    "  \n",
    "  # Return the metrics table\n",
    "  return(metrics_table)\n",
    "}"
   ]
  },
  {
   "cell_type": "markdown",
   "id": "e85416d9-7c89-48a4-8a32-caab57032056",
   "metadata": {
    "jp-MarkdownHeadingCollapsed": true
   },
   "source": [
    "### Data Preparation"
   ]
  },
  {
   "cell_type": "code",
   "execution_count": 4,
   "id": "fe4f6d61-be29-427c-bcb6-cc7bdbed211c",
   "metadata": {},
   "outputs": [],
   "source": [
    "prepare_X_t <- function(individual) {\n",
    "  # Ensure the input is a dataframe\n",
    "  if (!is.data.frame(individual)) {\n",
    "    stop(\"The input must be a dataframe.\")\n",
    "  }\n",
    "  \n",
    "  # Extract hour from start_time and create a 'time_of_day' column\n",
    "  individual$time_of_day <- format(as.POSIXct(individual$HourDK), \"%H:%M:%S\")\n",
    "  \n",
    "  # Exclude specified columns but keep 'time_of_day'\n",
    "  X_t <- subset(individual, select = -c(HourDK, GrossConsumptionMWh))\n",
    "  \n",
    "  # Convert month, weekday, and time_of_day to factors with a reference category\n",
    "  X_t$month <- relevel(as.factor(X_t$MonthOfYear), ref = \"December\")  # Set December as reference\n",
    "  X_t$weekday <- relevel(as.factor(X_t$DayOfWeek), ref = \"Sunday\")   # Set Sunday as reference \n",
    "  X_t$time_of_day <- relevel(as.factor(X_t$Hour), ref = \"0\")         # Set 23 (11 PM) as reference\n",
    "\n",
    "  # Remove original 'MonthOfYear', 'DayOfWeek', and 'Hour' columns to avoid duplication\n",
    "  X_t <- subset(X_t, select = -c(MonthOfYear, DayOfWeek, Hour))\n",
    "  \n",
    "  # Create dummy variables for all factor columns (excluding reference levels)\n",
    "  X_t <- model.matrix(~ . - 1, data = X_t)\n",
    "  \n",
    "  # Find the column indices for numerical columns AFTER creating dummy variables\n",
    "  num_cols <- grep(\"^(Electric cars|Plug-in hybrid cars|humidity_past1h|temp_mean_past1h|wind_speed_past1h|EL_price)\", colnames(X_t))\n",
    "  \n",
    "  # Standardize selected numerical columns\n",
    "  X_t[, num_cols] <- apply(X_t[, num_cols], 2, \n",
    "                           function(x) (x - min(x)) / (max(x) - min(x)))\n",
    "  \n",
    "  # Return the processed dataframe\n",
    "  return(as.data.frame(X_t))\n",
    "}\n"
   ]
  },
  {
   "cell_type": "markdown",
   "id": "7fa4ff44-3dee-4086-9fef-75fd5a1f634a",
   "metadata": {
    "jp-MarkdownHeadingCollapsed": true
   },
   "source": [
    "### Lag and Align data by \\\\(h\\\\) (horizon)"
   ]
  },
  {
   "cell_type": "code",
   "execution_count": 5,
   "id": "8aa96098-9373-47ea-85f8-68359095ab64",
   "metadata": {},
   "outputs": [],
   "source": [
    "lag_and_align_data <- function(X_t, R_t, h = 1) {\n",
    "  # Validate inputs\n",
    "  if (!is.numeric(R_t)) {\n",
    "    stop(\"R_t should be a numeric vector.\")\n",
    "  }\n",
    "  if (!is.data.frame(X_t) && !is.matrix(X_t)) {\n",
    "    stop(\"X_t should be a dataframe or a matrix.\")\n",
    "  }\n",
    "  if (!is.numeric(h) || h < 1) {\n",
    "    stop(\"h should be a positive integer.\")\n",
    "  }\n",
    "  \n",
    "  # Convert X_t to a dataframe if it's a matrix\n",
    "  if (is.matrix(X_t)) {\n",
    "    X_t <- as.data.frame(X_t)\n",
    "  }\n",
    "  \n",
    "  # Align R_t with the lagged X_t\n",
    "  # Shift R_t by h positions to align with X_t from the previous timestep\n",
    "  R_t_aligned <- R_t[(h + 1):length(R_t)]\n",
    "  \n",
    "  # Keep X_t up to the second to last row, so it aligns with the shifted R_t\n",
    "  X_t_aligned <- X_t[1:(nrow(X_t) - h), ]\n",
    "  \n",
    "  # Return the aligned datasets\n",
    "  list(X_t = X_t_aligned, Y_t = R_t_aligned)\n",
    "}"
   ]
  },
  {
   "cell_type": "markdown",
   "id": "50a90264-4b42-438e-aab7-713ffaa346c2",
   "metadata": {},
   "source": [
    "## Loading data"
   ]
  },
  {
   "cell_type": "code",
   "execution_count": 6,
   "id": "58cc1094-5198-44d5-8b68-4be3efc5035c",
   "metadata": {},
   "outputs": [],
   "source": [
    "##### Setting workign directory and loadign data #####\n",
    "base_path <- \"C:/Users/madsh/OneDrive/Dokumenter/kandidat/Fællesmappe/Forecasting-energy-consumption/Data Cleaning\"\n",
    "setwd(base_path)\n",
    "data <- fread(paste0(base_path,\"/Output_file.csv\"))\n",
    "MSTL <- fread(paste0(base_path,\"/MSTL_decomp_results.csv\"))"
   ]
  },
  {
   "cell_type": "code",
   "execution_count": 7,
   "id": "3167a482-12c0-4941-883b-414125da8480",
   "metadata": {},
   "outputs": [],
   "source": [
    "h=720\n",
    "# Define train size\n",
    "train_size    <- 17544 #2 year training set\n",
    "#train_size    <- 8784  # 1 year training set"
   ]
  },
  {
   "cell_type": "code",
   "execution_count": 8,
   "id": "d88a2cb4-8392-486f-9f7b-f9474c099211",
   "metadata": {},
   "outputs": [],
   "source": [
    "individual <- data\n",
    "X_t <- prepare_X_t(as.data.frame(individual))\n",
    "T_t <- as.matrix(MSTL$Trend, nrow = nrow(MSTL), ncol = 1)\n",
    "\n",
    "lag_and_align <- lag_and_align_data(X_t, T_t, h = h)\n",
    "X_t_OLS <- as.matrix(lag_and_align$X_t)\n",
    "T_t_OLS <- as.numeric(lag_and_align$Y_t)"
   ]
  },
  {
   "cell_type": "code",
   "execution_count": 10,
   "id": "c4f0c152-4ea6-4467-96da-464a00d9c6b6",
   "metadata": {},
   "outputs": [
    {
     "name": "stderr",
     "output_type": "stream",
     "text": [
      "Warning message in predict.lm(ols_model, newdata = as.data.frame(X_test_OLS)):\n",
      "\"prediction from a rank-deficient fit may be misleading\""
     ]
    }
   ],
   "source": [
    "# Split the data into training and testing sets\n",
    "X_train <- X_t[1:train_size, , drop = FALSE]\n",
    "T_train <- T_t[1:train_size]\n",
    "X_test  <- X_t[(train_size + 1):nrow(X_t), , drop = FALSE]\n",
    "T_test  <- T_t[(train_size + 1):length(T_t)]\n",
    "\n",
    "X_train_OLS <- X_t_OLS[1:train_size, , drop = FALSE]\n",
    "T_train_OLS <- T_t_OLS[1:train_size]\n",
    "X_test_OLS  <- X_t_OLS[(train_size + 1):nrow(X_t_OLS), , drop = FALSE]\n",
    "T_test_OLS  <- T_t_OLS[(train_size + 1):length(T_t_OLS)]\n",
    "\n",
    "# Fit OLS model\n",
    "ols_model <- lm(T_train_OLS ~ ., data = as.data.frame(X_train_OLS))\n",
    "\n",
    "# Predict on the test set\n",
    "T_hat_t <- predict(ols_model, newdata = as.data.frame(X_test_OLS))"
   ]
  },
  {
   "cell_type": "code",
   "execution_count": 13,
   "id": "398cc12c-fa38-49ee-a820-0fef0f4e2b99",
   "metadata": {},
   "outputs": [
    {
     "data": {
      "text/html": [
       "<table border='1' style='border-collapse:collapse;'><thead><tr><th>MAE</th><th>RMSE</th><th>MAPE</th><th>R_squared</th></tr></thead><tbody><tr><td>169.80146545762</td><td>208.567217892588</td><td>4.24299393731495</td><td>0.0963218818818074</td></tr></tbody></table>"
      ]
     },
     "metadata": {},
     "output_type": "display_data"
    }
   ],
   "source": [
    "individual_metrics <- calculate_metrics(tail(T_t, n = length(T_t_OLS) - train_size), T_hat_t, data)\n",
    "display_limited(individual_metrics)"
   ]
  },
  {
   "cell_type": "code",
   "execution_count": 14,
   "id": "8dfd877f-1e01-4823-8bcf-88c7f19c7cb6",
   "metadata": {},
   "outputs": [
    {
     "data": {
      "image/png": "[encoded data removed]",
      "text/plain": [
       "plot without title"
      ]
     },
     "metadata": {},
     "output_type": "display_data"
    }
   ],
   "source": [
    "# Create a data frame for plotting\n",
    "plot_data <- data.frame(\n",
    "  Time = 1:length(T_test_OLS),  # Assuming sequential time indices\n",
    "  Actual = T_test_OLS,\n",
    "  Predicted = T_hat_t  # Your forecasted values\n",
    ")\n",
    "\n",
    "# Plot the actual vs. predicted values\n",
    "ggplot(plot_data, aes(x = Time)) +\n",
    "  geom_line(aes(y = Actual, color = \"Actual\"), size = 1) +\n",
    "  geom_line(aes(y = Predicted, color = \"Predicted\"), size = 1, linetype = \"dashed\") +\n",
    "  labs(title = \"Actual vs Forecasted Values\",\n",
    "       x = \"Time\",\n",
    "       y = \"Values\",\n",
    "       color = \"Legend\") +\n",
    "  theme_minimal() +\n",
    "  scale_color_manual(values = c(\"Actual\" = \"blue\", \"Predicted\" = \"red\"))\n"
   ]
  },
  {
   "cell_type": "code",
   "execution_count": 15,
   "id": "fed8c6a4-20cc-4d91-af85-01273eabc3f2",
   "metadata": {},
   "outputs": [
    {
     "name": "stdout",
     "output_type": "stream",
     "text": [
      "Series: T_train \n",
      "ARIMA(0,2,0) \n",
      "\n",
      "sigma^2 estimated as 0.001694:  log likelihood=129452.1\n",
      "AIC=-258902.3   AICc=-258902.3   BIC=-258894.5\n"
     ]
    }
   ],
   "source": [
    "# Fit AR model (Auto-Regressive)\n",
    "ar_model <- arima(T_train, order = c(1, 0, 0))  # AR(1) model\n",
    "\n",
    "# Fit MA model (Moving Average)\n",
    "ma_model <- arima(T_train, order = c(0, 0, 1))  # MA(1) model\n",
    "\n",
    "# Fit ARMA model\n",
    "arma_model <- arima(T_train, order = c(1, 0, 1))  # ARMA(1,1) model\n",
    "\n",
    "# Fit ARIMA model\n",
    "arima_model <- arima(T_train, order = c(1, 1, 1))  # ARIMA(1,1,1) model\n",
    "\n",
    "# Fit best ARIMA model\n",
    "auto_arima_model <- auto.arima(T_train, \n",
    "  max.p = 5,\n",
    "  max.q = 5,\n",
    "  max.P = 2,\n",
    "  max.Q = 2) # ARIMA crossvalidated for best results\n",
    "\n",
    "print(auto_arima_model)"
   ]
  },
  {
   "cell_type": "code",
   "execution_count": 16,
   "id": "47524b40-00b1-4421-a0a3-01823261c0aa",
   "metadata": {},
   "outputs": [
    {
     "name": "stderr",
     "output_type": "stream",
     "text": [
      "Warning message in predict.lm(ols_model, newdata = as.data.frame(X_test)):\n",
      "\"prediction from a rank-deficient fit may be misleading\""
     ]
    }
   ],
   "source": [
    "# Generate predictions for each model\n",
    "ols_pred <- predict(ols_model, newdata = as.data.frame(X_test))\n",
    "ar_pred <- forecast(ar_model, h = length(T_test))$mean\n",
    "ma_pred <- forecast(ma_model, h = length(T_test))$mean\n",
    "arma_pred <- forecast(arma_model, h = length(T_test))$mean\n",
    "arima_pred <- forecast(arima_model, h = length(T_test))$mean\n",
    "auto_arima_pred <- forecast(auto_arima_model, h = length(T_test))$mean"
   ]
  },
  {
   "cell_type": "code",
   "execution_count": 17,
   "id": "9359277c-b284-4f23-8f83-e90a45acc8ee",
   "metadata": {},
   "outputs": [
    {
     "data": {
      "image/png": "[encoded data removed]",
      "text/plain": [
       "plot without title"
      ]
     },
     "metadata": {},
     "output_type": "display_data"
    }
   ],
   "source": [
    "# Load necessary libraries\n",
    "library(forecast)\n",
    "library(ggplot2)\n",
    "\n",
    "\n",
    "# Check and align the length of OLS predictions\n",
    "if (length(ols_pred) != length(T_test)) {\n",
    "  ols_pred <- ols_pred[1:length(T_test)]  # Adjust length if necessary\n",
    "}\n",
    "\n",
    "# Check and align lengths of all predictions to match T_test\n",
    "predictions_list <- list(ols_pred, ar_pred, ma_pred, arma_pred, arima_pred, auto_arima_pred)\n",
    "predictions_list <- lapply(predictions_list, function(pred) {\n",
    "  if (length(pred) != length(T_test)) {\n",
    "    return(pred[1:length(T_test)])\n",
    "  } else {\n",
    "    return(pred)\n",
    "  }\n",
    "})\n",
    "\n",
    "# Create a data frame for plotting\n",
    "plot_data    <- data.frame(\n",
    "  Time       = 1:length(T_test),\n",
    "  Actual     = T_test,\n",
    "  OLS        = as.numeric(predictions_list[[1]]),\n",
    "  AR         = as.numeric(predictions_list[[2]]),\n",
    "  MA         = as.numeric(predictions_list[[3]]),\n",
    "  ARMA       = as.numeric(predictions_list[[4]]),\n",
    "  ARIMA      = as.numeric(predictions_list[[5]]),\n",
    "  ARIMA_Auto = as.numeric(predictions_list[[6]])\n",
    ")\n",
    "\n",
    "# Melt the data frame for ggplot2 compatibility\n",
    "plot_data_melted <- melt(plot_data, id.vars = \"Time\", variable.name = \"Model\", value.name = \"Value\")\n",
    "\n",
    "# Plot the actual values and predictions\n",
    "ggplot(plot_data_melted, aes(x = Time, y = Value, color = Model)) +\n",
    "  geom_line(size = 1) +\n",
    "  labs(title = \"Actual vs Predicted Values\",\n",
    "       x = \"Time\",\n",
    "       y = \"Values\",\n",
    "       color = \"Model\") +\n",
    "  theme_minimal()\n"
   ]
  },
  {
   "cell_type": "code",
   "execution_count": 113,
   "id": "9d8edd3d-407c-4396-aeb7-c8421880593f",
   "metadata": {},
   "outputs": [
    {
     "name": "stdout",
     "output_type": "stream",
     "text": [
      "       Model       MAE      RMSE     MAPE    R_squared\n",
      "1        OLS 169.80147 208.56722 4.242994 0.0963218819\n",
      "2         AR 116.24065 138.92776 2.918506 0.9924379881\n",
      "3         MA  81.56989  98.72548 2.044522 0.0003013632\n",
      "4       ARMA 148.94092 175.39719 3.737013 0.9725434039\n",
      "5      ARIMA 121.38398 146.53995 3.048996 0.4553674877\n",
      "6 Auto_ARIMA  84.64943 102.24859 2.126326 0.9982800162\n"
     ]
    }
   ],
   "source": [
    "# List of model predictions\n",
    "model_predictions <- list(\n",
    "  OLS = ols_pred,\n",
    "  AR = ar_pred,\n",
    "  MA = ma_pred,\n",
    "  ARMA = arma_pred,\n",
    "  ARIMA = arima_pred,\n",
    "  Auto_ARIMA = auto_arima_pred\n",
    ")\n",
    "\n",
    "# Data frame to store metrics for each model\n",
    "metrics_table <- data.frame(Model = character(), MAE = numeric(), RMSE = numeric(), MAPE = numeric(), R_squared = numeric(), stringsAsFactors = FALSE)\n",
    "\n",
    "# Calculate metrics for each model and store in the metrics table\n",
    "for (model_name in names(model_predictions)) {\n",
    "  pred <- model_predictions[[model_name]]\n",
    "  metrics <- calculate_metrics(T_test, pred, individual = NULL)\n",
    "  \n",
    "  # Add model name to the metrics\n",
    "  metrics$Model <- model_name\n",
    "  \n",
    "  # Append to the metrics table\n",
    "  metrics_table <- rbind(metrics_table, metrics)\n",
    "}\n",
    "\n",
    "# Reorder columns to have Model as the first column\n",
    "metrics_table <- metrics_table[, c(\"Model\", \"MAE\", \"RMSE\", \"MAPE\", \"R_squared\")]\n",
    "\n",
    "# Print the metrics table\n",
    "print(metrics_table)\n"
   ]
  },
  {
   "cell_type": "code",
   "execution_count": 102,
   "id": "1d64eef5-8979-490e-857f-4c061ed043d5",
   "metadata": {},
   "outputs": [
    {
     "data": {
      "text/plain": [
       "\n",
       "Call:\n",
       "lm(formula = T_train ~ ., data = as.data.frame(X_train))\n",
       "\n",
       "Residuals:\n",
       "    Min      1Q  Median      3Q     Max \n",
       "-385.62  -64.31   -0.49   64.09  204.94 \n",
       "\n",
       "Coefficients: (1 not defined because of singularities)\n",
       "                             Estimate Std. Error t value Pr(>|t|)    \n",
       "(Intercept)                 3996.2430     6.9031 578.909  < 2e-16 ***\n",
       "IsHoliday                     10.9143     3.4390   3.174 0.001508 ** \n",
       "humidity_past1h               28.2268     4.2424   6.653 2.95e-11 ***\n",
       "temp_mean_past1h            -150.4411     8.9288 -16.849  < 2e-16 ***\n",
       "wind_speed_past1h             39.2234     5.0919   7.703 1.40e-14 ***\n",
       "`\\\\`Electric cars\\\\``       6785.1361   243.4937  27.866  < 2e-16 ***\n",
       "`\\\\`Plug-in hybrid cars\\\\`` 1288.2062   152.1128   8.469  < 2e-16 ***\n",
       "EL_price                     793.1545    11.9569  66.334  < 2e-16 ***\n",
       "time_of_day0                   0.6294     3.8738   0.162 0.870939    \n",
       "time_of_day1                   2.5410     3.8759   0.656 0.512092    \n",
       "time_of_day2                   3.1349     3.8781   0.808 0.418890    \n",
       "time_of_day3                   3.6412     3.8805   0.938 0.348078    \n",
       "time_of_day4                   2.9358     3.8812   0.756 0.449411    \n",
       "time_of_day5                   0.5756     3.8785   0.148 0.882025    \n",
       "time_of_day6                  -7.4771     3.8752  -1.929 0.053686 .  \n",
       "time_of_day7                 -15.0131     3.8844  -3.865 0.000111 ***\n",
       "time_of_day8                 -16.7047     3.9040  -4.279 1.89e-05 ***\n",
       "time_of_day9                 -10.6195     3.9239  -2.706 0.006809 ** \n",
       "time_of_day10                 -3.5398     3.9488  -0.896 0.370034    \n",
       "time_of_day11                  0.9228     3.9788   0.232 0.816588    \n",
       "time_of_day12                  5.5915     4.0025   1.397 0.162436    \n",
       "time_of_day13                  9.8605     4.0190   2.453 0.014158 *  \n",
       "time_of_day14                 11.3360     4.0251   2.816 0.004863 ** \n",
       "time_of_day15                  9.7043     4.0189   2.415 0.015759 *  \n",
       "time_of_day16                  5.2295     4.0018   1.307 0.191302    \n",
       "time_of_day17                 -5.2783     3.9855  -1.324 0.185388    \n",
       "time_of_day18                -10.9088     3.9564  -2.757 0.005834 ** \n",
       "time_of_day19                -13.9760     3.9257  -3.560 0.000372 ***\n",
       "time_of_day20                -11.0207     3.8967  -2.828 0.004686 ** \n",
       "time_of_day21                 -7.6448     3.8815  -1.970 0.048902 *  \n",
       "time_of_day22                 -5.1954     3.8754  -1.341 0.180067    \n",
       "time_of_day23                      NA         NA      NA       NA    \n",
       "monthApril                   -20.4577     3.2711  -6.254 4.09e-10 ***\n",
       "monthAugust                    3.4891     4.8222   0.724 0.469346    \n",
       "monthFebruary               -128.6750     3.5394 -36.355  < 2e-16 ***\n",
       "monthJanuary                 -89.3317     2.8665 -31.164  < 2e-16 ***\n",
       "monthJuly                     14.8112     4.6057   3.216 0.001303 ** \n",
       "monthJune                     23.8767     4.6518   5.133 2.89e-07 ***\n",
       "monthMarch                   -51.8354     2.9789 -17.401  < 2e-16 ***\n",
       "monthMay                     -27.8148     3.6560  -7.608 2.92e-14 ***\n",
       "monthNovember                -51.4972     3.9752 -12.954  < 2e-16 ***\n",
       "monthOctober                   4.9391     3.5700   1.384 0.166527    \n",
       "monthSeptember                18.6942     3.9989   4.675 2.96e-06 ***\n",
       "weekdayFriday                -13.8458     2.1004  -6.592 4.46e-11 ***\n",
       "weekdayMonday                -18.1552     2.1129  -8.593  < 2e-16 ***\n",
       "weekdaySaturday               -7.2402     2.1026  -3.443 0.000576 ***\n",
       "weekdayThursday              -18.5949     2.1068  -8.826  < 2e-16 ***\n",
       "weekdayTuesday               -20.2668     2.1198  -9.561  < 2e-16 ***\n",
       "weekdayWednesday             -18.9484     2.1114  -8.974  < 2e-16 ***\n",
       "---\n",
       "Signif. codes:  0 '***' 0.001 '**' 0.01 '*' 0.05 '.' 0.1 ' ' 1\n",
       "\n",
       "Residual standard error: 74.05 on 17496 degrees of freedom\n",
       "Multiple R-squared:  0.4656,\tAdjusted R-squared:  0.4641 \n",
       "F-statistic: 324.3 on 47 and 17496 DF,  p-value: < 2.2e-16\n"
      ]
     },
     "metadata": {},
     "output_type": "display_data"
    }
   ],
   "source": [
    "summary(ols_model)"
   ]
  },
  {
   "cell_type": "code",
   "execution_count": 112,
   "id": "f871c594-3652-4625-b9a9-2d649cd84c45",
   "metadata": {},
   "outputs": [
    {
     "ename": "ERROR",
     "evalue": "Error in parse(text = x, srcfile = src): <text>:1:20: uventet symbol\n1:        Model       MAE\n                       ^\n",
     "output_type": "error",
     "traceback": [
      "Error in parse(text = x, srcfile = src): <text>:1:20: uventet symbol\n1:        Model       MAE\n                       ^\nTraceback:\n"
     ]
    }
   ],
   "source": [
    "       Model       MAE      RMSE     MAPE R_squared\n",
    "1        OLS 177.28754 223.16793 4.421407 0.1084263\n",
    "2         AR 109.55800 134.79822 2.749181 0.9844070\n",
    "3         MA  79.06102  92.82007 1.970092 0.0000000\n",
    "4       ARMA 150.43325 180.18323 3.770186 0.9627788\n",
    "5      ARIMA 118.10806 146.42337 2.964742 0.4087221\n",
    "6 Auto_ARIMA  77.90538  98.09097 1.956920 0.9943862"
   ]
  },
  {
   "cell_type": "code",
   "execution_count": null,
   "id": "d8e8c884-90ab-4cb0-bb90-7dbcbf2c559e",
   "metadata": {},
   "outputs": [],
   "source": [
    "       Model       MAE      RMSE     MAPE    R_squared\n",
    "1        OLS 169.80147 208.56722 4.242994 0.0963218819\n",
    "2         AR 116.24065 138.92776 2.918506 0.9924379881\n",
    "3         MA  81.56989  98.72548 2.044522 0.0003013632\n",
    "4       ARMA 148.94092 175.39719 3.737013 0.9725434039\n",
    "5      ARIMA 121.38398 146.53995 3.048996 0.4553674877\n",
    "6 Auto_ARIMA  84.64943 102.24859 2.126326 0.9982800162\n",
    "7XGB_f24_100  26.378   43.737081 0.647259 0.7452727245"
   ]
  },
  {
   "cell_type": "code",
   "execution_count": null,
   "id": "bb86733f-21b0-48ee-9ced-505a6b388b9e",
   "metadata": {},
   "outputs": [],
   "source": [
    "MAE\t                RMSE\t            MAPE\tR_squared\n"
   ]
  }
 ],
 "metadata": {
  "kernelspec": {
   "display_name": "R",
   "language": "R",
   "name": "ir"
  },
  "language_info": {
   "codemirror_mode": "r",
   "file_extension": ".r",
   "mimetype": "text/x-r-source",
   "name": "R",
   "pygments_lexer": "r",
   "version": "4.4.2"
  },
  "widgets": {
   "application/vnd.jupyter.widget-state+json": {
    "state": {},
    "version_major": 2,
    "version_minor": 0
   }
  }
 },
 "nbformat": 4,
 "nbformat_minor": 5
}

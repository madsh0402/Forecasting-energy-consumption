{
 "cells": [
  {
   "cell_type": "markdown",
   "id": "cfaa653f-9e54-4027-81a5-3f6e06abdd61",
   "metadata": {},
   "source": [
    "# 5. Forecasting analyzes"
   ]
  },
  {
   "cell_type": "markdown",
   "id": "098ef58d-1630-4b3c-b222-b8073d85b8f2",
   "metadata": {},
   "source": [
    "Forecasting analysis is discussed in Chapter 5. It focuses on getting time series data on customer groups ready for forecasting; the techniques involve min-max scaling and creating dummy variables, and lag \\\\( X \\\\) variables in order to forecast \\\\( R_t \\\\) into the future. After the techniques has been used the MSTL decomposition is then used to find the remainders. The chapter also covers the length of the forecasting horizon, \\\\( h \\\\), and how it influences accuracy of predictions. The rolling window approach is also analyzed, the size of the static window and the frequency of retraining. Furthermore, the chapter also focuses on tuning parameters for Random Forest. After selecting the best prediction models for OLS and RF and then comparing them with benchmark models to analyze which model is proficient at forecasting the remainders."
   ]
  },
  {
   "cell_type": "code",
   "execution_count": null,
   "id": "b3bd20ea-37d3-4168-92ec-c6418f3c42e7",
   "metadata": {},
   "outputs": [],
   "source": []
  }
 ],
 "metadata": {
  "kernelspec": {
   "display_name": "R",
   "language": "R",
   "name": "ir"
  },
  "language_info": {
   "codemirror_mode": "r",
   "file_extension": ".r",
   "mimetype": "text/x-r-source",
   "name": "R",
   "pygments_lexer": "r",
   "version": "3.6.1"
  },
  "widgets": {
   "application/vnd.jupyter.widget-state+json": {
    "state": {},
    "version_major": 2,
    "version_minor": 0
   }
  }
 },
 "nbformat": 4,
 "nbformat_minor": 5
}

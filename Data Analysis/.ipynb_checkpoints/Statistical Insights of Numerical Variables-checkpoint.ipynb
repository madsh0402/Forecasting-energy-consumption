{
 "cells": [
  {
   "cell_type": "markdown",
   "id": "9b10095e-6c40-4144-bfdb-269d6ba6da03",
   "metadata": {},
   "source": [
    "The foundation of any data analysis lies in understanding the basic statistical properties of a dataset. Summary statistics provide essential information that can guide initial conclusions and is a way to get directions for future analysis. Therefore, the dataset’s summary statistics are provided to offer an overview of the variables, each of which plays a role in understanding the energy consumption patterns. The summary statistics of numerical variables are as follows: "
   ]
  },
  {
   "cell_type": "code",
   "execution_count": null,
   "id": "5c5984da-4c8e-4adf-b4d4-e9effbfe7280",
   "metadata": {},
   "outputs": [],
   "source": []
  }
 ],
 "metadata": {
  "kernelspec": {
   "display_name": "Python 3 (ipykernel)",
   "language": "python",
   "name": "python3"
  },
  "language_info": {
   "codemirror_mode": {
    "name": "ipython",
    "version": 3
   },
   "file_extension": ".py",
   "mimetype": "text/x-python",
   "name": "python",
   "nbconvert_exporter": "python",
   "pygments_lexer": "ipython3",
   "version": "3.9.12"
  }
 },
 "nbformat": 4,
 "nbformat_minor": 5
}

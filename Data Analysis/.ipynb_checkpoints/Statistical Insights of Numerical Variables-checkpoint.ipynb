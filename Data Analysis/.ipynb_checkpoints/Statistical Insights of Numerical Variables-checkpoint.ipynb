{
 "cells": [
  {
   "cell_type": "code",
   "execution_count": 2,
   "id": "25131f40-3134-4c46-8aed-fcfb01e25026",
   "metadata": {
    "editable": true,
    "slideshow": {
     "slide_type": ""
    },
    "tags": []
   },
   "outputs": [],
   "source": [
    "import warnings\n",
    "\n",
    "# Suppress all warnings\n",
    "warnings.filterwarnings('ignore')"
   ]
  },
  {
   "cell_type": "code",
   "execution_count": 3,
   "id": "c4e604c2-ae1f-4557-ab76-e7d92963a9bf",
   "metadata": {
    "tags": []
   },
   "outputs": [],
   "source": [
    "from IPython.display import display, HTML\n",
    "\n",
    "import pandas as pd\n",
    "import numpy as np\n",
    "\n",
    "import matplotlib as plt \n",
    "import seaborn as sns"
   ]
  },
  {
   "cell_type": "markdown",
   "id": "23664880-543d-477f-a000-6e22138e8b5b",
   "metadata": {},
   "source": [
    "## 4.3 Overview of the explanatory variables"
   ]
  },
  {
   "cell_type": "markdown",
   "id": "df90e556-f83b-475b-9a1e-57fdfeef850d",
   "metadata": {},
   "source": [
    "To make a good forecast model for energy consumption, it is important to understand the attributes that the variables have and know what each variable represents. Each variable serves to give a better understanding of what contributes to energy consumption for Andel Energi’s customers. By understanding the variables, a better understanding of energy usage patterns can be gained. Therefore, the following section will introduce and describe the variables contained within the dataset which has been provided by Andel Energi and other sources."
   ]
  },
  {
   "cell_type": "markdown",
   "id": "64d5f3d7-4d1b-46aa-b052-a76023697d31",
   "metadata": {
    "editable": true,
    "slideshow": {
     "slide_type": ""
    },
    "tags": []
   },
   "source": [
    "| Variable Name | Data Type | Variable Type | Description | Source | Additional Notes |\n",
    "|---------------|-----------|---------------|-------------|--------|------------------|\n",
    "| start_time | datetime | Numerical | Start time of the observation | Delivered by Andel | - |\n",
    "| is_holiday | int | Binary | Indicates if the time is a holiday | python library *holidays* | 1 for holiday, 0 for non-holiday |\n",
    "| month | str | Categorical | Month of the observation | python library *calender* | - |\n",
    "| weekday | str | Categorical | Weekday of the observation | python library *calender* | - |\n",
    "| EC_pct_change | float | Numerical | Percent change in electrical cars registrated | Gathered from DST.dk | - |\n",
    "| HC_pct_change | float | Numerical | Percent change in plug-in hybrid cars registrated | Gathered from DST.dk | - |\n",
    "| humidity_past1h | float | Numerical | Humidity level in the past hour | Gathered from DMI.dk | - |\n",
    "| temp_mean_past1h | float | Numerical | Mean temperature in the past hour | Gathered from DMI.dk | - |\n",
    "| wind_speed_past1h | float | Numerical | Wind speed in the past hour | Gathered from DMI.dk | - |\n",
    "| EL_price | float | Numerical | Price of electricity | Gathered from DST.dk | - |\n",
    "| sum_quantity | float | Numerical | Sum of energy consumption | Delivered by Andel | Dependent variable for analysis |\n",
    "\n",
    "- **start_time & slut_time**: Timestamps marking the beginning and end of the recorded hour.\n",
    "- **is_holiday**: A binary variable indicating whether the observation falls on a holiday.\n",
    "- **month & weekday**: Time-related categorical variables aiding in temporal pattern identification.\n",
    "- **EC_pct_change & HC_pct_change**: Percentage changes in energy consumption and heating, respectively, offering insights into variability and trends.\n",
    "- **umidity_past1h, temp_mean_past1h, wind_speed_past1h**: Meteorological variables from the previous hour that might influence energy usage patterns.\n",
    "- **EL_price**: Price of electricity, a potential determinant of consumption behavior.\n",
    "- **sum_quantity**: Aggregated measure of energy consumption, serving as the dependent variable for analysis."
   ]
  },
  {
   "cell_type": "markdown",
   "id": "0316a3e6-267b-4f84-a42c-6cb8f67e67e0",
   "metadata": {
    "editable": true,
    "slideshow": {
     "slide_type": ""
    },
    "tags": []
   },
   "source": [
    "The foundation of any data analysis lies in understanding the basic statistical properties of a dataset. Summary statistics provide essential information that can guide initial conclusions and is a way to get directions for future analysis. Therefore, the dataset’s summary statistics are provided to offer an overview of the variables, each of which plays a role in understanding the energy consumption patterns. The summary statistics of numerical variables are as follows: "
   ]
  },
  {
   "cell_type": "markdown",
   "id": "c4976ea4-faef-4220-b583-8e9f1cf27705",
   "metadata": {
    "editable": true,
    "slideshow": {
     "slide_type": ""
    },
    "tags": []
   },
   "source": [
    "## 4.4 Summary statistics insights of numerical variables"
   ]
  },
  {
   "cell_type": "code",
   "execution_count": 20,
   "id": "99e4a6d1-caa2-4611-8f4e-b3363b52f8ba",
   "metadata": {
    "editable": true,
    "slideshow": {
     "slide_type": ""
    },
    "tags": []
   },
   "outputs": [],
   "source": [
    "df = pd.read_csv(\"C:/Users/madsh/OneDrive/Dokumenter/kandidat/Fællesmappe/Forecasting-energy-consumption/Data Cleaning/output_file.csv\", encoding=\"utf-8\")"
   ]
  },
  {
   "cell_type": "code",
   "execution_count": 19,
   "id": "5c5984da-4c8e-4adf-b4d4-e9effbfe7280",
   "metadata": {
    "editable": true,
    "slideshow": {
     "slide_type": ""
    },
    "tags": []
   },
   "outputs": [
    {
     "data": {
      "text/html": [
       "<div>\n",
       "<style scoped>\n",
       "    .dataframe tbody tr th:only-of-type {\n",
       "        vertical-align: middle;\n",
       "    }\n",
       "\n",
       "    .dataframe tbody tr th {\n",
       "        vertical-align: top;\n",
       "    }\n",
       "\n",
       "    .dataframe thead th {\n",
       "        text-align: right;\n",
       "    }\n",
       "</style>\n",
       "<table border=\"1\" class=\"dataframe\">\n",
       "  <thead>\n",
       "    <tr style=\"text-align: right;\">\n",
       "      <th></th>\n",
       "      <th>Electric cars</th>\n",
       "      <th>Plug-in hybrid cars</th>\n",
       "      <th>humidity_past1h</th>\n",
       "      <th>temp_mean_past1h</th>\n",
       "      <th>wind_speed_past1h</th>\n",
       "      <th>EL_price</th>\n",
       "    </tr>\n",
       "  </thead>\n",
       "  <tbody>\n",
       "    <tr>\n",
       "      <th>Count</th>\n",
       "      <td>26304.000000</td>\n",
       "      <td>26304.000000</td>\n",
       "      <td>26304.000000</td>\n",
       "      <td>26304.000000</td>\n",
       "      <td>26304.000000</td>\n",
       "      <td>26304.000000</td>\n",
       "    </tr>\n",
       "    <tr>\n",
       "      <th>Mean</th>\n",
       "      <td>0.007992</td>\n",
       "      <td>0.008540</td>\n",
       "      <td>81.429244</td>\n",
       "      <td>8.331720</td>\n",
       "      <td>4.834021</td>\n",
       "      <td>0.816396</td>\n",
       "    </tr>\n",
       "    <tr>\n",
       "      <th>Std</th>\n",
       "      <td>0.004053</td>\n",
       "      <td>0.005619</td>\n",
       "      <td>10.658195</td>\n",
       "      <td>6.150023</td>\n",
       "      <td>1.990381</td>\n",
       "      <td>0.904135</td>\n",
       "    </tr>\n",
       "    <tr>\n",
       "      <th>Min</th>\n",
       "      <td>-0.012073</td>\n",
       "      <td>-0.027599</td>\n",
       "      <td>39.800000</td>\n",
       "      <td>-9.755000</td>\n",
       "      <td>0.980000</td>\n",
       "      <td>-0.365245</td>\n",
       "    </tr>\n",
       "    <tr>\n",
       "      <th>25%</th>\n",
       "      <td>0.005086</td>\n",
       "      <td>0.003659</td>\n",
       "      <td>75.193548</td>\n",
       "      <td>3.242623</td>\n",
       "      <td>3.319643</td>\n",
       "      <td>0.219713</td>\n",
       "    </tr>\n",
       "    <tr>\n",
       "      <th>50%</th>\n",
       "      <td>0.007145</td>\n",
       "      <td>0.008175</td>\n",
       "      <td>84.360656</td>\n",
       "      <td>8.131967</td>\n",
       "      <td>4.551724</td>\n",
       "      <td>0.465135</td>\n",
       "    </tr>\n",
       "    <tr>\n",
       "      <th>75%</th>\n",
       "      <td>0.010764</td>\n",
       "      <td>0.010722</td>\n",
       "      <td>89.606557</td>\n",
       "      <td>13.295020</td>\n",
       "      <td>6.061507</td>\n",
       "      <td>1.107715</td>\n",
       "    </tr>\n",
       "    <tr>\n",
       "      <th>Max</th>\n",
       "      <td>0.036147</td>\n",
       "      <td>0.062953</td>\n",
       "      <td>97.934426</td>\n",
       "      <td>26.935593</td>\n",
       "      <td>16.248214</td>\n",
       "      <td>6.478240</td>\n",
       "    </tr>\n",
       "  </tbody>\n",
       "</table>\n",
       "</div>"
      ],
      "text/plain": [
       "       Electric cars  Plug-in hybrid cars  humidity_past1h  temp_mean_past1h  \\\n",
       "Count   26304.000000         26304.000000     26304.000000      26304.000000   \n",
       "Mean        0.007992             0.008540        81.429244          8.331720   \n",
       "Std         0.004053             0.005619        10.658195          6.150023   \n",
       "Min        -0.012073            -0.027599        39.800000         -9.755000   \n",
       "25%         0.005086             0.003659        75.193548          3.242623   \n",
       "50%         0.007145             0.008175        84.360656          8.131967   \n",
       "75%         0.010764             0.010722        89.606557         13.295020   \n",
       "Max         0.036147             0.062953        97.934426         26.935593   \n",
       "\n",
       "       wind_speed_past1h      EL_price  \n",
       "Count       26304.000000  26304.000000  \n",
       "Mean            4.834021      0.816396  \n",
       "Std             1.990381      0.904135  \n",
       "Min             0.980000     -0.365245  \n",
       "25%             3.319643      0.219713  \n",
       "50%             4.551724      0.465135  \n",
       "75%             6.061507      1.107715  \n",
       "Max            16.248214      6.478240  "
      ]
     },
     "execution_count": 19,
     "metadata": {},
     "output_type": "execute_result"
    }
   ],
   "source": [
    "import pandas as pd\n",
    "\n",
    "# Assume your dataframe is named 'df'\n",
    "# Selecting the columns of interest for the summary statistics\n",
    "columns_of_interest = ['Electric cars', 'Plug-in hybrid cars', 'humidity_past1h', 'temp_mean_past1h', 'wind_speed_past1h', 'EL_price']\n",
    "\n",
    "# Calculating the summary statistics\n",
    "summary_stats = df[columns_of_interest].describe().transpose()\n",
    "# Adding the sum and count manually\n",
    "summary_stats['count'] = df[columns_of_interest].count()\n",
    "\n",
    "# Renaming columns to match your required format\n",
    "summary_stats.columns = ['Count', 'Mean', 'Std', 'Min', '25%', '50%', '75%', 'Max']\n",
    "\n",
    "# Rearranging the order of columns to match your required format\n",
    "summary_stats = summary_stats[['Count', 'Mean', 'Std', 'Min', '25%', '50%', '75%', 'Max']].transpose()\n",
    "summary_stats"
   ]
  },
  {
   "cell_type": "markdown",
   "id": "c52316b2-1920-479a-9ee9-be1d9e708205",
   "metadata": {},
   "source": [
    "Looking at the growth patterns in the table above, the mean percentages for Electric cars and Plug-in hybrid cars indicate a steady growth trend, with means of 0.007992 and 0.008540, respectively. This steady growth, combined with the low standard deviations (0.004053 for Electric cars and 0.005619 for Plug-in hybrid cars), suggests a consistent, albeit modest, increase in new electric and hybrid vehicle registrations. The growth pattern shows a relatively narrow range between the maximum and minimum values: Electric cars ranges from -0.012073 to 0.036147, while Plug-in hybrid cars ranges from -0.027599 to 0.062953. This indicates that the market is expanding at a steady rate during the period of interest, without sudden spikes or drops. The difference in growth rates between electric and hybrid vehicles may reflect varied consumer preferences or policy incentives targeted at specific vehicle types. The slightly higher growth rate for hybrid vehicles might indicate a transitional preference among consumers, moving from conventional gas engines to fully electric options as technology and infrastructure improve.\n",
    "\n",
    "However, looking at the period shortly after our scope shows the import of electric cars as a percentage change growth rate would be larger than that of the hybrid cars (Elbiler Udgjorde 36 Pct. Af De Nye Biler I 2023, n.d.). The environmental factors (humidity_past1h, temp_mean_past1h, and wind_speed_past1h) show a high degree of stability, with relatively low standard deviations (10.658195 for humidity_past1h, 6.150023 for temp_mean_past1h, and 1.990381 for wind_speed_past1h). This suggests that the observed period did not have significant environmental fluctuations that could have a large effect on energy consumption patterns. The direct impact of these environmental conditions on energy consumption, especially the effect they have on the need for heating or cooling, could be more nuanced. For instance, moderate temperatures might reduce the need for extensive heating or cooling, potentially moderating energy consumption related to climate control for private consumers.\n",
    "\n",
    "Lastly, the electricity dynamics, consisting of EL_price and energy consumption (Sum_quantity), show minimal fluctuation in electricity price (standard deviation of 0.904135) compared to energy consumption (7.947110). This suggests that while electricity pricing might be regulated or have less volatility due to different means of production, the consumption patterns vary significantly among consumers over time. This variability could reflect different aspects that influence consumer behavior, not directly tied to price changes, such as seasonality and temporal patterns. The dataset includes private customers, who likely have clear usage patterns, using minimal electricity while at work and more when at home. The substantial difference between the 75th percentile (1.107715) and the maximum value (6.478240) for Sum_quantity points to sporadic high consumption events, possibly due to holidays like Christmas when consumers use more electricity-demanding systems simultaneously (Juleaften: Øerne Bruger Mest Ekstra Strøm, Mens Storbykommuner Bruger Mindst, 2022). This is accounted for with the IsHoliday variable, which helps capture these outliers.\n",
    "\n",
    "Furthermore, the table highlights the different scales of the numerical variables, an aspect that can disrupt machine learning models' prediction accuracy. Therefore, it is evident from the tables that the numerical values should be scaled similarly before applying machine learning models. Analyzing the summary statistics allows a deeper exploration of the dataset's essential aspects: interrelations among variables, aggregating data over customer groups, and time-based dimensions. The next chapter is dedicated to examining these correlations, providing insight into the impact of these dimensions."
   ]
  },
  {
   "cell_type": "code",
   "execution_count": null,
   "id": "b7812ba7-ada0-475d-80a3-22c1e2fe8d1b",
   "metadata": {},
   "outputs": [],
   "source": []
  }
 ],
 "metadata": {
  "kernelspec": {
   "display_name": "Python 3 (ipykernel)",
   "language": "python",
   "name": "python3"
  },
  "language_info": {
   "codemirror_mode": {
    "name": "ipython",
    "version": 3
   },
   "file_extension": ".py",
   "mimetype": "text/x-python",
   "name": "python",
   "nbconvert_exporter": "python",
   "pygments_lexer": "ipython3",
   "version": "3.9.18"
  },
  "widgets": {
   "application/vnd.jupyter.widget-state+json": {
    "state": {},
    "version_major": 2,
    "version_minor": 0
   }
  }
 },
 "nbformat": 4,
 "nbformat_minor": 5
}

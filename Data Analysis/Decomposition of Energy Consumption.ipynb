{
 "cells": [
  {
   "cell_type": "markdown",
   "id": "3b95faf8-a5d2-4041-9a0e-18b9c58d8441",
   "metadata": {},
   "source": [
    "Following the exploration of multiple seasonality within energy consumption, it becomes essential to decompose the observed patterns to recognize underlying trends and the cyclical behavior. Time series decomposition allow us to separate data into components of trend, seasonal and remainders, each providing unique insights into the nature of energy consumption fluctuations. Therefor this chapter will utilize MSTL approach to help break down these components within our dataset. "
   ]
  },
  {
   "cell_type": "code",
   "execution_count": null,
   "id": "3c5a2640-b837-4bad-9fb7-92eedefa074a",
   "metadata": {},
   "outputs": [],
   "source": []
  }
 ],
 "metadata": {
  "kernelspec": {
   "display_name": "Python 3 (ipykernel)",
   "language": "python",
   "name": "python3"
  },
  "language_info": {
   "codemirror_mode": {
    "name": "ipython",
    "version": 3
   },
   "file_extension": ".py",
   "mimetype": "text/x-python",
   "name": "python",
   "nbconvert_exporter": "python",
   "pygments_lexer": "ipython3",
   "version": "3.9.12"
  }
 },
 "nbformat": 4,
 "nbformat_minor": 5
}

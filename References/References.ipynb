{
 "cells": [
  {
   "cell_type": "markdown",
   "id": "1831e853-64ff-461c-aff9-001ad841a737",
   "metadata": {},
   "source": [
    "## 8 References"
   ]
  },
  {
   "cell_type": "markdown",
   "id": "c2a601f6-b5be-4d99-bda2-62102549bcdc",
   "metadata": {},
   "source": [
    "Awartani, B., & Corradi, V. (2005). Predicting the volatility of the S&P-500 stock index via GARCH models: the role of asymmetries. International Journal of Forecasting, 21(1), 167–183. https://doi.org/10.1016/j.ijforecast.2004.08.003\n",
    "\n",
    "Bandura. K, Hyndman. R.J., and Bergmeir. C. (2021) MSTL: A Seasonal-Trend Decomposition Algorithm for Time Series with Multiple Seasonal Patterns. arXiv preprint arXiv:2107.13462.\n",
    "\n",
    "Harvey, D., Leybourne, S., & Newbold, P. (1997). Testing the equality of prediction mean squared errors. International Journal of forecasting, 13(2), 281-291.\n",
    "\n",
    "Danmarks Meteorologiske Institut (DMI). (Udgivet dato ukendt). Observationer - Klimadata. (03.02.2024). Hentet fra: https://www.dmi.dk/friedata/observationer\n",
    "\n",
    "Danmarks Statistik. (Udgivet dato ukendt). Elforbrug i julen 2021. (03.02.2024) Hentet fra: https://www.dst.dk/da/Statistik/nyheder-analyser-publ/bagtal/2022/2022-12-19-elforbrug-2021-jul\n",
    "\n",
    "Danmarks Statistik. (Udgivet dato ukendt). Energiforbruget faldt i 2022. (24.04.2024) Hentet fra: https://www.dst.dk/da/Statistik/nyheder-analyser-publ/nyt/NytHtml?cid=46139\n",
    "\n",
    "Danmarks Statistik. (Udgivet dato ukendt). Elbiler udgjorde 36 pct. af de nye biler i 2023. (21.04.2024). Hentet fra: https://www.dst.dk/da/Statistik/nyheder-analyser-publ/nyt/NytHtml?cid=46493\n",
    "\n",
    "Danmarks Statistik. (Udgivet dato ukendt). Statistikbanken - Danskernes indkøb af varer og tjenester. (03.02.2024). Hentet fra: https://www.statistikbanken.dk/20721\n",
    "\n",
    "Danmarks Statistik. (Udgivet dato ukendt). Statistikbanken - Bilparkens sammensætning. (03.01.2024). Hentet fra: https://www.statistikbanken.dk/bil51 \n",
    "\n",
    "Dunn, O.J. (1961) Multiple comparisons among means. JASA, 56: 54-64. Energistyrelsen. (Udgivet dato ukendt). Danskernes energiforbrug daler – syv ud af ti sparer på energien. (2023, May 2). Hentet fra: https://ens.dk/presse/danskernes-energiforbrug-daler-syv-ud-af-ti-sparer-paa-energien\n",
    "\n",
    "Hastie, T., Tibshirani, R., & Friedman, J. (2017). The elements of statistical learning: Data Mining, Inference, and Prediction, Second Edition. Springer Science & Business Media.\n",
    "Hsiao, C. (2006). Panel Data Analysis — Advantages and Challenges. Department of Economics, University of Southern California, USA & Wang Yanan Institute for Studies in Economics, Xiamen University, China.\n",
    "\n",
    "\n",
    "Hyndman, R. J., & Athanasopoulos, G. (2018). Forecasting: principles and practice. OTexts.\n",
    "STL: A Seasonal-Trend decomposition procedure based on LOESS - ProQuest. (01.03.2024). https://www.proquest.com/openview/cc5001e8a0978a6c029ae9a41af00f21/1?pq-origsite=gscholar%26cbl=105444\n",
    "\n",
    "Levene, Howard (1960). \"Robust tests for equality of variances\". In Ingram Olkin; Harold Hotelling; et al. (eds.). Contributions to Probability and Statistics: Essays in Honor of Harold Hotelling. Stanford University Press. pp. 278–292\n",
    "\n",
    "Luxburg, Ulrike V.; Schölkopf, B. (2011). \"Statistical learning theory: Models, concepts, and results\". Handbook of the History of Logic. 10: Section 2.4. Mann, Henry B.; Whitney, Donald R. (1947). \"On a Test of Whether one of Two Random Variables is Stochastically Larger than the Other\". Annals of Mathematical Statistics.\n",
    "\n",
    "Hodson, T. O. (2022). Root-mean-square error (RMSE) or mean absolute error (MAE): when to use them or not. Geoscientific Model Development, 15(14), 5481–5487. (01.04.2024). https://doi.org/10.5194/gmd-15-5481-2022\n",
    "\n",
    "Hu, Z., Li, C., Cao, Y., Fang, B., He, L., & Zhang, M. (2014). How smart grid contributes to energy sustainability. Energy Procedia, 61, 858–861. (21.04.2024). https://doi.org/10.1016/j.egypro.2014.11.982\n",
    "Moniz, N., Branco, P., & Torgo, L. (2017). Resampling strategies for imbalanced time series forecasting. International Journal of Data Science and Analytics, 3(3), 161–181. (13.04.2024). https://doi.org/10.1007/s41060-017-0044-3\n",
    "\n",
    "Massachusetts Institute of Technology (MIT) News. (Udgivet dato ukendt). Minimizing Electric Vehicles' Impact on the Grid. (2023, March 15). Hentet fra: https://news.mit.edu/2023/minimizing-electric-vehicles-impact-grid-0315\n",
    "Neupert, S. (2022, August 18). Elprisen slår igen rekord – så meget dyrere er dine apparater blevet at bruge. nyheder.tv2.dk. (13.04.2024) https://nyheder.tv2.dk/business/2022-08-18-elprisen-slaar-igen-rekord-saa-meget-dyrere-er-dine-apparater-blevet-at-bruge\n",
    "\n",
    "Neupert, S. (2024, April 11). I dag får danskerne penge tilbage i skat – her er, hvad de bruger dem på. nyheder.tv2.dk. https://nyheder.tv2.dk/business/2024-04-11-i-dag-faar-danskerne-penge-tilbage-i-skat-her-er-hvad-de-bruger-dem-paa\n",
    "\n",
    "S&P Global Market Intelligence. (Udgivet dato ukendt). The rise of electric vehicles heightens grid integration imperative. (19.04.2024). Hentet fra: https://www.spglobal.com/marketintelligence/en/news-insights/latest-news-headlines/ev-impact-rise-of-electric-vehicles-heightens-grid-integration-imperative-66620630\n",
    "\n",
    "Shapiro, S. S., & Wilk, M. B. (1965). An analysis of variance test for normality (complete samples). Biometrika, Volume 52, Issue 3-4, December 1965, Pages 591–611, https://doi.org/10.1093/biomet/52.3-4.591 \n",
    "\n",
    "Welch, B. L. (1947). \"The generalization of \"Student's\" problem when several different population variances are involved\" \n",
    "\n",
    "Zhang, C., Wang, W., Wu, J., & Wang, J. (2018). A review of electric vehicle integration into modern power grids. arXiv preprint arXiv:1804.03515. (09.01.2024). Hentet fra: https://ar5iv.labs.arxiv.org/html/1804.03515"
   ]
  }
 ],
 "metadata": {
  "kernelspec": {
   "display_name": "Python 3 (ipykernel)",
   "language": "python",
   "name": "python3"
  },
  "language_info": {
   "codemirror_mode": {
    "name": "ipython",
    "version": 3
   },
   "file_extension": ".py",
   "mimetype": "text/x-python",
   "name": "python",
   "nbconvert_exporter": "python",
   "pygments_lexer": "ipython3",
   "version": "3.9.18"
  },
  "widgets": {
   "application/vnd.jupyter.widget-state+json": {
    "state": {},
    "version_major": 2,
    "version_minor": 0
   }
  }
 },
 "nbformat": 4,
 "nbformat_minor": 5
}

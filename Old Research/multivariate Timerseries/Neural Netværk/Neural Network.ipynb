{
 "cells": [
  {
   "cell_type": "markdown",
   "id": "f248adc5",
   "metadata": {},
   "source": [
    "# Neural Network"
   ]
  },
  {
   "cell_type": "markdown",
   "id": "1a956727",
   "metadata": {},
   "source": [
    "### Default libraries"
   ]
  },
  {
   "cell_type": "code",
   "execution_count": 1,
   "id": "59d3e244",
   "metadata": {},
   "outputs": [],
   "source": [
    "import pandas as pd\n",
    "import numpy as np\n",
    "import matplotlib.pyplot as plt\n",
    "\n",
    "# for normalising\n",
    "from sklearn.preprocessing import StandardScaler\n",
    "\n",
    "# for NN\n",
    "import tensorflow as tf\n",
    "from tensorflow.keras import Sequential\n",
    "from tensorflow.keras.layers import Dense\n",
    "\n",
    "# for optimising NN\n",
    "from keras.models import Sequential\n",
    "from keras.layers import Dense, Dropout\n",
    "from keras.optimizers import RMSprop\n",
    "\n",
    "# Regularization\n",
    "from keras.regularizers import l1, l2\n",
    "from scikeras.wrappers import KerasRegressor\n",
    "from sklearn.model_selection import GridSearchCV\n",
    "\n",
    "\n",
    "import warnings\n",
    "warnings.filterwarnings('ignore')"
   ]
  },
  {
   "cell_type": "markdown",
   "id": "0e03b267",
   "metadata": {},
   "source": [
    "### Default Functions"
   ]
  },
  {
   "cell_type": "code",
   "execution_count": 2,
   "id": "a9f3e954",
   "metadata": {},
   "outputs": [],
   "source": [
    "# Custom prediction function\n",
    "def custom_predict_NN(X, model, scaler):\n",
    "    \"\"\"\n",
    "    Custom prediction function that overrides model predictions based on a 'flagged' column in the input data.\n",
    "    \n",
    "    Parameters:\n",
    "    - X (DataFrame): Input data with features including a 'flagged' column.\n",
    "    - model (model object): Trained model object that has a predict method.\n",
    "    - scaler (object): Scaler object used to scale the data.\n",
    "    \n",
    "    Returns:\n",
    "    - y_custom_pred (array): Array of predictions with overridden values based on 'flagged' column.\n",
    "    \"\"\"\n",
    "    # List of continuous columns\n",
    "    continuous_cols = ['t2m', 'step_days']\n",
    "    \n",
    "    # Scale only the continuous features\n",
    "    X_continuous_scaled = scaler.transform(X[continuous_cols])\n",
    "    \n",
    "    # Combine the scaled continuous features and categorical features\n",
    "    X_continuous_df = pd.DataFrame(X_continuous_scaled, columns=continuous_cols, index=X.index)\n",
    "    X_scaled = pd.concat([X_continuous_df, X.drop(columns=continuous_cols)], axis=1)\n",
    "    \n",
    "    # Make predictions\n",
    "    y_pred = model.predict(X_scaled)\n",
    "    \n",
    "    # Apply the flagged logic\n",
    "    y_custom_pred = np.where(X['flagged'] == 1, 0, y_pred.flatten())\n",
    "    \n",
    "    return y_custom_pred\n",
    "\n",
    "def metrics(y_test, y_pred):\n",
    "    from sklearn.metrics import mean_squared_error, mean_absolute_error, r2_score\n",
    "    non_zero_indices = y_test != 0\n",
    "    \"\"\"\n",
    "    Computes and prints several evaluation metrics for regression models.\n",
    "    \n",
    "    Parameters:\n",
    "    - y_test (array): True target values.\n",
    "    - y_pred (array): Predicted target values from the model.\n",
    "    \n",
    "    Prints:\n",
    "    - MSE, RMSE, MAE, R^2, and MAPE values.\n",
    "    \"\"\"\n",
    "    # Previous metrics\n",
    "    mse  = mean_squared_error(y_test, y_pred)\n",
    "    rmse = mean_squared_error(y_test, y_pred, squared=False)\n",
    "    mae  = mean_absolute_error(y_test, y_pred)\n",
    "    r2   = r2_score(y_test, y_pred)\n",
    "    mape = 100 * np.mean(np.abs((y_test[non_zero_indices] - y_pred[non_zero_indices]) / y_test[non_zero_indices]))\n",
    "    \n",
    "    print(f\" MSE = {mse}\\nRMSE = {rmse}\\n MAE = {mae}\\n  %R^2% = {r2}\\n MAPE = {mape}%\")\n",
    "    \n",
    "def mean_absolute_percentage_error(y_true, y_pred):\n",
    "    # Avoid division by zero and convert tensors to float type\n",
    "    y_true = tf.cast(y_true, tf.float32)\n",
    "    y_pred = tf.cast(y_pred, tf.float32)\n",
    "    epsilon = tf.keras.backend.epsilon()\n",
    "    diff = tf.abs((y_true - y_pred) / tf.clip_by_value(tf.abs(y_true), epsilon, float('inf')))\n",
    "    return 100. * tf.reduce_mean(diff, axis=-1)"
   ]
  },
  {
   "cell_type": "markdown",
   "id": "61c478bb",
   "metadata": {},
   "source": [
    "### load data temp"
   ]
  },
  {
   "cell_type": "code",
   "execution_count": 3,
   "id": "5cc43084",
   "metadata": {},
   "outputs": [],
   "source": [
    "# Load the electricity consumption dataset\n",
    "filepath = 'C:/Users/madsh/OneDrive/Dokumenter/kandidat/Fællesmappe/Speciale/Forecasting-energy-consumption-in-Denmark/Data/Combined data/'\n",
    "data_flagged = pd.read_csv(filepath + 'combined_daily_flagged.csv')\n",
    "\n",
    "# Put HourDK as DataFrame index\n",
    "data_flagged.set_index('HourDK', inplace=True)"
   ]
  },
  {
   "cell_type": "markdown",
   "id": "48efce61",
   "metadata": {},
   "source": [
    "### Deualt test and training split"
   ]
  },
  {
   "cell_type": "code",
   "execution_count": 4,
   "id": "e5e87d9c",
   "metadata": {},
   "outputs": [],
   "source": [
    "# Re-split the data into training and test sets based on the criteria\n",
    "SplitDate = '2022-06-30'\n",
    "training_set = data_flagged.loc[data_flagged.index <= SplitDate]\n",
    "test_set = data_flagged.loc[data_flagged.index > SplitDate]"
   ]
  },
  {
   "cell_type": "markdown",
   "id": "2dfc9b5c",
   "metadata": {},
   "source": [
    "1. **Data Preprocessing**: Neural networks typically require input features to be standardized. This means the features should have a mean of zero and a standard deviation of one. We'll start by performing this standardization on your dataset. We'll also need to separate the target variable (I assume it's electricity consumption but please clarify if it's different) from the input features.  \n",
    "\n",
    "2. **Model Creation**: We'll set up a simple feed-forward neural network using libraries such as TensorFlow and Keras.     \n",
    "\n",
    "3. **Training**: We'll train the neural network on your training data.  \n",
    "\n",
    "4. **Evaluation**: We'll evaluate the model's performance on the test set using the metrics function you provided.  \n",
    "\n",
    "5. **Prediction**: Finally, we'll make predictions using the trained neural network.  "
   ]
  },
  {
   "cell_type": "markdown",
   "id": "69f1154e",
   "metadata": {},
   "source": [
    "## 1. Data Preprocessing\n",
    "For neural networks, it's usually a good idea to normalize or scale the features so that they have a mean of 0 and a standard deviation of 1. This can help the model converge faster during training.\n",
    "\n",
    "1. Normalize the continuous features in the training set.\n",
    "2. Use the same normalization parameters (mean and standard deviation) to normalize the features in the test set."
   ]
  },
  {
   "cell_type": "code",
   "execution_count": 5,
   "id": "73f5ebfc",
   "metadata": {},
   "outputs": [
    {
     "data": {
      "text/plain": [
       "((6390, 23), (184, 23))"
      ]
     },
     "execution_count": 5,
     "metadata": {},
     "output_type": "execute_result"
    }
   ],
   "source": [
    "# Separate features and target\n",
    "X_train = training_set.drop('GrossConsumptionMWh', axis=1)\n",
    "y_train = training_set['GrossConsumptionMWh']\n",
    "\n",
    "X_test = test_set.drop('GrossConsumptionMWh', axis=1)\n",
    "y_test = test_set['GrossConsumptionMWh']\n",
    "\n",
    "# Separate continuous and categorical columns\n",
    "continuous_cols = ['t2m', 'step_days']\n",
    "categorical_cols = [col for col in X_train.columns if col not in continuous_cols]\n",
    "\n",
    "# Scale only the continuous features\n",
    "scaler = StandardScaler()\n",
    "X_train_continuous_scaled = scaler.fit_transform(X_train[continuous_cols])\n",
    "X_test_continuous_scaled = scaler.transform(X_test[continuous_cols])\n",
    "\n",
    "# Combine the scaled continuous features and categorical features\n",
    "X_train_scaled = pd.concat([pd.DataFrame(X_train_continuous_scaled, columns=continuous_cols, index=X_train.index), X_train[categorical_cols]], axis=1)\n",
    "X_test_scaled = pd.concat([pd.DataFrame(X_test_continuous_scaled, columns=continuous_cols, index=X_test.index), X_test[categorical_cols]], axis=1)\n",
    "\n",
    "X_train_scaled.shape, X_test_scaled.shape"
   ]
  },
  {
   "cell_type": "markdown",
   "id": "bd7ffb2a",
   "metadata": {},
   "source": [
    "## 2. Model Creation\n",
    "We'll set up a simple feed-forward neural network using TensorFlow and Keras.\n",
    "\n",
    "We'll use the Keras API within TensorFlow to build a simple feed-forward neural network (also known as a multi-layer perceptron or MLP).\n",
    "\n",
    "Given the nature of the data (time series), there are more complex architectures like RNNs or LSTMs that could be used. But for the sake of simplicity, we'll start with a basic MLP.\n",
    "\n",
    "Here's the architecture we'll use:\n",
    "\n",
    "1. Input Layer: 23 neurons (matching the number of features).\n",
    "2. Hidden Layer 1: 64 neurons with ReLU activation.\n",
    "3. Hidden Layer 2: 32 neurons with ReLU activation.\n",
    "4. Output Layer: 1 neuron (since it's a regression task)."
   ]
  },
  {
   "cell_type": "code",
   "execution_count": 7,
   "id": "035d052a",
   "metadata": {},
   "outputs": [
    {
     "name": "stdout",
     "output_type": "stream",
     "text": [
      "Model: \"sequential_1\"\n",
      "_________________________________________________________________\n",
      " Layer (type)                Output Shape              Param #   \n",
      "=================================================================\n",
      " dense_3 (Dense)             (None, 64)                1536      \n",
      "                                                                 \n",
      " dense_4 (Dense)             (None, 32)                2080      \n",
      "                                                                 \n",
      " dense_5 (Dense)             (None, 1)                 33        \n",
      "                                                                 \n",
      "=================================================================\n",
      "Total params: 3649 (14.25 KB)\n",
      "Trainable params: 3649 (14.25 KB)\n",
      "Non-trainable params: 0 (0.00 Byte)\n",
      "_________________________________________________________________\n"
     ]
    }
   ],
   "source": [
    "# Define the neural network model\n",
    "model = Sequential([\n",
    "    Dense(64, activation='relu', input_shape=(X_train_scaled.shape[1],)),\n",
    "    Dense(32, activation='relu'),\n",
    "    Dense(1)  # No activation for regression output\n",
    "])\n",
    "\n",
    "# Compile the model\n",
    "#model.compile(optimizer='adam', loss=mean_absolute_percentage_error)\n",
    "model.compile(loss='mean_squared_error', optimizer='adam')\n",
    "\n",
    "# Display model summary\n",
    "model.summary()"
   ]
  },
  {
   "cell_type": "markdown",
   "id": "5d53b05b",
   "metadata": {},
   "source": [
    "## 3. Training\n",
    "In this step, we will:\n",
    "\n",
    "1. Train the model on the training data.\n",
    "2. Use a validation split to monitor the model's performance on unseen data during training.\n",
    "3. Track the mean squared error (MSE) as the loss metric.\n",
    "\n",
    "We'll use a batch size of 32 and train for 100 epochs, but you can adjust these parameters if needed. Let's train the model."
   ]
  },
  {
   "cell_type": "code",
   "execution_count": 8,
   "id": "13039bc2",
   "metadata": {
    "scrolled": true
   },
   "outputs": [],
   "source": [
    "%%capture\n",
    "# Since I don't have TensorFlow available in this environment, I'll write the code based on your setup and the output you provided.\n",
    "model.compile(optimizer='adam', loss=mean_absolute_percentage_error)\n",
    "history = model.fit(X_train_scaled, y_train, \n",
    "                    batch_size=128, \n",
    "                    epochs=100, \n",
    "                    validation_split=0.2, \n",
    "                    verbose=1)"
   ]
  },
  {
   "cell_type": "code",
   "execution_count": 9,
   "id": "318c160b",
   "metadata": {},
   "outputs": [
    {
     "data": {
      "image/png": "[encoded data removed]",
      "text/plain": [
       "<Figure size 1200x600 with 1 Axes>"
      ]
     },
     "metadata": {},
     "output_type": "display_data"
    }
   ],
   "source": [
    "# Plot training and validation loss\n",
    "plt.figure(figsize=(12, 6))\n",
    "plt.plot(history.history['loss'], label='Training Loss')\n",
    "plt.plot(history.history['val_loss'], label='Validation Loss')\n",
    "plt.title('Training and Validation Loss')\n",
    "plt.xlabel('Epoch')\n",
    "plt.ylabel('Mean Squared Error')\n",
    "plt.legend()\n",
    "plt.show()"
   ]
  },
  {
   "cell_type": "markdown",
   "id": "7daf281d",
   "metadata": {},
   "source": [
    "## 4. Evaluation\n",
    "We'll evaluate the model's performance on the test set using your metrics function.\n",
    "\n",
    "\n",
    "1. Predict the target variable for the test set using the trained model.\n",
    "2. Use the metrics function you provided earlier to evaluate the model's performance on the test set."
   ]
  },
  {
   "cell_type": "code",
   "execution_count": 10,
   "id": "a8b2c700",
   "metadata": {},
   "outputs": [
    {
     "name": "stdout",
     "output_type": "stream",
     "text": [
      "6/6 [==============================] - 0s 500us/step\n",
      "\n",
      "Performance on redictions:\n",
      " MSE = 8669750673.864067\n",
      "RMSE = 93111.49592753877\n",
      " MAE = 92017.07083245684\n",
      "  %R^2% = -41.79048000867777\n",
      " MAPE = 99.99997046257647%\n"
     ]
    }
   ],
   "source": [
    "# Use custom prediction function to account for 'flagged' column\n",
    "y_custom_pred = custom_predict_NN(X_test, model, scaler)\n",
    "\n",
    "print(\"\\nPerformance on redictions:\")\n",
    "metrics(y_test, y_custom_pred)"
   ]
  },
  {
   "cell_type": "code",
   "execution_count": 11,
   "id": "35c04928",
   "metadata": {},
   "outputs": [
    {
     "data": {
      "text/plain": [
       "HourDK\n",
       "2022-07-01     89844.817380\n",
       "2022-07-02     79849.955386\n",
       "2022-07-03     77722.818057\n",
       "2022-07-04     93447.235537\n",
       "2022-07-05     92448.281617\n",
       "                  ...      \n",
       "2022-12-27    100264.310792\n",
       "2022-12-28    106942.629760\n",
       "2022-12-29    108750.475221\n",
       "2022-12-30    108998.128298\n",
       "2022-12-31    100746.457400\n",
       "Name: GrossConsumptionMWh, Length: 184, dtype: float64"
      ]
     },
     "metadata": {},
     "output_type": "display_data"
    }
   ],
   "source": [
    "display(y_test)"
   ]
  },
  {
   "cell_type": "code",
   "execution_count": 12,
   "id": "0743e8bb",
   "metadata": {},
   "outputs": [
    {
     "data": {
      "text/plain": [
       "array([ 0.06889506,  0.07673427,  0.03851676,  0.09519678,  0.06941086,\n",
       "        0.07934478,  0.08209436,  0.07169385,  0.03621133,  0.04680712,\n",
       "        0.09176958,  0.06088522,  0.05005476,  0.07131942,  0.06036178,\n",
       "        0.03850995,  0.03885365,  0.08680597,  0.05690018,  0.04093301,\n",
       "        0.05771226,  0.0458218 ,  0.04336347,  0.0396717 ,  0.08208055,\n",
       "        0.05246679,  0.0357146 ,  0.05074867,  0.0461795 ,  0.0421242 ,\n",
       "        0.04367578, -0.00837043,  0.08203475, -0.0016355 ,  0.01546225,\n",
       "        0.05639649,  0.02947351,  0.01682743, -0.0067239 ,  0.08245383,\n",
       "       -0.00613904,  0.01363173,  0.0577525 ,  0.02648893,  0.0144597 ,\n",
       "       -0.00556086,  0.08195536, -0.00674972,  0.00910047,  0.06050611,\n",
       "        0.02409388,  0.01312477, -0.00643989,  0.07933803, -0.00399995,\n",
       "        0.00591683,  0.05978376,  0.02155646,  0.01163327, -0.00699611,\n",
       "        0.07791644, -0.00269513,  0.00183927,  0.0251349 ,  0.0390867 ,\n",
       "        0.01501689,  0.04263726,  0.04825935,  0.0051106 ,  0.        ,\n",
       "        0.02194005,  0.03607998,  0.01220456,  0.04620541,  0.04528113,\n",
       "       -0.00442464,  0.00027433,  0.02280061,  0.04233084,  0.00935435,\n",
       "        0.04943798,  0.04222888, -0.00843843, -0.00054748,  0.02637125,\n",
       "        0.04850027,  0.01519462,  0.05406084,  0.03881695,  0.00309479,\n",
       "       -0.00114633,  0.02342648,  0.01807728,  0.0072035 ,  0.01259384,\n",
       "        0.00368547,  0.01431401, -0.0158767 , -0.00200521,  0.01571199,\n",
       "        0.00435361,  0.01055991, -0.00190382,  0.00330128, -0.01587787,\n",
       "       -0.00069484,  0.01148332,  0.00081531,  0.01196389, -0.00437746,\n",
       "        0.00327462, -0.01580868,  0.00071565,  0.00955631,  0.00155178,\n",
       "        0.01015487, -0.00322977,  0.00279753, -0.01148394,  0.00344925,\n",
       "        0.00949294,  0.0002501 ,  0.00663086,  0.01297069,  0.01263063,\n",
       "        0.00772438,  0.04019714,  0.04452598,  0.02571394,  0.00631695,\n",
       "        0.01201346,  0.01551624,  0.0110475 ,  0.03518201,  0.04028041,\n",
       "        0.01883906,  0.00545499,  0.01340752,  0.01448607,  0.01624906,\n",
       "        0.03239399,  0.03511153,  0.01622709,  0.00637014,  0.01410909,\n",
       "        0.01352767,  0.01653015,  0.03066561,  0.03110475,  0.01191294,\n",
       "        0.00532464,  0.01576475,  0.01240562,  0.01821142,  0.05612742,\n",
       "        0.03910698,  0.02691069,  0.00214534,  0.05711254,  0.0304839 ,\n",
       "        0.01942933,  0.05679718,  0.03672877,  0.02619092, -0.00394844,\n",
       "        0.05491018,  0.02710861,  0.01777696,  0.05592442,  0.02932893,\n",
       "        0.02420578,  0.00014294,  0.05078369,  0.02620936,  0.0144437 ,\n",
       "        0.        ,  0.02199244,  0.06527106,  0.02765392,  0.04560187,\n",
       "        0.01409081,  0.00955322,  0.05455676,  0.01564475], dtype=float32)"
      ]
     },
     "metadata": {},
     "output_type": "display_data"
    }
   ],
   "source": [
    "display(y_custom_pred)"
   ]
  },
  {
   "cell_type": "code",
   "execution_count": null,
   "id": "ca1b4fde",
   "metadata": {},
   "outputs": [],
   "source": [
    "import matplotlib.pyplot as plt\n",
    "\n",
    "plt.figure(figsize=(14,6))\n",
    "plt.plot(y_test.values, label='True Values', color='blue')\n",
    "plt.plot(y_custom_pred, label='Predictions', color='red', linestyle='--')\n",
    "plt.legend()\n",
    "plt.title('True vs Predicted Values')\n",
    "plt.show()"
   ]
  },
  {
   "cell_type": "markdown",
   "id": "9b7de879",
   "metadata": {},
   "source": [
    "## 5. Optimizing\n",
    "The objective is to optimize the neural network, we can approach it in several ways:\n",
    "\n",
    "### 1. Architecture Modification:\n",
    "* Add more layers: Sometimes increasing the depth can capture more complex patterns.\n",
    "* Adjust neurons: The number of neurons in each layer can be increased or decreased.\n",
    "* Use different activation functions: ReLU (Rectified Linear Unit) is the most common, but others like LeakyReLU, ELU, or SELU might sometimes yield better results.\n",
    "* Batch normalization: Helps in faster convergence and can sometimes improve performance.\n",
    "### 2. Regularization:\n",
    "* Dropout: It's a technique where randomly selected neurons are ignored during training, helping in preventing overfitting.\n",
    "* L1 & L2 regularization: Can be added to the layers to prevent overfitting.\n",
    "### 3. Optimization Algorithms & Learning Rate:\n",
    "* Optimizer: Instead of using Adam, you can try RMSprop, SGD with momentum, etc.\n",
    "* Learning rate scheduling: Reduce the learning rate once the training plateaus.\n",
    "### 4. Early Stopping:\n",
    "* This involves stopping the training process once the model's performance stops improving on a held-out validation dataset.\n",
    "### 5. Data Augmentation:\n",
    "* While this is more common for image data, similar concepts can sometimes be applied for structured data. For instance, small random noise can be added to the training data (similar to jittering).\n",
    "### 6. Feature Engineering:\n",
    "* Additional features can be added, or some non-informative features can be removed. Feature scaling and normalization can also be revisited.\n",
    "### 7. Training for more epochs:\n",
    "* Sometimes, the network might just need to be trained for a more extended period, though it's essential to watch out for overfitting.\n",
    "### 8. Hyperparameter Tuning:\n",
    "* Systematically searching for the best combination of hyperparameters can sometimes yield significant improvements."
   ]
  },
  {
   "cell_type": "markdown",
   "id": "6f7bc5fd",
   "metadata": {},
   "source": [
    "To start, I will:\n",
    "\n",
    "1. Modifying the architecture slightly by adding more layers or neurons.\n",
    "2. Incorporating dropout and/or regularization to prevent overfitting.\n",
    "3. Trying different optimization algorithms or adjusting the learning rate.\n"
   ]
  },
  {
   "cell_type": "code",
   "execution_count": null,
   "id": "adcbf011",
   "metadata": {},
   "outputs": [],
   "source": [
    "# Define the model\n",
    "model = Sequential()\n",
    "\n",
    "# Input layer\n",
    "model.add(Dense(128, input_dim=X_train_scaled.shape[1], activation='relu'))\n",
    "\n",
    "# Hidden layers\n",
    "model.add(Dense(128, activation='relu'))\n",
    "model.add(Dropout(0.2))  # Dropout layer\n",
    "model.add(Dense(64, activation='relu'))\n",
    "model.add(Dropout(0.2))  # Dropout layer\n",
    "\n",
    "# Output layer\n",
    "model.add(Dense(1, activation='linear'))\n",
    "\n",
    "# Compile the model\n",
    "optimizer = RMSprop(learning_rate=0.001)\n",
    "model.compile(loss='mean_squared_error', optimizer=optimizer)"
   ]
  },
  {
   "cell_type": "code",
   "execution_count": null,
   "id": "d8baf877",
   "metadata": {},
   "outputs": [],
   "source": [
    "%%capture\n",
    "# Train the model\n",
    "history = model.fit(X_train_scaled, y_train, validation_data=(X_test_scaled, y_test), epochs=150, batch_size=256, verbose=1)\n"
   ]
  },
  {
   "cell_type": "code",
   "execution_count": null,
   "id": "aa011321",
   "metadata": {},
   "outputs": [],
   "source": [
    "# Use custom prediction function to account for 'flagged' column\n",
    "y_custom_pred = custom_predict_NN(X_test, model, scaler)\n",
    "\n",
    "print(\"\\nPerformance on redictions:\")\n",
    "metrics(y_test, y_custom_pred)"
   ]
  },
  {
   "cell_type": "markdown",
   "id": "06fe0eaf",
   "metadata": {},
   "source": [
    "### L1 Regularization (Lasso)"
   ]
  },
  {
   "cell_type": "code",
   "execution_count": null,
   "id": "72b39e4e",
   "metadata": {},
   "outputs": [],
   "source": [
    "def create_l1_regularized_model(input_dim, l1_value=0.01):\n",
    "    model = Sequential()\n",
    "    \n",
    "    # Input layer\n",
    "    model.add(Dense(256, input_dim=input_dim, activation='relu', kernel_regularizer=l1(l1_value)))\n",
    "    \n",
    "    # Hidden layers\n",
    "    model.add(Dense(256, activation='relu', kernel_regularizer=l1(l1_value)))\n",
    "    model.add(Dense(128, activation='relu', kernel_regularizer=l1(l1_value)))\n",
    "    model.add(Dense(64, activation='relu', kernel_regularizer=l1(l1_value)))\n",
    "    \n",
    "    # Output layer\n",
    "    model.add(Dense(1, activation='linear'))\n",
    "    \n",
    "    model.compile(optimizer='adam', loss='mse')\n",
    "    return model\n",
    "\n",
    "# Create the L1 regularized model\n",
    "model_l1 = create_l1_regularized_model(X_train_scaled.shape[1], l1_value=0.01)"
   ]
  },
  {
   "cell_type": "code",
   "execution_count": null,
   "id": "25de2ccc",
   "metadata": {},
   "outputs": [],
   "source": [
    "%%capture\n",
    "# Train the model\n",
    "history = model_l1.fit(X_train_scaled, y_train, validation_data=(X_test_scaled, y_test), epochs=150, batch_size=256, verbose=1)"
   ]
  },
  {
   "cell_type": "markdown",
   "id": "fb2d0bc2",
   "metadata": {},
   "source": [
    "### L2 Regularization (Ridge)"
   ]
  },
  {
   "cell_type": "code",
   "execution_count": null,
   "id": "5ab77000",
   "metadata": {},
   "outputs": [],
   "source": [
    "from keras.regularizers import l2\n",
    "\n",
    "def create_l2_regularized_model(input_dim, l2_value=0.01):\n",
    "    model = Sequential()\n",
    "    \n",
    "    # Input layer\n",
    "    model.add(Dense(256, input_dim=input_dim, activation='relu', kernel_regularizer=l2(l2_value)))\n",
    "    \n",
    "    # Hidden layers\n",
    "    model.add(Dense(256, activation='relu', kernel_regularizer=l2(l2_value)))\n",
    "    model.add(Dense(128, activation='relu', kernel_regularizer=l2(l2_value)))\n",
    "    model.add(Dense(64, activation='relu', kernel_regularizer=l2(l2_value)))\n",
    "    \n",
    "    # Output layer\n",
    "    model.add(Dense(1, activation='linear'))\n",
    "    \n",
    "    model.compile(optimizer='adam', loss='mse')\n",
    "    return model\n",
    "\n",
    "# Create the L2 regularized model\n",
    "model_l2 = create_l2_regularized_model(X_train_scaled.shape[1], l2_value=0.01)"
   ]
  },
  {
   "cell_type": "code",
   "execution_count": null,
   "id": "9403ca83",
   "metadata": {},
   "outputs": [],
   "source": [
    "%%capture\n",
    "# Train the model\n",
    "history = model_l2.fit(X_train_scaled, y_train, \n",
    "                       validation_data=(X_test_scaled, y_test), \n",
    "                       epochs=150, \n",
    "                       batch_size=256, \n",
    "                       verbose=1)"
   ]
  },
  {
   "cell_type": "markdown",
   "id": "bb6e293f",
   "metadata": {},
   "source": [
    "#### Comparing L1 and L2"
   ]
  },
  {
   "cell_type": "code",
   "execution_count": null,
   "id": "ae76ae9e",
   "metadata": {},
   "outputs": [],
   "source": [
    "# Use custom prediction function to account for 'flagged' column\n",
    "y_custom_pred_l1 = custom_predict_NN(X_test, model_l1, scaler)\n",
    "y_custom_pred_l2 = custom_predict_NN(X_test, model_l2, scaler)\n",
    "\n",
    "print(\"\\nPerformance on L1 redictions:\")\n",
    "metrics(y_test, y_custom_pred_l1)\n",
    "\n",
    "print(\"\\nPerformance on L2 redictions:\")\n",
    "metrics(y_test, y_custom_pred_l2)"
   ]
  },
  {
   "cell_type": "code",
   "execution_count": null,
   "id": "bde50ec4",
   "metadata": {},
   "outputs": [],
   "source": [
    "%%capture\n",
    "def create_l2_regularized_model(input_dim, l2_value):\n",
    "    model = Sequential()\n",
    "    \n",
    "    # Input layer\n",
    "    model.add(Dense(256, input_dim=input_dim, activation='relu', kernel_regularizer=l2(l2_value)))\n",
    "    \n",
    "    # Hidden layers\n",
    "    model.add(Dense(256, activation='relu', kernel_regularizer=l2(l2_value)))\n",
    "    model.add(Dense(128, activation='relu', kernel_regularizer=l2(l2_value)))\n",
    "    model.add(Dense(64, activation='relu', kernel_regularizer=l2(l2_value)))\n",
    "    \n",
    "    # Output layer\n",
    "    model.add(Dense(1, activation='linear'))\n",
    "    \n",
    "    model.compile(optimizer='adam', loss='mse')\n",
    "    return model\n",
    "\n",
    "# Define the l2 model for KerasRegressor\n",
    "def create_l2_model(l2_value=0.01):\n",
    "    return create_l2_regularized_model(X_train_scaled.shape[1], l2_value=l2_value)\n",
    "\n",
    "# Wrap the l2 model for use with scikit-learn\n",
    "l2_model = KerasRegressor(build_fn=create_l2_model, epochs=150, batch_size=128, verbose=0)\n",
    "\n",
    "# Manually loop through potential regularization values for l2 regularization\n",
    "l2_values = [0.0001, 0.001, 0.01, 0.1]\n",
    "l2_scores = []\n",
    "\n",
    "for l2_value in l2_values:\n",
    "    # Create the model with the current l2_value\n",
    "    model = create_l2_regularized_model(X_train_scaled.shape[1], l2_value=l2_value)\n",
    "    \n",
    "    # Compile the model\n",
    "    model.compile(optimizer='adam', loss='mse')\n",
    "    \n",
    "    # Fit the model\n",
    "    model.fit(X_train_scaled, y_train, \n",
    "                       validation_data=(X_test_scaled, y_test), \n",
    "                       epochs=150, \n",
    "                       batch_size=256, \n",
    "                       verbose=1)\n",
    "    \n",
    "    # Evaluate on the validation set (last 20% of the training set)\n",
    "    score = model.evaluate(X_train_scaled[int(0.8*len(X_train_scaled)):], y_train[int(0.8*len(y_train)):], verbose=1)\n",
    "    l2_scores.append(score)"
   ]
  },
  {
   "cell_type": "code",
   "execution_count": null,
   "id": "51bd44bd",
   "metadata": {},
   "outputs": [],
   "source": [
    "# Find the best l2_value based on validation performance\n",
    "best_l2_value = l2_values[np.argmin(l2_scores)]\n",
    "best_l2_score = min(l2_scores)\n",
    "best_l2_value, best_l2_score"
   ]
  },
  {
   "cell_type": "code",
   "execution_count": null,
   "id": "90fc6cfb",
   "metadata": {},
   "outputs": [],
   "source": [
    "from keras.regularizers import l2\n",
    "\n",
    "def create_l2_regularized_model(input_dim, l2_value=0.01):\n",
    "    model = Sequential()\n",
    "    \n",
    "    # Input layer\n",
    "    model.add(Dense(256, input_dim=input_dim, activation='relu', kernel_regularizer=l2(l2_value)))\n",
    "    \n",
    "    # Hidden layers\n",
    "    model.add(Dense(256, activation='relu', kernel_regularizer=l2(l2_value)))\n",
    "    model.add(Dense(128, activation='relu', kernel_regularizer=l2(l2_value)))\n",
    "    model.add(Dense(64, activation='relu', kernel_regularizer=l2(l2_value)))\n",
    "    \n",
    "    # Output layer\n",
    "    model.add(Dense(1, activation='linear'))\n",
    "    \n",
    "    model.compile(optimizer='adam', loss='mse')\n",
    "    return model\n",
    "\n",
    "# Create the L2 regularized model\n",
    "model_l2_oped = create_l2_regularized_model(X_train_scaled.shape[1], l2_value=0.0001)"
   ]
  },
  {
   "cell_type": "code",
   "execution_count": null,
   "id": "70f94d82",
   "metadata": {},
   "outputs": [],
   "source": [
    "# Train the model\n",
    "history = model_l2_oped.fit(X_train_scaled, y_train, \n",
    "                       validation_data=(X_test_scaled, y_test), \n",
    "                       epochs=150, \n",
    "                       batch_size=256, \n",
    "                       verbose=0)"
   ]
  },
  {
   "cell_type": "code",
   "execution_count": null,
   "id": "c92acc7b",
   "metadata": {},
   "outputs": [],
   "source": [
    "# Use custom prediction function to account for 'flagged' column\n",
    "y_custom_pred_l2 = custom_predict_NN(X_test, model_l2, scaler)\n",
    "y_custom_pred_l2_oped = custom_predict_NN(X_test, model_l2_oped, scaler)\n",
    "\n",
    "print(\"\\nPerformance on before CV redictions:\")\n",
    "metrics(y_test, y_custom_pred_l2)\n",
    "\n",
    "print(\"\\nPerformance on after CV redictions:\")\n",
    "metrics(y_test, y_custom_pred_l2_oped)"
   ]
  },
  {
   "cell_type": "code",
   "execution_count": null,
   "id": "b1f8f3cb",
   "metadata": {},
   "outputs": [],
   "source": []
  }
 ],
 "metadata": {
  "kernelspec": {
   "display_name": "Python 3 (ipykernel)",
   "language": "python",
   "name": "python3"
  },
  "language_info": {
   "codemirror_mode": {
    "name": "ipython",
    "version": 3
   },
   "file_extension": ".py",
   "mimetype": "text/x-python",
   "name": "python",
   "nbconvert_exporter": "python",
   "pygments_lexer": "ipython3",
   "version": "3.9.18"
  }
 },
 "nbformat": 4,
 "nbformat_minor": 5
}
